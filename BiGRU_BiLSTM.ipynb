{
  "nbformat": 4,
  "nbformat_minor": 0,
  "metadata": {
    "colab": {
      "provenance": [],
      "collapsed_sections": [
        "__PYCbUTQC49",
        "jzgK5WA1rWni",
        "Lxc99EHknNEW",
        "1-LJkHl8Hkez",
        "qn9ULN-4Lty7"
      ]
    },
    "kernelspec": {
      "name": "python3",
      "display_name": "Python 3"
    },
    "language_info": {
      "name": "python"
    },
    "accelerator": "GPU",
    "gpuClass": "standard",
    "widgets": {
      "application/vnd.jupyter.widget-state+json": {
        "5b25a4ed5e7c481395f085b3dcaf128e": {
          "model_module": "@jupyter-widgets/controls",
          "model_name": "HBoxModel",
          "model_module_version": "1.5.0",
          "state": {
            "_dom_classes": [],
            "_model_module": "@jupyter-widgets/controls",
            "_model_module_version": "1.5.0",
            "_model_name": "HBoxModel",
            "_view_count": null,
            "_view_module": "@jupyter-widgets/controls",
            "_view_module_version": "1.5.0",
            "_view_name": "HBoxView",
            "box_style": "",
            "children": [
              "IPY_MODEL_0ef10df183d84c829314f3ad51cccf63",
              "IPY_MODEL_4d7f91bfed5644df9009b1c67fb1c8b5",
              "IPY_MODEL_39b96d0c4bc04ac1826d22884f5cf793"
            ],
            "layout": "IPY_MODEL_251859b4522d424aaa38f5bc7c0c134f"
          }
        },
        "0ef10df183d84c829314f3ad51cccf63": {
          "model_module": "@jupyter-widgets/controls",
          "model_name": "HTMLModel",
          "model_module_version": "1.5.0",
          "state": {
            "_dom_classes": [],
            "_model_module": "@jupyter-widgets/controls",
            "_model_module_version": "1.5.0",
            "_model_name": "HTMLModel",
            "_view_count": null,
            "_view_module": "@jupyter-widgets/controls",
            "_view_module_version": "1.5.0",
            "_view_name": "HTMLView",
            "description": "",
            "description_tooltip": null,
            "layout": "IPY_MODEL_9ff50a21746648a9a19d7dca16cd9ad6",
            "placeholder": "​",
            "style": "IPY_MODEL_024252a57a13443fa97dda1196e2d9e2",
            "value": "Downloading: 100%"
          }
        },
        "4d7f91bfed5644df9009b1c67fb1c8b5": {
          "model_module": "@jupyter-widgets/controls",
          "model_name": "FloatProgressModel",
          "model_module_version": "1.5.0",
          "state": {
            "_dom_classes": [],
            "_model_module": "@jupyter-widgets/controls",
            "_model_module_version": "1.5.0",
            "_model_name": "FloatProgressModel",
            "_view_count": null,
            "_view_module": "@jupyter-widgets/controls",
            "_view_module_version": "1.5.0",
            "_view_name": "ProgressView",
            "bar_style": "success",
            "description": "",
            "description_tooltip": null,
            "layout": "IPY_MODEL_215e2fc8a73a4f239b2a70d9e20ddffd",
            "max": 379,
            "min": 0,
            "orientation": "horizontal",
            "style": "IPY_MODEL_38ce9f05e007483586cf4704100aece7",
            "value": 379
          }
        },
        "39b96d0c4bc04ac1826d22884f5cf793": {
          "model_module": "@jupyter-widgets/controls",
          "model_name": "HTMLModel",
          "model_module_version": "1.5.0",
          "state": {
            "_dom_classes": [],
            "_model_module": "@jupyter-widgets/controls",
            "_model_module_version": "1.5.0",
            "_model_name": "HTMLModel",
            "_view_count": null,
            "_view_module": "@jupyter-widgets/controls",
            "_view_module_version": "1.5.0",
            "_view_name": "HTMLView",
            "description": "",
            "description_tooltip": null,
            "layout": "IPY_MODEL_9de85e069db94b2eb6f51fb96680d4d3",
            "placeholder": "​",
            "style": "IPY_MODEL_2bf2c07f982a497fa04c9afd06467cdc",
            "value": " 379/379 [00:00&lt;00:00, 13.4kB/s]"
          }
        },
        "251859b4522d424aaa38f5bc7c0c134f": {
          "model_module": "@jupyter-widgets/base",
          "model_name": "LayoutModel",
          "model_module_version": "1.2.0",
          "state": {
            "_model_module": "@jupyter-widgets/base",
            "_model_module_version": "1.2.0",
            "_model_name": "LayoutModel",
            "_view_count": null,
            "_view_module": "@jupyter-widgets/base",
            "_view_module_version": "1.2.0",
            "_view_name": "LayoutView",
            "align_content": null,
            "align_items": null,
            "align_self": null,
            "border": null,
            "bottom": null,
            "display": null,
            "flex": null,
            "flex_flow": null,
            "grid_area": null,
            "grid_auto_columns": null,
            "grid_auto_flow": null,
            "grid_auto_rows": null,
            "grid_column": null,
            "grid_gap": null,
            "grid_row": null,
            "grid_template_areas": null,
            "grid_template_columns": null,
            "grid_template_rows": null,
            "height": null,
            "justify_content": null,
            "justify_items": null,
            "left": null,
            "margin": null,
            "max_height": null,
            "max_width": null,
            "min_height": null,
            "min_width": null,
            "object_fit": null,
            "object_position": null,
            "order": null,
            "overflow": null,
            "overflow_x": null,
            "overflow_y": null,
            "padding": null,
            "right": null,
            "top": null,
            "visibility": null,
            "width": null
          }
        },
        "9ff50a21746648a9a19d7dca16cd9ad6": {
          "model_module": "@jupyter-widgets/base",
          "model_name": "LayoutModel",
          "model_module_version": "1.2.0",
          "state": {
            "_model_module": "@jupyter-widgets/base",
            "_model_module_version": "1.2.0",
            "_model_name": "LayoutModel",
            "_view_count": null,
            "_view_module": "@jupyter-widgets/base",
            "_view_module_version": "1.2.0",
            "_view_name": "LayoutView",
            "align_content": null,
            "align_items": null,
            "align_self": null,
            "border": null,
            "bottom": null,
            "display": null,
            "flex": null,
            "flex_flow": null,
            "grid_area": null,
            "grid_auto_columns": null,
            "grid_auto_flow": null,
            "grid_auto_rows": null,
            "grid_column": null,
            "grid_gap": null,
            "grid_row": null,
            "grid_template_areas": null,
            "grid_template_columns": null,
            "grid_template_rows": null,
            "height": null,
            "justify_content": null,
            "justify_items": null,
            "left": null,
            "margin": null,
            "max_height": null,
            "max_width": null,
            "min_height": null,
            "min_width": null,
            "object_fit": null,
            "object_position": null,
            "order": null,
            "overflow": null,
            "overflow_x": null,
            "overflow_y": null,
            "padding": null,
            "right": null,
            "top": null,
            "visibility": null,
            "width": null
          }
        },
        "024252a57a13443fa97dda1196e2d9e2": {
          "model_module": "@jupyter-widgets/controls",
          "model_name": "DescriptionStyleModel",
          "model_module_version": "1.5.0",
          "state": {
            "_model_module": "@jupyter-widgets/controls",
            "_model_module_version": "1.5.0",
            "_model_name": "DescriptionStyleModel",
            "_view_count": null,
            "_view_module": "@jupyter-widgets/base",
            "_view_module_version": "1.2.0",
            "_view_name": "StyleView",
            "description_width": ""
          }
        },
        "215e2fc8a73a4f239b2a70d9e20ddffd": {
          "model_module": "@jupyter-widgets/base",
          "model_name": "LayoutModel",
          "model_module_version": "1.2.0",
          "state": {
            "_model_module": "@jupyter-widgets/base",
            "_model_module_version": "1.2.0",
            "_model_name": "LayoutModel",
            "_view_count": null,
            "_view_module": "@jupyter-widgets/base",
            "_view_module_version": "1.2.0",
            "_view_name": "LayoutView",
            "align_content": null,
            "align_items": null,
            "align_self": null,
            "border": null,
            "bottom": null,
            "display": null,
            "flex": null,
            "flex_flow": null,
            "grid_area": null,
            "grid_auto_columns": null,
            "grid_auto_flow": null,
            "grid_auto_rows": null,
            "grid_column": null,
            "grid_gap": null,
            "grid_row": null,
            "grid_template_areas": null,
            "grid_template_columns": null,
            "grid_template_rows": null,
            "height": null,
            "justify_content": null,
            "justify_items": null,
            "left": null,
            "margin": null,
            "max_height": null,
            "max_width": null,
            "min_height": null,
            "min_width": null,
            "object_fit": null,
            "object_position": null,
            "order": null,
            "overflow": null,
            "overflow_x": null,
            "overflow_y": null,
            "padding": null,
            "right": null,
            "top": null,
            "visibility": null,
            "width": null
          }
        },
        "38ce9f05e007483586cf4704100aece7": {
          "model_module": "@jupyter-widgets/controls",
          "model_name": "ProgressStyleModel",
          "model_module_version": "1.5.0",
          "state": {
            "_model_module": "@jupyter-widgets/controls",
            "_model_module_version": "1.5.0",
            "_model_name": "ProgressStyleModel",
            "_view_count": null,
            "_view_module": "@jupyter-widgets/base",
            "_view_module_version": "1.2.0",
            "_view_name": "StyleView",
            "bar_color": null,
            "description_width": ""
          }
        },
        "9de85e069db94b2eb6f51fb96680d4d3": {
          "model_module": "@jupyter-widgets/base",
          "model_name": "LayoutModel",
          "model_module_version": "1.2.0",
          "state": {
            "_model_module": "@jupyter-widgets/base",
            "_model_module_version": "1.2.0",
            "_model_name": "LayoutModel",
            "_view_count": null,
            "_view_module": "@jupyter-widgets/base",
            "_view_module_version": "1.2.0",
            "_view_name": "LayoutView",
            "align_content": null,
            "align_items": null,
            "align_self": null,
            "border": null,
            "bottom": null,
            "display": null,
            "flex": null,
            "flex_flow": null,
            "grid_area": null,
            "grid_auto_columns": null,
            "grid_auto_flow": null,
            "grid_auto_rows": null,
            "grid_column": null,
            "grid_gap": null,
            "grid_row": null,
            "grid_template_areas": null,
            "grid_template_columns": null,
            "grid_template_rows": null,
            "height": null,
            "justify_content": null,
            "justify_items": null,
            "left": null,
            "margin": null,
            "max_height": null,
            "max_width": null,
            "min_height": null,
            "min_width": null,
            "object_fit": null,
            "object_position": null,
            "order": null,
            "overflow": null,
            "overflow_x": null,
            "overflow_y": null,
            "padding": null,
            "right": null,
            "top": null,
            "visibility": null,
            "width": null
          }
        },
        "2bf2c07f982a497fa04c9afd06467cdc": {
          "model_module": "@jupyter-widgets/controls",
          "model_name": "DescriptionStyleModel",
          "model_module_version": "1.5.0",
          "state": {
            "_model_module": "@jupyter-widgets/controls",
            "_model_module_version": "1.5.0",
            "_model_name": "DescriptionStyleModel",
            "_view_count": null,
            "_view_module": "@jupyter-widgets/base",
            "_view_module_version": "1.2.0",
            "_view_name": "StyleView",
            "description_width": ""
          }
        },
        "19055bb37c034582bd5dfc227bdacec6": {
          "model_module": "@jupyter-widgets/controls",
          "model_name": "HBoxModel",
          "model_module_version": "1.5.0",
          "state": {
            "_dom_classes": [],
            "_model_module": "@jupyter-widgets/controls",
            "_model_module_version": "1.5.0",
            "_model_name": "HBoxModel",
            "_view_count": null,
            "_view_module": "@jupyter-widgets/controls",
            "_view_module_version": "1.5.0",
            "_view_name": "HBoxView",
            "box_style": "",
            "children": [
              "IPY_MODEL_217ad070bb7d454e84ed1b7684d08391",
              "IPY_MODEL_5072a717373d463f959e9e9f07101395",
              "IPY_MODEL_2d9618a74ec64c1b99368f52c7f83a94"
            ],
            "layout": "IPY_MODEL_17b1bf21397247d0b12463b69a9f0dc1"
          }
        },
        "217ad070bb7d454e84ed1b7684d08391": {
          "model_module": "@jupyter-widgets/controls",
          "model_name": "HTMLModel",
          "model_module_version": "1.5.0",
          "state": {
            "_dom_classes": [],
            "_model_module": "@jupyter-widgets/controls",
            "_model_module_version": "1.5.0",
            "_model_name": "HTMLModel",
            "_view_count": null,
            "_view_module": "@jupyter-widgets/controls",
            "_view_module_version": "1.5.0",
            "_view_name": "HTMLView",
            "description": "",
            "description_tooltip": null,
            "layout": "IPY_MODEL_a971862f0829493688d1d7e9e6c9c50c",
            "placeholder": "​",
            "style": "IPY_MODEL_5c1b6fe9d7d84f27ac9a79b64a4c73a8",
            "value": "Downloading: 100%"
          }
        },
        "5072a717373d463f959e9e9f07101395": {
          "model_module": "@jupyter-widgets/controls",
          "model_name": "FloatProgressModel",
          "model_module_version": "1.5.0",
          "state": {
            "_dom_classes": [],
            "_model_module": "@jupyter-widgets/controls",
            "_model_module_version": "1.5.0",
            "_model_name": "FloatProgressModel",
            "_view_count": null,
            "_view_module": "@jupyter-widgets/controls",
            "_view_module_version": "1.5.0",
            "_view_name": "ProgressView",
            "bar_style": "success",
            "description": "",
            "description_tooltip": null,
            "layout": "IPY_MODEL_867726c1de5b4f059921ca28038af072",
            "max": 576,
            "min": 0,
            "orientation": "horizontal",
            "style": "IPY_MODEL_05995785a91f427cbcd67a603be413f6",
            "value": 576
          }
        },
        "2d9618a74ec64c1b99368f52c7f83a94": {
          "model_module": "@jupyter-widgets/controls",
          "model_name": "HTMLModel",
          "model_module_version": "1.5.0",
          "state": {
            "_dom_classes": [],
            "_model_module": "@jupyter-widgets/controls",
            "_model_module_version": "1.5.0",
            "_model_name": "HTMLModel",
            "_view_count": null,
            "_view_module": "@jupyter-widgets/controls",
            "_view_module_version": "1.5.0",
            "_view_name": "HTMLView",
            "description": "",
            "description_tooltip": null,
            "layout": "IPY_MODEL_545f6ab785ca4658b1a7bb45b7c7a351",
            "placeholder": "​",
            "style": "IPY_MODEL_059e69887c1546c19fc61eac2854cbc0",
            "value": " 576/576 [00:00&lt;00:00, 33.1kB/s]"
          }
        },
        "17b1bf21397247d0b12463b69a9f0dc1": {
          "model_module": "@jupyter-widgets/base",
          "model_name": "LayoutModel",
          "model_module_version": "1.2.0",
          "state": {
            "_model_module": "@jupyter-widgets/base",
            "_model_module_version": "1.2.0",
            "_model_name": "LayoutModel",
            "_view_count": null,
            "_view_module": "@jupyter-widgets/base",
            "_view_module_version": "1.2.0",
            "_view_name": "LayoutView",
            "align_content": null,
            "align_items": null,
            "align_self": null,
            "border": null,
            "bottom": null,
            "display": null,
            "flex": null,
            "flex_flow": null,
            "grid_area": null,
            "grid_auto_columns": null,
            "grid_auto_flow": null,
            "grid_auto_rows": null,
            "grid_column": null,
            "grid_gap": null,
            "grid_row": null,
            "grid_template_areas": null,
            "grid_template_columns": null,
            "grid_template_rows": null,
            "height": null,
            "justify_content": null,
            "justify_items": null,
            "left": null,
            "margin": null,
            "max_height": null,
            "max_width": null,
            "min_height": null,
            "min_width": null,
            "object_fit": null,
            "object_position": null,
            "order": null,
            "overflow": null,
            "overflow_x": null,
            "overflow_y": null,
            "padding": null,
            "right": null,
            "top": null,
            "visibility": null,
            "width": null
          }
        },
        "a971862f0829493688d1d7e9e6c9c50c": {
          "model_module": "@jupyter-widgets/base",
          "model_name": "LayoutModel",
          "model_module_version": "1.2.0",
          "state": {
            "_model_module": "@jupyter-widgets/base",
            "_model_module_version": "1.2.0",
            "_model_name": "LayoutModel",
            "_view_count": null,
            "_view_module": "@jupyter-widgets/base",
            "_view_module_version": "1.2.0",
            "_view_name": "LayoutView",
            "align_content": null,
            "align_items": null,
            "align_self": null,
            "border": null,
            "bottom": null,
            "display": null,
            "flex": null,
            "flex_flow": null,
            "grid_area": null,
            "grid_auto_columns": null,
            "grid_auto_flow": null,
            "grid_auto_rows": null,
            "grid_column": null,
            "grid_gap": null,
            "grid_row": null,
            "grid_template_areas": null,
            "grid_template_columns": null,
            "grid_template_rows": null,
            "height": null,
            "justify_content": null,
            "justify_items": null,
            "left": null,
            "margin": null,
            "max_height": null,
            "max_width": null,
            "min_height": null,
            "min_width": null,
            "object_fit": null,
            "object_position": null,
            "order": null,
            "overflow": null,
            "overflow_x": null,
            "overflow_y": null,
            "padding": null,
            "right": null,
            "top": null,
            "visibility": null,
            "width": null
          }
        },
        "5c1b6fe9d7d84f27ac9a79b64a4c73a8": {
          "model_module": "@jupyter-widgets/controls",
          "model_name": "DescriptionStyleModel",
          "model_module_version": "1.5.0",
          "state": {
            "_model_module": "@jupyter-widgets/controls",
            "_model_module_version": "1.5.0",
            "_model_name": "DescriptionStyleModel",
            "_view_count": null,
            "_view_module": "@jupyter-widgets/base",
            "_view_module_version": "1.2.0",
            "_view_name": "StyleView",
            "description_width": ""
          }
        },
        "867726c1de5b4f059921ca28038af072": {
          "model_module": "@jupyter-widgets/base",
          "model_name": "LayoutModel",
          "model_module_version": "1.2.0",
          "state": {
            "_model_module": "@jupyter-widgets/base",
            "_model_module_version": "1.2.0",
            "_model_name": "LayoutModel",
            "_view_count": null,
            "_view_module": "@jupyter-widgets/base",
            "_view_module_version": "1.2.0",
            "_view_name": "LayoutView",
            "align_content": null,
            "align_items": null,
            "align_self": null,
            "border": null,
            "bottom": null,
            "display": null,
            "flex": null,
            "flex_flow": null,
            "grid_area": null,
            "grid_auto_columns": null,
            "grid_auto_flow": null,
            "grid_auto_rows": null,
            "grid_column": null,
            "grid_gap": null,
            "grid_row": null,
            "grid_template_areas": null,
            "grid_template_columns": null,
            "grid_template_rows": null,
            "height": null,
            "justify_content": null,
            "justify_items": null,
            "left": null,
            "margin": null,
            "max_height": null,
            "max_width": null,
            "min_height": null,
            "min_width": null,
            "object_fit": null,
            "object_position": null,
            "order": null,
            "overflow": null,
            "overflow_x": null,
            "overflow_y": null,
            "padding": null,
            "right": null,
            "top": null,
            "visibility": null,
            "width": null
          }
        },
        "05995785a91f427cbcd67a603be413f6": {
          "model_module": "@jupyter-widgets/controls",
          "model_name": "ProgressStyleModel",
          "model_module_version": "1.5.0",
          "state": {
            "_model_module": "@jupyter-widgets/controls",
            "_model_module_version": "1.5.0",
            "_model_name": "ProgressStyleModel",
            "_view_count": null,
            "_view_module": "@jupyter-widgets/base",
            "_view_module_version": "1.2.0",
            "_view_name": "StyleView",
            "bar_color": null,
            "description_width": ""
          }
        },
        "545f6ab785ca4658b1a7bb45b7c7a351": {
          "model_module": "@jupyter-widgets/base",
          "model_name": "LayoutModel",
          "model_module_version": "1.2.0",
          "state": {
            "_model_module": "@jupyter-widgets/base",
            "_model_module_version": "1.2.0",
            "_model_name": "LayoutModel",
            "_view_count": null,
            "_view_module": "@jupyter-widgets/base",
            "_view_module_version": "1.2.0",
            "_view_name": "LayoutView",
            "align_content": null,
            "align_items": null,
            "align_self": null,
            "border": null,
            "bottom": null,
            "display": null,
            "flex": null,
            "flex_flow": null,
            "grid_area": null,
            "grid_auto_columns": null,
            "grid_auto_flow": null,
            "grid_auto_rows": null,
            "grid_column": null,
            "grid_gap": null,
            "grid_row": null,
            "grid_template_areas": null,
            "grid_template_columns": null,
            "grid_template_rows": null,
            "height": null,
            "justify_content": null,
            "justify_items": null,
            "left": null,
            "margin": null,
            "max_height": null,
            "max_width": null,
            "min_height": null,
            "min_width": null,
            "object_fit": null,
            "object_position": null,
            "order": null,
            "overflow": null,
            "overflow_x": null,
            "overflow_y": null,
            "padding": null,
            "right": null,
            "top": null,
            "visibility": null,
            "width": null
          }
        },
        "059e69887c1546c19fc61eac2854cbc0": {
          "model_module": "@jupyter-widgets/controls",
          "model_name": "DescriptionStyleModel",
          "model_module_version": "1.5.0",
          "state": {
            "_model_module": "@jupyter-widgets/controls",
            "_model_module_version": "1.5.0",
            "_model_name": "DescriptionStyleModel",
            "_view_count": null,
            "_view_module": "@jupyter-widgets/base",
            "_view_module_version": "1.2.0",
            "_view_name": "StyleView",
            "description_width": ""
          }
        },
        "b2ef5247b9384e6db43b0e94fb56f436": {
          "model_module": "@jupyter-widgets/controls",
          "model_name": "HBoxModel",
          "model_module_version": "1.5.0",
          "state": {
            "_dom_classes": [],
            "_model_module": "@jupyter-widgets/controls",
            "_model_module_version": "1.5.0",
            "_model_name": "HBoxModel",
            "_view_count": null,
            "_view_module": "@jupyter-widgets/controls",
            "_view_module_version": "1.5.0",
            "_view_name": "HBoxView",
            "box_style": "",
            "children": [
              "IPY_MODEL_228a23e1f2c24ad58c678252d67db9e4",
              "IPY_MODEL_d835cf04e14143dba40cf2546963ecfb",
              "IPY_MODEL_48de123c017c416883e157916d47a8c9"
            ],
            "layout": "IPY_MODEL_16dfa480c80c40d6b823044321546150"
          }
        },
        "228a23e1f2c24ad58c678252d67db9e4": {
          "model_module": "@jupyter-widgets/controls",
          "model_name": "HTMLModel",
          "model_module_version": "1.5.0",
          "state": {
            "_dom_classes": [],
            "_model_module": "@jupyter-widgets/controls",
            "_model_module_version": "1.5.0",
            "_model_name": "HTMLModel",
            "_view_count": null,
            "_view_module": "@jupyter-widgets/controls",
            "_view_module_version": "1.5.0",
            "_view_name": "HTMLView",
            "description": "",
            "description_tooltip": null,
            "layout": "IPY_MODEL_b9e3e16cf85a403489d66e1124b09224",
            "placeholder": "​",
            "style": "IPY_MODEL_64ee07b4b66748b3a5721f39f9ab9db2",
            "value": "Downloading: 100%"
          }
        },
        "d835cf04e14143dba40cf2546963ecfb": {
          "model_module": "@jupyter-widgets/controls",
          "model_name": "FloatProgressModel",
          "model_module_version": "1.5.0",
          "state": {
            "_dom_classes": [],
            "_model_module": "@jupyter-widgets/controls",
            "_model_module_version": "1.5.0",
            "_model_name": "FloatProgressModel",
            "_view_count": null,
            "_view_module": "@jupyter-widgets/controls",
            "_view_module_version": "1.5.0",
            "_view_name": "ProgressView",
            "bar_style": "success",
            "description": "",
            "description_tooltip": null,
            "layout": "IPY_MODEL_b1bbf6b86bd24fc8a1c5dec8a79b301e",
            "max": 780034,
            "min": 0,
            "orientation": "horizontal",
            "style": "IPY_MODEL_5f10ab5671b943f18315c48c0a146103",
            "value": 780034
          }
        },
        "48de123c017c416883e157916d47a8c9": {
          "model_module": "@jupyter-widgets/controls",
          "model_name": "HTMLModel",
          "model_module_version": "1.5.0",
          "state": {
            "_dom_classes": [],
            "_model_module": "@jupyter-widgets/controls",
            "_model_module_version": "1.5.0",
            "_model_name": "HTMLModel",
            "_view_count": null,
            "_view_module": "@jupyter-widgets/controls",
            "_view_module_version": "1.5.0",
            "_view_name": "HTMLView",
            "description": "",
            "description_tooltip": null,
            "layout": "IPY_MODEL_2fb2982283274f48bb92a4318a56f979",
            "placeholder": "​",
            "style": "IPY_MODEL_c4b69424a15846afb54d33623951c6aa",
            "value": " 780k/780k [00:00&lt;00:00, 15.6MB/s]"
          }
        },
        "16dfa480c80c40d6b823044321546150": {
          "model_module": "@jupyter-widgets/base",
          "model_name": "LayoutModel",
          "model_module_version": "1.2.0",
          "state": {
            "_model_module": "@jupyter-widgets/base",
            "_model_module_version": "1.2.0",
            "_model_name": "LayoutModel",
            "_view_count": null,
            "_view_module": "@jupyter-widgets/base",
            "_view_module_version": "1.2.0",
            "_view_name": "LayoutView",
            "align_content": null,
            "align_items": null,
            "align_self": null,
            "border": null,
            "bottom": null,
            "display": null,
            "flex": null,
            "flex_flow": null,
            "grid_area": null,
            "grid_auto_columns": null,
            "grid_auto_flow": null,
            "grid_auto_rows": null,
            "grid_column": null,
            "grid_gap": null,
            "grid_row": null,
            "grid_template_areas": null,
            "grid_template_columns": null,
            "grid_template_rows": null,
            "height": null,
            "justify_content": null,
            "justify_items": null,
            "left": null,
            "margin": null,
            "max_height": null,
            "max_width": null,
            "min_height": null,
            "min_width": null,
            "object_fit": null,
            "object_position": null,
            "order": null,
            "overflow": null,
            "overflow_x": null,
            "overflow_y": null,
            "padding": null,
            "right": null,
            "top": null,
            "visibility": null,
            "width": null
          }
        },
        "b9e3e16cf85a403489d66e1124b09224": {
          "model_module": "@jupyter-widgets/base",
          "model_name": "LayoutModel",
          "model_module_version": "1.2.0",
          "state": {
            "_model_module": "@jupyter-widgets/base",
            "_model_module_version": "1.2.0",
            "_model_name": "LayoutModel",
            "_view_count": null,
            "_view_module": "@jupyter-widgets/base",
            "_view_module_version": "1.2.0",
            "_view_name": "LayoutView",
            "align_content": null,
            "align_items": null,
            "align_self": null,
            "border": null,
            "bottom": null,
            "display": null,
            "flex": null,
            "flex_flow": null,
            "grid_area": null,
            "grid_auto_columns": null,
            "grid_auto_flow": null,
            "grid_auto_rows": null,
            "grid_column": null,
            "grid_gap": null,
            "grid_row": null,
            "grid_template_areas": null,
            "grid_template_columns": null,
            "grid_template_rows": null,
            "height": null,
            "justify_content": null,
            "justify_items": null,
            "left": null,
            "margin": null,
            "max_height": null,
            "max_width": null,
            "min_height": null,
            "min_width": null,
            "object_fit": null,
            "object_position": null,
            "order": null,
            "overflow": null,
            "overflow_x": null,
            "overflow_y": null,
            "padding": null,
            "right": null,
            "top": null,
            "visibility": null,
            "width": null
          }
        },
        "64ee07b4b66748b3a5721f39f9ab9db2": {
          "model_module": "@jupyter-widgets/controls",
          "model_name": "DescriptionStyleModel",
          "model_module_version": "1.5.0",
          "state": {
            "_model_module": "@jupyter-widgets/controls",
            "_model_module_version": "1.5.0",
            "_model_name": "DescriptionStyleModel",
            "_view_count": null,
            "_view_module": "@jupyter-widgets/base",
            "_view_module_version": "1.2.0",
            "_view_name": "StyleView",
            "description_width": ""
          }
        },
        "b1bbf6b86bd24fc8a1c5dec8a79b301e": {
          "model_module": "@jupyter-widgets/base",
          "model_name": "LayoutModel",
          "model_module_version": "1.2.0",
          "state": {
            "_model_module": "@jupyter-widgets/base",
            "_model_module_version": "1.2.0",
            "_model_name": "LayoutModel",
            "_view_count": null,
            "_view_module": "@jupyter-widgets/base",
            "_view_module_version": "1.2.0",
            "_view_name": "LayoutView",
            "align_content": null,
            "align_items": null,
            "align_self": null,
            "border": null,
            "bottom": null,
            "display": null,
            "flex": null,
            "flex_flow": null,
            "grid_area": null,
            "grid_auto_columns": null,
            "grid_auto_flow": null,
            "grid_auto_rows": null,
            "grid_column": null,
            "grid_gap": null,
            "grid_row": null,
            "grid_template_areas": null,
            "grid_template_columns": null,
            "grid_template_rows": null,
            "height": null,
            "justify_content": null,
            "justify_items": null,
            "left": null,
            "margin": null,
            "max_height": null,
            "max_width": null,
            "min_height": null,
            "min_width": null,
            "object_fit": null,
            "object_position": null,
            "order": null,
            "overflow": null,
            "overflow_x": null,
            "overflow_y": null,
            "padding": null,
            "right": null,
            "top": null,
            "visibility": null,
            "width": null
          }
        },
        "5f10ab5671b943f18315c48c0a146103": {
          "model_module": "@jupyter-widgets/controls",
          "model_name": "ProgressStyleModel",
          "model_module_version": "1.5.0",
          "state": {
            "_model_module": "@jupyter-widgets/controls",
            "_model_module_version": "1.5.0",
            "_model_name": "ProgressStyleModel",
            "_view_count": null,
            "_view_module": "@jupyter-widgets/base",
            "_view_module_version": "1.2.0",
            "_view_name": "StyleView",
            "bar_color": null,
            "description_width": ""
          }
        },
        "2fb2982283274f48bb92a4318a56f979": {
          "model_module": "@jupyter-widgets/base",
          "model_name": "LayoutModel",
          "model_module_version": "1.2.0",
          "state": {
            "_model_module": "@jupyter-widgets/base",
            "_model_module_version": "1.2.0",
            "_model_name": "LayoutModel",
            "_view_count": null,
            "_view_module": "@jupyter-widgets/base",
            "_view_module_version": "1.2.0",
            "_view_name": "LayoutView",
            "align_content": null,
            "align_items": null,
            "align_self": null,
            "border": null,
            "bottom": null,
            "display": null,
            "flex": null,
            "flex_flow": null,
            "grid_area": null,
            "grid_auto_columns": null,
            "grid_auto_flow": null,
            "grid_auto_rows": null,
            "grid_column": null,
            "grid_gap": null,
            "grid_row": null,
            "grid_template_areas": null,
            "grid_template_columns": null,
            "grid_template_rows": null,
            "height": null,
            "justify_content": null,
            "justify_items": null,
            "left": null,
            "margin": null,
            "max_height": null,
            "max_width": null,
            "min_height": null,
            "min_width": null,
            "object_fit": null,
            "object_position": null,
            "order": null,
            "overflow": null,
            "overflow_x": null,
            "overflow_y": null,
            "padding": null,
            "right": null,
            "top": null,
            "visibility": null,
            "width": null
          }
        },
        "c4b69424a15846afb54d33623951c6aa": {
          "model_module": "@jupyter-widgets/controls",
          "model_name": "DescriptionStyleModel",
          "model_module_version": "1.5.0",
          "state": {
            "_model_module": "@jupyter-widgets/controls",
            "_model_module_version": "1.5.0",
            "_model_name": "DescriptionStyleModel",
            "_view_count": null,
            "_view_module": "@jupyter-widgets/base",
            "_view_module_version": "1.2.0",
            "_view_name": "StyleView",
            "description_width": ""
          }
        },
        "6cc2db8609ef4a8a9b4eaec001d9c2bc": {
          "model_module": "@jupyter-widgets/controls",
          "model_name": "HBoxModel",
          "model_module_version": "1.5.0",
          "state": {
            "_dom_classes": [],
            "_model_module": "@jupyter-widgets/controls",
            "_model_module_version": "1.5.0",
            "_model_name": "HBoxModel",
            "_view_count": null,
            "_view_module": "@jupyter-widgets/controls",
            "_view_module_version": "1.5.0",
            "_view_name": "HBoxView",
            "box_style": "",
            "children": [
              "IPY_MODEL_9d84952f393c48b1b7bee3bf729ff29a",
              "IPY_MODEL_a37de5c340b442a492b0b012f0f9c2d5",
              "IPY_MODEL_f619864852d34c3d8938ee98b2c117e2"
            ],
            "layout": "IPY_MODEL_6f6b768d76364970b1918c4a371a8753"
          }
        },
        "9d84952f393c48b1b7bee3bf729ff29a": {
          "model_module": "@jupyter-widgets/controls",
          "model_name": "HTMLModel",
          "model_module_version": "1.5.0",
          "state": {
            "_dom_classes": [],
            "_model_module": "@jupyter-widgets/controls",
            "_model_module_version": "1.5.0",
            "_model_name": "HTMLModel",
            "_view_count": null,
            "_view_module": "@jupyter-widgets/controls",
            "_view_module_version": "1.5.0",
            "_view_name": "HTMLView",
            "description": "",
            "description_tooltip": null,
            "layout": "IPY_MODEL_995a90a57781436099989be942ff814e",
            "placeholder": "​",
            "style": "IPY_MODEL_61cec5704afd4c679d99e6b5bcc79b53",
            "value": "Downloading: 100%"
          }
        },
        "a37de5c340b442a492b0b012f0f9c2d5": {
          "model_module": "@jupyter-widgets/controls",
          "model_name": "FloatProgressModel",
          "model_module_version": "1.5.0",
          "state": {
            "_dom_classes": [],
            "_model_module": "@jupyter-widgets/controls",
            "_model_module_version": "1.5.0",
            "_model_name": "FloatProgressModel",
            "_view_count": null,
            "_view_module": "@jupyter-widgets/controls",
            "_view_module_version": "1.5.0",
            "_view_name": "ProgressView",
            "bar_style": "success",
            "description": "",
            "description_tooltip": null,
            "layout": "IPY_MODEL_4d71f94e910649c99f6d5907c6a10271",
            "max": 2697421,
            "min": 0,
            "orientation": "horizontal",
            "style": "IPY_MODEL_3e9406f9996746b6b75cc1690966cdd2",
            "value": 2697421
          }
        },
        "f619864852d34c3d8938ee98b2c117e2": {
          "model_module": "@jupyter-widgets/controls",
          "model_name": "HTMLModel",
          "model_module_version": "1.5.0",
          "state": {
            "_dom_classes": [],
            "_model_module": "@jupyter-widgets/controls",
            "_model_module_version": "1.5.0",
            "_model_name": "HTMLModel",
            "_view_count": null,
            "_view_module": "@jupyter-widgets/controls",
            "_view_module_version": "1.5.0",
            "_view_name": "HTMLView",
            "description": "",
            "description_tooltip": null,
            "layout": "IPY_MODEL_613965b10505445095707d5a5bf1489d",
            "placeholder": "​",
            "style": "IPY_MODEL_3dd611acd08c4823b51f685d7559f6e4",
            "value": " 2.70M/2.70M [00:00&lt;00:00, 35.0MB/s]"
          }
        },
        "6f6b768d76364970b1918c4a371a8753": {
          "model_module": "@jupyter-widgets/base",
          "model_name": "LayoutModel",
          "model_module_version": "1.2.0",
          "state": {
            "_model_module": "@jupyter-widgets/base",
            "_model_module_version": "1.2.0",
            "_model_name": "LayoutModel",
            "_view_count": null,
            "_view_module": "@jupyter-widgets/base",
            "_view_module_version": "1.2.0",
            "_view_name": "LayoutView",
            "align_content": null,
            "align_items": null,
            "align_self": null,
            "border": null,
            "bottom": null,
            "display": null,
            "flex": null,
            "flex_flow": null,
            "grid_area": null,
            "grid_auto_columns": null,
            "grid_auto_flow": null,
            "grid_auto_rows": null,
            "grid_column": null,
            "grid_gap": null,
            "grid_row": null,
            "grid_template_areas": null,
            "grid_template_columns": null,
            "grid_template_rows": null,
            "height": null,
            "justify_content": null,
            "justify_items": null,
            "left": null,
            "margin": null,
            "max_height": null,
            "max_width": null,
            "min_height": null,
            "min_width": null,
            "object_fit": null,
            "object_position": null,
            "order": null,
            "overflow": null,
            "overflow_x": null,
            "overflow_y": null,
            "padding": null,
            "right": null,
            "top": null,
            "visibility": null,
            "width": null
          }
        },
        "995a90a57781436099989be942ff814e": {
          "model_module": "@jupyter-widgets/base",
          "model_name": "LayoutModel",
          "model_module_version": "1.2.0",
          "state": {
            "_model_module": "@jupyter-widgets/base",
            "_model_module_version": "1.2.0",
            "_model_name": "LayoutModel",
            "_view_count": null,
            "_view_module": "@jupyter-widgets/base",
            "_view_module_version": "1.2.0",
            "_view_name": "LayoutView",
            "align_content": null,
            "align_items": null,
            "align_self": null,
            "border": null,
            "bottom": null,
            "display": null,
            "flex": null,
            "flex_flow": null,
            "grid_area": null,
            "grid_auto_columns": null,
            "grid_auto_flow": null,
            "grid_auto_rows": null,
            "grid_column": null,
            "grid_gap": null,
            "grid_row": null,
            "grid_template_areas": null,
            "grid_template_columns": null,
            "grid_template_rows": null,
            "height": null,
            "justify_content": null,
            "justify_items": null,
            "left": null,
            "margin": null,
            "max_height": null,
            "max_width": null,
            "min_height": null,
            "min_width": null,
            "object_fit": null,
            "object_position": null,
            "order": null,
            "overflow": null,
            "overflow_x": null,
            "overflow_y": null,
            "padding": null,
            "right": null,
            "top": null,
            "visibility": null,
            "width": null
          }
        },
        "61cec5704afd4c679d99e6b5bcc79b53": {
          "model_module": "@jupyter-widgets/controls",
          "model_name": "DescriptionStyleModel",
          "model_module_version": "1.5.0",
          "state": {
            "_model_module": "@jupyter-widgets/controls",
            "_model_module_version": "1.5.0",
            "_model_name": "DescriptionStyleModel",
            "_view_count": null,
            "_view_module": "@jupyter-widgets/base",
            "_view_module_version": "1.2.0",
            "_view_name": "StyleView",
            "description_width": ""
          }
        },
        "4d71f94e910649c99f6d5907c6a10271": {
          "model_module": "@jupyter-widgets/base",
          "model_name": "LayoutModel",
          "model_module_version": "1.2.0",
          "state": {
            "_model_module": "@jupyter-widgets/base",
            "_model_module_version": "1.2.0",
            "_model_name": "LayoutModel",
            "_view_count": null,
            "_view_module": "@jupyter-widgets/base",
            "_view_module_version": "1.2.0",
            "_view_name": "LayoutView",
            "align_content": null,
            "align_items": null,
            "align_self": null,
            "border": null,
            "bottom": null,
            "display": null,
            "flex": null,
            "flex_flow": null,
            "grid_area": null,
            "grid_auto_columns": null,
            "grid_auto_flow": null,
            "grid_auto_rows": null,
            "grid_column": null,
            "grid_gap": null,
            "grid_row": null,
            "grid_template_areas": null,
            "grid_template_columns": null,
            "grid_template_rows": null,
            "height": null,
            "justify_content": null,
            "justify_items": null,
            "left": null,
            "margin": null,
            "max_height": null,
            "max_width": null,
            "min_height": null,
            "min_width": null,
            "object_fit": null,
            "object_position": null,
            "order": null,
            "overflow": null,
            "overflow_x": null,
            "overflow_y": null,
            "padding": null,
            "right": null,
            "top": null,
            "visibility": null,
            "width": null
          }
        },
        "3e9406f9996746b6b75cc1690966cdd2": {
          "model_module": "@jupyter-widgets/controls",
          "model_name": "ProgressStyleModel",
          "model_module_version": "1.5.0",
          "state": {
            "_model_module": "@jupyter-widgets/controls",
            "_model_module_version": "1.5.0",
            "_model_name": "ProgressStyleModel",
            "_view_count": null,
            "_view_module": "@jupyter-widgets/base",
            "_view_module_version": "1.2.0",
            "_view_name": "StyleView",
            "bar_color": null,
            "description_width": ""
          }
        },
        "613965b10505445095707d5a5bf1489d": {
          "model_module": "@jupyter-widgets/base",
          "model_name": "LayoutModel",
          "model_module_version": "1.2.0",
          "state": {
            "_model_module": "@jupyter-widgets/base",
            "_model_module_version": "1.2.0",
            "_model_name": "LayoutModel",
            "_view_count": null,
            "_view_module": "@jupyter-widgets/base",
            "_view_module_version": "1.2.0",
            "_view_name": "LayoutView",
            "align_content": null,
            "align_items": null,
            "align_self": null,
            "border": null,
            "bottom": null,
            "display": null,
            "flex": null,
            "flex_flow": null,
            "grid_area": null,
            "grid_auto_columns": null,
            "grid_auto_flow": null,
            "grid_auto_rows": null,
            "grid_column": null,
            "grid_gap": null,
            "grid_row": null,
            "grid_template_areas": null,
            "grid_template_columns": null,
            "grid_template_rows": null,
            "height": null,
            "justify_content": null,
            "justify_items": null,
            "left": null,
            "margin": null,
            "max_height": null,
            "max_width": null,
            "min_height": null,
            "min_width": null,
            "object_fit": null,
            "object_position": null,
            "order": null,
            "overflow": null,
            "overflow_x": null,
            "overflow_y": null,
            "padding": null,
            "right": null,
            "top": null,
            "visibility": null,
            "width": null
          }
        },
        "3dd611acd08c4823b51f685d7559f6e4": {
          "model_module": "@jupyter-widgets/controls",
          "model_name": "DescriptionStyleModel",
          "model_module_version": "1.5.0",
          "state": {
            "_model_module": "@jupyter-widgets/controls",
            "_model_module_version": "1.5.0",
            "_model_name": "DescriptionStyleModel",
            "_view_count": null,
            "_view_module": "@jupyter-widgets/base",
            "_view_module_version": "1.2.0",
            "_view_name": "StyleView",
            "description_width": ""
          }
        },
        "b6a694274e1043d2a3b13ffa6b98d304": {
          "model_module": "@jupyter-widgets/controls",
          "model_name": "HBoxModel",
          "model_module_version": "1.5.0",
          "state": {
            "_dom_classes": [],
            "_model_module": "@jupyter-widgets/controls",
            "_model_module_version": "1.5.0",
            "_model_name": "HBoxModel",
            "_view_count": null,
            "_view_module": "@jupyter-widgets/controls",
            "_view_module_version": "1.5.0",
            "_view_name": "HBoxView",
            "box_style": "",
            "children": [
              "IPY_MODEL_ef6a1eeb5a2e40f4aa927bc15a219f2c",
              "IPY_MODEL_7a1d4e09fd394880bb271f11b08ce58c",
              "IPY_MODEL_7da766e1bcd74b5abdca2f86e6bc99f0"
            ],
            "layout": "IPY_MODEL_80cc72555a9f40ea8ba4e6f0c07171af"
          }
        },
        "ef6a1eeb5a2e40f4aa927bc15a219f2c": {
          "model_module": "@jupyter-widgets/controls",
          "model_name": "HTMLModel",
          "model_module_version": "1.5.0",
          "state": {
            "_dom_classes": [],
            "_model_module": "@jupyter-widgets/controls",
            "_model_module_version": "1.5.0",
            "_model_name": "HTMLModel",
            "_view_count": null,
            "_view_module": "@jupyter-widgets/controls",
            "_view_module_version": "1.5.0",
            "_view_name": "HTMLView",
            "description": "",
            "description_tooltip": null,
            "layout": "IPY_MODEL_6ab37e4bbc6743549a9125d6def00ce0",
            "placeholder": "​",
            "style": "IPY_MODEL_cb51bc5a35f240c6817105996c2720a7",
            "value": "Downloading: 100%"
          }
        },
        "7a1d4e09fd394880bb271f11b08ce58c": {
          "model_module": "@jupyter-widgets/controls",
          "model_name": "FloatProgressModel",
          "model_module_version": "1.5.0",
          "state": {
            "_dom_classes": [],
            "_model_module": "@jupyter-widgets/controls",
            "_model_module_version": "1.5.0",
            "_model_name": "FloatProgressModel",
            "_view_count": null,
            "_view_module": "@jupyter-widgets/controls",
            "_view_module_version": "1.5.0",
            "_view_name": "ProgressView",
            "bar_style": "success",
            "description": "",
            "description_tooltip": null,
            "layout": "IPY_MODEL_930bf5e3e17f45459e4bdd337b5cb2fc",
            "max": 112,
            "min": 0,
            "orientation": "horizontal",
            "style": "IPY_MODEL_f79cb5110e8e4e6d931b807c8d6aa759",
            "value": 112
          }
        },
        "7da766e1bcd74b5abdca2f86e6bc99f0": {
          "model_module": "@jupyter-widgets/controls",
          "model_name": "HTMLModel",
          "model_module_version": "1.5.0",
          "state": {
            "_dom_classes": [],
            "_model_module": "@jupyter-widgets/controls",
            "_model_module_version": "1.5.0",
            "_model_name": "HTMLModel",
            "_view_count": null,
            "_view_module": "@jupyter-widgets/controls",
            "_view_module_version": "1.5.0",
            "_view_name": "HTMLView",
            "description": "",
            "description_tooltip": null,
            "layout": "IPY_MODEL_aae8e1d6fec942b79bfb4080f6be7458",
            "placeholder": "​",
            "style": "IPY_MODEL_4184a866182d4ca6ad1ec4903bc65b44",
            "value": " 112/112 [00:00&lt;00:00, 5.45kB/s]"
          }
        },
        "80cc72555a9f40ea8ba4e6f0c07171af": {
          "model_module": "@jupyter-widgets/base",
          "model_name": "LayoutModel",
          "model_module_version": "1.2.0",
          "state": {
            "_model_module": "@jupyter-widgets/base",
            "_model_module_version": "1.2.0",
            "_model_name": "LayoutModel",
            "_view_count": null,
            "_view_module": "@jupyter-widgets/base",
            "_view_module_version": "1.2.0",
            "_view_name": "LayoutView",
            "align_content": null,
            "align_items": null,
            "align_self": null,
            "border": null,
            "bottom": null,
            "display": null,
            "flex": null,
            "flex_flow": null,
            "grid_area": null,
            "grid_auto_columns": null,
            "grid_auto_flow": null,
            "grid_auto_rows": null,
            "grid_column": null,
            "grid_gap": null,
            "grid_row": null,
            "grid_template_areas": null,
            "grid_template_columns": null,
            "grid_template_rows": null,
            "height": null,
            "justify_content": null,
            "justify_items": null,
            "left": null,
            "margin": null,
            "max_height": null,
            "max_width": null,
            "min_height": null,
            "min_width": null,
            "object_fit": null,
            "object_position": null,
            "order": null,
            "overflow": null,
            "overflow_x": null,
            "overflow_y": null,
            "padding": null,
            "right": null,
            "top": null,
            "visibility": null,
            "width": null
          }
        },
        "6ab37e4bbc6743549a9125d6def00ce0": {
          "model_module": "@jupyter-widgets/base",
          "model_name": "LayoutModel",
          "model_module_version": "1.2.0",
          "state": {
            "_model_module": "@jupyter-widgets/base",
            "_model_module_version": "1.2.0",
            "_model_name": "LayoutModel",
            "_view_count": null,
            "_view_module": "@jupyter-widgets/base",
            "_view_module_version": "1.2.0",
            "_view_name": "LayoutView",
            "align_content": null,
            "align_items": null,
            "align_self": null,
            "border": null,
            "bottom": null,
            "display": null,
            "flex": null,
            "flex_flow": null,
            "grid_area": null,
            "grid_auto_columns": null,
            "grid_auto_flow": null,
            "grid_auto_rows": null,
            "grid_column": null,
            "grid_gap": null,
            "grid_row": null,
            "grid_template_areas": null,
            "grid_template_columns": null,
            "grid_template_rows": null,
            "height": null,
            "justify_content": null,
            "justify_items": null,
            "left": null,
            "margin": null,
            "max_height": null,
            "max_width": null,
            "min_height": null,
            "min_width": null,
            "object_fit": null,
            "object_position": null,
            "order": null,
            "overflow": null,
            "overflow_x": null,
            "overflow_y": null,
            "padding": null,
            "right": null,
            "top": null,
            "visibility": null,
            "width": null
          }
        },
        "cb51bc5a35f240c6817105996c2720a7": {
          "model_module": "@jupyter-widgets/controls",
          "model_name": "DescriptionStyleModel",
          "model_module_version": "1.5.0",
          "state": {
            "_model_module": "@jupyter-widgets/controls",
            "_model_module_version": "1.5.0",
            "_model_name": "DescriptionStyleModel",
            "_view_count": null,
            "_view_module": "@jupyter-widgets/base",
            "_view_module_version": "1.2.0",
            "_view_name": "StyleView",
            "description_width": ""
          }
        },
        "930bf5e3e17f45459e4bdd337b5cb2fc": {
          "model_module": "@jupyter-widgets/base",
          "model_name": "LayoutModel",
          "model_module_version": "1.2.0",
          "state": {
            "_model_module": "@jupyter-widgets/base",
            "_model_module_version": "1.2.0",
            "_model_name": "LayoutModel",
            "_view_count": null,
            "_view_module": "@jupyter-widgets/base",
            "_view_module_version": "1.2.0",
            "_view_name": "LayoutView",
            "align_content": null,
            "align_items": null,
            "align_self": null,
            "border": null,
            "bottom": null,
            "display": null,
            "flex": null,
            "flex_flow": null,
            "grid_area": null,
            "grid_auto_columns": null,
            "grid_auto_flow": null,
            "grid_auto_rows": null,
            "grid_column": null,
            "grid_gap": null,
            "grid_row": null,
            "grid_template_areas": null,
            "grid_template_columns": null,
            "grid_template_rows": null,
            "height": null,
            "justify_content": null,
            "justify_items": null,
            "left": null,
            "margin": null,
            "max_height": null,
            "max_width": null,
            "min_height": null,
            "min_width": null,
            "object_fit": null,
            "object_position": null,
            "order": null,
            "overflow": null,
            "overflow_x": null,
            "overflow_y": null,
            "padding": null,
            "right": null,
            "top": null,
            "visibility": null,
            "width": null
          }
        },
        "f79cb5110e8e4e6d931b807c8d6aa759": {
          "model_module": "@jupyter-widgets/controls",
          "model_name": "ProgressStyleModel",
          "model_module_version": "1.5.0",
          "state": {
            "_model_module": "@jupyter-widgets/controls",
            "_model_module_version": "1.5.0",
            "_model_name": "ProgressStyleModel",
            "_view_count": null,
            "_view_module": "@jupyter-widgets/base",
            "_view_module_version": "1.2.0",
            "_view_name": "StyleView",
            "bar_color": null,
            "description_width": ""
          }
        },
        "aae8e1d6fec942b79bfb4080f6be7458": {
          "model_module": "@jupyter-widgets/base",
          "model_name": "LayoutModel",
          "model_module_version": "1.2.0",
          "state": {
            "_model_module": "@jupyter-widgets/base",
            "_model_module_version": "1.2.0",
            "_model_name": "LayoutModel",
            "_view_count": null,
            "_view_module": "@jupyter-widgets/base",
            "_view_module_version": "1.2.0",
            "_view_name": "LayoutView",
            "align_content": null,
            "align_items": null,
            "align_self": null,
            "border": null,
            "bottom": null,
            "display": null,
            "flex": null,
            "flex_flow": null,
            "grid_area": null,
            "grid_auto_columns": null,
            "grid_auto_flow": null,
            "grid_auto_rows": null,
            "grid_column": null,
            "grid_gap": null,
            "grid_row": null,
            "grid_template_areas": null,
            "grid_template_columns": null,
            "grid_template_rows": null,
            "height": null,
            "justify_content": null,
            "justify_items": null,
            "left": null,
            "margin": null,
            "max_height": null,
            "max_width": null,
            "min_height": null,
            "min_width": null,
            "object_fit": null,
            "object_position": null,
            "order": null,
            "overflow": null,
            "overflow_x": null,
            "overflow_y": null,
            "padding": null,
            "right": null,
            "top": null,
            "visibility": null,
            "width": null
          }
        },
        "4184a866182d4ca6ad1ec4903bc65b44": {
          "model_module": "@jupyter-widgets/controls",
          "model_name": "DescriptionStyleModel",
          "model_module_version": "1.5.0",
          "state": {
            "_model_module": "@jupyter-widgets/controls",
            "_model_module_version": "1.5.0",
            "_model_name": "DescriptionStyleModel",
            "_view_count": null,
            "_view_module": "@jupyter-widgets/base",
            "_view_module_version": "1.2.0",
            "_view_name": "StyleView",
            "description_width": ""
          }
        }
      }
    }
  },
  "cells": [
    {
      "cell_type": "code",
      "execution_count": 1,
      "metadata": {
        "colab": {
          "base_uri": "https://localhost:8080/"
        },
        "id": "zTS2C5a0Mdch",
        "outputId": "d82f2b5e-8148-47bb-f0b1-574898cccd0e"
      },
      "outputs": [
        {
          "output_type": "stream",
          "name": "stdout",
          "text": [
            "Looking in indexes: https://pypi.org/simple, https://us-python.pkg.dev/colab-wheels/public/simple/\n",
            "Requirement already satisfied: gensim in /usr/local/lib/python3.8/dist-packages (3.6.0)\n",
            "Requirement already satisfied: spacy in /usr/local/lib/python3.8/dist-packages (3.4.4)\n",
            "Requirement already satisfied: nltk in /usr/local/lib/python3.8/dist-packages (3.7)\n",
            "Requirement already satisfied: scipy>=0.18.1 in /usr/local/lib/python3.8/dist-packages (from gensim) (1.7.3)\n",
            "Requirement already satisfied: smart-open>=1.2.1 in /usr/local/lib/python3.8/dist-packages (from gensim) (6.3.0)\n",
            "Requirement already satisfied: numpy>=1.11.3 in /usr/local/lib/python3.8/dist-packages (from gensim) (1.21.6)\n",
            "Requirement already satisfied: six>=1.5.0 in /usr/local/lib/python3.8/dist-packages (from gensim) (1.15.0)\n",
            "Requirement already satisfied: preshed<3.1.0,>=3.0.2 in /usr/local/lib/python3.8/dist-packages (from spacy) (3.0.8)\n",
            "Requirement already satisfied: spacy-legacy<3.1.0,>=3.0.10 in /usr/local/lib/python3.8/dist-packages (from spacy) (3.0.10)\n",
            "Requirement already satisfied: spacy-loggers<2.0.0,>=1.0.0 in /usr/local/lib/python3.8/dist-packages (from spacy) (1.0.4)\n",
            "Requirement already satisfied: thinc<8.2.0,>=8.1.0 in /usr/local/lib/python3.8/dist-packages (from spacy) (8.1.6)\n",
            "Requirement already satisfied: pathy>=0.3.5 in /usr/local/lib/python3.8/dist-packages (from spacy) (0.10.1)\n",
            "Requirement already satisfied: packaging>=20.0 in /usr/local/lib/python3.8/dist-packages (from spacy) (21.3)\n",
            "Requirement already satisfied: wasabi<1.1.0,>=0.9.1 in /usr/local/lib/python3.8/dist-packages (from spacy) (0.10.1)\n",
            "Requirement already satisfied: pydantic!=1.8,!=1.8.1,<1.11.0,>=1.7.4 in /usr/local/lib/python3.8/dist-packages (from spacy) (1.10.2)\n",
            "Requirement already satisfied: catalogue<2.1.0,>=2.0.6 in /usr/local/lib/python3.8/dist-packages (from spacy) (2.0.8)\n",
            "Requirement already satisfied: srsly<3.0.0,>=2.4.3 in /usr/local/lib/python3.8/dist-packages (from spacy) (2.4.5)\n",
            "Requirement already satisfied: langcodes<4.0.0,>=3.2.0 in /usr/local/lib/python3.8/dist-packages (from spacy) (3.3.0)\n",
            "Requirement already satisfied: tqdm<5.0.0,>=4.38.0 in /usr/local/lib/python3.8/dist-packages (from spacy) (4.64.1)\n",
            "Requirement already satisfied: cymem<2.1.0,>=2.0.2 in /usr/local/lib/python3.8/dist-packages (from spacy) (2.0.7)\n",
            "Requirement already satisfied: murmurhash<1.1.0,>=0.28.0 in /usr/local/lib/python3.8/dist-packages (from spacy) (1.0.9)\n",
            "Requirement already satisfied: typer<0.8.0,>=0.3.0 in /usr/local/lib/python3.8/dist-packages (from spacy) (0.7.0)\n",
            "Requirement already satisfied: setuptools in /usr/local/lib/python3.8/dist-packages (from spacy) (57.4.0)\n",
            "Requirement already satisfied: requests<3.0.0,>=2.13.0 in /usr/local/lib/python3.8/dist-packages (from spacy) (2.25.1)\n",
            "Requirement already satisfied: jinja2 in /usr/local/lib/python3.8/dist-packages (from spacy) (2.11.3)\n",
            "Requirement already satisfied: regex>=2021.8.3 in /usr/local/lib/python3.8/dist-packages (from nltk) (2022.6.2)\n",
            "Requirement already satisfied: click in /usr/local/lib/python3.8/dist-packages (from nltk) (7.1.2)\n",
            "Requirement already satisfied: joblib in /usr/local/lib/python3.8/dist-packages (from nltk) (1.2.0)\n",
            "Requirement already satisfied: pyparsing!=3.0.5,>=2.0.2 in /usr/local/lib/python3.8/dist-packages (from packaging>=20.0->spacy) (3.0.9)\n",
            "Requirement already satisfied: typing-extensions>=4.1.0 in /usr/local/lib/python3.8/dist-packages (from pydantic!=1.8,!=1.8.1,<1.11.0,>=1.7.4->spacy) (4.4.0)\n",
            "Requirement already satisfied: certifi>=2017.4.17 in /usr/local/lib/python3.8/dist-packages (from requests<3.0.0,>=2.13.0->spacy) (2022.12.7)\n",
            "Requirement already satisfied: idna<3,>=2.5 in /usr/local/lib/python3.8/dist-packages (from requests<3.0.0,>=2.13.0->spacy) (2.10)\n",
            "Requirement already satisfied: chardet<5,>=3.0.2 in /usr/local/lib/python3.8/dist-packages (from requests<3.0.0,>=2.13.0->spacy) (4.0.0)\n",
            "Requirement already satisfied: urllib3<1.27,>=1.21.1 in /usr/local/lib/python3.8/dist-packages (from requests<3.0.0,>=2.13.0->spacy) (1.24.3)\n",
            "Requirement already satisfied: confection<1.0.0,>=0.0.1 in /usr/local/lib/python3.8/dist-packages (from thinc<8.2.0,>=8.1.0->spacy) (0.0.3)\n",
            "Requirement already satisfied: blis<0.8.0,>=0.7.8 in /usr/local/lib/python3.8/dist-packages (from thinc<8.2.0,>=8.1.0->spacy) (0.7.9)\n",
            "Requirement already satisfied: MarkupSafe>=0.23 in /usr/local/lib/python3.8/dist-packages (from jinja2->spacy) (2.0.1)\n"
          ]
        }
      ],
      "source": [
        "import tensorflow as tf\n",
        "tf.test.gpu_device_name()\n",
        "import numpy as np \n",
        "import pandas as pd \n",
        "import seaborn as sns\n",
        "!pip install gensim spacy nltk\n",
        "import re \n",
        "import gensim\n",
        "import spacy"
      ]
    },
    {
      "cell_type": "code",
      "source": [
        "# Load the Drive helper and mount\n",
        "from google.colab import drive\n",
        "\n",
        "# This will prompt for authorization.\n",
        "drive.mount('/content/drive', force_remount=True)"
      ],
      "metadata": {
        "colab": {
          "base_uri": "https://localhost:8080/"
        },
        "id": "Dek5aCWdNAM8",
        "outputId": "397bc60e-b026-478e-8165-b37f9b284ca9"
      },
      "execution_count": 2,
      "outputs": [
        {
          "output_type": "stream",
          "name": "stdout",
          "text": [
            "Mounted at /content/drive\n"
          ]
        }
      ]
    },
    {
      "cell_type": "code",
      "source": [
        "data= pd.read_csv('/content/drive/My Drive/Bachelor/Cleaned Data/Sarcasm.csv') "
      ],
      "metadata": {
        "id": "Lmo4neG-OfsV"
      },
      "execution_count": 3,
      "outputs": []
    },
    {
      "cell_type": "code",
      "source": [
        "import numpy as np\n",
        "max_sequence_length = np.max(data['Number of Words in tweet'])\n",
        "print(\"max length is:\", max_sequence_length)"
      ],
      "metadata": {
        "colab": {
          "base_uri": "https://localhost:8080/"
        },
        "id": "TeYcAwqjOhPh",
        "outputId": "a5be45ff-b1a9-49cb-fd02-7eabf0759e85"
      },
      "execution_count": 4,
      "outputs": [
        {
          "output_type": "stream",
          "name": "stdout",
          "text": [
            "max length is: 56\n"
          ]
        }
      ]
    },
    {
      "cell_type": "code",
      "source": [
        "text = data['cleaned_tweet']\n",
        "label = data['sarcasm']"
      ],
      "metadata": {
        "id": "CbbKvvYxOiKo"
      },
      "execution_count": 5,
      "outputs": []
    },
    {
      "cell_type": "code",
      "source": [
        "import keras\n",
        "from keras.preprocessing.text import Tokenizer\n",
        "\n",
        "tokenizer = Tokenizer(num_words=30000)\n",
        "tokenizer.fit_on_texts(text.astype(str))\n",
        "sequences = tokenizer.texts_to_sequences(text.astype(str))\n",
        "\n",
        "word_index = tokenizer.word_index   # a dictionary of each word and its index\n",
        "print('Found %s unique tokens.' % len(word_index))\n",
        "\n",
        "\n",
        "from keras_preprocessing.sequence import pad_sequences\n",
        "data = pad_sequences(sequences, maxlen=max_sequence_length)\n",
        "print('Shape of data tensor:', data.shape)"
      ],
      "metadata": {
        "colab": {
          "base_uri": "https://localhost:8080/"
        },
        "id": "-bu_FkO8OjTa",
        "outputId": "af52bc27-ac05-4fd1-cc3b-7d4b85d9725f"
      },
      "execution_count": 6,
      "outputs": [
        {
          "output_type": "stream",
          "name": "stdout",
          "text": [
            "Found 55395 unique tokens.\n",
            "Shape of data tensor: (26095, 56)\n"
          ]
        }
      ]
    },
    {
      "cell_type": "code",
      "source": [
        "from keras.utils import to_categorical\n",
        "labels = to_categorical(np.asarray(label))  ## one hot of the output\n",
        "print('Shape of label tensor:', labels.shape)"
      ],
      "metadata": {
        "colab": {
          "base_uri": "https://localhost:8080/"
        },
        "id": "S3emOVuXOqwy",
        "outputId": "dcb26221-2162-43ce-8a4e-ecbf578e6016"
      },
      "execution_count": 7,
      "outputs": [
        {
          "output_type": "stream",
          "name": "stdout",
          "text": [
            "Shape of label tensor: (26095, 2)\n"
          ]
        }
      ]
    },
    {
      "cell_type": "code",
      "source": [
        "# #shuffle the data\n",
        "\n",
        "indices = np.arange(data.shape[0])\n",
        "np.random.shuffle(indices)\n",
        "data = data[indices]\n",
        "labels = labels[indices]\n",
        "\n",
        "# split the data into training, testing\n",
        "\n",
        "nb_validation_samples = int(0.25* data.shape[0])\n",
        "x_train = data[:-nb_validation_samples]\n",
        "y_train = labels[:-nb_validation_samples]\n",
        "x_test = data[-nb_validation_samples:]\n",
        "y_test = labels[-nb_validation_samples:]"
      ],
      "metadata": {
        "id": "i1IEF0VpO4GH"
      },
      "execution_count": 8,
      "outputs": []
    },
    {
      "cell_type": "code",
      "source": [],
      "metadata": {
        "id": "scboZpXEO9sx"
      },
      "execution_count": null,
      "outputs": []
    },
    {
      "cell_type": "code",
      "source": [],
      "metadata": {
        "id": "WXvFleSWKlLn"
      },
      "execution_count": null,
      "outputs": []
    },
    {
      "cell_type": "markdown",
      "source": [
        "# Arabert"
      ],
      "metadata": {
        "id": "__PYCbUTQC49"
      }
    },
    {
      "cell_type": "code",
      "source": [
        "!pip install bert-for-tf2\n",
        "!pip install pyarabic\n",
        "!git clone https://github.com/aub-mind/arabert\n",
        "!pip install transformers"
      ],
      "metadata": {
        "colab": {
          "base_uri": "https://localhost:8080/"
        },
        "id": "8T9dar5-QFlV",
        "outputId": "34dad2f0-8a32-4129-cc67-9087360f0537"
      },
      "execution_count": 12,
      "outputs": [
        {
          "output_type": "stream",
          "name": "stdout",
          "text": [
            "Looking in indexes: https://pypi.org/simple, https://us-python.pkg.dev/colab-wheels/public/simple/\n",
            "Collecting bert-for-tf2\n",
            "  Downloading bert-for-tf2-0.14.9.tar.gz (41 kB)\n",
            "\u001b[?25l     \u001b[90m━━━━━━━━━━━━━━━━━━━━━━━━━━━━━━━━━━━━━━━━\u001b[0m \u001b[32m0.0/41.2 KB\u001b[0m \u001b[31m?\u001b[0m eta \u001b[36m-:--:--\u001b[0m\r\u001b[2K     \u001b[90m━━━━━━━━━━━━━━━━━━━━━━━━━━━━━━━━━━━━━━━━\u001b[0m \u001b[32m41.2/41.2 KB\u001b[0m \u001b[31m5.0 MB/s\u001b[0m eta \u001b[36m0:00:00\u001b[0m\n",
            "\u001b[?25h  Preparing metadata (setup.py) ... \u001b[?25l\u001b[?25hdone\n",
            "Collecting py-params>=0.9.6\n",
            "  Downloading py-params-0.10.2.tar.gz (7.4 kB)\n",
            "  Preparing metadata (setup.py) ... \u001b[?25l\u001b[?25hdone\n",
            "Collecting params-flow>=0.8.0\n",
            "  Downloading params-flow-0.8.2.tar.gz (22 kB)\n",
            "  Preparing metadata (setup.py) ... \u001b[?25l\u001b[?25hdone\n",
            "Requirement already satisfied: numpy in /usr/local/lib/python3.8/dist-packages (from params-flow>=0.8.0->bert-for-tf2) (1.21.6)\n",
            "Requirement already satisfied: tqdm in /usr/local/lib/python3.8/dist-packages (from params-flow>=0.8.0->bert-for-tf2) (4.64.1)\n",
            "Building wheels for collected packages: bert-for-tf2, params-flow, py-params\n",
            "  Building wheel for bert-for-tf2 (setup.py) ... \u001b[?25l\u001b[?25hdone\n",
            "  Created wheel for bert-for-tf2: filename=bert_for_tf2-0.14.9-py3-none-any.whl size=30534 sha256=fd727bad148441f15a5dc32eca381bce6be1a4e25222055c1e26384d69a2385f\n",
            "  Stored in directory: /root/.cache/pip/wheels/ab/a4/72/df07592cea3ae06b5e846f5e52262f8b16748e829ca354b7df\n",
            "  Building wheel for params-flow (setup.py) ... \u001b[?25l\u001b[?25hdone\n",
            "  Created wheel for params-flow: filename=params_flow-0.8.2-py3-none-any.whl size=19472 sha256=f25e1e13da294cc8dee42ca711616aa95df1ffb7710b7c6db056949f8386ca9e\n",
            "  Stored in directory: /root/.cache/pip/wheels/c7/f3/85/b8cf1d8bfe55dc2ece0f1fcd4e91d6f8fc7b59ff3fd75329e1\n",
            "  Building wheel for py-params (setup.py) ... \u001b[?25l\u001b[?25hdone\n",
            "  Created wheel for py-params: filename=py_params-0.10.2-py3-none-any.whl size=7911 sha256=7c6340b1f407c2c21c30ee6b5be331a60ba8a5f571abf66c102896abffddfd62\n",
            "  Stored in directory: /root/.cache/pip/wheels/ac/26/e9/df16869ccbd4abf517f1ff3be9a2c7ee5c5980fc87eea04fb1\n",
            "Successfully built bert-for-tf2 params-flow py-params\n",
            "Installing collected packages: py-params, params-flow, bert-for-tf2\n",
            "Successfully installed bert-for-tf2-0.14.9 params-flow-0.8.2 py-params-0.10.2\n",
            "Looking in indexes: https://pypi.org/simple, https://us-python.pkg.dev/colab-wheels/public/simple/\n",
            "Collecting pyarabic\n",
            "  Downloading PyArabic-0.6.15-py3-none-any.whl (126 kB)\n",
            "\u001b[2K     \u001b[90m━━━━━━━━━━━━━━━━━━━━━━━━━━━━━━━━━━━━━━\u001b[0m \u001b[32m126.4/126.4 KB\u001b[0m \u001b[31m13.0 MB/s\u001b[0m eta \u001b[36m0:00:00\u001b[0m\n",
            "\u001b[?25hRequirement already satisfied: six>=1.14.0 in /usr/local/lib/python3.8/dist-packages (from pyarabic) (1.15.0)\n",
            "Installing collected packages: pyarabic\n",
            "Successfully installed pyarabic-0.6.15\n",
            "Cloning into 'arabert'...\n",
            "remote: Enumerating objects: 600, done.\u001b[K\n",
            "remote: Counting objects: 100% (65/65), done.\u001b[K\n",
            "remote: Compressing objects: 100% (33/33), done.\u001b[K\n",
            "remote: Total 600 (delta 38), reused 45 (delta 30), pack-reused 535\u001b[K\n",
            "Receiving objects: 100% (600/600), 9.14 MiB | 35.33 MiB/s, done.\n",
            "Resolving deltas: 100% (339/339), done.\n",
            "Looking in indexes: https://pypi.org/simple, https://us-python.pkg.dev/colab-wheels/public/simple/\n",
            "Collecting transformers\n",
            "  Downloading transformers-4.25.1-py3-none-any.whl (5.8 MB)\n",
            "\u001b[2K     \u001b[90m━━━━━━━━━━━━━━━━━━━━━━━━━━━━━━━━━━━━━━━━\u001b[0m \u001b[32m5.8/5.8 MB\u001b[0m \u001b[31m82.3 MB/s\u001b[0m eta \u001b[36m0:00:00\u001b[0m\n",
            "\u001b[?25hRequirement already satisfied: tqdm>=4.27 in /usr/local/lib/python3.8/dist-packages (from transformers) (4.64.1)\n",
            "Requirement already satisfied: pyyaml>=5.1 in /usr/local/lib/python3.8/dist-packages (from transformers) (6.0)\n",
            "Requirement already satisfied: requests in /usr/local/lib/python3.8/dist-packages (from transformers) (2.25.1)\n",
            "Requirement already satisfied: packaging>=20.0 in /usr/local/lib/python3.8/dist-packages (from transformers) (21.3)\n",
            "Requirement already satisfied: numpy>=1.17 in /usr/local/lib/python3.8/dist-packages (from transformers) (1.21.6)\n",
            "Collecting tokenizers!=0.11.3,<0.14,>=0.11.1\n",
            "  Downloading tokenizers-0.13.2-cp38-cp38-manylinux_2_17_x86_64.manylinux2014_x86_64.whl (7.6 MB)\n",
            "\u001b[2K     \u001b[90m━━━━━━━━━━━━━━━━━━━━━━━━━━━━━━━━━━━━━━━━\u001b[0m \u001b[32m7.6/7.6 MB\u001b[0m \u001b[31m105.7 MB/s\u001b[0m eta \u001b[36m0:00:00\u001b[0m\n",
            "\u001b[?25hRequirement already satisfied: regex!=2019.12.17 in /usr/local/lib/python3.8/dist-packages (from transformers) (2022.6.2)\n",
            "Requirement already satisfied: filelock in /usr/local/lib/python3.8/dist-packages (from transformers) (3.8.2)\n",
            "Collecting huggingface-hub<1.0,>=0.10.0\n",
            "  Downloading huggingface_hub-0.11.1-py3-none-any.whl (182 kB)\n",
            "\u001b[2K     \u001b[90m━━━━━━━━━━━━━━━━━━━━━━━━━━━━━━━━━━━━━━\u001b[0m \u001b[32m182.4/182.4 KB\u001b[0m \u001b[31m23.0 MB/s\u001b[0m eta \u001b[36m0:00:00\u001b[0m\n",
            "\u001b[?25hRequirement already satisfied: typing-extensions>=3.7.4.3 in /usr/local/lib/python3.8/dist-packages (from huggingface-hub<1.0,>=0.10.0->transformers) (4.4.0)\n",
            "Requirement already satisfied: pyparsing!=3.0.5,>=2.0.2 in /usr/local/lib/python3.8/dist-packages (from packaging>=20.0->transformers) (3.0.9)\n",
            "Requirement already satisfied: certifi>=2017.4.17 in /usr/local/lib/python3.8/dist-packages (from requests->transformers) (2022.12.7)\n",
            "Requirement already satisfied: idna<3,>=2.5 in /usr/local/lib/python3.8/dist-packages (from requests->transformers) (2.10)\n",
            "Requirement already satisfied: chardet<5,>=3.0.2 in /usr/local/lib/python3.8/dist-packages (from requests->transformers) (4.0.0)\n",
            "Requirement already satisfied: urllib3<1.27,>=1.21.1 in /usr/local/lib/python3.8/dist-packages (from requests->transformers) (1.24.3)\n",
            "Installing collected packages: tokenizers, huggingface-hub, transformers\n",
            "Successfully installed huggingface-hub-0.11.1 tokenizers-0.13.2 transformers-4.25.1\n"
          ]
        }
      ]
    },
    {
      "cell_type": "code",
      "source": [
        "import numpy as np\n",
        "import math\n",
        "import re\n",
        "import pandas as pd\n",
        "import random\n",
        "\n",
        "from sklearn.preprocessing import StandardScaler\n",
        "from sklearn.svm import SVC\n",
        "from sklearn.metrics import confusion_matrix\n",
        "from sklearn.metrics import precision_score, recall_score, f1_score, accuracy_score\n",
        "import matplotlib.pyplot as plt"
      ],
      "metadata": {
        "id": "HPB_5gUGQK8Y"
      },
      "execution_count": 13,
      "outputs": []
    },
    {
      "cell_type": "code",
      "source": [
        "try:\n",
        "    %tensorflow_version 2.x\n",
        "except Exception:\n",
        "    pass\n",
        "import tensorflow as tf\n",
        "\n",
        "import tensorflow_hub as hub\n",
        "\n",
        "from tensorflow.keras import layers\n",
        "import bert\n",
        "from transformers import AutoTokenizer, AutoModel"
      ],
      "metadata": {
        "colab": {
          "base_uri": "https://localhost:8080/"
        },
        "id": "OoemK47uQPkJ",
        "outputId": "ef9a280e-2597-4914-a09b-72df87a620cc"
      },
      "execution_count": 14,
      "outputs": [
        {
          "output_type": "stream",
          "name": "stdout",
          "text": [
            "Colab only includes TensorFlow 2.x; %tensorflow_version has no effect.\n"
          ]
        }
      ]
    },
    {
      "cell_type": "code",
      "source": [
        "arabert_tokenizer = AutoTokenizer.from_pretrained(\"aubmindlab/bert-base-arabertv01\",do_lower_case=False)\n",
        "def encode_sentence(sent):\n",
        "    tokenized = arabert_tokenizer.tokenize(sent)\n",
        "    return arabert_tokenizer.convert_tokens_to_ids(tokenized)"
      ],
      "metadata": {
        "id": "nXHxjYL6QRIP",
        "outputId": "8703e141-4599-4c34-e2d7-c89f91d08ec2",
        "colab": {
          "base_uri": "https://localhost:8080/",
          "height": 0,
          "referenced_widgets": [
            "5b25a4ed5e7c481395f085b3dcaf128e",
            "0ef10df183d84c829314f3ad51cccf63",
            "4d7f91bfed5644df9009b1c67fb1c8b5",
            "39b96d0c4bc04ac1826d22884f5cf793",
            "251859b4522d424aaa38f5bc7c0c134f",
            "9ff50a21746648a9a19d7dca16cd9ad6",
            "024252a57a13443fa97dda1196e2d9e2",
            "215e2fc8a73a4f239b2a70d9e20ddffd",
            "38ce9f05e007483586cf4704100aece7",
            "9de85e069db94b2eb6f51fb96680d4d3",
            "2bf2c07f982a497fa04c9afd06467cdc",
            "19055bb37c034582bd5dfc227bdacec6",
            "217ad070bb7d454e84ed1b7684d08391",
            "5072a717373d463f959e9e9f07101395",
            "2d9618a74ec64c1b99368f52c7f83a94",
            "17b1bf21397247d0b12463b69a9f0dc1",
            "a971862f0829493688d1d7e9e6c9c50c",
            "5c1b6fe9d7d84f27ac9a79b64a4c73a8",
            "867726c1de5b4f059921ca28038af072",
            "05995785a91f427cbcd67a603be413f6",
            "545f6ab785ca4658b1a7bb45b7c7a351",
            "059e69887c1546c19fc61eac2854cbc0",
            "b2ef5247b9384e6db43b0e94fb56f436",
            "228a23e1f2c24ad58c678252d67db9e4",
            "d835cf04e14143dba40cf2546963ecfb",
            "48de123c017c416883e157916d47a8c9",
            "16dfa480c80c40d6b823044321546150",
            "b9e3e16cf85a403489d66e1124b09224",
            "64ee07b4b66748b3a5721f39f9ab9db2",
            "b1bbf6b86bd24fc8a1c5dec8a79b301e",
            "5f10ab5671b943f18315c48c0a146103",
            "2fb2982283274f48bb92a4318a56f979",
            "c4b69424a15846afb54d33623951c6aa",
            "6cc2db8609ef4a8a9b4eaec001d9c2bc",
            "9d84952f393c48b1b7bee3bf729ff29a",
            "a37de5c340b442a492b0b012f0f9c2d5",
            "f619864852d34c3d8938ee98b2c117e2",
            "6f6b768d76364970b1918c4a371a8753",
            "995a90a57781436099989be942ff814e",
            "61cec5704afd4c679d99e6b5bcc79b53",
            "4d71f94e910649c99f6d5907c6a10271",
            "3e9406f9996746b6b75cc1690966cdd2",
            "613965b10505445095707d5a5bf1489d",
            "3dd611acd08c4823b51f685d7559f6e4",
            "b6a694274e1043d2a3b13ffa6b98d304",
            "ef6a1eeb5a2e40f4aa927bc15a219f2c",
            "7a1d4e09fd394880bb271f11b08ce58c",
            "7da766e1bcd74b5abdca2f86e6bc99f0",
            "80cc72555a9f40ea8ba4e6f0c07171af",
            "6ab37e4bbc6743549a9125d6def00ce0",
            "cb51bc5a35f240c6817105996c2720a7",
            "930bf5e3e17f45459e4bdd337b5cb2fc",
            "f79cb5110e8e4e6d931b807c8d6aa759",
            "aae8e1d6fec942b79bfb4080f6be7458",
            "4184a866182d4ca6ad1ec4903bc65b44"
          ]
        }
      },
      "execution_count": 15,
      "outputs": [
        {
          "output_type": "display_data",
          "data": {
            "text/plain": [
              "Downloading:   0%|          | 0.00/379 [00:00<?, ?B/s]"
            ],
            "application/vnd.jupyter.widget-view+json": {
              "version_major": 2,
              "version_minor": 0,
              "model_id": "5b25a4ed5e7c481395f085b3dcaf128e"
            }
          },
          "metadata": {}
        },
        {
          "output_type": "display_data",
          "data": {
            "text/plain": [
              "Downloading:   0%|          | 0.00/576 [00:00<?, ?B/s]"
            ],
            "application/vnd.jupyter.widget-view+json": {
              "version_major": 2,
              "version_minor": 0,
              "model_id": "19055bb37c034582bd5dfc227bdacec6"
            }
          },
          "metadata": {}
        },
        {
          "output_type": "display_data",
          "data": {
            "text/plain": [
              "Downloading:   0%|          | 0.00/780k [00:00<?, ?B/s]"
            ],
            "application/vnd.jupyter.widget-view+json": {
              "version_major": 2,
              "version_minor": 0,
              "model_id": "b2ef5247b9384e6db43b0e94fb56f436"
            }
          },
          "metadata": {}
        },
        {
          "output_type": "display_data",
          "data": {
            "text/plain": [
              "Downloading:   0%|          | 0.00/2.70M [00:00<?, ?B/s]"
            ],
            "application/vnd.jupyter.widget-view+json": {
              "version_major": 2,
              "version_minor": 0,
              "model_id": "6cc2db8609ef4a8a9b4eaec001d9c2bc"
            }
          },
          "metadata": {}
        },
        {
          "output_type": "display_data",
          "data": {
            "text/plain": [
              "Downloading:   0%|          | 0.00/112 [00:00<?, ?B/s]"
            ],
            "application/vnd.jupyter.widget-view+json": {
              "version_major": 2,
              "version_minor": 0,
              "model_id": "b6a694274e1043d2a3b13ffa6b98d304"
            }
          },
          "metadata": {}
        }
      ]
    },
    {
      "cell_type": "code",
      "source": [
        "VOCAB_SIZE = len(arabert_tokenizer.get_vocab())\n",
        "EMB_DIM = 200"
      ],
      "metadata": {
        "id": "KtdtQlpjQScU"
      },
      "execution_count": 16,
      "outputs": []
    },
    {
      "cell_type": "markdown",
      "source": [
        "# BiGRU-GRU Model"
      ],
      "metadata": {
        "id": "jzgK5WA1rWni"
      }
    },
    {
      "cell_type": "code",
      "source": [
        "#Bi-directional GRU - Bidirectional LSTM, Adam(1e-4), (Relu+softmax)\n",
        "\n",
        "VOCAB_SIZE = len(arabert_tokenizer.get_vocab())\n",
        "EMB_DIM = 200\n",
        "\n",
        "from tensorflow.keras import layers\n",
        "model2 = tf.keras.Sequential([\n",
        "    tf.keras.layers.Embedding(VOCAB_SIZE, EMB_DIM),\n",
        "    tf.keras.layers.Bidirectional(layers.GRU(64, return_sequences=True)),\n",
        "    tf.keras.layers.Bidirectional(tf.keras.layers.LSTM(32)),\n",
        "    tf.keras.layers.Dense(EMB_DIM, activation='relu'),\n",
        "    tf.keras.layers.Dropout(0.5),\n",
        "    tf.keras.layers.Dense(2,activation='softmax')\n",
        "])\n",
        "\n",
        "\n",
        "model2.compile(loss=tf.keras.losses.BinaryCrossentropy(from_logits=True),\n",
        "              optimizer=tf.keras.optimizers.Adam(1e-4),\n",
        "              metrics=['accuracy',get_f1])\n",
        "\n",
        "model2.fit(x_train, y_train, batch_size=32, epochs=10)\n",
        "\n",
        "accuracy2= model2.evaluate(x_test, y_test)\n",
        "# print('test loss is:', loss)\n",
        "print('test accuracy is: ', accuracy2)\n",
        "\n",
        "predictions2= model2.predict(x_test)\n",
        "\n",
        "predictions2=np.argmax(predictions2, axis=1)\n",
        "y_test=np.argmax(y_test, axis=1)\n",
        "\n",
        "print('Recall: %.3f' % recall_score(y_test, predictions2))\n",
        "cm = confusion_matrix(y_test, predictions2)\n",
        "print('The confusion matrix is', cm)\n",
        "print('Accuracy: %.3f' % accuracy_score(y_test, predictions2))\n",
        "print('F1 Score: %.3f' % f1_score(y_test, predictions2))\n",
        "print('Precision: %.3f' % precision_score(y_test, predictions2))"
      ],
      "metadata": {
        "id": "_dgs0-3FDeK6"
      },
      "execution_count": null,
      "outputs": []
    },
    {
      "cell_type": "markdown",
      "source": [
        "# Activation Function Tuning "
      ],
      "metadata": {
        "id": "Lxc99EHknNEW"
      }
    },
    {
      "cell_type": "code",
      "source": [
        "# 1 Bi-directional GRU - Bidirectional LSTM, Adam(1e-4), (Softplus+softmax)\n",
        "\n",
        "VOCAB_SIZE = len(arabert_tokenizer.get_vocab())\n",
        "EMB_DIM = 200\n",
        "\n",
        "from tensorflow.keras import layers\n",
        "model9 = tf.keras.Sequential([\n",
        "    tf.keras.layers.Embedding(VOCAB_SIZE, EMB_DIM),\n",
        "    tf.keras.layers.Bidirectional(layers.GRU(64, return_sequences=True)),\n",
        "    tf.keras.layers.Bidirectional(tf.keras.layers.LSTM(32)),\n",
        "    tf.keras.layers.Dense(EMB_DIM, activation='softplus'),\n",
        "    tf.keras.layers.Dropout(0.5),\n",
        "    tf.keras.layers.Dense(2,activation='softmax')\n",
        "])\n",
        "\n",
        "\n",
        "model9.compile(loss=tf.keras.losses.BinaryCrossentropy(from_logits=True),\n",
        "              optimizer=tf.keras.optimizers.Adam(1e-4),\n",
        "              metrics=['accuracy'])\n",
        "\n",
        "model9.fit(x_train, y_train, batch_size=32, epochs=10)\n",
        "\n",
        "# accuracy2= model2.evaluate(x_test, y_test)\n",
        "# # print('test loss is:', loss)\n",
        "# print('test accuracy is: ', accuracy2)\n",
        "\n",
        "predictions9= model9.predict(x_test)\n",
        "\n",
        "predictions9=np.argmax(predictions9, axis=1)\n",
        "y_test=np.argmax(y_test, axis=1)\n",
        "\n",
        "print('Recall: %.3f' % recall_score(y_test, predictions9))\n",
        "cm = confusion_matrix(y_test, predictions9)\n",
        "print('The confusion matrix is', cm)\n",
        "print('Accuracy: %.3f' % accuracy_score(y_test, predictions9))\n",
        "print('F1 Score: %.3f' % f1_score(y_test, predictions9))\n",
        "print('Precision: %.3f' % precision_score(y_test, predictions9))"
      ],
      "metadata": {
        "colab": {
          "base_uri": "https://localhost:8080/"
        },
        "id": "WhCaEioLtM5W",
        "outputId": "9e9d595f-04ce-4ebb-c071-a431239fed9d"
      },
      "execution_count": null,
      "outputs": [
        {
          "output_type": "stream",
          "name": "stdout",
          "text": [
            "Epoch 1/10\n"
          ]
        },
        {
          "output_type": "stream",
          "name": "stderr",
          "text": [
            "/usr/local/lib/python3.8/dist-packages/tensorflow/python/util/dispatch.py:1082: UserWarning: \"`binary_crossentropy` received `from_logits=True`, but the `output` argument was produced by a sigmoid or softmax activation and thus does not represent logits. Was this intended?\"\n",
            "  return dispatch_target(*args, **kwargs)\n"
          ]
        },
        {
          "output_type": "stream",
          "name": "stdout",
          "text": [
            "612/612 [==============================] - 24s 22ms/step - loss: 0.5183 - accuracy: 0.8096\n",
            "Epoch 2/10\n",
            "612/612 [==============================] - 14s 23ms/step - loss: 0.2981 - accuracy: 0.8840\n",
            "Epoch 3/10\n",
            "612/612 [==============================] - 13s 22ms/step - loss: 0.1489 - accuracy: 0.9522\n",
            "Epoch 4/10\n",
            "612/612 [==============================] - 13s 22ms/step - loss: 0.0823 - accuracy: 0.9763\n",
            "Epoch 5/10\n",
            "612/612 [==============================] - 14s 22ms/step - loss: 0.0544 - accuracy: 0.9859\n",
            "Epoch 6/10\n",
            "612/612 [==============================] - 14s 22ms/step - loss: 0.0447 - accuracy: 0.9882\n",
            "Epoch 7/10\n",
            "612/612 [==============================] - 16s 27ms/step - loss: 0.0377 - accuracy: 0.9901\n",
            "Epoch 8/10\n",
            "612/612 [==============================] - 13s 22ms/step - loss: 0.0315 - accuracy: 0.9919\n",
            "Epoch 9/10\n",
            "612/612 [==============================] - 13s 22ms/step - loss: 0.0286 - accuracy: 0.9918\n",
            "Epoch 10/10\n",
            "612/612 [==============================] - 13s 22ms/step - loss: 0.0242 - accuracy: 0.9921\n",
            "204/204 [==============================] - 3s 7ms/step\n",
            "Recall: 0.720\n",
            "The confusion matrix is [[5066  318]\n",
            " [ 319  820]]\n",
            "Accuracy: 0.902\n",
            "F1 Score: 0.720\n",
            "Precision: 0.721\n"
          ]
        }
      ]
    },
    {
      "cell_type": "code",
      "source": [
        "#Model 3: 1 Bi-directional GRU - Bidirectional LSTM, Adam(1e-4), (softsign+softmax)\n",
        "\n",
        "VOCAB_SIZE = len(arabert_tokenizer.get_vocab())\n",
        "EMB_DIM = 200\n",
        "\n",
        "from tensorflow.keras import layers\n",
        "model10 = tf.keras.Sequential([\n",
        "    tf.keras.layers.Embedding(VOCAB_SIZE, EMB_DIM),\n",
        "    tf.keras.layers.Bidirectional(layers.GRU(64, return_sequences=True)),\n",
        "    tf.keras.layers.Bidirectional(tf.keras.layers.LSTM(32)),\n",
        "    tf.keras.layers.Dense(EMB_DIM, activation='softsign'),\n",
        "    tf.keras.layers.Dropout(0.5),\n",
        "    tf.keras.layers.Dense(2,activation='softmax')\n",
        "])\n",
        "\n",
        "\n",
        "model10.compile(loss=tf.keras.losses.BinaryCrossentropy(from_logits=True),\n",
        "              optimizer=tf.keras.optimizers.Adam(1e-4),\n",
        "              metrics=['accuracy'])\n",
        "\n",
        "model10.fit(x_train, y_train, batch_size=32, epochs=10)\n",
        "\n",
        "# accuracy2= model2.evaluate(x_test, y_test)\n",
        "# # print('test loss is:', loss)\n",
        "# print('test accuracy is: ', accuracy2)\n",
        "\n",
        "prediction10= model10.predict(x_test)\n",
        "\n",
        "prediction10=np.argmax(prediction10, axis=1)\n",
        "y_test=np.argmax(y_test, axis=1)\n",
        "\n",
        "print('Recall: %.3f' % recall_score(y_test, prediction10))\n",
        "cm = confusion_matrix(y_test, prediction10)\n",
        "print('The confusion matrix is', cm)\n",
        "print('Accuracy: %.3f' % accuracy_score(y_test, prediction10))\n",
        "print('F1 Score: %.3f' % f1_score(y_test, prediction10))\n",
        "print('Precision: %.3f' % precision_score(y_test, prediction10))"
      ],
      "metadata": {
        "colab": {
          "base_uri": "https://localhost:8080/"
        },
        "id": "AP-oDdksu6XB",
        "outputId": "1dbca39b-d40f-4153-c304-e67b9bff93b3"
      },
      "execution_count": null,
      "outputs": [
        {
          "output_type": "stream",
          "name": "stdout",
          "text": [
            "Epoch 1/10\n"
          ]
        },
        {
          "output_type": "stream",
          "name": "stderr",
          "text": [
            "/usr/local/lib/python3.8/dist-packages/tensorflow/python/util/dispatch.py:1082: UserWarning: \"`binary_crossentropy` received `from_logits=True`, but the `output` argument was produced by a sigmoid or softmax activation and thus does not represent logits. Was this intended?\"\n",
            "  return dispatch_target(*args, **kwargs)\n"
          ]
        },
        {
          "output_type": "stream",
          "name": "stdout",
          "text": [
            "612/612 [==============================] - 20s 22ms/step - loss: 0.4525 - accuracy: 0.8229\n",
            "Epoch 2/10\n",
            "612/612 [==============================] - 13s 21ms/step - loss: 0.2441 - accuracy: 0.8996\n",
            "Epoch 3/10\n",
            "612/612 [==============================] - 13s 22ms/step - loss: 0.1157 - accuracy: 0.9597\n",
            "Epoch 4/10\n",
            "612/612 [==============================] - 13s 22ms/step - loss: 0.0640 - accuracy: 0.9799\n",
            "Epoch 5/10\n",
            "612/612 [==============================] - 13s 22ms/step - loss: 0.0421 - accuracy: 0.9874\n",
            "Epoch 6/10\n",
            "612/612 [==============================] - 13s 22ms/step - loss: 0.0318 - accuracy: 0.9910\n",
            "Epoch 7/10\n",
            "612/612 [==============================] - 13s 22ms/step - loss: 0.0275 - accuracy: 0.9928\n",
            "Epoch 8/10\n",
            "612/612 [==============================] - 13s 21ms/step - loss: 0.0263 - accuracy: 0.9920\n",
            "Epoch 9/10\n",
            "612/612 [==============================] - 13s 22ms/step - loss: 0.0234 - accuracy: 0.9928\n",
            "Epoch 10/10\n",
            "612/612 [==============================] - 13s 22ms/step - loss: 0.0218 - accuracy: 0.9924\n",
            "204/204 [==============================] - 3s 7ms/step\n",
            "Recall: 0.737\n",
            "The confusion matrix is [[4966  359]\n",
            " [ 315  883]]\n",
            "Accuracy: 0.897\n",
            "F1 Score: 0.724\n",
            "Precision: 0.711\n"
          ]
        }
      ]
    },
    {
      "cell_type": "code",
      "source": [
        "#Model 3: 1 Bi-directional GRU - Bidirectional LSTM, Adam(1e-4), (tanh+softmax)\n",
        "\n",
        "VOCAB_SIZE = len(arabert_tokenizer.get_vocab())\n",
        "EMB_DIM = 200\n",
        "\n",
        "from tensorflow.keras import layers\n",
        "model11 = tf.keras.Sequential([\n",
        "    tf.keras.layers.Embedding(VOCAB_SIZE, EMB_DIM),\n",
        "    tf.keras.layers.Bidirectional(layers.GRU(64, return_sequences=True)),\n",
        "    tf.keras.layers.Bidirectional(tf.keras.layers.LSTM(32)),\n",
        "    tf.keras.layers.Dense(EMB_DIM, activation='tanh'),\n",
        "    tf.keras.layers.Dropout(0.5),\n",
        "    tf.keras.layers.Dense(2,activation='softmax')\n",
        "])\n",
        "\n",
        "\n",
        "model11.compile(loss=tf.keras.losses.BinaryCrossentropy(from_logits=True),\n",
        "              optimizer=tf.keras.optimizers.Adam(1e-4),\n",
        "              metrics=['accuracy'])\n",
        "\n",
        "model11.fit(x_train, y_train, batch_size=32, epochs=10)\n",
        "\n",
        "# accuracy2= model2.evaluate(x_test, y_test)\n",
        "# # print('test loss is:', loss)\n",
        "# print('test accuracy is: ', accuracy2)\n",
        "\n",
        "prediction11= model11.predict(x_test)\n",
        "\n",
        "prediction11=np.argmax(prediction11, axis=1)\n",
        "y_test=np.argmax(y_test, axis=1)\n",
        "\n",
        "print('Recall: %.3f' % recall_score(y_test, prediction11))\n",
        "cm = confusion_matrix(y_test, prediction11)\n",
        "print('The confusion matrix is', cm)\n",
        "print('Accuracy: %.3f' % accuracy_score(y_test, prediction11))\n",
        "print('F1 Score: %.3f' % f1_score(y_test, prediction11))\n",
        "print('Precision: %.3f' % precision_score(y_test, prediction11))"
      ],
      "metadata": {
        "colab": {
          "base_uri": "https://localhost:8080/"
        },
        "id": "LysX0citvHCU",
        "outputId": "cb7241a0-2bed-4786-b92c-c9ca70c66604"
      },
      "execution_count": null,
      "outputs": [
        {
          "output_type": "stream",
          "name": "stdout",
          "text": [
            "Epoch 1/10\n"
          ]
        },
        {
          "output_type": "stream",
          "name": "stderr",
          "text": [
            "/usr/local/lib/python3.8/dist-packages/tensorflow/python/util/dispatch.py:1082: UserWarning: \"`binary_crossentropy` received `from_logits=True`, but the `output` argument was produced by a sigmoid or softmax activation and thus does not represent logits. Was this intended?\"\n",
            "  return dispatch_target(*args, **kwargs)\n"
          ]
        },
        {
          "output_type": "stream",
          "name": "stdout",
          "text": [
            "612/612 [==============================] - 19s 21ms/step - loss: 0.4506 - accuracy: 0.8230\n",
            "Epoch 2/10\n",
            "612/612 [==============================] - 13s 22ms/step - loss: 0.2385 - accuracy: 0.9033\n",
            "Epoch 3/10\n",
            "612/612 [==============================] - 13s 22ms/step - loss: 0.1146 - accuracy: 0.9596\n",
            "Epoch 4/10\n",
            "612/612 [==============================] - 13s 22ms/step - loss: 0.0614 - accuracy: 0.9799\n",
            "Epoch 5/10\n",
            "612/612 [==============================] - 13s 22ms/step - loss: 0.0386 - accuracy: 0.9885\n",
            "Epoch 6/10\n",
            "612/612 [==============================] - 13s 22ms/step - loss: 0.0301 - accuracy: 0.9916\n",
            "Epoch 7/10\n",
            "612/612 [==============================] - 13s 22ms/step - loss: 0.0252 - accuracy: 0.9924\n",
            "Epoch 8/10\n",
            "612/612 [==============================] - 13s 21ms/step - loss: 0.0231 - accuracy: 0.9932\n",
            "Epoch 9/10\n",
            "612/612 [==============================] - 13s 22ms/step - loss: 0.0212 - accuracy: 0.9932\n",
            "Epoch 10/10\n",
            "612/612 [==============================] - 14s 23ms/step - loss: 0.0202 - accuracy: 0.9928\n",
            "204/204 [==============================] - 3s 7ms/step\n",
            "Recall: 0.727\n",
            "The confusion matrix is [[4943  351]\n",
            " [ 335  894]]\n",
            "Accuracy: 0.895\n",
            "F1 Score: 0.723\n",
            "Precision: 0.718\n"
          ]
        }
      ]
    },
    {
      "cell_type": "code",
      "source": [
        "#Model 3: 1 Bi-directional GRU - Bidirectional LSTM, Adam(1e-4), (selu+softmax)\n",
        "\n",
        "VOCAB_SIZE = len(arabert_tokenizer.get_vocab())\n",
        "EMB_DIM = 200\n",
        "\n",
        "from tensorflow.keras import layers\n",
        "model11 = tf.keras.Sequential([\n",
        "    tf.keras.layers.Embedding(VOCAB_SIZE, EMB_DIM),\n",
        "    tf.keras.layers.Bidirectional(layers.GRU(64, return_sequences=True)),\n",
        "    tf.keras.layers.Bidirectional(tf.keras.layers.LSTM(32)),\n",
        "    tf.keras.layers.Dense(EMB_DIM, activation='selu'),\n",
        "    tf.keras.layers.Dropout(0.5),\n",
        "    tf.keras.layers.Dense(2,activation='softmax')\n",
        "])\n",
        "\n",
        "\n",
        "model11.compile(loss=tf.keras.losses.BinaryCrossentropy(from_logits=True),\n",
        "              optimizer=tf.keras.optimizers.Adam(1e-4),\n",
        "              metrics=['accuracy'])\n",
        "\n",
        "model11.fit(x_train, y_train, batch_size=32, epochs=10)\n",
        "\n",
        "# accuracy2= model2.evaluate(x_test, y_test)\n",
        "# # print('test loss is:', loss)\n",
        "# print('test accuracy is: ', accuracy2)\n",
        "\n",
        "prediction11= model11.predict(x_test)\n",
        "\n",
        "prediction11=np.argmax(prediction11, axis=1)\n",
        "y_test=np.argmax(y_test, axis=1)\n",
        "\n",
        "print('Recall: %.3f' % recall_score(y_test, prediction11))\n",
        "cm = confusion_matrix(y_test, prediction11)\n",
        "print('The confusion matrix is', cm)\n",
        "print('Accuracy: %.3f' % accuracy_score(y_test, prediction11))\n",
        "print('F1 Score: %.3f' % f1_score(y_test, prediction11))\n",
        "print('Precision: %.3f' % precision_score(y_test, prediction11))"
      ],
      "metadata": {
        "colab": {
          "base_uri": "https://localhost:8080/"
        },
        "id": "EIy0bOHIvPqh",
        "outputId": "ed20a93c-023c-4430-e1ea-cc586945c1ba"
      },
      "execution_count": null,
      "outputs": [
        {
          "output_type": "stream",
          "name": "stdout",
          "text": [
            "Epoch 1/10\n"
          ]
        },
        {
          "output_type": "stream",
          "name": "stderr",
          "text": [
            "/usr/local/lib/python3.8/dist-packages/tensorflow/python/util/dispatch.py:1082: UserWarning: \"`binary_crossentropy` received `from_logits=True`, but the `output` argument was produced by a sigmoid or softmax activation and thus does not represent logits. Was this intended?\"\n",
            "  return dispatch_target(*args, **kwargs)\n"
          ]
        },
        {
          "output_type": "stream",
          "name": "stdout",
          "text": [
            "612/612 [==============================] - 19s 22ms/step - loss: 0.4506 - accuracy: 0.8215\n",
            "Epoch 2/10\n",
            "612/612 [==============================] - 13s 22ms/step - loss: 0.2381 - accuracy: 0.9034\n",
            "Epoch 3/10\n",
            "612/612 [==============================] - 13s 22ms/step - loss: 0.1097 - accuracy: 0.9605\n",
            "Epoch 4/10\n",
            "612/612 [==============================] - 13s 22ms/step - loss: 0.0564 - accuracy: 0.9824\n",
            "Epoch 5/10\n",
            "612/612 [==============================] - 13s 21ms/step - loss: 0.0356 - accuracy: 0.9893\n",
            "Epoch 6/10\n",
            "612/612 [==============================] - 13s 21ms/step - loss: 0.0274 - accuracy: 0.9925\n",
            "Epoch 7/10\n",
            "612/612 [==============================] - 13s 22ms/step - loss: 0.0242 - accuracy: 0.9926\n",
            "Epoch 8/10\n",
            "612/612 [==============================] - 14s 24ms/step - loss: 0.0221 - accuracy: 0.9934\n",
            "Epoch 9/10\n",
            "612/612 [==============================] - 13s 22ms/step - loss: 0.0208 - accuracy: 0.9927\n",
            "Epoch 10/10\n",
            "612/612 [==============================] - 13s 22ms/step - loss: 0.0188 - accuracy: 0.9932\n",
            "204/204 [==============================] - 3s 7ms/step\n",
            "Recall: 0.713\n",
            "The confusion matrix is [[5001  374]\n",
            " [ 329  819]]\n",
            "Accuracy: 0.892\n",
            "F1 Score: 0.700\n",
            "Precision: 0.687\n"
          ]
        }
      ]
    },
    {
      "cell_type": "code",
      "source": [
        "#Model 3: 1 Bi-directional GRU - Bidirectional LSTM, Adam(1e-4), (elu+softmax)\n",
        "\n",
        "VOCAB_SIZE = len(arabert_tokenizer.get_vocab())\n",
        "EMB_DIM = 200\n",
        "\n",
        "from tensorflow.keras import layers\n",
        "model12 = tf.keras.Sequential([\n",
        "    tf.keras.layers.Embedding(VOCAB_SIZE, EMB_DIM),\n",
        "    tf.keras.layers.Bidirectional(layers.GRU(64, return_sequences=True)),\n",
        "    tf.keras.layers.Bidirectional(tf.keras.layers.LSTM(32)),\n",
        "    tf.keras.layers.Dense(EMB_DIM, activation='elu'),\n",
        "    tf.keras.layers.Dropout(0.5),\n",
        "    tf.keras.layers.Dense(2,activation='softmax')\n",
        "])\n",
        "\n",
        "\n",
        "model12.compile(loss=tf.keras.losses.BinaryCrossentropy(from_logits=True),\n",
        "              optimizer=tf.keras.optimizers.Adam(1e-4),\n",
        "              metrics=['accuracy'])\n",
        "\n",
        "model12.fit(x_train, y_train, batch_size=32, epochs=10)\n",
        "\n",
        "# accuracy2= model2.evaluate(x_test, y_test)\n",
        "# # print('test loss is:', loss)\n",
        "# print('test accuracy is: ', accuracy2)\n",
        "\n",
        "prediction12= model12.predict(x_test)\n",
        "\n",
        "prediction12=np.argmax(prediction12, axis=1)\n",
        "y_test=np.argmax(y_test, axis=1)\n",
        "\n",
        "print('Recall: %.3f' % recall_score(y_test, prediction12))\n",
        "cm = confusion_matrix(y_test, prediction12)\n",
        "print('The confusion matrix is', cm)\n",
        "print('Accuracy: %.3f' % accuracy_score(y_test, prediction12))\n",
        "print('F1 Score: %.3f' % f1_score(y_test, prediction12))\n",
        "print('Precision: %.3f' % precision_score(y_test, prediction12))"
      ],
      "metadata": {
        "colab": {
          "base_uri": "https://localhost:8080/"
        },
        "id": "uo4eN4eDx5PA",
        "outputId": "7f3f11e7-80aa-44ba-a5ec-125b278f89d6"
      },
      "execution_count": null,
      "outputs": [
        {
          "output_type": "stream",
          "name": "stdout",
          "text": [
            "Epoch 1/10\n"
          ]
        },
        {
          "output_type": "stream",
          "name": "stderr",
          "text": [
            "/usr/local/lib/python3.8/dist-packages/tensorflow/python/util/dispatch.py:1082: UserWarning: \"`binary_crossentropy` received `from_logits=True`, but the `output` argument was produced by a sigmoid or softmax activation and thus does not represent logits. Was this intended?\"\n",
            "  return dispatch_target(*args, **kwargs)\n"
          ]
        },
        {
          "output_type": "stream",
          "name": "stdout",
          "text": [
            "612/612 [==============================] - 21s 22ms/step - loss: 0.4473 - accuracy: 0.8237\n",
            "Epoch 2/10\n",
            "612/612 [==============================] - 13s 22ms/step - loss: 0.2363 - accuracy: 0.9022\n",
            "Epoch 3/10\n",
            "612/612 [==============================] - 13s 22ms/step - loss: 0.1139 - accuracy: 0.9589\n",
            "Epoch 4/10\n",
            "612/612 [==============================] - 13s 22ms/step - loss: 0.0600 - accuracy: 0.9812\n",
            "Epoch 5/10\n",
            "612/612 [==============================] - 16s 26ms/step - loss: 0.0408 - accuracy: 0.9878\n",
            "Epoch 6/10\n",
            "612/612 [==============================] - 13s 22ms/step - loss: 0.0315 - accuracy: 0.9914\n",
            "Epoch 7/10\n",
            "612/612 [==============================] - 13s 22ms/step - loss: 0.0266 - accuracy: 0.9926\n",
            "Epoch 8/10\n",
            "612/612 [==============================] - 13s 22ms/step - loss: 0.0243 - accuracy: 0.9924\n",
            "Epoch 9/10\n",
            "612/612 [==============================] - 13s 22ms/step - loss: 0.0225 - accuracy: 0.9929\n",
            "Epoch 10/10\n",
            "612/612 [==============================] - 13s 22ms/step - loss: 0.0206 - accuracy: 0.9932\n",
            "204/204 [==============================] - 3s 7ms/step\n",
            "Recall: 0.762\n",
            "The confusion matrix is [[4930  425]\n",
            " [ 278  890]]\n",
            "Accuracy: 0.892\n",
            "F1 Score: 0.717\n",
            "Precision: 0.677\n"
          ]
        }
      ]
    },
    {
      "cell_type": "code",
      "source": [
        "#Model 3: 1 Bi-directional GRU - Bidirectional LSTM, Adam(1e-4), (exponential+softmax)\n",
        "\n",
        "VOCAB_SIZE = len(arabert_tokenizer.get_vocab())\n",
        "EMB_DIM = 200\n",
        "\n",
        "from tensorflow.keras import layers\n",
        "model13 = tf.keras.Sequential([\n",
        "    tf.keras.layers.Embedding(VOCAB_SIZE, EMB_DIM),\n",
        "    tf.keras.layers.Bidirectional(layers.GRU(64, return_sequences=True)),\n",
        "    tf.keras.layers.Bidirectional(tf.keras.layers.LSTM(32)),\n",
        "    tf.keras.layers.Dense(EMB_DIM, activation='exponential'),\n",
        "    tf.keras.layers.Dropout(0.5),\n",
        "    tf.keras.layers.Dense(2,activation='softmax')\n",
        "])\n",
        "\n",
        "\n",
        "model13.compile(loss=tf.keras.losses.BinaryCrossentropy(from_logits=True),\n",
        "              optimizer=tf.keras.optimizers.Adam(1e-4),\n",
        "              metrics=['accuracy'])\n",
        "\n",
        "model13.fit(x_train, y_train, batch_size=32, epochs=10)\n",
        "\n",
        "# accuracy2= model2.evaluate(x_test, y_test)\n",
        "# # print('test loss is:', loss)\n",
        "# print('test accuracy is: ', accuracy2)\n",
        "\n",
        "prediction13= model13.predict(x_test)\n",
        "\n",
        "prediction13=np.argmax(prediction13, axis=1)\n",
        "y_test=np.argmax(y_test, axis=1)\n",
        "\n",
        "print('Recall: %.3f' % recall_score(y_test, prediction13))\n",
        "cm = confusion_matrix(y_test, prediction13)\n",
        "print('The confusion matrix is', cm)\n",
        "print('Accuracy: %.3f' % accuracy_score(y_test, prediction13))\n",
        "print('F1 Score: %.3f' % f1_score(y_test, prediction13))\n",
        "print('Precision: %.3f' % precision_score(y_test, prediction13))"
      ],
      "metadata": {
        "colab": {
          "base_uri": "https://localhost:8080/"
        },
        "id": "R3U6FWEkyq2l",
        "outputId": "5fddbe7a-9112-4a6a-bb37-015990e40ac9"
      },
      "execution_count": null,
      "outputs": [
        {
          "output_type": "stream",
          "name": "stdout",
          "text": [
            "Epoch 1/10\n"
          ]
        },
        {
          "output_type": "stream",
          "name": "stderr",
          "text": [
            "/usr/local/lib/python3.8/dist-packages/tensorflow/python/util/dispatch.py:1082: UserWarning: \"`binary_crossentropy` received `from_logits=True`, but the `output` argument was produced by a sigmoid or softmax activation and thus does not represent logits. Was this intended?\"\n",
            "  return dispatch_target(*args, **kwargs)\n"
          ]
        },
        {
          "output_type": "stream",
          "name": "stdout",
          "text": [
            "612/612 [==============================] - 19s 22ms/step - loss: 0.5989 - accuracy: 0.7743\n",
            "Epoch 2/10\n",
            "612/612 [==============================] - 13s 22ms/step - loss: 0.3191 - accuracy: 0.8786\n",
            "Epoch 3/10\n",
            "612/612 [==============================] - 13s 22ms/step - loss: 0.1507 - accuracy: 0.9511\n",
            "Epoch 4/10\n",
            "612/612 [==============================] - 15s 24ms/step - loss: 0.0863 - accuracy: 0.9744\n",
            "Epoch 5/10\n",
            "612/612 [==============================] - 13s 22ms/step - loss: 0.0539 - accuracy: 0.9845\n",
            "Epoch 6/10\n",
            "612/612 [==============================] - 13s 22ms/step - loss: 0.0424 - accuracy: 0.9880\n",
            "Epoch 7/10\n",
            "612/612 [==============================] - 13s 21ms/step - loss: 0.0324 - accuracy: 0.9913\n",
            "Epoch 8/10\n",
            "612/612 [==============================] - 13s 22ms/step - loss: 0.0288 - accuracy: 0.9920\n",
            "Epoch 9/10\n",
            "612/612 [==============================] - 13s 21ms/step - loss: 0.0282 - accuracy: 0.9922\n",
            "Epoch 10/10\n",
            "612/612 [==============================] - 13s 22ms/step - loss: 0.0238 - accuracy: 0.9924\n",
            "204/204 [==============================] - 3s 7ms/step\n",
            "Recall: 0.699\n",
            "The confusion matrix is [[5076  253]\n",
            " [ 359  835]]\n",
            "Accuracy: 0.906\n",
            "F1 Score: 0.732\n",
            "Precision: 0.767\n"
          ]
        }
      ]
    },
    {
      "cell_type": "markdown",
      "source": [
        "# Learning Rate & Optimizers Tuning on (Relu + Softmax)"
      ],
      "metadata": {
        "id": "8eWMuUu7nrzt"
      }
    },
    {
      "cell_type": "code",
      "source": [
        "#Model 3: 1 Bi-directional GRU - Bidirectional LSTM, 1e-3, Adam\n",
        "\n",
        "VOCAB_SIZE = len(arabert_tokenizer.get_vocab())\n",
        "EMB_DIM = 200\n",
        "\n",
        "from tensorflow.keras import layers\n",
        "model2 = tf.keras.Sequential([\n",
        "    tf.keras.layers.Embedding(VOCAB_SIZE, EMB_DIM),\n",
        "    tf.keras.layers.Bidirectional(layers.GRU(64, return_sequences=True)),\n",
        "    tf.keras.layers.Bidirectional(tf.keras.layers.LSTM(32)),\n",
        "    tf.keras.layers.Dense(EMB_DIM, activation='relu'),\n",
        "    tf.keras.layers.Dropout(0.5),\n",
        "    tf.keras.layers.Dense(2,activation='softmax')\n",
        "])\n",
        "\n",
        "\n",
        "model2.compile(loss=tf.keras.losses.BinaryCrossentropy(from_logits=True),\n",
        "              optimizer=tf.keras.optimizers.Adam(1e-3),\n",
        "              metrics=['accuracy'])\n",
        "\n",
        "model2.fit(x_train, y_train, batch_size=32, epochs=10)\n",
        "\n",
        "# accuracy2= model2.evaluate(x_test, y_test)\n",
        "# # print('test loss is:', loss)\n",
        "# print('test accuracy is: ', accuracy2)\n",
        "\n",
        "predictions2= model2.predict(x_test)\n",
        "\n",
        "predictions2=np.argmax(predictions2, axis=1)\n",
        "y_test=np.argmax(y_test, axis=1)\n",
        "\n",
        "print('Recall: %.3f' % recall_score(y_test, predictions2))\n",
        "cm = confusion_matrix(y_test, predictions2)\n",
        "print('The confusion matrix is', cm)\n",
        "print('Accuracy: %.3f' % accuracy_score(y_test, predictions2))\n",
        "print('F1 Score: %.3f' % f1_score(y_test, predictions2))\n",
        "print('Precision: %.3f' % precision_score(y_test, predictions2))"
      ],
      "metadata": {
        "id": "3PzJq9P_tmFa",
        "colab": {
          "base_uri": "https://localhost:8080/"
        },
        "outputId": "66c9381e-4d49-445d-834c-1726cc475166"
      },
      "execution_count": null,
      "outputs": [
        {
          "output_type": "stream",
          "name": "stdout",
          "text": [
            "Epoch 1/10\n"
          ]
        },
        {
          "output_type": "stream",
          "name": "stderr",
          "text": [
            "/usr/local/lib/python3.8/dist-packages/tensorflow/python/util/dispatch.py:1082: UserWarning: \"`binary_crossentropy` received `from_logits=True`, but the `output` argument was produced by a sigmoid or softmax activation and thus does not represent logits. Was this intended?\"\n",
            "  return dispatch_target(*args, **kwargs)\n"
          ]
        },
        {
          "output_type": "stream",
          "name": "stdout",
          "text": [
            "612/612 [==============================] - 18s 21ms/step - loss: 0.3723 - accuracy: 0.8469\n",
            "Epoch 2/10\n",
            "612/612 [==============================] - 14s 23ms/step - loss: 0.1389 - accuracy: 0.9506\n",
            "Epoch 3/10\n",
            "612/612 [==============================] - 13s 21ms/step - loss: 0.0422 - accuracy: 0.9857\n",
            "Epoch 4/10\n",
            "612/612 [==============================] - 13s 22ms/step - loss: 0.0199 - accuracy: 0.9913\n",
            "Epoch 5/10\n",
            "612/612 [==============================] - 13s 22ms/step - loss: 0.0167 - accuracy: 0.9928\n",
            "Epoch 6/10\n",
            "612/612 [==============================] - 13s 22ms/step - loss: 0.0124 - accuracy: 0.9942\n",
            "Epoch 7/10\n",
            "612/612 [==============================] - 13s 22ms/step - loss: 0.0129 - accuracy: 0.9938\n",
            "Epoch 8/10\n",
            "612/612 [==============================] - 13s 21ms/step - loss: 0.0131 - accuracy: 0.9929\n",
            "Epoch 9/10\n",
            "612/612 [==============================] - 13s 21ms/step - loss: 0.0114 - accuracy: 0.9941\n",
            "Epoch 10/10\n",
            "612/612 [==============================] - 13s 21ms/step - loss: 0.0092 - accuracy: 0.9947\n",
            "204/204 [==============================] - 3s 7ms/step\n",
            "Recall: 0.706\n",
            "The confusion matrix is [[5037  285]\n",
            " [ 353  848]]\n",
            "Accuracy: 0.902\n",
            "F1 Score: 0.727\n",
            "Precision: 0.748\n"
          ]
        }
      ]
    },
    {
      "cell_type": "code",
      "source": [
        "#Model 3: 1 Bi-directional GRU - Bidirectional LSTM, 1e-2, Adam\n",
        "\n",
        "VOCAB_SIZE = len(arabert_tokenizer.get_vocab())\n",
        "EMB_DIM = 200\n",
        "\n",
        "from tensorflow.keras import layers\n",
        "model2 = tf.keras.Sequential([\n",
        "    tf.keras.layers.Embedding(VOCAB_SIZE, EMB_DIM),\n",
        "    tf.keras.layers.Bidirectional(layers.GRU(64, return_sequences=True)),\n",
        "    tf.keras.layers.Bidirectional(tf.keras.layers.LSTM(32)),\n",
        "    tf.keras.layers.Dense(EMB_DIM, activation='relu'),\n",
        "    tf.keras.layers.Dropout(0.5),\n",
        "    tf.keras.layers.Dense(2,activation='softmax')\n",
        "])\n",
        "\n",
        "\n",
        "model2.compile(loss=tf.keras.losses.BinaryCrossentropy(from_logits=True),\n",
        "              optimizer=tf.keras.optimizers.Adam(1e-2),\n",
        "              metrics=['accuracy'])\n",
        "\n",
        "model2.fit(x_train, y_train, batch_size=32, epochs=10)\n",
        "\n",
        "# accuracy2= model2.evaluate(x_test, y_test)\n",
        "# # print('test loss is:', loss)\n",
        "# print('test accuracy is: ', accuracy2)\n",
        "\n",
        "predictions2= model2.predict(x_test)\n",
        "\n",
        "predictions2=np.argmax(predictions2, axis=1)\n",
        "y_test=np.argmax(y_test, axis=1)\n",
        "\n",
        "print('Recall: %.3f' % recall_score(y_test, predictions2))\n",
        "cm = confusion_matrix(y_test, predictions2)\n",
        "print('The confusion matrix is', cm)\n",
        "print('Accuracy: %.3f' % accuracy_score(y_test, predictions2))\n",
        "print('F1 Score: %.3f' % f1_score(y_test, predictions2))\n",
        "print('Precision: %.3f' % precision_score(y_test, predictions2))"
      ],
      "metadata": {
        "colab": {
          "base_uri": "https://localhost:8080/"
        },
        "id": "8ea0IfbJKk7x",
        "outputId": "f0b61694-884c-4d7f-d929-be69e3673dd8"
      },
      "execution_count": null,
      "outputs": [
        {
          "output_type": "stream",
          "name": "stdout",
          "text": [
            "Epoch 1/10\n"
          ]
        },
        {
          "output_type": "stream",
          "name": "stderr",
          "text": [
            "/usr/local/lib/python3.8/dist-packages/tensorflow/python/util/dispatch.py:1082: UserWarning: \"`binary_crossentropy` received `from_logits=True`, but the `output` argument was produced by a sigmoid or softmax activation and thus does not represent logits. Was this intended?\"\n",
            "  return dispatch_target(*args, **kwargs)\n"
          ]
        },
        {
          "output_type": "stream",
          "name": "stdout",
          "text": [
            "612/612 [==============================] - 21s 21ms/step - loss: 0.4115 - accuracy: 0.8274\n",
            "Epoch 2/10\n",
            "612/612 [==============================] - 13s 22ms/step - loss: 0.2689 - accuracy: 0.8949\n",
            "Epoch 3/10\n",
            "612/612 [==============================] - 13s 21ms/step - loss: 0.1866 - accuracy: 0.9317\n",
            "Epoch 4/10\n",
            "612/612 [==============================] - 13s 21ms/step - loss: 0.1398 - accuracy: 0.9487\n",
            "Epoch 5/10\n",
            "612/612 [==============================] - 13s 21ms/step - loss: 0.1167 - accuracy: 0.9593\n",
            "Epoch 6/10\n",
            "612/612 [==============================] - 13s 22ms/step - loss: 0.0998 - accuracy: 0.9645\n",
            "Epoch 7/10\n",
            "612/612 [==============================] - 13s 22ms/step - loss: 0.0912 - accuracy: 0.9697\n",
            "Epoch 8/10\n",
            "612/612 [==============================] - 13s 22ms/step - loss: 0.0796 - accuracy: 0.9719\n",
            "Epoch 9/10\n",
            "612/612 [==============================] - 13s 21ms/step - loss: 0.0723 - accuracy: 0.9757\n",
            "Epoch 10/10\n",
            "612/612 [==============================] - 14s 23ms/step - loss: 0.0635 - accuracy: 0.9775\n",
            "204/204 [==============================] - 3s 7ms/step\n",
            "Recall: 0.640\n",
            "The confusion matrix is [[5022  306]\n",
            " [ 430  765]]\n",
            "Accuracy: 0.887\n",
            "F1 Score: 0.675\n",
            "Precision: 0.714\n"
          ]
        }
      ]
    },
    {
      "cell_type": "code",
      "source": [
        "#Model 3: 1 Bi-directional GRU - Bidirectional LSTM, 1e-1, Adam\n",
        "\n",
        "VOCAB_SIZE = len(arabert_tokenizer.get_vocab())\n",
        "EMB_DIM = 200\n",
        "\n",
        "from tensorflow.keras import layers\n",
        "model2 = tf.keras.Sequential([\n",
        "    tf.keras.layers.Embedding(VOCAB_SIZE, EMB_DIM),\n",
        "    tf.keras.layers.Bidirectional(layers.GRU(64, return_sequences=True)),\n",
        "    tf.keras.layers.Bidirectional(tf.keras.layers.LSTM(32)),\n",
        "    tf.keras.layers.Dense(EMB_DIM, activation='relu'),\n",
        "    tf.keras.layers.Dropout(0.5),\n",
        "    tf.keras.layers.Dense(2,activation='softmax')\n",
        "])\n",
        "\n",
        "\n",
        "model2.compile(loss=tf.keras.losses.BinaryCrossentropy(from_logits=True),\n",
        "              optimizer=tf.keras.optimizers.Adam(1e-1),\n",
        "              metrics=['accuracy'])\n",
        "\n",
        "model2.fit(x_train, y_train, batch_size=32, epochs=10)\n",
        "\n",
        "# accuracy2= model2.evaluate(x_test, y_test)\n",
        "# # print('test loss is:', loss)\n",
        "# print('test accuracy is: ', accuracy2)\n",
        "\n",
        "predictions2= model2.predict(x_test)\n",
        "\n",
        "predictions2=np.argmax(predictions2, axis=1)\n",
        "y_test=np.argmax(y_test, axis=1)\n",
        "\n",
        "print('Recall: %.3f' % recall_score(y_test, predictions2))\n",
        "cm = confusion_matrix(y_test, predictions2)\n",
        "print('The confusion matrix is', cm)\n",
        "print('Accuracy: %.3f' % accuracy_score(y_test, predictions2))\n",
        "print('F1 Score: %.3f' % f1_score(y_test, predictions2))\n",
        "print('Precision: %.3f' % precision_score(y_test, predictions2))"
      ],
      "metadata": {
        "colab": {
          "base_uri": "https://localhost:8080/"
        },
        "id": "8maMdmYQKk-2",
        "outputId": "89977461-ef30-4d53-aeaa-009e8822df82"
      },
      "execution_count": null,
      "outputs": [
        {
          "output_type": "stream",
          "name": "stdout",
          "text": [
            "Epoch 1/10\n"
          ]
        },
        {
          "output_type": "stream",
          "name": "stderr",
          "text": [
            "/usr/local/lib/python3.8/dist-packages/tensorflow/python/util/dispatch.py:1082: UserWarning: \"`binary_crossentropy` received `from_logits=True`, but the `output` argument was produced by a sigmoid or softmax activation and thus does not represent logits. Was this intended?\"\n",
            "  return dispatch_target(*args, **kwargs)\n"
          ]
        },
        {
          "output_type": "stream",
          "name": "stdout",
          "text": [
            "612/612 [==============================] - 18s 21ms/step - loss: 0.4948 - accuracy: 0.8171\n",
            "Epoch 2/10\n",
            "612/612 [==============================] - 13s 22ms/step - loss: 0.4726 - accuracy: 0.8206\n",
            "Epoch 3/10\n",
            "612/612 [==============================] - 13s 21ms/step - loss: 0.4725 - accuracy: 0.8206\n",
            "Epoch 4/10\n",
            "612/612 [==============================] - 13s 22ms/step - loss: 0.4723 - accuracy: 0.8206\n",
            "Epoch 5/10\n",
            "612/612 [==============================] - 13s 22ms/step - loss: 0.4722 - accuracy: 0.8206\n",
            "Epoch 6/10\n",
            "612/612 [==============================] - 13s 21ms/step - loss: 0.4730 - accuracy: 0.8206\n",
            "Epoch 7/10\n",
            "612/612 [==============================] - 13s 22ms/step - loss: 0.4723 - accuracy: 0.8206\n",
            "Epoch 8/10\n",
            "612/612 [==============================] - 15s 24ms/step - loss: 0.4725 - accuracy: 0.8206\n",
            "Epoch 9/10\n",
            "612/612 [==============================] - 16s 25ms/step - loss: 0.4722 - accuracy: 0.8206\n",
            "Epoch 10/10\n",
            "612/612 [==============================] - 19s 31ms/step - loss: 0.4720 - accuracy: 0.8206\n",
            "204/204 [==============================] - 4s 11ms/step\n",
            "Recall: 0.000\n",
            "The confusion matrix is [[5363    0]\n",
            " [1160    0]]\n",
            "Accuracy: 0.822\n",
            "F1 Score: 0.000\n",
            "Precision: 0.000\n"
          ]
        },
        {
          "output_type": "stream",
          "name": "stderr",
          "text": [
            "/usr/local/lib/python3.8/dist-packages/sklearn/metrics/_classification.py:1318: UndefinedMetricWarning: Precision is ill-defined and being set to 0.0 due to no predicted samples. Use `zero_division` parameter to control this behavior.\n",
            "  _warn_prf(average, modifier, msg_start, len(result))\n"
          ]
        }
      ]
    },
    {
      "cell_type": "code",
      "source": [],
      "metadata": {
        "id": "QCRDHRxMKlBb"
      },
      "execution_count": null,
      "outputs": []
    },
    {
      "cell_type": "code",
      "source": [
        "\n",
        "#Model 3: 1 Bi-directional GRU - Bidirectional LSTM, 1e-4, RMSprop\n",
        "\n",
        "VOCAB_SIZE = len(arabert_tokenizer.get_vocab())\n",
        "EMB_DIM = 200\n",
        "\n",
        "from tensorflow.keras import layers\n",
        "model2 = tf.keras.Sequential([\n",
        "    tf.keras.layers.Embedding(VOCAB_SIZE, EMB_DIM),\n",
        "    tf.keras.layers.Bidirectional(layers.GRU(64, return_sequences=True)),\n",
        "    tf.keras.layers.Bidirectional(tf.keras.layers.LSTM(32)),\n",
        "    tf.keras.layers.Dense(EMB_DIM, activation='relu'),\n",
        "    tf.keras.layers.Dropout(0.5),\n",
        "    tf.keras.layers.Dense(2,activation='softmax')\n",
        "])\n",
        "\n",
        "\n",
        "model2.compile(loss=tf.keras.losses.BinaryCrossentropy(from_logits=True),\n",
        "              optimizer=tf.keras.optimizers.RMSprop(1e-4),\n",
        "              metrics=['accuracy'])\n",
        "\n",
        "model2.fit(x_train, y_train, batch_size=32, epochs=10)\n",
        "\n",
        "# accuracy2= model2.evaluate(x_test, y_test)\n",
        "# # print('test loss is:', loss)\n",
        "# print('test accuracy is: ', accuracy2)\n",
        "\n",
        "predictions2= model2.predict(x_test)\n",
        "\n",
        "predictions2=np.argmax(predictions2, axis=1)\n",
        "y_test=np.argmax(y_test, axis=1)\n",
        "\n",
        "print('Recall: %.3f' % recall_score(y_test, predictions2))\n",
        "cm = confusion_matrix(y_test, predictions2)\n",
        "print('The confusion matrix is', cm)\n",
        "print('Accuracy: %.3f' % accuracy_score(y_test, predictions2))\n",
        "print('F1 Score: %.3f' % f1_score(y_test, predictions2))\n",
        "print('Precision: %.3f' % precision_score(y_test, predictions2))"
      ],
      "metadata": {
        "colab": {
          "base_uri": "https://localhost:8080/"
        },
        "id": "juud2KiOKlD1",
        "outputId": "bd596a04-4485-4506-954d-c480770b4c3d"
      },
      "execution_count": null,
      "outputs": [
        {
          "output_type": "stream",
          "name": "stdout",
          "text": [
            "Epoch 1/10\n"
          ]
        },
        {
          "output_type": "stream",
          "name": "stderr",
          "text": [
            "/usr/local/lib/python3.8/dist-packages/tensorflow/python/util/dispatch.py:1082: UserWarning: \"`binary_crossentropy` received `from_logits=True`, but the `output` argument was produced by a sigmoid or softmax activation and thus does not represent logits. Was this intended?\"\n",
            "  return dispatch_target(*args, **kwargs)\n"
          ]
        },
        {
          "output_type": "stream",
          "name": "stdout",
          "text": [
            "612/612 [==============================] - 18s 19ms/step - loss: 0.4771 - accuracy: 0.8208\n",
            "Epoch 2/10\n",
            "612/612 [==============================] - 11s 19ms/step - loss: 0.3992 - accuracy: 0.8289\n",
            "Epoch 3/10\n",
            "612/612 [==============================] - 13s 21ms/step - loss: 0.3384 - accuracy: 0.8592\n",
            "Epoch 4/10\n",
            "612/612 [==============================] - 11s 19ms/step - loss: 0.3096 - accuracy: 0.8742\n",
            "Epoch 5/10\n",
            "612/612 [==============================] - 11s 18ms/step - loss: 0.2844 - accuracy: 0.8873\n",
            "Epoch 6/10\n",
            "612/612 [==============================] - 11s 19ms/step - loss: 0.2620 - accuracy: 0.8980\n",
            "Epoch 7/10\n",
            "612/612 [==============================] - 11s 18ms/step - loss: 0.2406 - accuracy: 0.9078\n",
            "Epoch 8/10\n",
            "612/612 [==============================] - 11s 18ms/step - loss: 0.2183 - accuracy: 0.9181\n",
            "Epoch 9/10\n",
            "612/612 [==============================] - 11s 18ms/step - loss: 0.1953 - accuracy: 0.9272\n",
            "Epoch 10/10\n",
            "612/612 [==============================] - 11s 18ms/step - loss: 0.1757 - accuracy: 0.9346\n",
            "204/204 [==============================] - 3s 7ms/step\n",
            "Recall: 0.602\n",
            "The confusion matrix is [[4974  370]\n",
            " [ 469  710]]\n",
            "Accuracy: 0.871\n",
            "F1 Score: 0.629\n",
            "Precision: 0.657\n"
          ]
        }
      ]
    },
    {
      "cell_type": "code",
      "source": [],
      "metadata": {
        "id": "cUPr1GxnKlGS"
      },
      "execution_count": null,
      "outputs": []
    },
    {
      "cell_type": "code",
      "source": [
        "#Model 3: 1 Bi-directional GRU - Bidirectional LSTM, 1e-3, RMSprop\n",
        "\n",
        "VOCAB_SIZE = len(arabert_tokenizer.get_vocab())\n",
        "EMB_DIM = 200\n",
        "\n",
        "from tensorflow.keras import layers\n",
        "model2 = tf.keras.Sequential([\n",
        "    tf.keras.layers.Embedding(VOCAB_SIZE, EMB_DIM),\n",
        "    tf.keras.layers.Bidirectional(layers.GRU(64, return_sequences=True)),\n",
        "    tf.keras.layers.Bidirectional(tf.keras.layers.LSTM(32)),\n",
        "    tf.keras.layers.Dense(EMB_DIM, activation='relu'),\n",
        "    tf.keras.layers.Dropout(0.5),\n",
        "    tf.keras.layers.Dense(2,activation='softmax')\n",
        "])\n",
        "\n",
        "\n",
        "model2.compile(loss=tf.keras.losses.BinaryCrossentropy(from_logits=True),\n",
        "              optimizer=tf.keras.optimizers.RMSprop(1e-3),\n",
        "              metrics=['accuracy'])\n",
        "\n",
        "model2.fit(x_train, y_train, batch_size=32, epochs=10)\n",
        "\n",
        "# accuracy2= model2.evaluate(x_test, y_test)\n",
        "# # print('test loss is:', loss)\n",
        "# print('test accuracy is: ', accuracy2)\n",
        "\n",
        "predictions2= model2.predict(x_test)\n",
        "\n",
        "predictions2=np.argmax(predictions2, axis=1)\n",
        "y_test=np.argmax(y_test, axis=1)\n",
        "\n",
        "print('Recall: %.3f' % recall_score(y_test, predictions2))\n",
        "cm = confusion_matrix(y_test, predictions2)\n",
        "print('The confusion matrix is', cm)\n",
        "print('Accuracy: %.3f' % accuracy_score(y_test, predictions2))\n",
        "print('F1 Score: %.3f' % f1_score(y_test, predictions2))\n",
        "print('Precision: %.3f' % precision_score(y_test, predictions2))"
      ],
      "metadata": {
        "colab": {
          "base_uri": "https://localhost:8080/"
        },
        "id": "g12N9WtrKlJD",
        "outputId": "15222748-ccc0-464d-8795-0372b4cb9890"
      },
      "execution_count": null,
      "outputs": [
        {
          "output_type": "stream",
          "name": "stdout",
          "text": [
            "Epoch 1/10\n"
          ]
        },
        {
          "output_type": "stream",
          "name": "stderr",
          "text": [
            "/usr/local/lib/python3.8/dist-packages/tensorflow/python/util/dispatch.py:1082: UserWarning: \"`binary_crossentropy` received `from_logits=True`, but the `output` argument was produced by a sigmoid or softmax activation and thus does not represent logits. Was this intended?\"\n",
            "  return dispatch_target(*args, **kwargs)\n"
          ]
        },
        {
          "output_type": "stream",
          "name": "stdout",
          "text": [
            "612/612 [==============================] - 17s 19ms/step - loss: 0.3978 - accuracy: 0.8333\n",
            "Epoch 2/10\n",
            "612/612 [==============================] - 11s 18ms/step - loss: 0.2439 - accuracy: 0.9058\n",
            "Epoch 3/10\n",
            "612/612 [==============================] - 12s 20ms/step - loss: 0.1566 - accuracy: 0.9440\n",
            "Epoch 4/10\n",
            "612/612 [==============================] - 12s 19ms/step - loss: 0.1114 - accuracy: 0.9602\n",
            "Epoch 5/10\n",
            "612/612 [==============================] - 11s 19ms/step - loss: 0.0847 - accuracy: 0.9711\n",
            "Epoch 6/10\n",
            "612/612 [==============================] - 11s 18ms/step - loss: 0.0653 - accuracy: 0.9786\n",
            "Epoch 7/10\n",
            "612/612 [==============================] - 11s 19ms/step - loss: 0.0506 - accuracy: 0.9839\n",
            "Epoch 8/10\n",
            "612/612 [==============================] - 11s 19ms/step - loss: 0.0427 - accuracy: 0.9873\n",
            "Epoch 9/10\n",
            "612/612 [==============================] - 11s 19ms/step - loss: 0.0340 - accuracy: 0.9891\n",
            "Epoch 10/10\n",
            "612/612 [==============================] - 11s 18ms/step - loss: 0.0300 - accuracy: 0.9907\n",
            "204/204 [==============================] - 3s 7ms/step\n",
            "Recall: 0.635\n",
            "The confusion matrix is [[5112  247]\n",
            " [ 425  739]]\n",
            "Accuracy: 0.897\n",
            "F1 Score: 0.687\n",
            "Precision: 0.749\n"
          ]
        }
      ]
    },
    {
      "cell_type": "code",
      "source": [
        "#Model 3: 1 Bi-directional GRU - Bidirectional LSTM, 1e-2, RMSprop\n",
        "\n",
        "VOCAB_SIZE = len(arabert_tokenizer.get_vocab())\n",
        "EMB_DIM = 200\n",
        "\n",
        "from tensorflow.keras import layers\n",
        "model2 = tf.keras.Sequential([\n",
        "    tf.keras.layers.Embedding(VOCAB_SIZE, EMB_DIM),\n",
        "    tf.keras.layers.Bidirectional(layers.GRU(64, return_sequences=True)),\n",
        "    tf.keras.layers.Bidirectional(tf.keras.layers.LSTM(32)),\n",
        "    tf.keras.layers.Dense(EMB_DIM, activation='relu'),\n",
        "    tf.keras.layers.Dropout(0.5),\n",
        "    tf.keras.layers.Dense(2,activation='softmax')\n",
        "])\n",
        "\n",
        "\n",
        "model2.compile(loss=tf.keras.losses.BinaryCrossentropy(from_logits=True),\n",
        "              optimizer=tf.keras.optimizers.RMSprop(1e-2),\n",
        "              metrics=['accuracy'])\n",
        "\n",
        "model2.fit(x_train, y_train, batch_size=32, epochs=10)\n",
        "\n",
        "# accuracy2= model2.evaluate(x_test, y_test)\n",
        "# # print('test loss is:', loss)\n",
        "# print('test accuracy is: ', accuracy2)\n",
        "\n",
        "predictions2= model2.predict(x_test)\n",
        "\n",
        "predictions2=np.argmax(predictions2, axis=1)\n",
        "y_test=np.argmax(y_test, axis=1)\n",
        "\n",
        "print('Recall: %.3f' % recall_score(y_test, predictions2))\n",
        "cm = confusion_matrix(y_test, predictions2)\n",
        "print('The confusion matrix is', cm)\n",
        "print('Accuracy: %.3f' % accuracy_score(y_test, predictions2))\n",
        "print('F1 Score: %.3f' % f1_score(y_test, predictions2))\n",
        "print('Precision: %.3f' % precision_score(y_test, predictions2))"
      ],
      "metadata": {
        "colab": {
          "base_uri": "https://localhost:8080/"
        },
        "id": "WhPk8MwlKlOQ",
        "outputId": "86735b89-33a8-4ea1-9da9-bf83c11562df"
      },
      "execution_count": null,
      "outputs": [
        {
          "output_type": "stream",
          "name": "stdout",
          "text": [
            "Epoch 1/10\n"
          ]
        },
        {
          "output_type": "stream",
          "name": "stderr",
          "text": [
            "/usr/local/lib/python3.8/dist-packages/tensorflow/python/util/dispatch.py:1082: UserWarning: \"`binary_crossentropy` received `from_logits=True`, but the `output` argument was produced by a sigmoid or softmax activation and thus does not represent logits. Was this intended?\"\n",
            "  return dispatch_target(*args, **kwargs)\n"
          ]
        },
        {
          "output_type": "stream",
          "name": "stdout",
          "text": [
            "612/612 [==============================] - 18s 19ms/step - loss: 0.3973 - accuracy: 0.8422\n",
            "Epoch 2/10\n",
            "612/612 [==============================] - 11s 19ms/step - loss: 0.2084 - accuracy: 0.9290\n",
            "Epoch 3/10\n",
            "612/612 [==============================] - 13s 21ms/step - loss: 0.1352 - accuracy: 0.9595\n",
            "Epoch 4/10\n",
            "612/612 [==============================] - 11s 18ms/step - loss: 0.0967 - accuracy: 0.9727\n",
            "Epoch 5/10\n",
            "612/612 [==============================] - 11s 18ms/step - loss: 0.0794 - accuracy: 0.9803\n",
            "Epoch 6/10\n",
            "612/612 [==============================] - 11s 18ms/step - loss: 0.0669 - accuracy: 0.9837\n",
            "Epoch 7/10\n",
            "612/612 [==============================] - 11s 18ms/step - loss: 0.0636 - accuracy: 0.9855\n",
            "Epoch 8/10\n",
            "612/612 [==============================] - 11s 18ms/step - loss: 0.0533 - accuracy: 0.9866\n",
            "Epoch 9/10\n",
            "612/612 [==============================] - 11s 18ms/step - loss: 0.0465 - accuracy: 0.9891\n",
            "Epoch 10/10\n",
            "612/612 [==============================] - 11s 18ms/step - loss: 0.0515 - accuracy: 0.9892\n",
            "204/204 [==============================] - 3s 7ms/step\n",
            "Recall: 0.720\n",
            "The confusion matrix is [[4899  437]\n",
            " [ 332  855]]\n",
            "Accuracy: 0.882\n",
            "F1 Score: 0.690\n",
            "Precision: 0.662\n"
          ]
        }
      ]
    },
    {
      "cell_type": "code",
      "source": [
        "#Model 3: 1 Bi-directional GRU - Bidirectional LSTM, 1e-1, RMSprop\n",
        "\n",
        "VOCAB_SIZE = len(arabert_tokenizer.get_vocab())\n",
        "EMB_DIM = 200\n",
        "\n",
        "from tensorflow.keras import layers\n",
        "model2 = tf.keras.Sequential([\n",
        "    tf.keras.layers.Embedding(VOCAB_SIZE, EMB_DIM),\n",
        "    tf.keras.layers.Bidirectional(layers.GRU(64, return_sequences=True)),\n",
        "    tf.keras.layers.Bidirectional(tf.keras.layers.LSTM(32)),\n",
        "    tf.keras.layers.Dense(EMB_DIM, activation='relu'),\n",
        "    tf.keras.layers.Dropout(0.5),\n",
        "    tf.keras.layers.Dense(2,activation='softmax')\n",
        "])\n",
        "\n",
        "\n",
        "model2.compile(loss=tf.keras.losses.BinaryCrossentropy(from_logits=True),\n",
        "              optimizer=tf.keras.optimizers.RMSprop(1e-1),\n",
        "              metrics=['accuracy'])\n",
        "\n",
        "model2.fit(x_train, y_train, batch_size=32, epochs=10)\n",
        "\n",
        "# accuracy2= model2.evaluate(x_test, y_test)\n",
        "# # print('test loss is:', loss)\n",
        "# print('test accuracy is: ', accuracy2)\n",
        "\n",
        "predictions2= model2.predict(x_test)\n",
        "\n",
        "predictions2=np.argmax(predictions2, axis=1)\n",
        "y_test=np.argmax(y_test, axis=1)\n",
        "\n",
        "print('Recall: %.3f' % recall_score(y_test, predictions2))\n",
        "cm = confusion_matrix(y_test, predictions2)\n",
        "print('The confusion matrix is', cm)\n",
        "print('Accuracy: %.3f' % accuracy_score(y_test, predictions2))\n",
        "print('F1 Score: %.3f' % f1_score(y_test, predictions2))\n",
        "print('Precision: %.3f' % precision_score(y_test, predictions2))"
      ],
      "metadata": {
        "colab": {
          "base_uri": "https://localhost:8080/"
        },
        "outputId": "553c087b-990b-4434-f973-640c41976e50",
        "id": "OQyHQpOppopK"
      },
      "execution_count": null,
      "outputs": [
        {
          "output_type": "stream",
          "name": "stdout",
          "text": [
            "Epoch 1/10\n"
          ]
        },
        {
          "output_type": "stream",
          "name": "stderr",
          "text": [
            "/usr/local/lib/python3.8/dist-packages/tensorflow/python/util/dispatch.py:1082: UserWarning: \"`binary_crossentropy` received `from_logits=True`, but the `output` argument was produced by a sigmoid or softmax activation and thus does not represent logits. Was this intended?\"\n",
            "  return dispatch_target(*args, **kwargs)\n"
          ]
        },
        {
          "output_type": "stream",
          "name": "stdout",
          "text": [
            "612/612 [==============================] - 17s 18ms/step - loss: 0.8676 - accuracy: 0.7958\n",
            "Epoch 2/10\n",
            "612/612 [==============================] - 11s 18ms/step - loss: 0.5522 - accuracy: 0.8179\n",
            "Epoch 3/10\n",
            "612/612 [==============================] - 12s 20ms/step - loss: 0.5713 - accuracy: 0.8183\n",
            "Epoch 4/10\n",
            "612/612 [==============================] - 11s 18ms/step - loss: 0.5734 - accuracy: 0.8158\n",
            "Epoch 5/10\n",
            "612/612 [==============================] - 11s 18ms/step - loss: 0.5593 - accuracy: 0.8185\n",
            "Epoch 6/10\n",
            "612/612 [==============================] - 11s 19ms/step - loss: 0.5661 - accuracy: 0.8190\n",
            "Epoch 7/10\n",
            "612/612 [==============================] - 11s 18ms/step - loss: 0.5612 - accuracy: 0.8182\n",
            "Epoch 8/10\n",
            "612/612 [==============================] - 11s 18ms/step - loss: 0.5643 - accuracy: 0.8184\n",
            "Epoch 9/10\n",
            "612/612 [==============================] - 11s 18ms/step - loss: 0.5541 - accuracy: 0.8193\n",
            "Epoch 10/10\n",
            "612/612 [==============================] - 11s 18ms/step - loss: 0.5609 - accuracy: 0.8199\n",
            "204/204 [==============================] - 3s 7ms/step\n",
            "Recall: 0.000\n",
            "The confusion matrix is [[5339    7]\n",
            " [1177    0]]\n",
            "Accuracy: 0.818\n",
            "F1 Score: 0.000\n",
            "Precision: 0.000\n"
          ]
        }
      ]
    },
    {
      "cell_type": "code",
      "source": [
        "#Model 3: 1 Bi-directional GRU - Bidirectional LSTM, 1e-1, RMSprop\n",
        "\n",
        "VOCAB_SIZE = len(arabert_tokenizer.get_vocab())\n",
        "EMB_DIM = 200\n",
        "\n",
        "from tensorflow.keras import layers\n",
        "model2 = tf.keras.Sequential([\n",
        "    tf.keras.layers.Embedding(VOCAB_SIZE, EMB_DIM),\n",
        "    tf.keras.layers.Bidirectional(layers.GRU(64, return_sequences=True)),\n",
        "    tf.keras.layers.Bidirectional(tf.keras.layers.LSTM(32)),\n",
        "    tf.keras.layers.Dense(EMB_DIM, activation='relu'),\n",
        "    tf.keras.layers.Dropout(0.5),\n",
        "    tf.keras.layers.Dense(2,activation='softmax')\n",
        "])\n",
        "\n",
        "\n",
        "model2.compile(loss=tf.keras.losses.BinaryCrossentropy(from_logits=True),\n",
        "              optimizer=tf.keras.optimizers.RMSprop(1e-1),\n",
        "              metrics=['accuracy'])\n",
        "\n",
        "model2.fit(x_train, y_train, batch_size=32, epochs=10)\n",
        "\n",
        "# accuracy2= model2.evaluate(x_test, y_test)\n",
        "# # print('test loss is:', loss)\n",
        "# print('test accuracy is: ', accuracy2)\n",
        "\n",
        "predictions2= model2.predict(x_test)\n",
        "\n",
        "predictions2=np.argmax(predictions2, axis=1)\n",
        "y_test=np.argmax(y_test, axis=1)\n",
        "\n",
        "print('Recall: %.3f' % recall_score(y_test, predictions2))\n",
        "cm = confusion_matrix(y_test, predictions2)\n",
        "print('The confusion matrix is', cm)\n",
        "print('Accuracy: %.3f' % accuracy_score(y_test, predictions2))\n",
        "print('F1 Score: %.3f' % f1_score(y_test, predictions2))\n",
        "print('Precision: %.3f' % precision_score(y_test, predictions2))"
      ],
      "metadata": {
        "colab": {
          "base_uri": "https://localhost:8080/"
        },
        "id": "EDvuYlaYNr8E",
        "outputId": "553c087b-990b-4434-f973-640c41976e50"
      },
      "execution_count": null,
      "outputs": [
        {
          "output_type": "stream",
          "name": "stdout",
          "text": [
            "Epoch 1/10\n"
          ]
        },
        {
          "output_type": "stream",
          "name": "stderr",
          "text": [
            "/usr/local/lib/python3.8/dist-packages/tensorflow/python/util/dispatch.py:1082: UserWarning: \"`binary_crossentropy` received `from_logits=True`, but the `output` argument was produced by a sigmoid or softmax activation and thus does not represent logits. Was this intended?\"\n",
            "  return dispatch_target(*args, **kwargs)\n"
          ]
        },
        {
          "output_type": "stream",
          "name": "stdout",
          "text": [
            "612/612 [==============================] - 17s 18ms/step - loss: 0.8676 - accuracy: 0.7958\n",
            "Epoch 2/10\n",
            "612/612 [==============================] - 11s 18ms/step - loss: 0.5522 - accuracy: 0.8179\n",
            "Epoch 3/10\n",
            "612/612 [==============================] - 12s 20ms/step - loss: 0.5713 - accuracy: 0.8183\n",
            "Epoch 4/10\n",
            "612/612 [==============================] - 11s 18ms/step - loss: 0.5734 - accuracy: 0.8158\n",
            "Epoch 5/10\n",
            "612/612 [==============================] - 11s 18ms/step - loss: 0.5593 - accuracy: 0.8185\n",
            "Epoch 6/10\n",
            "612/612 [==============================] - 11s 19ms/step - loss: 0.5661 - accuracy: 0.8190\n",
            "Epoch 7/10\n",
            "612/612 [==============================] - 11s 18ms/step - loss: 0.5612 - accuracy: 0.8182\n",
            "Epoch 8/10\n",
            "612/612 [==============================] - 11s 18ms/step - loss: 0.5643 - accuracy: 0.8184\n",
            "Epoch 9/10\n",
            "612/612 [==============================] - 11s 18ms/step - loss: 0.5541 - accuracy: 0.8193\n",
            "Epoch 10/10\n",
            "612/612 [==============================] - 11s 18ms/step - loss: 0.5609 - accuracy: 0.8199\n",
            "204/204 [==============================] - 3s 7ms/step\n",
            "Recall: 0.000\n",
            "The confusion matrix is [[5339    7]\n",
            " [1177    0]]\n",
            "Accuracy: 0.818\n",
            "F1 Score: 0.000\n",
            "Precision: 0.000\n"
          ]
        }
      ]
    },
    {
      "cell_type": "code",
      "source": [
        "#Bi-directional GRU - Bidirectional LSTM, Nadam(1e-4), (Relu+softmax)\n",
        "\n",
        "VOCAB_SIZE = len(arabert_tokenizer.get_vocab())\n",
        "EMB_DIM = 200\n",
        "\n",
        "from tensorflow.keras import layers\n",
        "model16 = tf.keras.Sequential([\n",
        "    tf.keras.layers.Embedding(VOCAB_SIZE, EMB_DIM),\n",
        "    tf.keras.layers.Bidirectional(layers.GRU(64, return_sequences=True)),\n",
        "    tf.keras.layers.Bidirectional(tf.keras.layers.LSTM(32)),\n",
        "    tf.keras.layers.Dense(EMB_DIM, activation='relu'),\n",
        "    tf.keras.layers.Dropout(0.5),\n",
        "    tf.keras.layers.Dense(2,activation='softmax')\n",
        "])\n",
        "\n",
        "\n",
        "model16.compile(loss=tf.keras.losses.BinaryCrossentropy(from_logits=True),\n",
        "              optimizer=tf.keras.optimizers.Nadam(1e-4),\n",
        "              metrics=['accuracy'])\n",
        "\n",
        "model16.fit(x_train, y_train, batch_size=32, epochs=10)\n",
        "\n",
        "accuracy16= model16.evaluate(x_test, y_test)\n",
        "# print('test loss is:', loss)\n",
        "print('test accuracy is: ', accuracy16)\n",
        "\n",
        "predictions16= model16.predict(x_test)\n",
        "\n",
        "predictions16=np.argmax(predictions16, axis=1)\n",
        "y_test=np.argmax(y_test, axis=1)\n",
        "\n",
        "print('Recall: %.3f' % recall_score(y_test, predictions16))\n",
        "cm = confusion_matrix(y_test, predictions16)\n",
        "print('The confusion matrix is', cm)\n",
        "print('Accuracy: %.3f' % accuracy_score(y_test, predictions16))\n",
        "print('F1 Score: %.3f' % f1_score(y_test, predictions16))\n",
        "print('Precision: %.3f' % precision_score(y_test, predictions16))"
      ],
      "metadata": {
        "colab": {
          "base_uri": "https://localhost:8080/"
        },
        "id": "Ml11lUOowjgL",
        "outputId": "36cd9cbc-a78e-48ad-ed08-69c988b40064"
      },
      "execution_count": null,
      "outputs": [
        {
          "output_type": "stream",
          "name": "stdout",
          "text": [
            "Epoch 1/10\n",
            "612/612 [==============================] - 185s 268ms/step - loss: 0.4677 - accuracy: 0.8199\n",
            "Epoch 2/10\n",
            "612/612 [==============================] - 134s 220ms/step - loss: 0.2860 - accuracy: 0.8813\n",
            "Epoch 3/10\n",
            "612/612 [==============================] - 127s 207ms/step - loss: 0.1620 - accuracy: 0.9426\n",
            "Epoch 4/10\n",
            "612/612 [==============================] - 128s 209ms/step - loss: 0.1000 - accuracy: 0.9677\n",
            "Epoch 5/10\n",
            "612/612 [==============================] - 129s 211ms/step - loss: 0.0648 - accuracy: 0.9802\n",
            "Epoch 6/10\n",
            "612/612 [==============================] - 132s 216ms/step - loss: 0.0461 - accuracy: 0.9866\n",
            "Epoch 7/10\n",
            "612/612 [==============================] - 131s 213ms/step - loss: 0.0341 - accuracy: 0.9900\n",
            "Epoch 8/10\n",
            "612/612 [==============================] - 128s 209ms/step - loss: 0.0305 - accuracy: 0.9909\n",
            "Epoch 9/10\n",
            "612/612 [==============================] - 130s 213ms/step - loss: 0.0254 - accuracy: 0.9919\n",
            "Epoch 10/10\n",
            "612/612 [==============================] - 130s 213ms/step - loss: 0.0245 - accuracy: 0.9921\n",
            "204/204 [==============================] - 8s 31ms/step - loss: 0.4810 - accuracy: 0.9065\n",
            "test accuracy is:  [0.4810311496257782, 0.9064847230911255]\n",
            "204/204 [==============================] - 8s 30ms/step\n",
            "Recall: 0.690\n",
            "The confusion matrix is [[5108  248]\n",
            " [ 362  805]]\n",
            "Accuracy: 0.906\n",
            "F1 Score: 0.725\n",
            "Precision: 0.764\n"
          ]
        }
      ]
    },
    {
      "cell_type": "code",
      "source": [
        "# #shuffle the data\n",
        "\n",
        "indices = np.arange(data.shape[0])\n",
        "np.random.shuffle(indices)\n",
        "data = data[indices]\n",
        "labels = labels[indices]\n",
        "\n",
        "# split the data into training, testing\n",
        "\n",
        "nb_validation_samples = int(0.25* data.shape[0])\n",
        "x_train = data[:-nb_validation_samples]\n",
        "y_train = labels[:-nb_validation_samples]\n",
        "x_test = data[-nb_validation_samples:]\n",
        "y_test = labels[-nb_validation_samples:]"
      ],
      "metadata": {
        "id": "M6czdMkmxB34"
      },
      "execution_count": null,
      "outputs": []
    },
    {
      "cell_type": "code",
      "source": [
        "#Bi-directional GRU - Bidirectional LSTM, Adagrad(1e-4), (Relu+softmax)\n",
        "\n",
        "VOCAB_SIZE = len(arabert_tokenizer.get_vocab())\n",
        "EMB_DIM = 200\n",
        "\n",
        "from tensorflow.keras import layers\n",
        "model17 = tf.keras.Sequential([\n",
        "    tf.keras.layers.Embedding(VOCAB_SIZE, EMB_DIM),\n",
        "    tf.keras.layers.Bidirectional(layers.GRU(64, return_sequences=True)),\n",
        "    tf.keras.layers.Bidirectional(tf.keras.layers.LSTM(32)),\n",
        "    tf.keras.layers.Dense(EMB_DIM, activation='relu'),\n",
        "    tf.keras.layers.Dropout(0.5),\n",
        "    tf.keras.layers.Dense(2,activation='softmax')\n",
        "])\n",
        "\n",
        "\n",
        "model17.compile(loss=tf.keras.losses.BinaryCrossentropy(from_logits=True),\n",
        "              optimizer=tf.keras.optimizers.Adagrad(1e-4),\n",
        "              metrics=['accuracy'])\n",
        "\n",
        "model17.fit(x_train, y_train, batch_size=32, epochs=10)\n",
        "\n",
        "accuracy17= model17.evaluate(x_test, y_test)\n",
        "# print('test loss is:', loss)\n",
        "print('test accuracy is: ', accuracy17)\n",
        "\n",
        "predictions17= model17.predict(x_test)\n",
        "\n",
        "predictions17=np.argmax(predictions17, axis=1)\n",
        "y_test=np.argmax(y_test, axis=1)\n",
        "\n",
        "print('Recall: %.3f' % recall_score(y_test, predictions17))\n",
        "cm = confusion_matrix(y_test, predictions17)\n",
        "print('The confusion matrix is', cm)\n",
        "print('Accuracy: %.3f' % accuracy_score(y_test, predictions17))\n",
        "print('F1 Score: %.3f' % f1_score(y_test, predictions17))\n",
        "print('Precision: %.3f' % precision_score(y_test, predictions17))"
      ],
      "metadata": {
        "colab": {
          "base_uri": "https://localhost:8080/"
        },
        "id": "8GHyAWFSwwmk",
        "outputId": "476b1502-23dc-4b28-815f-3a9f1ab0cbe9"
      },
      "execution_count": 17,
      "outputs": [
        {
          "output_type": "stream",
          "name": "stdout",
          "text": [
            "Epoch 1/10\n"
          ]
        },
        {
          "output_type": "stream",
          "name": "stderr",
          "text": [
            "/usr/local/lib/python3.8/dist-packages/tensorflow/python/util/dispatch.py:1082: UserWarning: \"`binary_crossentropy` received `from_logits=True`, but the `output` argument was produced by a sigmoid or softmax activation and thus does not represent logits. Was this intended?\"\n",
            "  return dispatch_target(*args, **kwargs)\n"
          ]
        },
        {
          "output_type": "stream",
          "name": "stdout",
          "text": [
            "612/612 [==============================] - 19s 15ms/step - loss: 0.6852 - accuracy: 0.7885\n",
            "Epoch 2/10\n",
            "612/612 [==============================] - 9s 15ms/step - loss: 0.6744 - accuracy: 0.8216\n",
            "Epoch 3/10\n",
            "612/612 [==============================] - 10s 16ms/step - loss: 0.6651 - accuracy: 0.8216\n",
            "Epoch 4/10\n",
            "612/612 [==============================] - 11s 18ms/step - loss: 0.6565 - accuracy: 0.8216\n",
            "Epoch 5/10\n",
            "612/612 [==============================] - 9s 15ms/step - loss: 0.6482 - accuracy: 0.8216\n",
            "Epoch 6/10\n",
            "612/612 [==============================] - 9s 15ms/step - loss: 0.6400 - accuracy: 0.8216\n",
            "Epoch 7/10\n",
            "612/612 [==============================] - 9s 15ms/step - loss: 0.6314 - accuracy: 0.8216\n",
            "Epoch 8/10\n",
            "612/612 [==============================] - 9s 15ms/step - loss: 0.6222 - accuracy: 0.8216\n",
            "Epoch 9/10\n",
            "612/612 [==============================] - 9s 15ms/step - loss: 0.6131 - accuracy: 0.8216\n",
            "Epoch 10/10\n",
            "612/612 [==============================] - 9s 15ms/step - loss: 0.6033 - accuracy: 0.8216\n",
            "204/204 [==============================] - 3s 8ms/step - loss: 0.5989 - accuracy: 0.8191\n",
            "test accuracy is:  [0.5988819599151611, 0.8191016316413879]\n",
            "204/204 [==============================] - 3s 7ms/step\n",
            "Recall: 0.000\n",
            "The confusion matrix is [[5343    0]\n",
            " [1180    0]]\n",
            "Accuracy: 0.819\n",
            "F1 Score: 0.000\n",
            "Precision: 0.000\n"
          ]
        },
        {
          "output_type": "stream",
          "name": "stderr",
          "text": [
            "/usr/local/lib/python3.8/dist-packages/sklearn/metrics/_classification.py:1318: UndefinedMetricWarning: Precision is ill-defined and being set to 0.0 due to no predicted samples. Use `zero_division` parameter to control this behavior.\n",
            "  _warn_prf(average, modifier, msg_start, len(result))\n"
          ]
        }
      ]
    },
    {
      "cell_type": "code",
      "source": [
        "# #shuffle the data\n",
        "\n",
        "indices = np.arange(data.shape[0])\n",
        "np.random.shuffle(indices)\n",
        "data = data[indices]\n",
        "labels = labels[indices]\n",
        "\n",
        "# split the data into training, testing\n",
        "\n",
        "nb_validation_samples = int(0.25* data.shape[0])\n",
        "x_train = data[:-nb_validation_samples]\n",
        "y_train = labels[:-nb_validation_samples]\n",
        "x_test = data[-nb_validation_samples:]\n",
        "y_test = labels[-nb_validation_samples:]"
      ],
      "metadata": {
        "id": "WfO0X5XBxC-t"
      },
      "execution_count": 18,
      "outputs": []
    },
    {
      "cell_type": "code",
      "source": [
        "#Bi-directional GRU - Bidirectional LSTM, Adadelta(1e-4), (Relu+softmax)\n",
        "\n",
        "VOCAB_SIZE = len(arabert_tokenizer.get_vocab())\n",
        "EMB_DIM = 200\n",
        "\n",
        "from tensorflow.keras import layers\n",
        "model18 = tf.keras.Sequential([\n",
        "    tf.keras.layers.Embedding(VOCAB_SIZE, EMB_DIM),\n",
        "    tf.keras.layers.Bidirectional(layers.GRU(64, return_sequences=True)),\n",
        "    tf.keras.layers.Bidirectional(tf.keras.layers.LSTM(32)),\n",
        "    tf.keras.layers.Dense(EMB_DIM, activation='relu'),\n",
        "    tf.keras.layers.Dropout(0.5),\n",
        "    tf.keras.layers.Dense(2,activation='softmax')\n",
        "])\n",
        "\n",
        "\n",
        "model18.compile(loss=tf.keras.losses.BinaryCrossentropy(from_logits=True),\n",
        "              optimizer=tf.keras.optimizers.Adadelta(1e-4),\n",
        "              metrics=['accuracy'])\n",
        "\n",
        "model18.fit(x_train, y_train, batch_size=32, epochs=10)\n",
        "\n",
        "accuracy18= model18.evaluate(x_test, y_test)\n",
        "# print('test loss is:', loss)\n",
        "print('test accuracy is: ', accuracy18)\n",
        "\n",
        "predictions18= model18.predict(x_test)\n",
        "\n",
        "predictions18=np.argmax(predictions18, axis=1)\n",
        "y_test=np.argmax(y_test, axis=1)\n",
        "\n",
        "print('Recall: %.3f' % recall_score(y_test, predictions18))\n",
        "cm = confusion_matrix(y_test, predictions18)\n",
        "print('The confusion matrix is', cm)\n",
        "print('Accuracy: %.3f' % accuracy_score(y_test, predictions18))\n",
        "print('F1 Score: %.3f' % f1_score(y_test, predictions18))\n",
        "print('Precision: %.3f' % precision_score(y_test, predictions18))"
      ],
      "metadata": {
        "id": "N1Yk8cPHxERT",
        "colab": {
          "base_uri": "https://localhost:8080/"
        },
        "outputId": "862a6bf3-82e9-415b-d02b-0912d6617d67"
      },
      "execution_count": 20,
      "outputs": [
        {
          "output_type": "stream",
          "name": "stdout",
          "text": [
            "Epoch 1/10\n",
            "612/612 [==============================] - 15s 15ms/step - loss: 0.6906 - accuracy: 0.6620\n",
            "Epoch 2/10\n",
            "612/612 [==============================] - 9s 15ms/step - loss: 0.6896 - accuracy: 0.7135\n",
            "Epoch 3/10\n",
            "612/612 [==============================] - 9s 15ms/step - loss: 0.6885 - accuracy: 0.7513\n",
            "Epoch 4/10\n",
            "612/612 [==============================] - 10s 16ms/step - loss: 0.6875 - accuracy: 0.7813\n",
            "Epoch 5/10\n",
            "612/612 [==============================] - 10s 16ms/step - loss: 0.6863 - accuracy: 0.7990\n",
            "Epoch 6/10\n",
            "612/612 [==============================] - 11s 18ms/step - loss: 0.6853 - accuracy: 0.8095\n",
            "Epoch 7/10\n",
            "612/612 [==============================] - 10s 16ms/step - loss: 0.6841 - accuracy: 0.8149\n",
            "Epoch 8/10\n",
            "612/612 [==============================] - 10s 16ms/step - loss: 0.6829 - accuracy: 0.8198\n",
            "Epoch 9/10\n",
            "612/612 [==============================] - 9s 15ms/step - loss: 0.6817 - accuracy: 0.8213\n",
            "Epoch 10/10\n",
            "612/612 [==============================] - 10s 16ms/step - loss: 0.6805 - accuracy: 0.8227\n",
            "204/204 [==============================] - 3s 8ms/step - loss: 0.6802 - accuracy: 0.8140\n",
            "test accuracy is:  [0.6802435517311096, 0.8140426278114319]\n",
            "204/204 [==============================] - 3s 7ms/step\n",
            "Recall: 0.000\n",
            "The confusion matrix is [[5310    0]\n",
            " [1213    0]]\n",
            "Accuracy: 0.814\n",
            "F1 Score: 0.000\n",
            "Precision: 0.000\n"
          ]
        },
        {
          "output_type": "stream",
          "name": "stderr",
          "text": [
            "/usr/local/lib/python3.8/dist-packages/sklearn/metrics/_classification.py:1318: UndefinedMetricWarning: Precision is ill-defined and being set to 0.0 due to no predicted samples. Use `zero_division` parameter to control this behavior.\n",
            "  _warn_prf(average, modifier, msg_start, len(result))\n"
          ]
        }
      ]
    },
    {
      "cell_type": "code",
      "source": [
        "# #shuffle the data\n",
        "\n",
        "indices = np.arange(data.shape[0])\n",
        "np.random.shuffle(indices)\n",
        "data = data[indices]\n",
        "labels = labels[indices]\n",
        "\n",
        "# split the data into training, testing\n",
        "\n",
        "nb_validation_samples = int(0.25* data.shape[0])\n",
        "x_train = data[:-nb_validation_samples]\n",
        "y_train = labels[:-nb_validation_samples]\n",
        "x_test = data[-nb_validation_samples:]\n",
        "y_test = labels[-nb_validation_samples:]"
      ],
      "metadata": {
        "id": "kED9Xcnc3a7Z"
      },
      "execution_count": 21,
      "outputs": []
    },
    {
      "cell_type": "code",
      "source": [
        "#Bi-directional GRU - Bidirectional LSTM, adamax(1e-4), (Relu+softmax)\n",
        "\n",
        "VOCAB_SIZE = len(arabert_tokenizer.get_vocab())\n",
        "EMB_DIM = 200\n",
        "\n",
        "from tensorflow.keras import layers\n",
        "model18 = tf.keras.Sequential([\n",
        "    tf.keras.layers.Embedding(VOCAB_SIZE, EMB_DIM),\n",
        "    tf.keras.layers.Bidirectional(layers.GRU(64, return_sequences=True)),\n",
        "    tf.keras.layers.Bidirectional(tf.keras.layers.LSTM(32)),\n",
        "    tf.keras.layers.Dense(EMB_DIM, activation='relu'),\n",
        "    tf.keras.layers.Dropout(0.5),\n",
        "    tf.keras.layers.Dense(2,activation='softmax')\n",
        "])\n",
        "\n",
        "\n",
        "model18.compile(loss=tf.keras.losses.BinaryCrossentropy(from_logits=True),\n",
        "              optimizer=tf.keras.optimizers.Adamax(1e-4),\n",
        "              metrics=['accuracy'])\n",
        "\n",
        "model18.fit(x_train, y_train, batch_size=32, epochs=10)\n",
        "\n",
        "accuracy18= model18.evaluate(x_test, y_test)\n",
        "# print('test loss is:', loss)\n",
        "print('test accuracy is: ', accuracy18)\n",
        "\n",
        "predictions18= model18.predict(x_test)\n",
        "\n",
        "predictions18=np.argmax(predictions18, axis=1)\n",
        "y_test=np.argmax(y_test, axis=1)\n",
        "\n",
        "print('Recall: %.3f' % recall_score(y_test, predictions18))\n",
        "cm = confusion_matrix(y_test, predictions18)\n",
        "print('The confusion matrix is', cm)\n",
        "print('Accuracy: %.3f' % accuracy_score(y_test, predictions18))\n",
        "print('F1 Score: %.3f' % f1_score(y_test, predictions18))\n",
        "print('Precision: %.3f' % precision_score(y_test, predictions18))"
      ],
      "metadata": {
        "colab": {
          "base_uri": "https://localhost:8080/"
        },
        "id": "caape5N_3cOd",
        "outputId": "0f5490da-e7ba-459a-a9db-2b3f4e3e0f07"
      },
      "execution_count": 22,
      "outputs": [
        {
          "output_type": "stream",
          "name": "stdout",
          "text": [
            "Epoch 1/10\n"
          ]
        },
        {
          "output_type": "stream",
          "name": "stderr",
          "text": [
            "/usr/local/lib/python3.8/dist-packages/tensorflow/python/util/dispatch.py:1082: UserWarning: \"`binary_crossentropy` received `from_logits=True`, but the `output` argument was produced by a sigmoid or softmax activation and thus does not represent logits. Was this intended?\"\n",
            "  return dispatch_target(*args, **kwargs)\n"
          ]
        },
        {
          "output_type": "stream",
          "name": "stdout",
          "text": [
            "612/612 [==============================] - 15s 16ms/step - loss: 0.4981 - accuracy: 0.8177\n",
            "Epoch 2/10\n",
            "612/612 [==============================] - 10s 16ms/step - loss: 0.4602 - accuracy: 0.8210\n",
            "Epoch 3/10\n",
            "612/612 [==============================] - 10s 17ms/step - loss: 0.4546 - accuracy: 0.8210\n",
            "Epoch 4/10\n",
            "612/612 [==============================] - 10s 16ms/step - loss: 0.4404 - accuracy: 0.8210\n",
            "Epoch 5/10\n",
            "612/612 [==============================] - 10s 16ms/step - loss: 0.4215 - accuracy: 0.8223\n",
            "Epoch 6/10\n",
            "612/612 [==============================] - 10s 17ms/step - loss: 0.3889 - accuracy: 0.8307\n",
            "Epoch 7/10\n",
            "612/612 [==============================] - 11s 18ms/step - loss: 0.3561 - accuracy: 0.8410\n",
            "Epoch 8/10\n",
            "612/612 [==============================] - 10s 16ms/step - loss: 0.3335 - accuracy: 0.8510\n",
            "Epoch 9/10\n",
            "612/612 [==============================] - 11s 19ms/step - loss: 0.3148 - accuracy: 0.8620\n",
            "Epoch 10/10\n",
            "612/612 [==============================] - 10s 16ms/step - loss: 0.2949 - accuracy: 0.8739\n",
            "204/204 [==============================] - 3s 8ms/step - loss: 0.3746 - accuracy: 0.8300\n",
            "test accuracy is:  [0.3746400475502014, 0.8299862146377563]\n",
            "204/204 [==============================] - 3s 7ms/step\n",
            "Recall: 0.441\n",
            "The confusion matrix is [[4899  456]\n",
            " [ 653  515]]\n",
            "Accuracy: 0.830\n",
            "F1 Score: 0.482\n",
            "Precision: 0.530\n"
          ]
        }
      ]
    },
    {
      "cell_type": "markdown",
      "source": [
        "# Batch Size Tuning"
      ],
      "metadata": {
        "id": "1-LJkHl8Hkez"
      }
    },
    {
      "cell_type": "code",
      "source": [
        "#Bi-directional GRU - Bidirectional LSTM, Adam(1e-4), Batch(10)\n",
        "\n",
        "VOCAB_SIZE = len(arabert_tokenizer.get_vocab())\n",
        "EMB_DIM = 200\n",
        "\n",
        "from tensorflow.keras import layers\n",
        "model10 = tf.keras.Sequential([\n",
        "    tf.keras.layers.Embedding(VOCAB_SIZE, EMB_DIM),\n",
        "    tf.keras.layers.Bidirectional(layers.GRU(64, return_sequences=True)),\n",
        "    tf.keras.layers.Bidirectional(tf.keras.layers.LSTM(32)),\n",
        "    tf.keras.layers.Dense(EMB_DIM, activation='relu'),\n",
        "    tf.keras.layers.Dropout(0.5),\n",
        "    tf.keras.layers.Dense(2,activation='softmax')\n",
        "])\n",
        "\n",
        "\n",
        "model10.compile(loss=tf.keras.losses.BinaryCrossentropy(from_logits=True),\n",
        "              optimizer=tf.keras.optimizers.Adam(1e-4),\n",
        "              metrics=['accuracy'])\n",
        "\n",
        "model10.fit(x_train, y_train, batch_size=10, epochs=10)\n",
        "\n",
        "accuracy10= model10.evaluate(x_test, y_test)\n",
        "# print('test loss is:', loss)\n",
        "print('test accuracy is: ', accuracy10)\n",
        "\n",
        "predictions10= model10.predict(x_test)\n",
        "\n",
        "predictions10=np.argmax(predictions10, axis=1)\n",
        "y_test=np.argmax(y_test, axis=1)\n",
        "\n",
        "\n",
        "cm = confusion_matrix(y_test, predictions10)\n",
        "print('The confusion matrix is', cm)\n",
        "print('Accuracy: %.3f' % accuracy_score(y_test, predictions10))\n",
        "print('Recall: %.3f' % recall_score(y_test, predictions10))\n",
        "print('Precision: %.3f' % precision_score(y_test, predictions10))\n",
        "print('F1 Score: %.3f' % f1_score(y_test, predictions10))"
      ],
      "metadata": {
        "colab": {
          "base_uri": "https://localhost:8080/"
        },
        "id": "qFgpRN_rHmHg",
        "outputId": "c072cb8b-d13c-43ed-df4e-9fa5263b0f3c"
      },
      "execution_count": null,
      "outputs": [
        {
          "output_type": "stream",
          "name": "stdout",
          "text": [
            "Epoch 1/10\n"
          ]
        },
        {
          "output_type": "stream",
          "name": "stderr",
          "text": [
            "/usr/local/lib/python3.8/dist-packages/tensorflow/python/util/dispatch.py:1082: UserWarning: \"`binary_crossentropy` received `from_logits=True`, but the `output` argument was produced by a sigmoid or softmax activation and thus does not represent logits. Was this intended?\"\n",
            "  return dispatch_target(*args, **kwargs)\n"
          ]
        },
        {
          "output_type": "stream",
          "name": "stdout",
          "text": [
            "1958/1958 [==============================] - 73s 29ms/step - loss: 0.4142 - accuracy: 0.8320\n",
            "Epoch 2/10\n",
            "1958/1958 [==============================] - 52s 27ms/step - loss: 0.2103 - accuracy: 0.9217\n",
            "Epoch 3/10\n",
            "1958/1958 [==============================] - 39s 20ms/step - loss: 0.1082 - accuracy: 0.9641\n",
            "Epoch 4/10\n",
            "1958/1958 [==============================] - 39s 20ms/step - loss: 0.0614 - accuracy: 0.9816\n",
            "Epoch 5/10\n",
            "1958/1958 [==============================] - 39s 20ms/step - loss: 0.0415 - accuracy: 0.9877\n",
            "Epoch 6/10\n",
            "1958/1958 [==============================] - 40s 21ms/step - loss: 0.0303 - accuracy: 0.9915\n",
            "Epoch 7/10\n",
            "1958/1958 [==============================] - 39s 20ms/step - loss: 0.0261 - accuracy: 0.9921\n",
            "Epoch 8/10\n",
            "1958/1958 [==============================] - 39s 20ms/step - loss: 0.0185 - accuracy: 0.9933\n",
            "Epoch 9/10\n",
            "1958/1958 [==============================] - 39s 20ms/step - loss: 0.0142 - accuracy: 0.9936\n",
            "Epoch 10/10\n",
            "1958/1958 [==============================] - 41s 21ms/step - loss: 0.0124 - accuracy: 0.9941\n",
            "204/204 [==============================] - 3s 8ms/step - loss: 0.6802 - accuracy: 0.9008\n",
            "test accuracy is:  [0.6802372932434082, 0.9008125066757202]\n",
            "204/204 [==============================] - 2s 6ms/step\n",
            "The confusion matrix is [[5039  292]\n",
            " [ 355  837]]\n",
            "Accuracy: 0.901\n",
            "Recall: 0.702\n",
            "Precision: 0.741\n",
            "F1 Score: 0.721\n"
          ]
        }
      ]
    },
    {
      "cell_type": "code",
      "source": [
        "# #shuffle the data\n",
        "\n",
        "indices = np.arange(data.shape[0])\n",
        "np.random.shuffle(indices)\n",
        "data = data[indices]\n",
        "labels = labels[indices]\n",
        "\n",
        "# split the data into training, testing\n",
        "\n",
        "nb_validation_samples = int(0.25* data.shape[0])\n",
        "x_train = data[:-nb_validation_samples]\n",
        "y_train = labels[:-nb_validation_samples]\n",
        "x_test = data[-nb_validation_samples:]\n",
        "y_test = labels[-nb_validation_samples:]"
      ],
      "metadata": {
        "id": "lNWNfyWlJbzn"
      },
      "execution_count": null,
      "outputs": []
    },
    {
      "cell_type": "code",
      "source": [
        "#Bi-directional GRU - Bidirectional LSTM, Adam(1e-4), Batch(40)\n",
        "\n",
        "VOCAB_SIZE = len(arabert_tokenizer.get_vocab())\n",
        "EMB_DIM = 200\n",
        "\n",
        "from tensorflow.keras import layers\n",
        "model11 = tf.keras.Sequential([\n",
        "    tf.keras.layers.Embedding(VOCAB_SIZE, EMB_DIM),\n",
        "    tf.keras.layers.Bidirectional(layers.GRU(64, return_sequences=True)),\n",
        "    tf.keras.layers.Bidirectional(tf.keras.layers.LSTM(32)),\n",
        "    tf.keras.layers.Dense(EMB_DIM, activation='relu'),\n",
        "    tf.keras.layers.Dropout(0.5),\n",
        "    tf.keras.layers.Dense(2,activation='softmax')\n",
        "])\n",
        "\n",
        "\n",
        "model11.compile(loss=tf.keras.losses.BinaryCrossentropy(from_logits=True),\n",
        "              optimizer=tf.keras.optimizers.Adam(1e-4),\n",
        "              metrics=['accuracy'])\n",
        "\n",
        "model11.fit(x_train, y_train, batch_size=40, epochs=10)\n",
        "\n",
        "accuracy11= model11.evaluate(x_test, y_test)\n",
        "# print('test loss is:', loss)\n",
        "print('test accuracy is: ', accuracy11)\n",
        "\n",
        "predictions11= model11.predict(x_test)\n",
        "\n",
        "predictions11=np.argmax(predictions11, axis=1)\n",
        "y_test=np.argmax(y_test, axis=1)\n",
        "\n",
        "\n",
        "cm = confusion_matrix(y_test, predictions11)\n",
        "print('The confusion matrix is', cm)\n",
        "print('Accuracy: %.3f' % accuracy_score(y_test, predictions11))\n",
        "print('Recall: %.3f' % recall_score(y_test, predictions11))\n",
        "print('Precision: %.3f' % precision_score(y_test, predictions11))\n",
        "print('F1 Score: %.3f' % f1_score(y_test, predictions11))"
      ],
      "metadata": {
        "colab": {
          "base_uri": "https://localhost:8080/"
        },
        "id": "FPJpSyY-Iawj",
        "outputId": "eef769da-e434-40e0-cedb-338c234e04a9"
      },
      "execution_count": null,
      "outputs": [
        {
          "output_type": "stream",
          "name": "stdout",
          "text": [
            "Epoch 1/10\n"
          ]
        },
        {
          "output_type": "stream",
          "name": "stderr",
          "text": [
            "/usr/local/lib/python3.8/dist-packages/tensorflow/python/util/dispatch.py:1082: UserWarning: \"`binary_crossentropy` received `from_logits=True`, but the `output` argument was produced by a sigmoid or softmax activation and thus does not represent logits. Was this intended?\"\n",
            "  return dispatch_target(*args, **kwargs)\n"
          ]
        },
        {
          "output_type": "stream",
          "name": "stdout",
          "text": [
            "490/490 [==============================] - 15s 21ms/step - loss: 0.4750 - accuracy: 0.8195\n",
            "Epoch 2/10\n",
            "490/490 [==============================] - 10s 20ms/step - loss: 0.2750 - accuracy: 0.8855\n",
            "Epoch 3/10\n",
            "490/490 [==============================] - 10s 20ms/step - loss: 0.1356 - accuracy: 0.9526\n",
            "Epoch 4/10\n",
            "490/490 [==============================] - 10s 20ms/step - loss: 0.0752 - accuracy: 0.9759\n",
            "Epoch 5/10\n",
            "490/490 [==============================] - 10s 20ms/step - loss: 0.0473 - accuracy: 0.9867\n",
            "Epoch 6/10\n",
            "490/490 [==============================] - 10s 20ms/step - loss: 0.0365 - accuracy: 0.9906\n",
            "Epoch 7/10\n",
            "490/490 [==============================] - 10s 20ms/step - loss: 0.0306 - accuracy: 0.9919\n",
            "Epoch 8/10\n",
            "490/490 [==============================] - 10s 20ms/step - loss: 0.0299 - accuracy: 0.9921\n",
            "Epoch 9/10\n",
            "490/490 [==============================] - 10s 20ms/step - loss: 0.0269 - accuracy: 0.9927\n",
            "Epoch 10/10\n",
            "490/490 [==============================] - 10s 20ms/step - loss: 0.0248 - accuracy: 0.9931\n",
            "204/204 [==============================] - 4s 11ms/step - loss: 0.4579 - accuracy: 0.9014\n",
            "test accuracy is:  [0.457926481962204, 0.9014257192611694]\n",
            "204/204 [==============================] - 4s 10ms/step\n",
            "The confusion matrix is [[5073  305]\n",
            " [ 338  807]]\n",
            "Accuracy: 0.901\n",
            "Recall: 0.705\n",
            "Precision: 0.726\n",
            "F1 Score: 0.715\n"
          ]
        }
      ]
    },
    {
      "cell_type": "code",
      "source": [
        "# #shuffle the data\n",
        "\n",
        "indices = np.arange(data.shape[0])\n",
        "np.random.shuffle(indices)\n",
        "data = data[indices]\n",
        "labels = labels[indices]\n",
        "\n",
        "# split the data into training, testing\n",
        "\n",
        "nb_validation_samples = int(0.25* data.shape[0])\n",
        "x_train = data[:-nb_validation_samples]\n",
        "y_train = labels[:-nb_validation_samples]\n",
        "x_test = data[-nb_validation_samples:]\n",
        "y_test = labels[-nb_validation_samples:]"
      ],
      "metadata": {
        "id": "aRZcEyqtJdjm"
      },
      "execution_count": null,
      "outputs": []
    },
    {
      "cell_type": "code",
      "source": [
        "#Bi-directional GRU - Bidirectional LSTM, Adam(1e-4), Batch(60)\n",
        "\n",
        "VOCAB_SIZE = len(arabert_tokenizer.get_vocab())\n",
        "EMB_DIM = 200\n",
        "\n",
        "from tensorflow.keras import layers\n",
        "model12 = tf.keras.Sequential([\n",
        "    tf.keras.layers.Embedding(VOCAB_SIZE, EMB_DIM),\n",
        "    tf.keras.layers.Bidirectional(layers.GRU(64, return_sequences=True)),\n",
        "    tf.keras.layers.Bidirectional(tf.keras.layers.LSTM(32)),\n",
        "    tf.keras.layers.Dense(EMB_DIM, activation='relu'),\n",
        "    tf.keras.layers.Dropout(0.5),\n",
        "    tf.keras.layers.Dense(2,activation='softmax')\n",
        "])\n",
        "\n",
        "\n",
        "model12.compile(loss=tf.keras.losses.BinaryCrossentropy(from_logits=True),\n",
        "              optimizer=tf.keras.optimizers.Adam(1e-4),\n",
        "              metrics=['accuracy'])\n",
        "\n",
        "model12.fit(x_train, y_train, batch_size=60, epochs=10)\n",
        "\n",
        "accuracy12= model12.evaluate(x_test, y_test)\n",
        "# print('test loss is:', loss)\n",
        "print('test accuracy is: ', accuracy12)\n",
        "\n",
        "predictions12= model12.predict(x_test)\n",
        "\n",
        "predictions12=np.argmax(predictions12, axis=1)\n",
        "y_test=np.argmax(y_test, axis=1)\n",
        "\n",
        "\n",
        "cm = confusion_matrix(y_test, predictions12)\n",
        "print('The confusion matrix is', cm)\n",
        "print('Accuracy: %.3f' % accuracy_score(y_test, predictions12))\n",
        "print('Recall: %.3f' % recall_score(y_test, predictions12))\n",
        "print('Precision: %.3f' % precision_score(y_test, predictions12))\n",
        "print('F1 Score: %.3f' % f1_score(y_test, predictions12))"
      ],
      "metadata": {
        "colab": {
          "base_uri": "https://localhost:8080/"
        },
        "id": "aUzmKke3JeHf",
        "outputId": "ab45c931-c644-476d-ec9d-a40785ac20bf"
      },
      "execution_count": null,
      "outputs": [
        {
          "output_type": "stream",
          "name": "stdout",
          "text": [
            "Epoch 1/10\n"
          ]
        },
        {
          "output_type": "stream",
          "name": "stderr",
          "text": [
            "/usr/local/lib/python3.8/dist-packages/tensorflow/python/util/dispatch.py:1082: UserWarning: \"`binary_crossentropy` received `from_logits=True`, but the `output` argument was produced by a sigmoid or softmax activation and thus does not represent logits. Was this intended?\"\n",
            "  return dispatch_target(*args, **kwargs)\n"
          ]
        },
        {
          "output_type": "stream",
          "name": "stdout",
          "text": [
            "327/327 [==============================] - 14s 21ms/step - loss: 0.4959 - accuracy: 0.8109\n",
            "Epoch 2/10\n",
            "327/327 [==============================] - 8s 24ms/step - loss: 0.3336 - accuracy: 0.8562\n",
            "Epoch 3/10\n",
            "327/327 [==============================] - 7s 20ms/step - loss: 0.1625 - accuracy: 0.9392\n",
            "Epoch 4/10\n",
            "327/327 [==============================] - 7s 21ms/step - loss: 0.0861 - accuracy: 0.9725\n",
            "Epoch 5/10\n",
            "327/327 [==============================] - 7s 20ms/step - loss: 0.0512 - accuracy: 0.9857\n",
            "Epoch 6/10\n",
            "327/327 [==============================] - 7s 21ms/step - loss: 0.0380 - accuracy: 0.9900\n",
            "Epoch 7/10\n",
            "327/327 [==============================] - 7s 20ms/step - loss: 0.0320 - accuracy: 0.9923\n",
            "Epoch 8/10\n",
            "327/327 [==============================] - 7s 20ms/step - loss: 0.0271 - accuracy: 0.9930\n",
            "Epoch 9/10\n",
            "327/327 [==============================] - 7s 20ms/step - loss: 0.0251 - accuracy: 0.9933\n",
            "Epoch 10/10\n",
            "327/327 [==============================] - 7s 20ms/step - loss: 0.0244 - accuracy: 0.9933\n",
            "204/204 [==============================] - 4s 12ms/step - loss: 0.4577 - accuracy: 0.8991\n",
            "test accuracy is:  [0.45773977041244507, 0.8991261720657349]\n",
            "204/204 [==============================] - 4s 10ms/step\n",
            "The confusion matrix is [[5035  316]\n",
            " [ 342  830]]\n",
            "Accuracy: 0.899\n",
            "Recall: 0.708\n",
            "Precision: 0.724\n",
            "F1 Score: 0.716\n"
          ]
        }
      ]
    },
    {
      "cell_type": "code",
      "source": [
        "# #shuffle the data\n",
        "\n",
        "indices = np.arange(data.shape[0])\n",
        "np.random.shuffle(indices)\n",
        "data = data[indices]\n",
        "labels = labels[indices]\n",
        "\n",
        "# split the data into training, testing\n",
        "\n",
        "nb_validation_samples = int(0.25* data.shape[0])\n",
        "x_train = data[:-nb_validation_samples]\n",
        "y_train = labels[:-nb_validation_samples]\n",
        "x_test = data[-nb_validation_samples:]\n",
        "y_test = labels[-nb_validation_samples:]"
      ],
      "metadata": {
        "id": "zwOD1wR7Jm91"
      },
      "execution_count": null,
      "outputs": []
    },
    {
      "cell_type": "code",
      "source": [
        "#Bi-directional GRU - Bidirectional LSTM, Adam(1e-4), Batch(80)\n",
        "\n",
        "VOCAB_SIZE = len(arabert_tokenizer.get_vocab())\n",
        "EMB_DIM = 200\n",
        "\n",
        "from tensorflow.keras import layers\n",
        "model16 = tf.keras.Sequential([\n",
        "    tf.keras.layers.Embedding(VOCAB_SIZE, EMB_DIM),\n",
        "    tf.keras.layers.Bidirectional(layers.GRU(64, return_sequences=True)),\n",
        "    tf.keras.layers.Bidirectional(tf.keras.layers.LSTM(32)),\n",
        "    tf.keras.layers.Dense(EMB_DIM, activation='relu'),\n",
        "    tf.keras.layers.Dropout(0.5),\n",
        "    tf.keras.layers.Dense(2,activation='softmax')\n",
        "])\n",
        "\n",
        "\n",
        "model16.compile(loss=tf.keras.losses.BinaryCrossentropy(from_logits=True),\n",
        "              optimizer=tf.keras.optimizers.Adam(1e-4),\n",
        "              metrics=['accuracy'])\n",
        "\n",
        "model16.fit(x_train, y_train, batch_size=80, epochs=10)\n",
        "\n",
        "accuracy16= model16.evaluate(x_test, y_test)\n",
        "# print('test loss is:', loss)\n",
        "print('test accuracy is: ', accuracy16)\n",
        "\n",
        "predictions16= model16.predict(x_test)\n",
        "\n",
        "predictions16=np.argmax(predictions16, axis=1)\n",
        "y_test=np.argmax(y_test, axis=1)\n",
        "\n",
        "\n",
        "cm = confusion_matrix(y_test, predictions16)\n",
        "print('The confusion matrix is', cm)\n",
        "print('Accuracy: %.3f' % accuracy_score(y_test, predictions16))\n",
        "print('Recall: %.3f' % recall_score(y_test, predictions16))\n",
        "print('Precision: %.3f' % precision_score(y_test, predictions16))\n",
        "print('F1 Score: %.3f' % f1_score(y_test, predictions16))"
      ],
      "metadata": {
        "colab": {
          "base_uri": "https://localhost:8080/"
        },
        "id": "qYlXV--5NJND",
        "outputId": "2b9de240-f761-4dff-d166-bf43bc26221a"
      },
      "execution_count": null,
      "outputs": [
        {
          "output_type": "stream",
          "name": "stdout",
          "text": [
            "Epoch 1/10\n"
          ]
        },
        {
          "output_type": "stream",
          "name": "stderr",
          "text": [
            "/usr/local/lib/python3.8/dist-packages/tensorflow/python/util/dispatch.py:1082: UserWarning: \"`binary_crossentropy` received `from_logits=True`, but the `output` argument was produced by a sigmoid or softmax activation and thus does not represent logits. Was this intended?\"\n",
            "  return dispatch_target(*args, **kwargs)\n"
          ]
        },
        {
          "output_type": "stream",
          "name": "stdout",
          "text": [
            "245/245 [==============================] - 19s 31ms/step - loss: 0.5146 - accuracy: 0.8109\n",
            "Epoch 2/10\n",
            "245/245 [==============================] - 9s 35ms/step - loss: 0.3782 - accuracy: 0.8410\n",
            "Epoch 3/10\n",
            "245/245 [==============================] - 8s 34ms/step - loss: 0.1927 - accuracy: 0.9284\n",
            "Epoch 4/10\n",
            "245/245 [==============================] - 6s 24ms/step - loss: 0.1053 - accuracy: 0.9660\n",
            "Epoch 5/10\n",
            "245/245 [==============================] - 5s 22ms/step - loss: 0.0635 - accuracy: 0.9826\n",
            "Epoch 6/10\n",
            "245/245 [==============================] - 5s 22ms/step - loss: 0.0428 - accuracy: 0.9890\n",
            "Epoch 7/10\n",
            "245/245 [==============================] - 5s 22ms/step - loss: 0.0345 - accuracy: 0.9912\n",
            "Epoch 8/10\n",
            "245/245 [==============================] - 5s 22ms/step - loss: 0.0294 - accuracy: 0.9929\n",
            "Epoch 9/10\n",
            "245/245 [==============================] - 6s 23ms/step - loss: 0.0267 - accuracy: 0.9927\n",
            "Epoch 10/10\n",
            "245/245 [==============================] - 5s 22ms/step - loss: 0.0230 - accuracy: 0.9938\n",
            "204/204 [==============================] - 3s 8ms/step - loss: 0.4628 - accuracy: 0.9045\n",
            "test accuracy is:  [0.4627658724784851, 0.9044917821884155]\n",
            "204/204 [==============================] - 2s 7ms/step\n",
            "The confusion matrix is [[5075  235]\n",
            " [ 388  825]]\n",
            "Accuracy: 0.904\n",
            "Recall: 0.680\n",
            "Precision: 0.778\n",
            "F1 Score: 0.726\n"
          ]
        }
      ]
    },
    {
      "cell_type": "markdown",
      "source": [
        "# Epochs Tuning"
      ],
      "metadata": {
        "id": "qn9ULN-4Lty7"
      }
    },
    {
      "cell_type": "code",
      "source": [
        "# #shuffle the data\n",
        "\n",
        "indices = np.arange(data.shape[0])\n",
        "np.random.shuffle(indices)\n",
        "data = data[indices]\n",
        "labels = labels[indices]\n",
        "\n",
        "# split the data into training, testing\n",
        "\n",
        "nb_validation_samples = int(0.25* data.shape[0])\n",
        "x_train = data[:-nb_validation_samples]\n",
        "y_train = labels[:-nb_validation_samples]\n",
        "x_test = data[-nb_validation_samples:]\n",
        "y_test = labels[-nb_validation_samples:]"
      ],
      "metadata": {
        "id": "w4CVJGIaMBzB"
      },
      "execution_count": null,
      "outputs": []
    },
    {
      "cell_type": "code",
      "source": [
        "#Bi-directional GRU - Bidirectional LSTM, Adam(1e-4), Epochs (25)\n",
        "\n",
        "VOCAB_SIZE = len(arabert_tokenizer.get_vocab())\n",
        "EMB_DIM = 200\n",
        "\n",
        "from tensorflow.keras import layers\n",
        "model13 = tf.keras.Sequential([\n",
        "    tf.keras.layers.Embedding(VOCAB_SIZE, EMB_DIM),\n",
        "    tf.keras.layers.Bidirectional(layers.GRU(64, return_sequences=True)),\n",
        "    tf.keras.layers.Bidirectional(tf.keras.layers.LSTM(32)),\n",
        "    tf.keras.layers.Dense(EMB_DIM, activation='relu'),\n",
        "    tf.keras.layers.Dropout(0.5),\n",
        "    tf.keras.layers.Dense(2,activation='softmax')\n",
        "])\n",
        "\n",
        "\n",
        "model13.compile(loss=tf.keras.losses.BinaryCrossentropy(from_logits=True),\n",
        "              optimizer=tf.keras.optimizers.Adam(1e-4),\n",
        "              metrics=['accuracy'])\n",
        "\n",
        "model13.fit(x_train, y_train, batch_size=32, epochs=25)\n",
        "\n",
        "accuracy13= model13.evaluate(x_test, y_test)\n",
        "# print('test loss is:', loss)\n",
        "print('test accuracy is: ', accuracy13)\n",
        "\n",
        "predictions13= model13.predict(x_test)\n",
        "\n",
        "predictions13=np.argmax(predictions13, axis=1)\n",
        "y_test=np.argmax(y_test, axis=1)\n",
        "\n",
        "\n",
        "cm = confusion_matrix(y_test, predictions13)\n",
        "print('The confusion matrix is', cm)\n",
        "print('Accuracy: %.3f' % accuracy_score(y_test, predictions13))\n",
        "print('Recall: %.3f' % recall_score(y_test, predictions13))\n",
        "print('Precision: %.3f' % precision_score(y_test, predictions13))\n",
        "print('F1 Score: %.3f' % f1_score(y_test, predictions13))"
      ],
      "metadata": {
        "colab": {
          "base_uri": "https://localhost:8080/"
        },
        "id": "3ivy_fu3LvgO",
        "outputId": "33494d9d-0ffb-4395-a834-a7c5d3879693"
      },
      "execution_count": null,
      "outputs": [
        {
          "output_type": "stream",
          "name": "stdout",
          "text": [
            "Epoch 1/25\n"
          ]
        },
        {
          "output_type": "stream",
          "name": "stderr",
          "text": [
            "/usr/local/lib/python3.8/dist-packages/tensorflow/python/util/dispatch.py:1082: UserWarning: \"`binary_crossentropy` received `from_logits=True`, but the `output` argument was produced by a sigmoid or softmax activation and thus does not represent logits. Was this intended?\"\n",
            "  return dispatch_target(*args, **kwargs)\n"
          ]
        },
        {
          "output_type": "stream",
          "name": "stdout",
          "text": [
            "612/612 [==============================] - 24s 28ms/step - loss: 0.4631 - accuracy: 0.8204\n",
            "Epoch 2/25\n",
            "612/612 [==============================] - 18s 29ms/step - loss: 0.2562 - accuracy: 0.8984\n",
            "Epoch 3/25\n",
            "612/612 [==============================] - 17s 28ms/step - loss: 0.1284 - accuracy: 0.9553\n",
            "Epoch 4/25\n",
            "612/612 [==============================] - 17s 28ms/step - loss: 0.0735 - accuracy: 0.9777\n",
            "Epoch 5/25\n",
            "612/612 [==============================] - 17s 29ms/step - loss: 0.0485 - accuracy: 0.9874\n",
            "Epoch 6/25\n",
            "612/612 [==============================] - 14s 23ms/step - loss: 0.0382 - accuracy: 0.9904\n",
            "Epoch 7/25\n",
            "612/612 [==============================] - 12s 20ms/step - loss: 0.0330 - accuracy: 0.9916\n",
            "Epoch 8/25\n",
            "612/612 [==============================] - 12s 20ms/step - loss: 0.0305 - accuracy: 0.9917\n",
            "Epoch 9/25\n",
            "612/612 [==============================] - 13s 20ms/step - loss: 0.0271 - accuracy: 0.9924\n",
            "Epoch 10/25\n",
            "612/612 [==============================] - 13s 21ms/step - loss: 0.0240 - accuracy: 0.9925\n",
            "Epoch 11/25\n",
            "612/612 [==============================] - 14s 22ms/step - loss: 0.0223 - accuracy: 0.9929\n",
            "Epoch 12/25\n",
            "612/612 [==============================] - 13s 21ms/step - loss: 0.0200 - accuracy: 0.9928\n",
            "Epoch 13/25\n",
            "612/612 [==============================] - 12s 20ms/step - loss: 0.0175 - accuracy: 0.9927\n",
            "Epoch 14/25\n",
            "612/612 [==============================] - 13s 21ms/step - loss: 0.0160 - accuracy: 0.9931\n",
            "Epoch 15/25\n",
            "612/612 [==============================] - 12s 20ms/step - loss: 0.0146 - accuracy: 0.9939\n",
            "Epoch 16/25\n",
            "612/612 [==============================] - 12s 20ms/step - loss: 0.0134 - accuracy: 0.9934\n",
            "Epoch 17/25\n",
            "612/612 [==============================] - 12s 20ms/step - loss: 0.0123 - accuracy: 0.9937\n",
            "Epoch 18/25\n",
            "612/612 [==============================] - 13s 21ms/step - loss: 0.0110 - accuracy: 0.9941\n",
            "Epoch 19/25\n",
            "612/612 [==============================] - 14s 23ms/step - loss: 0.0114 - accuracy: 0.9940\n",
            "Epoch 20/25\n",
            "612/612 [==============================] - 13s 21ms/step - loss: 0.0104 - accuracy: 0.9946\n",
            "Epoch 21/25\n",
            "612/612 [==============================] - 19s 31ms/step - loss: 0.0104 - accuracy: 0.9934\n",
            "Epoch 22/25\n",
            "612/612 [==============================] - 15s 25ms/step - loss: 0.0097 - accuracy: 0.9947\n",
            "Epoch 23/25\n",
            "612/612 [==============================] - 18s 29ms/step - loss: 0.0096 - accuracy: 0.9946\n",
            "Epoch 24/25\n",
            "612/612 [==============================] - 13s 21ms/step - loss: 0.0095 - accuracy: 0.9940\n",
            "Epoch 25/25\n",
            "612/612 [==============================] - 13s 20ms/step - loss: 0.0100 - accuracy: 0.9945\n",
            "204/204 [==============================] - 3s 7ms/step - loss: 0.5798 - accuracy: 0.9002\n",
            "test accuracy is:  [0.5798131823539734, 0.900199294090271]\n",
            "204/204 [==============================] - 2s 6ms/step\n",
            "The confusion matrix is [[5091  287]\n",
            " [ 364  781]]\n",
            "Accuracy: 0.900\n",
            "Recall: 0.682\n",
            "Precision: 0.731\n",
            "F1 Score: 0.706\n"
          ]
        }
      ]
    },
    {
      "cell_type": "code",
      "source": [
        "# #shuffle the data\n",
        "\n",
        "indices = np.arange(data.shape[0])\n",
        "np.random.shuffle(indices)\n",
        "data = data[indices]\n",
        "labels = labels[indices]\n",
        "\n",
        "# split the data into training, testing\n",
        "\n",
        "nb_validation_samples = int(0.25* data.shape[0])\n",
        "x_train = data[:-nb_validation_samples]\n",
        "y_train = labels[:-nb_validation_samples]\n",
        "x_test = data[-nb_validation_samples:]\n",
        "y_test = labels[-nb_validation_samples:]"
      ],
      "metadata": {
        "id": "tm8fVbl2L_jN"
      },
      "execution_count": null,
      "outputs": []
    },
    {
      "cell_type": "code",
      "source": [
        "#Bi-directional GRU - Bidirectional LSTM, Adam(1e-4), Epochs (50)\n",
        "\n",
        "VOCAB_SIZE = len(arabert_tokenizer.get_vocab())\n",
        "EMB_DIM = 200\n",
        "\n",
        "from tensorflow.keras import layers\n",
        "model14 = tf.keras.Sequential([\n",
        "    tf.keras.layers.Embedding(VOCAB_SIZE, EMB_DIM),\n",
        "    tf.keras.layers.Bidirectional(layers.GRU(64, return_sequences=True)),\n",
        "    tf.keras.layers.Bidirectional(tf.keras.layers.LSTM(32)),\n",
        "    tf.keras.layers.Dense(EMB_DIM, activation='relu'),\n",
        "    tf.keras.layers.Dropout(0.5),\n",
        "    tf.keras.layers.Dense(2,activation='softmax')\n",
        "])\n",
        "\n",
        "\n",
        "model14.compile(loss=tf.keras.losses.BinaryCrossentropy(from_logits=True),\n",
        "              optimizer=tf.keras.optimizers.Adam(1e-4),\n",
        "              metrics=['accuracy'])\n",
        "\n",
        "model14.fit(x_train, y_train, batch_size=32, epochs=50)\n",
        "\n",
        "accuracy14= model14.evaluate(x_test, y_test)\n",
        "# print('test loss is:', loss)\n",
        "print('test accuracy is: ', accuracy14)\n",
        "\n",
        "predictions14= model14.predict(x_test)\n",
        "\n",
        "predictions14=np.argmax(predictions14, axis=1)\n",
        "y_test=np.argmax(y_test, axis=1)\n",
        "\n",
        "\n",
        "cm = confusion_matrix(y_test, predictions14)\n",
        "print('The confusion matrix is', cm)\n",
        "print('Accuracy: %.3f' % accuracy_score(y_test, predictions14))\n",
        "print('Recall: %.3f' % recall_score(y_test, predictions14))\n",
        "print('Precision: %.3f' % precision_score(y_test, predictions14))\n",
        "print('F1 Score: %.3f' % f1_score(y_test, predictions14))"
      ],
      "metadata": {
        "colab": {
          "base_uri": "https://localhost:8080/"
        },
        "id": "lcWdvi07MDea",
        "outputId": "5eb71903-dafe-40aa-ffbd-7c808e8539e4"
      },
      "execution_count": null,
      "outputs": [
        {
          "output_type": "stream",
          "name": "stdout",
          "text": [
            "Epoch 1/50\n"
          ]
        },
        {
          "output_type": "stream",
          "name": "stderr",
          "text": [
            "/usr/local/lib/python3.8/dist-packages/tensorflow/python/util/dispatch.py:1082: UserWarning: \"`binary_crossentropy` received `from_logits=True`, but the `output` argument was produced by a sigmoid or softmax activation and thus does not represent logits. Was this intended?\"\n",
            "  return dispatch_target(*args, **kwargs)\n"
          ]
        },
        {
          "output_type": "stream",
          "name": "stdout",
          "text": [
            "612/612 [==============================] - 18s 21ms/step - loss: 0.4690 - accuracy: 0.8176\n",
            "Epoch 2/50\n",
            "612/612 [==============================] - 13s 20ms/step - loss: 0.2691 - accuracy: 0.8909\n",
            "Epoch 3/50\n",
            "612/612 [==============================] - 13s 21ms/step - loss: 0.1350 - accuracy: 0.9553\n",
            "Epoch 4/50\n",
            "612/612 [==============================] - 13s 21ms/step - loss: 0.0764 - accuracy: 0.9773\n",
            "Epoch 5/50\n",
            "612/612 [==============================] - 13s 21ms/step - loss: 0.0519 - accuracy: 0.9854\n",
            "Epoch 6/50\n",
            "612/612 [==============================] - 13s 21ms/step - loss: 0.0378 - accuracy: 0.9900\n",
            "Epoch 7/50\n",
            "612/612 [==============================] - 14s 23ms/step - loss: 0.0331 - accuracy: 0.9914\n",
            "Epoch 8/50\n",
            "612/612 [==============================] - 14s 23ms/step - loss: 0.0276 - accuracy: 0.9926\n",
            "Epoch 9/50\n",
            "612/612 [==============================] - 15s 25ms/step - loss: 0.0244 - accuracy: 0.9932\n",
            "Epoch 10/50\n",
            "612/612 [==============================] - 15s 24ms/step - loss: 0.0228 - accuracy: 0.9928\n",
            "Epoch 11/50\n",
            "612/612 [==============================] - 12s 20ms/step - loss: 0.0209 - accuracy: 0.9931\n",
            "Epoch 12/50\n",
            "612/612 [==============================] - 12s 20ms/step - loss: 0.0180 - accuracy: 0.9934\n",
            "Epoch 13/50\n",
            "612/612 [==============================] - 12s 20ms/step - loss: 0.0165 - accuracy: 0.9928\n",
            "Epoch 14/50\n",
            "612/612 [==============================] - 12s 20ms/step - loss: 0.0143 - accuracy: 0.9937\n",
            "Epoch 15/50\n",
            "612/612 [==============================] - 12s 20ms/step - loss: 0.0131 - accuracy: 0.9939\n",
            "Epoch 16/50\n",
            "612/612 [==============================] - 12s 20ms/step - loss: 0.0117 - accuracy: 0.9946\n",
            "Epoch 17/50\n",
            "612/612 [==============================] - 12s 20ms/step - loss: 0.0112 - accuracy: 0.9940\n",
            "Epoch 18/50\n",
            "612/612 [==============================] - 12s 20ms/step - loss: 0.0108 - accuracy: 0.9943\n",
            "Epoch 19/50\n",
            "612/612 [==============================] - 13s 22ms/step - loss: 0.0104 - accuracy: 0.9944\n",
            "Epoch 20/50\n",
            "612/612 [==============================] - 12s 20ms/step - loss: 0.0101 - accuracy: 0.9947\n",
            "Epoch 21/50\n",
            "612/612 [==============================] - 12s 20ms/step - loss: 0.0100 - accuracy: 0.9945\n",
            "Epoch 22/50\n",
            "612/612 [==============================] - 13s 20ms/step - loss: 0.0095 - accuracy: 0.9944\n",
            "Epoch 23/50\n",
            "612/612 [==============================] - 12s 20ms/step - loss: 0.0094 - accuracy: 0.9947\n",
            "Epoch 24/50\n",
            "612/612 [==============================] - 12s 20ms/step - loss: 0.0096 - accuracy: 0.9941\n",
            "Epoch 25/50\n",
            "612/612 [==============================] - 12s 20ms/step - loss: 0.0108 - accuracy: 0.9943\n",
            "Epoch 26/50\n",
            "612/612 [==============================] - 12s 20ms/step - loss: 0.0093 - accuracy: 0.9947\n",
            "Epoch 27/50\n",
            "612/612 [==============================] - 13s 20ms/step - loss: 0.0091 - accuracy: 0.9946\n",
            "Epoch 28/50\n",
            "612/612 [==============================] - 12s 20ms/step - loss: 0.0091 - accuracy: 0.9950\n",
            "Epoch 29/50\n",
            "612/612 [==============================] - 12s 20ms/step - loss: 0.0085 - accuracy: 0.9947\n",
            "Epoch 30/50\n",
            "612/612 [==============================] - 12s 20ms/step - loss: 0.0085 - accuracy: 0.9947\n",
            "Epoch 31/50\n",
            "612/612 [==============================] - 12s 20ms/step - loss: 0.0088 - accuracy: 0.9946\n",
            "Epoch 32/50\n",
            "612/612 [==============================] - 13s 22ms/step - loss: 0.0083 - accuracy: 0.9948\n",
            "Epoch 33/50\n",
            "612/612 [==============================] - 12s 20ms/step - loss: 0.0086 - accuracy: 0.9950\n",
            "Epoch 34/50\n",
            "612/612 [==============================] - 13s 21ms/step - loss: 0.0088 - accuracy: 0.9949\n",
            "Epoch 35/50\n",
            "612/612 [==============================] - 13s 21ms/step - loss: 0.0085 - accuracy: 0.9948\n",
            "Epoch 36/50\n",
            "612/612 [==============================] - 12s 20ms/step - loss: 0.0081 - accuracy: 0.9951\n",
            "Epoch 37/50\n",
            "612/612 [==============================] - 13s 21ms/step - loss: 0.0086 - accuracy: 0.9944\n",
            "Epoch 38/50\n",
            "612/612 [==============================] - 13s 21ms/step - loss: 0.0080 - accuracy: 0.9951\n",
            "Epoch 39/50\n",
            "612/612 [==============================] - 13s 21ms/step - loss: 0.0085 - accuracy: 0.9951\n",
            "Epoch 40/50\n",
            "612/612 [==============================] - 13s 21ms/step - loss: 0.0081 - accuracy: 0.9949\n",
            "Epoch 41/50\n",
            "612/612 [==============================] - 13s 21ms/step - loss: 0.0082 - accuracy: 0.9953\n",
            "Epoch 42/50\n",
            "612/612 [==============================] - 13s 21ms/step - loss: 0.0081 - accuracy: 0.9949\n",
            "Epoch 43/50\n",
            "612/612 [==============================] - 12s 20ms/step - loss: 0.0082 - accuracy: 0.9948\n",
            "Epoch 44/50\n",
            "612/612 [==============================] - 13s 21ms/step - loss: 0.0087 - accuracy: 0.9950\n",
            "Epoch 45/50\n",
            "612/612 [==============================] - 13s 21ms/step - loss: 0.0083 - accuracy: 0.9952\n",
            "Epoch 46/50\n",
            "612/612 [==============================] - 13s 21ms/step - loss: 0.0081 - accuracy: 0.9952\n",
            "Epoch 47/50\n",
            "612/612 [==============================] - 12s 20ms/step - loss: 0.0079 - accuracy: 0.9953\n",
            "Epoch 48/50\n",
            "612/612 [==============================] - 13s 21ms/step - loss: 0.0080 - accuracy: 0.9951\n",
            "Epoch 49/50\n",
            "612/612 [==============================] - 13s 20ms/step - loss: 0.0079 - accuracy: 0.9955\n",
            "Epoch 50/50\n",
            "612/612 [==============================] - 13s 21ms/step - loss: 0.0079 - accuracy: 0.9955\n",
            "204/204 [==============================] - 3s 7ms/step - loss: 0.8542 - accuracy: 0.9033\n",
            "test accuracy is:  [0.8542052507400513, 0.9032653570175171]\n",
            "204/204 [==============================] - 2s 6ms/step\n",
            "The confusion matrix is [[5068  291]\n",
            " [ 340  824]]\n",
            "Accuracy: 0.903\n",
            "Recall: 0.708\n",
            "Precision: 0.739\n",
            "F1 Score: 0.723\n"
          ]
        }
      ]
    },
    {
      "cell_type": "code",
      "source": [
        "# #shuffle the data\n",
        "\n",
        "indices = np.arange(data.shape[0])\n",
        "np.random.shuffle(indices)\n",
        "data = data[indices]\n",
        "labels = labels[indices]\n",
        "\n",
        "# split the data into training, testing\n",
        "\n",
        "nb_validation_samples = int(0.25* data.shape[0])\n",
        "x_train = data[:-nb_validation_samples]\n",
        "y_train = labels[:-nb_validation_samples]\n",
        "x_test = data[-nb_validation_samples:]\n",
        "y_test = labels[-nb_validation_samples:]"
      ],
      "metadata": {
        "id": "EFtighHhMMFp"
      },
      "execution_count": null,
      "outputs": []
    },
    {
      "cell_type": "code",
      "source": [
        "#Bi-directional GRU - Bidirectional LSTM, Adam(1e-4), Epochs (75)\n",
        "\n",
        "VOCAB_SIZE = len(arabert_tokenizer.get_vocab())\n",
        "EMB_DIM = 200\n",
        "\n",
        "from tensorflow.keras import layers\n",
        "model15 = tf.keras.Sequential([\n",
        "    tf.keras.layers.Embedding(VOCAB_SIZE, EMB_DIM),\n",
        "    tf.keras.layers.Bidirectional(layers.GRU(64, return_sequences=True)),\n",
        "    tf.keras.layers.Bidirectional(tf.keras.layers.LSTM(32)),\n",
        "    tf.keras.layers.Dense(EMB_DIM, activation='relu'),\n",
        "    tf.keras.layers.Dropout(0.5),\n",
        "    tf.keras.layers.Dense(2,activation='softmax')\n",
        "])\n",
        "\n",
        "\n",
        "model15.compile(loss=tf.keras.losses.BinaryCrossentropy(from_logits=True),\n",
        "              optimizer=tf.keras.optimizers.Adam(1e-4),\n",
        "              metrics=['accuracy'])\n",
        "\n",
        "model15.fit(x_train, y_train, batch_size=32, epochs=75)\n",
        "\n",
        "accuracy15= model15.evaluate(x_test, y_test)\n",
        "# print('test loss is:', loss)\n",
        "print('test accuracy is: ', accuracy15)\n",
        "\n",
        "predictions15= model15.predict(x_test)\n",
        "\n",
        "predictions15=np.argmax(predictions15, axis=1)\n",
        "y_test=np.argmax(y_test, axis=1)\n",
        "\n",
        "\n",
        "cm = confusion_matrix(y_test, predictions15)\n",
        "print('The confusion matrix is', cm)\n",
        "print('Accuracy: %.3f' % accuracy_score(y_test, predictions15))\n",
        "print('Recall: %.3f' % recall_score(y_test, predictions15))\n",
        "print('Precision: %.3f' % precision_score(y_test, predictions15))\n",
        "print('F1 Score: %.3f' % f1_score(y_test, predictions15))"
      ],
      "metadata": {
        "colab": {
          "base_uri": "https://localhost:8080/"
        },
        "id": "7cQRZxfEMNtl",
        "outputId": "81b17410-1f9c-4a9e-ffef-a1090f4c45c4"
      },
      "execution_count": null,
      "outputs": [
        {
          "output_type": "stream",
          "name": "stdout",
          "text": [
            "Epoch 1/75\n"
          ]
        },
        {
          "output_type": "stream",
          "name": "stderr",
          "text": [
            "/usr/local/lib/python3.8/dist-packages/tensorflow/python/util/dispatch.py:1082: UserWarning: \"`binary_crossentropy` received `from_logits=True`, but the `output` argument was produced by a sigmoid or softmax activation and thus does not represent logits. Was this intended?\"\n",
            "  return dispatch_target(*args, **kwargs)\n"
          ]
        },
        {
          "output_type": "stream",
          "name": "stdout",
          "text": [
            "612/612 [==============================] - 19s 22ms/step - loss: 0.4648 - accuracy: 0.8171\n",
            "Epoch 2/75\n",
            "612/612 [==============================] - 13s 22ms/step - loss: 0.2567 - accuracy: 0.8998\n",
            "Epoch 3/75\n",
            "612/612 [==============================] - 14s 22ms/step - loss: 0.1275 - accuracy: 0.9565\n",
            "Epoch 4/75\n",
            "612/612 [==============================] - 14s 24ms/step - loss: 0.0741 - accuracy: 0.9767\n",
            "Epoch 5/75\n",
            "612/612 [==============================] - 14s 22ms/step - loss: 0.0494 - accuracy: 0.9862\n",
            "Epoch 6/75\n",
            "612/612 [==============================] - 13s 22ms/step - loss: 0.0364 - accuracy: 0.9900\n",
            "Epoch 7/75\n",
            "612/612 [==============================] - 13s 22ms/step - loss: 0.0315 - accuracy: 0.9910\n",
            "Epoch 8/75\n",
            "612/612 [==============================] - 16s 27ms/step - loss: 0.0280 - accuracy: 0.9919\n",
            "Epoch 9/75\n",
            "612/612 [==============================] - 14s 22ms/step - loss: 0.0242 - accuracy: 0.9929\n",
            "Epoch 10/75\n",
            "612/612 [==============================] - 14s 22ms/step - loss: 0.0221 - accuracy: 0.9931\n",
            "Epoch 11/75\n",
            "612/612 [==============================] - 14s 23ms/step - loss: 0.0220 - accuracy: 0.9924\n",
            "Epoch 12/75\n",
            "612/612 [==============================] - 14s 22ms/step - loss: 0.0203 - accuracy: 0.9927\n",
            "Epoch 13/75\n",
            "612/612 [==============================] - 14s 23ms/step - loss: 0.0169 - accuracy: 0.9932\n",
            "Epoch 14/75\n",
            "612/612 [==============================] - 15s 24ms/step - loss: 0.0150 - accuracy: 0.9937\n",
            "Epoch 15/75\n",
            "612/612 [==============================] - 14s 23ms/step - loss: 0.0158 - accuracy: 0.9931\n",
            "Epoch 16/75\n",
            "612/612 [==============================] - 15s 24ms/step - loss: 0.0127 - accuracy: 0.9933\n",
            "Epoch 17/75\n",
            "612/612 [==============================] - 14s 23ms/step - loss: 0.0125 - accuracy: 0.9938\n",
            "Epoch 18/75\n",
            "612/612 [==============================] - 14s 23ms/step - loss: 0.0121 - accuracy: 0.9936\n",
            "Epoch 19/75\n",
            "612/612 [==============================] - 14s 23ms/step - loss: 0.0114 - accuracy: 0.9936\n",
            "Epoch 20/75\n",
            "612/612 [==============================] - 14s 23ms/step - loss: 0.0115 - accuracy: 0.9935\n",
            "Epoch 21/75\n",
            "612/612 [==============================] - 14s 23ms/step - loss: 0.0101 - accuracy: 0.9937\n",
            "Epoch 22/75\n",
            "612/612 [==============================] - 14s 23ms/step - loss: 0.0112 - accuracy: 0.9935\n",
            "Epoch 23/75\n",
            "612/612 [==============================] - 14s 22ms/step - loss: 0.0109 - accuracy: 0.9937\n",
            "Epoch 24/75\n",
            "612/612 [==============================] - 14s 22ms/step - loss: 0.0093 - accuracy: 0.9944\n",
            "Epoch 25/75\n",
            "612/612 [==============================] - 14s 22ms/step - loss: 0.0091 - accuracy: 0.9944\n",
            "Epoch 26/75\n",
            "612/612 [==============================] - 14s 22ms/step - loss: 0.0096 - accuracy: 0.9940\n",
            "Epoch 27/75\n",
            "612/612 [==============================] - 14s 23ms/step - loss: 0.0091 - accuracy: 0.9939\n",
            "Epoch 28/75\n",
            "612/612 [==============================] - 15s 24ms/step - loss: 0.0092 - accuracy: 0.9946\n",
            "Epoch 29/75\n",
            "612/612 [==============================] - 14s 22ms/step - loss: 0.0094 - accuracy: 0.9942\n",
            "Epoch 30/75\n",
            "612/612 [==============================] - 14s 22ms/step - loss: 0.0095 - accuracy: 0.9947\n",
            "Epoch 31/75\n",
            "612/612 [==============================] - 14s 23ms/step - loss: 0.0093 - accuracy: 0.9955\n",
            "Epoch 32/75\n",
            "612/612 [==============================] - 14s 22ms/step - loss: 0.0091 - accuracy: 0.9945\n",
            "Epoch 33/75\n",
            "612/612 [==============================] - 13s 22ms/step - loss: 0.0086 - accuracy: 0.9945\n",
            "Epoch 34/75\n",
            "612/612 [==============================] - 14s 22ms/step - loss: 0.0087 - accuracy: 0.9943\n",
            "Epoch 35/75\n",
            "612/612 [==============================] - 14s 23ms/step - loss: 0.0093 - accuracy: 0.9951\n",
            "Epoch 36/75\n",
            "612/612 [==============================] - 14s 22ms/step - loss: 0.0091 - accuracy: 0.9947\n",
            "Epoch 37/75\n",
            "612/612 [==============================] - 14s 22ms/step - loss: 0.0092 - accuracy: 0.9944\n",
            "Epoch 38/75\n",
            "612/612 [==============================] - 14s 22ms/step - loss: 0.0082 - accuracy: 0.9949\n",
            "Epoch 39/75\n",
            "612/612 [==============================] - 14s 22ms/step - loss: 0.0086 - accuracy: 0.9950\n",
            "Epoch 40/75\n",
            "612/612 [==============================] - 15s 25ms/step - loss: 0.0092 - accuracy: 0.9952\n",
            "Epoch 41/75\n",
            "612/612 [==============================] - 14s 22ms/step - loss: 0.0084 - accuracy: 0.9950\n",
            "Epoch 42/75\n",
            "612/612 [==============================] - 14s 22ms/step - loss: 0.0087 - accuracy: 0.9947\n",
            "Epoch 43/75\n",
            "612/612 [==============================] - 14s 22ms/step - loss: 0.0082 - accuracy: 0.9951\n",
            "Epoch 44/75\n",
            "612/612 [==============================] - 14s 23ms/step - loss: 0.0082 - accuracy: 0.9952\n",
            "Epoch 45/75\n",
            "612/612 [==============================] - 14s 22ms/step - loss: 0.0085 - accuracy: 0.9952\n",
            "Epoch 46/75\n",
            "612/612 [==============================] - 14s 22ms/step - loss: 0.0085 - accuracy: 0.9956\n",
            "Epoch 47/75\n",
            "612/612 [==============================] - 14s 23ms/step - loss: 0.0085 - accuracy: 0.9950\n",
            "Epoch 48/75\n",
            "612/612 [==============================] - 14s 22ms/step - loss: 0.0080 - accuracy: 0.9949\n",
            "Epoch 49/75\n",
            "612/612 [==============================] - 13s 22ms/step - loss: 0.0081 - accuracy: 0.9949\n",
            "Epoch 50/75\n",
            "612/612 [==============================] - 13s 22ms/step - loss: 0.0081 - accuracy: 0.9950\n",
            "Epoch 51/75\n",
            "612/612 [==============================] - 14s 22ms/step - loss: 0.0080 - accuracy: 0.9955\n",
            "Epoch 52/75\n",
            "612/612 [==============================] - 14s 24ms/step - loss: 0.0081 - accuracy: 0.9951\n",
            "Epoch 53/75\n",
            "612/612 [==============================] - 14s 22ms/step - loss: 0.0083 - accuracy: 0.9951\n",
            "Epoch 54/75\n",
            "612/612 [==============================] - 13s 22ms/step - loss: 0.0080 - accuracy: 0.9949\n",
            "Epoch 55/75\n",
            "612/612 [==============================] - 13s 22ms/step - loss: 0.0079 - accuracy: 0.9951\n",
            "Epoch 56/75\n",
            "612/612 [==============================] - 13s 22ms/step - loss: 0.0079 - accuracy: 0.9955\n",
            "Epoch 57/75\n",
            "612/612 [==============================] - 14s 22ms/step - loss: 0.0080 - accuracy: 0.9950\n",
            "Epoch 58/75\n",
            "612/612 [==============================] - 14s 22ms/step - loss: 0.0079 - accuracy: 0.9948\n",
            "Epoch 59/75\n",
            "612/612 [==============================] - 13s 22ms/step - loss: 0.0080 - accuracy: 0.9949\n",
            "Epoch 60/75\n",
            "612/612 [==============================] - 14s 22ms/step - loss: 0.0081 - accuracy: 0.9953\n",
            "Epoch 61/75\n",
            "612/612 [==============================] - 13s 22ms/step - loss: 0.0079 - accuracy: 0.9953\n",
            "Epoch 62/75\n",
            "612/612 [==============================] - 14s 22ms/step - loss: 0.0079 - accuracy: 0.9951\n",
            "Epoch 63/75\n",
            "612/612 [==============================] - 14s 22ms/step - loss: 0.0078 - accuracy: 0.9950\n",
            "Epoch 64/75\n",
            "612/612 [==============================] - 13s 22ms/step - loss: 0.0080 - accuracy: 0.9949\n",
            "Epoch 65/75\n",
            "612/612 [==============================] - 15s 24ms/step - loss: 0.0100 - accuracy: 0.9948\n",
            "Epoch 66/75\n",
            "612/612 [==============================] - 13s 22ms/step - loss: 0.0078 - accuracy: 0.9955\n",
            "Epoch 67/75\n",
            "612/612 [==============================] - 14s 22ms/step - loss: 0.0078 - accuracy: 0.9952\n",
            "Epoch 68/75\n",
            "612/612 [==============================] - 13s 22ms/step - loss: 0.0078 - accuracy: 0.9949\n",
            "Epoch 69/75\n",
            "612/612 [==============================] - 13s 22ms/step - loss: 0.0078 - accuracy: 0.9955\n",
            "Epoch 70/75\n",
            "612/612 [==============================] - 13s 22ms/step - loss: 0.0077 - accuracy: 0.9955\n",
            "Epoch 71/75\n",
            "612/612 [==============================] - 13s 22ms/step - loss: 0.0078 - accuracy: 0.9954\n",
            "Epoch 72/75\n",
            "612/612 [==============================] - 13s 22ms/step - loss: 0.0088 - accuracy: 0.9951\n",
            "Epoch 73/75\n",
            "612/612 [==============================] - 13s 22ms/step - loss: 0.0077 - accuracy: 0.9952\n",
            "Epoch 74/75\n",
            "612/612 [==============================] - 14s 22ms/step - loss: 0.0077 - accuracy: 0.9952\n",
            "Epoch 75/75\n",
            "612/612 [==============================] - 13s 22ms/step - loss: 0.0080 - accuracy: 0.9954\n",
            "204/204 [==============================] - 3s 8ms/step - loss: 0.8699 - accuracy: 0.8922\n",
            "test accuracy is:  [0.8698505759239197, 0.8922275304794312]\n",
            "204/204 [==============================] - 2s 7ms/step\n",
            "The confusion matrix is [[4953  386]\n",
            " [ 317  867]]\n",
            "Accuracy: 0.892\n",
            "Recall: 0.732\n",
            "Precision: 0.692\n",
            "F1 Score: 0.712\n"
          ]
        }
      ]
    },
    {
      "cell_type": "code",
      "source": [],
      "metadata": {
        "id": "lS73pxX7MV9L"
      },
      "execution_count": null,
      "outputs": []
    }
  ]
}