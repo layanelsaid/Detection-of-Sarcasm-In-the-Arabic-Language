{
  "cells": [
    {
      "cell_type": "code",
      "execution_count": 1,
      "metadata": {
        "colab": {
          "base_uri": "https://localhost:8080/"
        },
        "id": "zTS2C5a0Mdch",
        "outputId": "5fbff23c-ccdc-4870-e0f4-1a467ab03f4c"
      },
      "outputs": [
        {
          "output_type": "stream",
          "name": "stdout",
          "text": [
            "Looking in indexes: https://pypi.org/simple, https://us-python.pkg.dev/colab-wheels/public/simple/\n",
            "Requirement already satisfied: gensim in /usr/local/lib/python3.8/dist-packages (3.6.0)\n",
            "Requirement already satisfied: spacy in /usr/local/lib/python3.8/dist-packages (3.4.4)\n",
            "Requirement already satisfied: nltk in /usr/local/lib/python3.8/dist-packages (3.7)\n",
            "Requirement already satisfied: scipy>=0.18.1 in /usr/local/lib/python3.8/dist-packages (from gensim) (1.7.3)\n",
            "Requirement already satisfied: smart-open>=1.2.1 in /usr/local/lib/python3.8/dist-packages (from gensim) (6.3.0)\n",
            "Requirement already satisfied: numpy>=1.11.3 in /usr/local/lib/python3.8/dist-packages (from gensim) (1.21.6)\n",
            "Requirement already satisfied: six>=1.5.0 in /usr/local/lib/python3.8/dist-packages (from gensim) (1.15.0)\n",
            "Requirement already satisfied: preshed<3.1.0,>=3.0.2 in /usr/local/lib/python3.8/dist-packages (from spacy) (3.0.8)\n",
            "Requirement already satisfied: spacy-legacy<3.1.0,>=3.0.10 in /usr/local/lib/python3.8/dist-packages (from spacy) (3.0.10)\n",
            "Requirement already satisfied: requests<3.0.0,>=2.13.0 in /usr/local/lib/python3.8/dist-packages (from spacy) (2.25.1)\n",
            "Requirement already satisfied: tqdm<5.0.0,>=4.38.0 in /usr/local/lib/python3.8/dist-packages (from spacy) (4.64.1)\n",
            "Requirement already satisfied: pydantic!=1.8,!=1.8.1,<1.11.0,>=1.7.4 in /usr/local/lib/python3.8/dist-packages (from spacy) (1.10.2)\n",
            "Requirement already satisfied: murmurhash<1.1.0,>=0.28.0 in /usr/local/lib/python3.8/dist-packages (from spacy) (1.0.9)\n",
            "Requirement already satisfied: catalogue<2.1.0,>=2.0.6 in /usr/local/lib/python3.8/dist-packages (from spacy) (2.0.8)\n",
            "Requirement already satisfied: wasabi<1.1.0,>=0.9.1 in /usr/local/lib/python3.8/dist-packages (from spacy) (0.10.1)\n",
            "Requirement already satisfied: langcodes<4.0.0,>=3.2.0 in /usr/local/lib/python3.8/dist-packages (from spacy) (3.3.0)\n",
            "Requirement already satisfied: packaging>=20.0 in /usr/local/lib/python3.8/dist-packages (from spacy) (21.3)\n",
            "Requirement already satisfied: typer<0.8.0,>=0.3.0 in /usr/local/lib/python3.8/dist-packages (from spacy) (0.7.0)\n",
            "Requirement already satisfied: jinja2 in /usr/local/lib/python3.8/dist-packages (from spacy) (2.11.3)\n",
            "Requirement already satisfied: setuptools in /usr/local/lib/python3.8/dist-packages (from spacy) (57.4.0)\n",
            "Requirement already satisfied: srsly<3.0.0,>=2.4.3 in /usr/local/lib/python3.8/dist-packages (from spacy) (2.4.5)\n",
            "Requirement already satisfied: spacy-loggers<2.0.0,>=1.0.0 in /usr/local/lib/python3.8/dist-packages (from spacy) (1.0.4)\n",
            "Requirement already satisfied: thinc<8.2.0,>=8.1.0 in /usr/local/lib/python3.8/dist-packages (from spacy) (8.1.6)\n",
            "Requirement already satisfied: pathy>=0.3.5 in /usr/local/lib/python3.8/dist-packages (from spacy) (0.10.1)\n",
            "Requirement already satisfied: cymem<2.1.0,>=2.0.2 in /usr/local/lib/python3.8/dist-packages (from spacy) (2.0.7)\n",
            "Requirement already satisfied: regex>=2021.8.3 in /usr/local/lib/python3.8/dist-packages (from nltk) (2022.6.2)\n",
            "Requirement already satisfied: joblib in /usr/local/lib/python3.8/dist-packages (from nltk) (1.2.0)\n",
            "Requirement already satisfied: click in /usr/local/lib/python3.8/dist-packages (from nltk) (7.1.2)\n",
            "Requirement already satisfied: pyparsing!=3.0.5,>=2.0.2 in /usr/local/lib/python3.8/dist-packages (from packaging>=20.0->spacy) (3.0.9)\n",
            "Requirement already satisfied: typing-extensions>=4.1.0 in /usr/local/lib/python3.8/dist-packages (from pydantic!=1.8,!=1.8.1,<1.11.0,>=1.7.4->spacy) (4.4.0)\n",
            "Requirement already satisfied: certifi>=2017.4.17 in /usr/local/lib/python3.8/dist-packages (from requests<3.0.0,>=2.13.0->spacy) (2022.12.7)\n",
            "Requirement already satisfied: urllib3<1.27,>=1.21.1 in /usr/local/lib/python3.8/dist-packages (from requests<3.0.0,>=2.13.0->spacy) (1.24.3)\n",
            "Requirement already satisfied: idna<3,>=2.5 in /usr/local/lib/python3.8/dist-packages (from requests<3.0.0,>=2.13.0->spacy) (2.10)\n",
            "Requirement already satisfied: chardet<5,>=3.0.2 in /usr/local/lib/python3.8/dist-packages (from requests<3.0.0,>=2.13.0->spacy) (4.0.0)\n",
            "Requirement already satisfied: confection<1.0.0,>=0.0.1 in /usr/local/lib/python3.8/dist-packages (from thinc<8.2.0,>=8.1.0->spacy) (0.0.3)\n",
            "Requirement already satisfied: blis<0.8.0,>=0.7.8 in /usr/local/lib/python3.8/dist-packages (from thinc<8.2.0,>=8.1.0->spacy) (0.7.9)\n",
            "Requirement already satisfied: MarkupSafe>=0.23 in /usr/local/lib/python3.8/dist-packages (from jinja2->spacy) (2.0.1)\n"
          ]
        }
      ],
      "source": [
        "import tensorflow as tf\n",
        "tf.test.gpu_device_name()\n",
        "import numpy as np \n",
        "import pandas as pd \n",
        "import seaborn as sns\n",
        "!pip install gensim spacy nltk\n",
        "import re \n",
        "import gensim\n",
        "import spacy"
      ]
    },
    {
      "cell_type": "code",
      "execution_count": 2,
      "metadata": {
        "colab": {
          "base_uri": "https://localhost:8080/"
        },
        "id": "Dek5aCWdNAM8",
        "outputId": "4f38c563-2704-43ef-d6ff-5a3c56b71967"
      },
      "outputs": [
        {
          "output_type": "stream",
          "name": "stdout",
          "text": [
            "Mounted at /content/drive\n"
          ]
        }
      ],
      "source": [
        "# Load the Drive helper and mount\n",
        "from google.colab import drive\n",
        "\n",
        "# This will prompt for authorization.\n",
        "drive.mount('/content/drive', force_remount=True)"
      ]
    },
    {
      "cell_type": "code",
      "execution_count": 3,
      "metadata": {
        "id": "Lmo4neG-OfsV"
      },
      "outputs": [],
      "source": [
        "data= pd.read_csv('/content/drive/My Drive/Bachelor/Cleaned Data/Sarcasm.csv') "
      ]
    },
    {
      "cell_type": "code",
      "execution_count": 4,
      "metadata": {
        "colab": {
          "base_uri": "https://localhost:8080/"
        },
        "id": "TeYcAwqjOhPh",
        "outputId": "1ea7623f-16dc-45bb-a799-1fcaa034c0a4"
      },
      "outputs": [
        {
          "output_type": "stream",
          "name": "stdout",
          "text": [
            "max length is: 56\n"
          ]
        }
      ],
      "source": [
        "import numpy as np\n",
        "max_sequence_length = np.max(data['Number of Words in tweet'])\n",
        "print(\"max length is:\", max_sequence_length)"
      ]
    },
    {
      "cell_type": "code",
      "execution_count": 5,
      "metadata": {
        "id": "CbbKvvYxOiKo"
      },
      "outputs": [],
      "source": [
        "text = data['cleaned_tweet']\n",
        "label = data['sarcasm']"
      ]
    },
    {
      "cell_type": "code",
      "execution_count": 6,
      "metadata": {
        "colab": {
          "base_uri": "https://localhost:8080/"
        },
        "id": "-bu_FkO8OjTa",
        "outputId": "84b3975e-645b-494c-d5fd-871e2b720578"
      },
      "outputs": [
        {
          "output_type": "stream",
          "name": "stdout",
          "text": [
            "Found 55395 unique tokens.\n",
            "Shape of data tensor: (26095, 56)\n"
          ]
        }
      ],
      "source": [
        "import keras\n",
        "from keras.preprocessing.text import Tokenizer\n",
        "\n",
        "tokenizer = Tokenizer(num_words=30000)\n",
        "tokenizer.fit_on_texts(text.astype(str))\n",
        "sequences = tokenizer.texts_to_sequences(text.astype(str))\n",
        "\n",
        "word_index = tokenizer.word_index   # a dictionary of each word and its index\n",
        "print('Found %s unique tokens.' % len(word_index))\n",
        "\n",
        "\n",
        "from keras_preprocessing.sequence import pad_sequences\n",
        "data = pad_sequences(sequences, maxlen=max_sequence_length)\n",
        "print('Shape of data tensor:', data.shape)"
      ]
    },
    {
      "cell_type": "code",
      "execution_count": 7,
      "metadata": {
        "colab": {
          "base_uri": "https://localhost:8080/"
        },
        "id": "S3emOVuXOqwy",
        "outputId": "b1b32fb3-4981-4484-f845-52e46b150600"
      },
      "outputs": [
        {
          "output_type": "stream",
          "name": "stdout",
          "text": [
            "Shape of label tensor: (26095, 2)\n"
          ]
        }
      ],
      "source": [
        "from keras.utils import to_categorical\n",
        "labels = to_categorical(np.asarray(label))  ## one hot of the output\n",
        "print('Shape of label tensor:', labels.shape)"
      ]
    },
    {
      "cell_type": "code",
      "execution_count": 8,
      "metadata": {
        "id": "i1IEF0VpO4GH"
      },
      "outputs": [],
      "source": [
        "# #shuffle the data\n",
        "\n",
        "indices = np.arange(data.shape[0])\n",
        "np.random.shuffle(indices)\n",
        "data = data[indices]\n",
        "labels = labels[indices]\n",
        "\n",
        "# split the data into training, testing\n",
        "\n",
        "nb_validation_samples = int(0.25* data.shape[0])\n",
        "x_train = data[:-nb_validation_samples]\n",
        "y_train = labels[:-nb_validation_samples]\n",
        "x_test = data[-nb_validation_samples:]\n",
        "y_test = labels[-nb_validation_samples:]"
      ]
    },
    {
      "cell_type": "code",
      "execution_count": 8,
      "metadata": {
        "id": "scboZpXEO9sx"
      },
      "outputs": [],
      "source": []
    },
    {
      "cell_type": "markdown",
      "metadata": {
        "id": "__PYCbUTQC49"
      },
      "source": [
        "# Arabert"
      ]
    },
    {
      "cell_type": "code",
      "execution_count": 9,
      "metadata": {
        "colab": {
          "base_uri": "https://localhost:8080/"
        },
        "id": "8T9dar5-QFlV",
        "outputId": "61a3208c-828d-4e93-b747-f0e1e967ebf7"
      },
      "outputs": [
        {
          "output_type": "stream",
          "name": "stdout",
          "text": [
            "Looking in indexes: https://pypi.org/simple, https://us-python.pkg.dev/colab-wheels/public/simple/\n",
            "Collecting bert-for-tf2\n",
            "  Downloading bert-for-tf2-0.14.9.tar.gz (41 kB)\n",
            "\u001b[?25l     \u001b[90m━━━━━━━━━━━━━━━━━━━━━━━━━━━━━━━━━━━━━━━━\u001b[0m \u001b[32m0.0/41.2 KB\u001b[0m \u001b[31m?\u001b[0m eta \u001b[36m-:--:--\u001b[0m\r\u001b[2K     \u001b[90m━━━━━━━━━━━━━━━━━━━━━━━━━━━━━━━━━━━━━━━━\u001b[0m \u001b[32m41.2/41.2 KB\u001b[0m \u001b[31m3.1 MB/s\u001b[0m eta \u001b[36m0:00:00\u001b[0m\n",
            "\u001b[?25h  Preparing metadata (setup.py) ... \u001b[?25l\u001b[?25hdone\n",
            "Collecting py-params>=0.9.6\n",
            "  Downloading py-params-0.10.2.tar.gz (7.4 kB)\n",
            "  Preparing metadata (setup.py) ... \u001b[?25l\u001b[?25hdone\n",
            "Collecting params-flow>=0.8.0\n",
            "  Downloading params-flow-0.8.2.tar.gz (22 kB)\n",
            "  Preparing metadata (setup.py) ... \u001b[?25l\u001b[?25hdone\n",
            "Requirement already satisfied: numpy in /usr/local/lib/python3.8/dist-packages (from params-flow>=0.8.0->bert-for-tf2) (1.21.6)\n",
            "Requirement already satisfied: tqdm in /usr/local/lib/python3.8/dist-packages (from params-flow>=0.8.0->bert-for-tf2) (4.64.1)\n",
            "Building wheels for collected packages: bert-for-tf2, params-flow, py-params\n",
            "  Building wheel for bert-for-tf2 (setup.py) ... \u001b[?25l\u001b[?25hdone\n",
            "  Created wheel for bert-for-tf2: filename=bert_for_tf2-0.14.9-py3-none-any.whl size=30534 sha256=bb41fc5214661cdff1169e70f41e844028675151ad1084554e56f2e2edd21ac2\n",
            "  Stored in directory: /root/.cache/pip/wheels/ab/a4/72/df07592cea3ae06b5e846f5e52262f8b16748e829ca354b7df\n",
            "  Building wheel for params-flow (setup.py) ... \u001b[?25l\u001b[?25hdone\n",
            "  Created wheel for params-flow: filename=params_flow-0.8.2-py3-none-any.whl size=19472 sha256=c2fa72c49e1b805d83b90b09d9c4806128a3325f8e62117777ddfc40eed05bb8\n",
            "  Stored in directory: /root/.cache/pip/wheels/c7/f3/85/b8cf1d8bfe55dc2ece0f1fcd4e91d6f8fc7b59ff3fd75329e1\n",
            "  Building wheel for py-params (setup.py) ... \u001b[?25l\u001b[?25hdone\n",
            "  Created wheel for py-params: filename=py_params-0.10.2-py3-none-any.whl size=7911 sha256=d00a191b25fb73d8db95245bf30aa5defd09ebb2b4d4da342e0efd4feea4f09e\n",
            "  Stored in directory: /root/.cache/pip/wheels/ac/26/e9/df16869ccbd4abf517f1ff3be9a2c7ee5c5980fc87eea04fb1\n",
            "Successfully built bert-for-tf2 params-flow py-params\n",
            "Installing collected packages: py-params, params-flow, bert-for-tf2\n",
            "Successfully installed bert-for-tf2-0.14.9 params-flow-0.8.2 py-params-0.10.2\n",
            "Looking in indexes: https://pypi.org/simple, https://us-python.pkg.dev/colab-wheels/public/simple/\n",
            "Collecting pyarabic\n",
            "  Downloading PyArabic-0.6.15-py3-none-any.whl (126 kB)\n",
            "\u001b[2K     \u001b[90m━━━━━━━━━━━━━━━━━━━━━━━━━━━━━━━━━━━━━━━\u001b[0m \u001b[32m126.4/126.4 KB\u001b[0m \u001b[31m3.1 MB/s\u001b[0m eta \u001b[36m0:00:00\u001b[0m\n",
            "\u001b[?25hRequirement already satisfied: six>=1.14.0 in /usr/local/lib/python3.8/dist-packages (from pyarabic) (1.15.0)\n",
            "Installing collected packages: pyarabic\n",
            "Successfully installed pyarabic-0.6.15\n",
            "Cloning into 'arabert'...\n",
            "remote: Enumerating objects: 600, done.\u001b[K\n",
            "remote: Counting objects: 100% (65/65), done.\u001b[K\n",
            "remote: Compressing objects: 100% (33/33), done.\u001b[K\n",
            "remote: Total 600 (delta 38), reused 45 (delta 30), pack-reused 535\u001b[K\n",
            "Receiving objects: 100% (600/600), 9.14 MiB | 23.06 MiB/s, done.\n",
            "Resolving deltas: 100% (339/339), done.\n",
            "Looking in indexes: https://pypi.org/simple, https://us-python.pkg.dev/colab-wheels/public/simple/\n",
            "Collecting transformers\n",
            "  Downloading transformers-4.25.1-py3-none-any.whl (5.8 MB)\n",
            "\u001b[2K     \u001b[90m━━━━━━━━━━━━━━━━━━━━━━━━━━━━━━━━━━━━━━━━\u001b[0m \u001b[32m5.8/5.8 MB\u001b[0m \u001b[31m50.7 MB/s\u001b[0m eta \u001b[36m0:00:00\u001b[0m\n",
            "\u001b[?25hRequirement already satisfied: pyyaml>=5.1 in /usr/local/lib/python3.8/dist-packages (from transformers) (6.0)\n",
            "Requirement already satisfied: tqdm>=4.27 in /usr/local/lib/python3.8/dist-packages (from transformers) (4.64.1)\n",
            "Requirement already satisfied: requests in /usr/local/lib/python3.8/dist-packages (from transformers) (2.25.1)\n",
            "Collecting huggingface-hub<1.0,>=0.10.0\n",
            "  Downloading huggingface_hub-0.11.1-py3-none-any.whl (182 kB)\n",
            "\u001b[2K     \u001b[90m━━━━━━━━━━━━━━━━━━━━━━━━━━━━━━━━━━━━━━\u001b[0m \u001b[32m182.4/182.4 KB\u001b[0m \u001b[31m15.1 MB/s\u001b[0m eta \u001b[36m0:00:00\u001b[0m\n",
            "\u001b[?25hCollecting tokenizers!=0.11.3,<0.14,>=0.11.1\n",
            "  Downloading tokenizers-0.13.2-cp38-cp38-manylinux_2_17_x86_64.manylinux2014_x86_64.whl (7.6 MB)\n",
            "\u001b[2K     \u001b[90m━━━━━━━━━━━━━━━━━━━━━━━━━━━━━━━━━━━━━━━━\u001b[0m \u001b[32m7.6/7.6 MB\u001b[0m \u001b[31m75.2 MB/s\u001b[0m eta \u001b[36m0:00:00\u001b[0m\n",
            "\u001b[?25hRequirement already satisfied: filelock in /usr/local/lib/python3.8/dist-packages (from transformers) (3.8.2)\n",
            "Requirement already satisfied: regex!=2019.12.17 in /usr/local/lib/python3.8/dist-packages (from transformers) (2022.6.2)\n",
            "Requirement already satisfied: numpy>=1.17 in /usr/local/lib/python3.8/dist-packages (from transformers) (1.21.6)\n",
            "Requirement already satisfied: packaging>=20.0 in /usr/local/lib/python3.8/dist-packages (from transformers) (21.3)\n",
            "Requirement already satisfied: typing-extensions>=3.7.4.3 in /usr/local/lib/python3.8/dist-packages (from huggingface-hub<1.0,>=0.10.0->transformers) (4.4.0)\n",
            "Requirement already satisfied: pyparsing!=3.0.5,>=2.0.2 in /usr/local/lib/python3.8/dist-packages (from packaging>=20.0->transformers) (3.0.9)\n",
            "Requirement already satisfied: urllib3<1.27,>=1.21.1 in /usr/local/lib/python3.8/dist-packages (from requests->transformers) (1.24.3)\n",
            "Requirement already satisfied: certifi>=2017.4.17 in /usr/local/lib/python3.8/dist-packages (from requests->transformers) (2022.12.7)\n",
            "Requirement already satisfied: idna<3,>=2.5 in /usr/local/lib/python3.8/dist-packages (from requests->transformers) (2.10)\n",
            "Requirement already satisfied: chardet<5,>=3.0.2 in /usr/local/lib/python3.8/dist-packages (from requests->transformers) (4.0.0)\n",
            "Installing collected packages: tokenizers, huggingface-hub, transformers\n",
            "Successfully installed huggingface-hub-0.11.1 tokenizers-0.13.2 transformers-4.25.1\n"
          ]
        }
      ],
      "source": [
        "!pip install bert-for-tf2\n",
        "!pip install pyarabic\n",
        "!git clone https://github.com/aub-mind/arabert\n",
        "!pip install transformers"
      ]
    },
    {
      "cell_type": "code",
      "execution_count": 10,
      "metadata": {
        "id": "HPB_5gUGQK8Y"
      },
      "outputs": [],
      "source": [
        "import numpy as np\n",
        "import math\n",
        "import re\n",
        "import pandas as pd\n",
        "import random\n",
        "\n",
        "from sklearn.preprocessing import StandardScaler\n",
        "from sklearn.svm import SVC\n",
        "from sklearn.metrics import confusion_matrix\n",
        "from sklearn.metrics import precision_score, recall_score, f1_score, accuracy_score\n",
        "import matplotlib.pyplot as plt"
      ]
    },
    {
      "cell_type": "code",
      "execution_count": 11,
      "metadata": {
        "colab": {
          "base_uri": "https://localhost:8080/"
        },
        "id": "OoemK47uQPkJ",
        "outputId": "7214da59-735a-42ef-8a77-dfd575fdad08"
      },
      "outputs": [
        {
          "output_type": "stream",
          "name": "stdout",
          "text": [
            "Colab only includes TensorFlow 2.x; %tensorflow_version has no effect.\n"
          ]
        }
      ],
      "source": [
        "try:\n",
        "    %tensorflow_version 2.x\n",
        "except Exception:\n",
        "    pass\n",
        "import tensorflow as tf\n",
        "\n",
        "import tensorflow_hub as hub\n",
        "\n",
        "from tensorflow.keras import layers\n",
        "import bert\n",
        "from transformers import AutoTokenizer, AutoModel"
      ]
    },
    {
      "cell_type": "code",
      "execution_count": 12,
      "metadata": {
        "colab": {
          "base_uri": "https://localhost:8080/",
          "height": 0,
          "referenced_widgets": [
            "ac37e481f92b4cc89e7de9e0ea87ed5f",
            "0fb6690615b34698b9ecfd7af1ea5d2d",
            "b0843bcc53044f249464ad7cca361227",
            "6015a71b10d24f4a8fcd60cee26c0a3f",
            "6e0cf2efbd364b4aae5c08d43bc123f2",
            "d29e1216a12b41618a6dc5956f8b1484",
            "e4d6685c7c14437cb977b4789fd057bd",
            "da0b4f3e720b4987b6dce2f0617c39f0",
            "1acb544cafe343e5ae0faee7c0296926",
            "38538ae456a944f0ad35eef87f104f7f",
            "ecfa6e25f12d4b68a57aa02cb4d4a8ff",
            "acdf05bbad684cafb2e7bfdf8b55b097",
            "b44c8d3cb22e4061a69f19955571d663",
            "26d445391b224b4b82612c513505be34",
            "497fcbfc280d4c91853edf2589785973",
            "c8b5710731a845779363d07af67d93a2",
            "ca97662f0f384d4b9671b186dd86a26d",
            "55ceb9e5b18c43478114a3accd1ae8c7",
            "5a2accff0d05404f91de9e3f36886f27",
            "67a6564247274764a50323d92b8ab962",
            "d42c40c9dcab4082acc287789230a3fc",
            "3ecdf8736dfc4dac9d7af435513a8a4d",
            "50aca5a1ea084c508cca3a2fd21ef675",
            "5714527248af40c3a5fe893115a6289a",
            "46f933d07aa64e6496363afefab4f83f",
            "ae7de8dd34264750890fa520def04708",
            "18cd9460fc86455184663c3604e3fcf4",
            "0ba43a95df154776967851f2ffa351d8",
            "e3fcad59d722498eb31d50a023f0407d",
            "485935fbee134bb8adb7fd625d36f996",
            "be11c1c9a57e480f87d65ed544bf5967",
            "958d28e87e9f49d2ba03ad8abbf5a32f",
            "88b1294a4d0d4f71981cc21a5a6ae654",
            "a4c1cbb884d946fdb3dd3cd22003f210",
            "5b93485df3c34ec7be96b64a77c3dc05",
            "c15e01915a634c19aa87c90dc7d59171",
            "ade264846e6941d9b023cca2b0c80dcd",
            "0efe1c4cef964c8b8c3758eb06a469a0",
            "ef3c679a016d43c2962ba91d60c9e74e",
            "5b0d69819e1d44b0bd7a0fdd92019114",
            "2cf425afc15d4c9ca6d3b55c553003ad",
            "c92b4347efd74f0fa84fe022742303f8",
            "7d5326bc973e4810b0b41c2956956d50",
            "e290a3aba65c4eccbe42d71bfb605acc",
            "c0582b70f93e4666948ba3460340aec7",
            "337e7af9add34d63a3718eac37a50e9d",
            "b45db34ae9ad46649d12871c0658c5e8",
            "6185130906444795ae57a5ef14f91016",
            "055c78066bf14141bbb4e984e1c1597c",
            "b02478ce10e543e59601cd49637d0a8f",
            "71fad89ede30499e821724acfcf779ef",
            "e116e9b196f8452a89fc7e79264848dd",
            "24f914c697624979b532d03d6758d74f",
            "cd55a01920d6491d9432ed398583c7db",
            "c5c8ccc2a1204cf4880019126064d0ee"
          ]
        },
        "id": "nXHxjYL6QRIP",
        "outputId": "5e52aeba-b9b1-4ac2-d3c3-ae180da0f3af"
      },
      "outputs": [
        {
          "output_type": "display_data",
          "data": {
            "text/plain": [
              "Downloading:   0%|          | 0.00/379 [00:00<?, ?B/s]"
            ],
            "application/vnd.jupyter.widget-view+json": {
              "version_major": 2,
              "version_minor": 0,
              "model_id": "ac37e481f92b4cc89e7de9e0ea87ed5f"
            }
          },
          "metadata": {}
        },
        {
          "output_type": "display_data",
          "data": {
            "text/plain": [
              "Downloading:   0%|          | 0.00/576 [00:00<?, ?B/s]"
            ],
            "application/vnd.jupyter.widget-view+json": {
              "version_major": 2,
              "version_minor": 0,
              "model_id": "acdf05bbad684cafb2e7bfdf8b55b097"
            }
          },
          "metadata": {}
        },
        {
          "output_type": "display_data",
          "data": {
            "text/plain": [
              "Downloading:   0%|          | 0.00/780k [00:00<?, ?B/s]"
            ],
            "application/vnd.jupyter.widget-view+json": {
              "version_major": 2,
              "version_minor": 0,
              "model_id": "50aca5a1ea084c508cca3a2fd21ef675"
            }
          },
          "metadata": {}
        },
        {
          "output_type": "display_data",
          "data": {
            "text/plain": [
              "Downloading:   0%|          | 0.00/2.70M [00:00<?, ?B/s]"
            ],
            "application/vnd.jupyter.widget-view+json": {
              "version_major": 2,
              "version_minor": 0,
              "model_id": "a4c1cbb884d946fdb3dd3cd22003f210"
            }
          },
          "metadata": {}
        },
        {
          "output_type": "display_data",
          "data": {
            "text/plain": [
              "Downloading:   0%|          | 0.00/112 [00:00<?, ?B/s]"
            ],
            "application/vnd.jupyter.widget-view+json": {
              "version_major": 2,
              "version_minor": 0,
              "model_id": "c0582b70f93e4666948ba3460340aec7"
            }
          },
          "metadata": {}
        }
      ],
      "source": [
        "arabert_tokenizer = AutoTokenizer.from_pretrained(\"aubmindlab/bert-base-arabertv01\",do_lower_case=False)\n",
        "def encode_sentence(sent):\n",
        "    tokenized = arabert_tokenizer.tokenize(sent)\n",
        "    return arabert_tokenizer.convert_tokens_to_ids(tokenized)"
      ]
    },
    {
      "cell_type": "code",
      "execution_count": 13,
      "metadata": {
        "id": "KtdtQlpjQScU"
      },
      "outputs": [],
      "source": [
        "VOCAB_SIZE = len(arabert_tokenizer.get_vocab())\n",
        "EMB_DIM = 200"
      ]
    },
    {
      "cell_type": "markdown",
      "metadata": {
        "id": "P6YftiGlw1an"
      },
      "source": [
        "# RNN-BiLSTM"
      ]
    },
    {
      "cell_type": "code",
      "execution_count": null,
      "metadata": {
        "colab": {
          "base_uri": "https://localhost:8080/"
        },
        "id": "WORMq6uaw1an",
        "outputId": "0f478862-62ae-4787-b2e9-4b6d68148b0b"
      },
      "outputs": [
        {
          "name": "stdout",
          "output_type": "stream",
          "text": [
            "Epoch 1/10\n"
          ]
        },
        {
          "name": "stderr",
          "output_type": "stream",
          "text": [
            "/usr/local/lib/python3.8/dist-packages/tensorflow/python/util/dispatch.py:1082: UserWarning: \"`binary_crossentropy` received `from_logits=True`, but the `output` argument was produced by a sigmoid or softmax activation and thus does not represent logits. Was this intended?\"\n",
            "  return dispatch_target(*args, **kwargs)\n"
          ]
        },
        {
          "name": "stdout",
          "output_type": "stream",
          "text": [
            "612/612 [==============================] - 61s 94ms/step - loss: 0.4584 - accuracy: 0.8216\n",
            "Epoch 2/10\n",
            "612/612 [==============================] - 40s 66ms/step - loss: 0.2633 - accuracy: 0.9009\n",
            "Epoch 3/10\n",
            "612/612 [==============================] - 50s 81ms/step - loss: 0.1335 - accuracy: 0.9551\n",
            "Epoch 4/10\n",
            "612/612 [==============================] - 69s 113ms/step - loss: 0.0764 - accuracy: 0.9761\n",
            "Epoch 5/10\n",
            "612/612 [==============================] - 68s 111ms/step - loss: 0.0489 - accuracy: 0.9863\n",
            "Epoch 6/10\n",
            "612/612 [==============================] - 50s 81ms/step - loss: 0.0388 - accuracy: 0.9897\n",
            "Epoch 7/10\n",
            "612/612 [==============================] - 40s 65ms/step - loss: 0.0322 - accuracy: 0.9916\n",
            "Epoch 8/10\n",
            "612/612 [==============================] - 41s 67ms/step - loss: 0.0292 - accuracy: 0.9920\n",
            "Epoch 9/10\n",
            "612/612 [==============================] - 39s 64ms/step - loss: 0.0256 - accuracy: 0.9923\n",
            "Epoch 10/10\n",
            "612/612 [==============================] - 39s 63ms/step - loss: 0.0223 - accuracy: 0.9925\n"
          ]
        },
        {
          "data": {
            "text/plain": [
              "<keras.callbacks.History at 0x7fae73ad7970>"
            ]
          },
          "execution_count": 50,
          "metadata": {},
          "output_type": "execute_result"
        }
      ],
      "source": [
        "# RNN layer followed by a BiLSTM layer and also a Softmax activation function for classification, with an Adam optimizer\n",
        "\n",
        "from tensorflow.keras import layers\n",
        "model = tf.keras.Sequential([\n",
        "    tf.keras.layers.Embedding(VOCAB_SIZE, EMB_DIM),\n",
        "    tf.keras.layers.SimpleRNN(64, return_sequences=True),\n",
        "    tf.keras.layers.Bidirectional(tf.keras.layers.LSTM(32)),\n",
        "    tf.keras.layers.Dense(EMB_DIM, activation='relu'),\n",
        "    tf.keras.layers.Dropout(0.5),\n",
        "    tf.keras.layers.Dense(2,activation='softmax')\n",
        "])\n",
        "\n",
        "model.compile(loss=tf.keras.losses.BinaryCrossentropy(from_logits=True),\n",
        "              optimizer=tf.keras.optimizers.Adam(1e-4),\n",
        "              metrics=['accuracy'])\n",
        "\n",
        "model.fit(x_train, y_train, batch_size=32, epochs=10)"
      ]
    },
    {
      "cell_type": "code",
      "execution_count": null,
      "metadata": {
        "colab": {
          "base_uri": "https://localhost:8080/"
        },
        "id": "Xqgit6V4w1ao",
        "outputId": "586bfb93-a7df-4dba-dd59-778f3bbf27e2"
      },
      "outputs": [
        {
          "name": "stdout",
          "output_type": "stream",
          "text": [
            "204/204 [==============================] - 2s 8ms/step\n",
            "Recall: 0.929\n",
            "The Confusion Matrix is [[5276   82]\n",
            " [  83 1082]]\n",
            "Accuracy: 0.975\n",
            "F1 Score: 0.929\n",
            "Precision: 0.930\n"
          ]
        }
      ],
      "source": [
        "predictions= model.predict(x_test)\n",
        "predictions=np.argmax(predictions, axis=1)\n",
        "y_test=np.argmax(y_test, axis=1)\n",
        "\n",
        "print('Recall: %.3f' % recall_score(y_test, predictions))\n",
        "cm = confusion_matrix(y_test, predictions)\n",
        "print('The Confusion Matrix is', cm)\n",
        "print('Accuracy: %.3f' % accuracy_score(y_test, predictions))\n",
        "print('F1 Score: %.3f' % f1_score(y_test, predictions))\n",
        "print('Precision: %.3f' % precision_score(y_test, predictions))"
      ]
    },
    {
      "cell_type": "code",
      "execution_count": null,
      "metadata": {
        "id": "3cksyqOlw1ao"
      },
      "outputs": [],
      "source": []
    },
    {
      "cell_type": "code",
      "execution_count": null,
      "metadata": {
        "colab": {
          "base_uri": "https://localhost:8080/"
        },
        "id": "9t-f1Bfow1ao",
        "outputId": "cd9bb826-67b1-4364-d361-974f92e8c808"
      },
      "outputs": [
        {
          "name": "stdout",
          "output_type": "stream",
          "text": [
            "Epoch 1/10\n"
          ]
        },
        {
          "name": "stderr",
          "output_type": "stream",
          "text": [
            "/usr/local/lib/python3.8/dist-packages/tensorflow/python/util/dispatch.py:1082: UserWarning: \"`binary_crossentropy` received `from_logits=True`, but the `output` argument was produced by a sigmoid or softmax activation and thus does not represent logits. Was this intended?\"\n",
            "  return dispatch_target(*args, **kwargs)\n"
          ]
        },
        {
          "name": "stdout",
          "output_type": "stream",
          "text": [
            "612/612 [==============================] - 42s 64ms/step - loss: 0.4597 - accuracy: 0.8219\n",
            "Epoch 2/10\n",
            "612/612 [==============================] - 39s 64ms/step - loss: 0.2706 - accuracy: 0.8964\n",
            "Epoch 3/10\n",
            "612/612 [==============================] - 39s 63ms/step - loss: 0.1337 - accuracy: 0.9543\n",
            "Epoch 4/10\n",
            "612/612 [==============================] - 41s 67ms/step - loss: 0.0752 - accuracy: 0.9762\n",
            "Epoch 5/10\n",
            "612/612 [==============================] - 39s 64ms/step - loss: 0.0517 - accuracy: 0.9848\n",
            "Epoch 6/10\n",
            "612/612 [==============================] - 39s 64ms/step - loss: 0.0411 - accuracy: 0.9891\n",
            "Epoch 7/10\n",
            "612/612 [==============================] - 39s 64ms/step - loss: 0.0338 - accuracy: 0.9905\n",
            "Epoch 8/10\n",
            "612/612 [==============================] - 41s 67ms/step - loss: 0.0305 - accuracy: 0.9911\n",
            "Epoch 9/10\n",
            "612/612 [==============================] - 39s 63ms/step - loss: 0.0253 - accuracy: 0.9918\n",
            "Epoch 10/10\n",
            "612/612 [==============================] - 39s 64ms/step - loss: 0.0231 - accuracy: 0.9924\n"
          ]
        },
        {
          "data": {
            "text/plain": [
              "<keras.callbacks.History at 0x7fae71014100>"
            ]
          },
          "execution_count": 53,
          "metadata": {},
          "output_type": "execute_result"
        }
      ],
      "source": [
        "#RNN - BiLSTM with flatten \n",
        "\n",
        "from tensorflow.keras import layers\n",
        "model1 = tf.keras.Sequential([\n",
        "    tf.keras.layers.Embedding(VOCAB_SIZE, EMB_DIM),\n",
        "    tf.keras.layers.SimpleRNN(64, return_sequences=True),\n",
        "    tf.keras.layers.Bidirectional(tf.keras.layers.LSTM(32)),\n",
        "    tf.keras.layers.Flatten(), \n",
        "    tf.keras.layers.Dense(EMB_DIM, activation='relu'),\n",
        "    tf.keras.layers.Dropout(0.5),\n",
        "    tf.keras.layers.Dense(2,activation='softmax')\n",
        "])\n",
        "\n",
        "model1.compile(loss=tf.keras.losses.BinaryCrossentropy(from_logits=True),\n",
        "              optimizer=tf.keras.optimizers.Adam(1e-4),\n",
        "              metrics=['accuracy'])\n",
        "\n",
        "model1.fit(x_train, y_train, batch_size=32, epochs=10)"
      ]
    },
    {
      "cell_type": "code",
      "execution_count": null,
      "metadata": {
        "colab": {
          "base_uri": "https://localhost:8080/"
        },
        "id": "lXuNEz2jw1ao",
        "outputId": "1721adc2-1df0-49b8-e659-c7eda22e4ced"
      },
      "outputs": [
        {
          "name": "stdout",
          "output_type": "stream",
          "text": [
            "204/204 [==============================] - 2s 8ms/step\n",
            "Recall: 0.917\n",
            "The Confusion Matrix is [[5267   85]\n",
            " [  97 1074]]\n",
            "Accuracy: 0.972\n",
            "F1 Score: 0.922\n",
            "Precision: 0.927\n"
          ]
        }
      ],
      "source": [
        "predictions1= model1.predict(x_test)\n",
        "predictions1=np.argmax(predictions1, axis=1)\n",
        "y_test=np.argmax(y_test, axis=1)\n",
        "\n",
        "print('Recall: %.3f' % recall_score(y_test, predictions1))\n",
        "cm = confusion_matrix(y_test, predictions1)\n",
        "print('The Confusion Matrix is', cm)\n",
        "print('Accuracy: %.3f' % accuracy_score(y_test, predictions1))\n",
        "print('F1 Score: %.3f' % f1_score(y_test, predictions1))\n",
        "print('Precision: %.3f' % precision_score(y_test, predictions1))"
      ]
    },
    {
      "cell_type": "markdown",
      "metadata": {
        "id": "YSamL8nIrdMW"
      },
      "source": [
        "# Learning Rates & Optimizers Tuning"
      ]
    },
    {
      "cell_type": "code",
      "execution_count": null,
      "metadata": {
        "colab": {
          "base_uri": "https://localhost:8080/"
        },
        "id": "HCu0N-PgQ63L",
        "outputId": "ff44bf2f-95ba-4a78-9a91-51af979eddc6"
      },
      "outputs": [
        {
          "name": "stdout",
          "output_type": "stream",
          "text": [
            "Epoch 1/10\n"
          ]
        },
        {
          "name": "stderr",
          "output_type": "stream",
          "text": [
            "/usr/local/lib/python3.8/dist-packages/tensorflow/python/util/dispatch.py:1082: UserWarning: \"`binary_crossentropy` received `from_logits=True`, but the `output` argument was produced by a sigmoid or softmax activation and thus does not represent logits. Was this intended?\"\n",
            "  return dispatch_target(*args, **kwargs)\n"
          ]
        },
        {
          "name": "stdout",
          "output_type": "stream",
          "text": [
            "612/612 [==============================] - 60s 79ms/step - loss: 0.3924 - accuracy: 0.8430\n",
            "Epoch 2/10\n",
            "612/612 [==============================] - 66s 108ms/step - loss: 0.1421 - accuracy: 0.9504\n",
            "Epoch 3/10\n",
            "612/612 [==============================] - 45s 74ms/step - loss: 0.0366 - accuracy: 0.9889\n",
            "Epoch 4/10\n",
            "612/612 [==============================] - 46s 75ms/step - loss: 0.0177 - accuracy: 0.9927\n",
            "Epoch 5/10\n",
            "612/612 [==============================] - 64s 104ms/step - loss: 0.0121 - accuracy: 0.9941\n",
            "Epoch 6/10\n",
            "612/612 [==============================] - 49s 80ms/step - loss: 0.0167 - accuracy: 0.9927\n",
            "Epoch 7/10\n",
            "612/612 [==============================] - 62s 101ms/step - loss: 0.0122 - accuracy: 0.9931\n",
            "Epoch 8/10\n",
            "612/612 [==============================] - 68s 111ms/step - loss: 0.0100 - accuracy: 0.9940\n",
            "Epoch 9/10\n",
            "612/612 [==============================] - 52s 85ms/step - loss: 0.0089 - accuracy: 0.9941\n",
            "Epoch 10/10\n",
            "612/612 [==============================] - 38s 62ms/step - loss: 0.0089 - accuracy: 0.9942\n",
            "204/204 [==============================] - 3s 9ms/step - loss: 0.6174 - accuracy: 0.8991\n",
            "test accuracy is:  [0.6173729300498962, 0.8991261720657349]\n",
            "204/204 [==============================] - 2s 8ms/step\n",
            "Recall: 0.727\n",
            "The confusion matrix is [[5013  338]\n",
            " [ 320  852]]\n",
            "Accuracy: 0.899\n",
            "F1 Score: 0.721\n",
            "Precision: 0.716\n"
          ]
        }
      ],
      "source": [
        "#Model 5: 1  RNN - BiLSTM with flatten layer, Adam 1e-3\n",
        "\n",
        "VOCAB_SIZE = len(arabert_tokenizer.get_vocab())\n",
        "EMB_DIM = 200\n",
        "\n",
        "from tensorflow.keras import layers\n",
        "model14 = tf.keras.Sequential([\n",
        "    tf.keras.layers.Embedding(VOCAB_SIZE, EMB_DIM),\n",
        "    tf.keras.layers.SimpleRNN(64, return_sequences=True),\n",
        "    tf.keras.layers.Bidirectional(tf.keras.layers.LSTM(32)),\n",
        "    tf.keras.layers.Flatten(), \n",
        "    tf.keras.layers.Dense(EMB_DIM, activation='relu'),\n",
        "    tf.keras.layers.Dropout(0.5),\n",
        "    tf.keras.layers.Dense(2,activation='softmax')\n",
        "])\n",
        "\n",
        "model14.compile(loss=tf.keras.losses.BinaryCrossentropy(from_logits=True),\n",
        "              optimizer=tf.keras.optimizers.Adam(1e-3),\n",
        "              metrics=['accuracy'])\n",
        "\n",
        "model14.fit(x_train, y_train, batch_size=32, epochs=10)\n",
        "\n",
        "\n",
        "accuracy14= model14.evaluate(x_test, y_test)\n",
        "# print('test loss is:', loss)\n",
        "print('test accuracy is: ', accuracy14)\n",
        "\n",
        "\n",
        "predictions14= model14.predict(x_test)\n",
        "predictions14=np.argmax(predictions14, axis=1)\n",
        "y_test=np.argmax(y_test, axis=1)\n",
        "\n",
        "print('Recall: %.3f' % recall_score(y_test, predictions14))\n",
        "cm = confusion_matrix(y_test, predictions14)\n",
        "print('The confusion matrix is', cm)\n",
        "print('Accuracy: %.3f' % accuracy_score(y_test, predictions14))\n",
        "print('F1 Score: %.3f' % f1_score(y_test, predictions14))\n",
        "print('Precision: %.3f' % precision_score(y_test, predictions14))"
      ]
    },
    {
      "cell_type": "code",
      "execution_count": null,
      "metadata": {
        "colab": {
          "base_uri": "https://localhost:8080/"
        },
        "id": "vFK5kU3VQ65Y",
        "outputId": "52922b24-6860-45d1-b6d9-818003147dbf"
      },
      "outputs": [
        {
          "name": "stdout",
          "output_type": "stream",
          "text": [
            "Epoch 1/10\n"
          ]
        },
        {
          "name": "stderr",
          "output_type": "stream",
          "text": [
            "/usr/local/lib/python3.8/dist-packages/tensorflow/python/util/dispatch.py:1082: UserWarning: \"`binary_crossentropy` received `from_logits=True`, but the `output` argument was produced by a sigmoid or softmax activation and thus does not represent logits. Was this intended?\"\n",
            "  return dispatch_target(*args, **kwargs)\n"
          ]
        },
        {
          "name": "stdout",
          "output_type": "stream",
          "text": [
            "612/612 [==============================] - 41s 62ms/step - loss: 0.4325 - accuracy: 0.8275 - get_f1: 0.8275\n",
            "Epoch 2/10\n",
            "612/612 [==============================] - 38s 62ms/step - loss: 0.3221 - accuracy: 0.8664 - get_f1: 0.8663\n",
            "Epoch 3/10\n",
            "612/612 [==============================] - 38s 62ms/step - loss: 0.2603 - accuracy: 0.8940 - get_f1: 0.8941\n",
            "Epoch 4/10\n",
            "612/612 [==============================] - 39s 63ms/step - loss: 0.2127 - accuracy: 0.9188 - get_f1: 0.9188\n",
            "Epoch 5/10\n",
            "612/612 [==============================] - 38s 63ms/step - loss: 0.1787 - accuracy: 0.9329 - get_f1: 0.9330\n",
            "Epoch 6/10\n",
            "612/612 [==============================] - 39s 63ms/step - loss: 0.1552 - accuracy: 0.9425 - get_f1: 0.9425\n",
            "Epoch 7/10\n",
            "612/612 [==============================] - 43s 70ms/step - loss: 0.1392 - accuracy: 0.9484 - get_f1: 0.9484\n",
            "Epoch 8/10\n",
            "612/612 [==============================] - 40s 65ms/step - loss: 0.1295 - accuracy: 0.9550 - get_f1: 0.9550\n",
            "Epoch 9/10\n",
            "612/612 [==============================] - 49s 81ms/step - loss: 0.1156 - accuracy: 0.9603 - get_f1: 0.9603\n",
            "Epoch 10/10\n",
            "612/612 [==============================] - 39s 64ms/step - loss: 0.1041 - accuracy: 0.9635 - get_f1: 0.9635\n",
            "204/204 [==============================] - 3s 11ms/step - loss: 0.4679 - accuracy: 0.8829 - get_f1: 0.8829\n",
            "test accuracy is:  [0.4678954482078552, 0.8828759789466858, 0.8828521370887756]\n",
            "204/204 [==============================] - 2s 8ms/step\n",
            "Recall: 0.624\n",
            "The confusion matrix is [[5003  309]\n",
            " [ 455  756]]\n",
            "Accuracy: 0.883\n",
            "F1 Score: 0.664\n",
            "Precision: 0.710\n"
          ]
        }
      ],
      "source": [
        "#Model 5: 1  RNN - BiLSTM with flatten layer, Adam 1e-2\n",
        "\n",
        "VOCAB_SIZE = len(arabert_tokenizer.get_vocab())\n",
        "EMB_DIM = 200\n",
        "\n",
        "from tensorflow.keras import layers\n",
        "model15 = tf.keras.Sequential([\n",
        "    tf.keras.layers.Embedding(VOCAB_SIZE, EMB_DIM),\n",
        "    tf.keras.layers.SimpleRNN(64, return_sequences=True),\n",
        "    tf.keras.layers.Bidirectional(tf.keras.layers.LSTM(32)),\n",
        "    tf.keras.layers.Flatten(), \n",
        "    tf.keras.layers.Dense(EMB_DIM, activation='relu'),\n",
        "    tf.keras.layers.Dropout(0.5),\n",
        "    tf.keras.layers.Dense(2,activation='softmax')\n",
        "])\n",
        "\n",
        "model15.compile(loss=tf.keras.losses.BinaryCrossentropy(from_logits=True),\n",
        "              optimizer=tf.keras.optimizers.Adam(1e-2),\n",
        "              metrics=['accuracy'])\n",
        "\n",
        "model15.fit(x_train, y_train, batch_size=32, epochs=10)\n",
        "\n",
        "\n",
        "accuracy15= model15.evaluate(x_test, y_test)\n",
        "# print('test loss is:', loss)\n",
        "print('test accuracy is: ', accuracy15)\n",
        "\n",
        "\n",
        "predictions15= model15.predict(x_test)\n",
        "predictions15=np.argmax(predictions15, axis=1)\n",
        "y_test=np.argmax(y_test, axis=1)\n",
        "\n",
        "print('Recall: %.3f' % recall_score(y_test, predictions15))\n",
        "cm = confusion_matrix(y_test, predictions15)\n",
        "print('The confusion matrix is', cm)\n",
        "print('Accuracy: %.3f' % accuracy_score(y_test, predictions15))\n",
        "print('F1 Score: %.3f' % f1_score(y_test, predictions15))\n",
        "print('Precision: %.3f' % precision_score(y_test, predictions15))"
      ]
    },
    {
      "cell_type": "code",
      "execution_count": null,
      "metadata": {
        "colab": {
          "base_uri": "https://localhost:8080/"
        },
        "id": "getGjaLhQ678",
        "outputId": "baea9b92-c633-4200-8264-8dd4f682084f"
      },
      "outputs": [
        {
          "name": "stdout",
          "output_type": "stream",
          "text": [
            "Epoch 1/10\n"
          ]
        },
        {
          "name": "stderr",
          "output_type": "stream",
          "text": [
            "/usr/local/lib/python3.8/dist-packages/tensorflow/python/util/dispatch.py:1082: UserWarning: \"`binary_crossentropy` received `from_logits=True`, but the `output` argument was produced by a sigmoid or softmax activation and thus does not represent logits. Was this intended?\"\n",
            "  return dispatch_target(*args, **kwargs)\n"
          ]
        },
        {
          "name": "stdout",
          "output_type": "stream",
          "text": [
            "612/612 [==============================] - 43s 64ms/step - loss: 0.4970 - accuracy: 0.8175 - get_f1: 0.8176\n",
            "Epoch 2/10\n",
            "612/612 [==============================] - 39s 64ms/step - loss: 0.4696 - accuracy: 0.8222 - get_f1: 0.8223\n",
            "Epoch 3/10\n",
            "612/612 [==============================] - 44s 72ms/step - loss: 0.4694 - accuracy: 0.8222 - get_f1: 0.8222\n",
            "Epoch 4/10\n",
            "612/612 [==============================] - 39s 64ms/step - loss: 0.4693 - accuracy: 0.8222 - get_f1: 0.8222\n",
            "Epoch 5/10\n",
            "612/612 [==============================] - 39s 64ms/step - loss: 0.4703 - accuracy: 0.8222 - get_f1: 0.8222\n",
            "Epoch 6/10\n",
            "612/612 [==============================] - 39s 63ms/step - loss: 0.4695 - accuracy: 0.8222 - get_f1: 0.8223\n",
            "Epoch 7/10\n",
            "612/612 [==============================] - 39s 64ms/step - loss: 0.4695 - accuracy: 0.8222 - get_f1: 0.8223\n",
            "Epoch 8/10\n",
            "612/612 [==============================] - 39s 63ms/step - loss: 0.4691 - accuracy: 0.8222 - get_f1: 0.8222\n",
            "Epoch 9/10\n",
            "612/612 [==============================] - 39s 64ms/step - loss: 0.4700 - accuracy: 0.8222 - get_f1: 0.8223\n",
            "Epoch 10/10\n",
            "612/612 [==============================] - 38s 63ms/step - loss: 0.4695 - accuracy: 0.8222 - get_f1: 0.8221\n",
            "204/204 [==============================] - 3s 9ms/step - loss: 0.4755 - accuracy: 0.8173 - get_f1: 0.8173\n",
            "test accuracy is:  [0.4755181074142456, 0.8172619938850403, 0.8173167705535889]\n",
            "204/204 [==============================] - 2s 8ms/step\n",
            "Recall: 0.000\n",
            "The confusion matrix is [[5331    0]\n",
            " [1192    0]]\n",
            "Accuracy: 0.817\n",
            "F1 Score: 0.000\n",
            "Precision: 0.000\n"
          ]
        },
        {
          "name": "stderr",
          "output_type": "stream",
          "text": [
            "/usr/local/lib/python3.8/dist-packages/sklearn/metrics/_classification.py:1318: UndefinedMetricWarning: Precision is ill-defined and being set to 0.0 due to no predicted samples. Use `zero_division` parameter to control this behavior.\n",
            "  _warn_prf(average, modifier, msg_start, len(result))\n"
          ]
        }
      ],
      "source": [
        "#Model 5: 1  RNN - BiLSTM with flatten layer, Adam 1e-1\n",
        "\n",
        "VOCAB_SIZE = len(arabert_tokenizer.get_vocab())\n",
        "EMB_DIM = 200\n",
        "\n",
        "from tensorflow.keras import layers\n",
        "model16 = tf.keras.Sequential([\n",
        "    tf.keras.layers.Embedding(VOCAB_SIZE, EMB_DIM),\n",
        "    tf.keras.layers.SimpleRNN(64, return_sequences=True),\n",
        "    tf.keras.layers.Bidirectional(tf.keras.layers.LSTM(32)),\n",
        "    tf.keras.layers.Flatten(), \n",
        "    tf.keras.layers.Dense(EMB_DIM, activation='relu'),\n",
        "    tf.keras.layers.Dropout(0.5),\n",
        "    tf.keras.layers.Dense(2,activation='softmax')\n",
        "])\n",
        "\n",
        "model16.compile(loss=tf.keras.losses.BinaryCrossentropy(from_logits=True),\n",
        "              optimizer=tf.keras.optimizers.Adam(1e-1),\n",
        "              metrics=['accuracy'])\n",
        "\n",
        "model16.fit(x_train, y_train, batch_size=32, epochs=10)\n",
        "\n",
        "\n",
        "accuracy16= model16.evaluate(x_test, y_test)\n",
        "# print('test loss is:', loss)\n",
        "print('test accuracy is: ', accuracy16)\n",
        "\n",
        "\n",
        "predictions16= model16.predict(x_test)\n",
        "predictions16=np.argmax(predictions16, axis=1)\n",
        "y_test=np.argmax(y_test, axis=1)\n",
        "\n",
        "print('Recall: %.3f' % recall_score(y_test, predictions16))\n",
        "cm = confusion_matrix(y_test, predictions16)\n",
        "print('The confusion matrix is', cm)\n",
        "print('Accuracy: %.3f' % accuracy_score(y_test, predictions16))\n",
        "print('F1 Score: %.3f' % f1_score(y_test, predictions16))\n",
        "print('Precision: %.3f' % precision_score(y_test, predictions16))"
      ]
    },
    {
      "cell_type": "code",
      "execution_count": null,
      "metadata": {
        "colab": {
          "base_uri": "https://localhost:8080/"
        },
        "id": "5k6J0p95Q6-P",
        "outputId": "0d767dbd-4a38-4e5a-f3f4-ee08f01a7ff5"
      },
      "outputs": [
        {
          "name": "stdout",
          "output_type": "stream",
          "text": [
            "Epoch 1/10\n"
          ]
        },
        {
          "name": "stderr",
          "output_type": "stream",
          "text": [
            "/usr/local/lib/python3.8/dist-packages/tensorflow/python/util/dispatch.py:1082: UserWarning: \"`binary_crossentropy` received `from_logits=True`, but the `output` argument was produced by a sigmoid or softmax activation and thus does not represent logits. Was this intended?\"\n",
            "  return dispatch_target(*args, **kwargs)\n"
          ]
        },
        {
          "name": "stdout",
          "output_type": "stream",
          "text": [
            "612/612 [==============================] - 40s 60ms/step - loss: 0.4701 - accuracy: 0.8187\n",
            "Epoch 2/10\n",
            "612/612 [==============================] - 37s 60ms/step - loss: 0.3812 - accuracy: 0.8384\n",
            "Epoch 3/10\n",
            "612/612 [==============================] - 36s 59ms/step - loss: 0.3193 - accuracy: 0.8701\n",
            "Epoch 4/10\n",
            "612/612 [==============================] - 36s 60ms/step - loss: 0.2733 - accuracy: 0.8944\n",
            "Epoch 5/10\n",
            "612/612 [==============================] - 37s 60ms/step - loss: 0.2270 - accuracy: 0.9157\n",
            "Epoch 6/10\n",
            "612/612 [==============================] - 36s 58ms/step - loss: 0.1902 - accuracy: 0.9304\n",
            "Epoch 7/10\n",
            "612/612 [==============================] - 37s 60ms/step - loss: 0.1589 - accuracy: 0.9427\n",
            "Epoch 8/10\n",
            "612/612 [==============================] - 37s 61ms/step - loss: 0.1321 - accuracy: 0.9520\n",
            "Epoch 9/10\n",
            "612/612 [==============================] - 40s 65ms/step - loss: 0.1118 - accuracy: 0.9600\n",
            "Epoch 10/10\n",
            "612/612 [==============================] - 37s 60ms/step - loss: 0.0955 - accuracy: 0.9670\n",
            "204/204 [==============================] - 3s 9ms/step - loss: 0.4007 - accuracy: 0.8714\n",
            "test accuracy is:  [0.40072572231292725, 0.8713781833648682]\n",
            "204/204 [==============================] - 2s 8ms/step\n",
            "Recall: 0.613\n",
            "The confusion matrix is [[4986  399]\n",
            " [ 440  698]]\n",
            "Accuracy: 0.871\n",
            "F1 Score: 0.625\n",
            "Precision: 0.636\n"
          ]
        }
      ],
      "source": [
        "#Model 5: 1  RNN - BiLSTM with flatten layer, RMSprop 1e-4\n",
        "\n",
        "VOCAB_SIZE = len(arabert_tokenizer.get_vocab())\n",
        "EMB_DIM = 200\n",
        "\n",
        "from tensorflow.keras import layers\n",
        "model17 = tf.keras.Sequential([\n",
        "    tf.keras.layers.Embedding(VOCAB_SIZE, EMB_DIM),\n",
        "    tf.keras.layers.SimpleRNN(64, return_sequences=True),\n",
        "    tf.keras.layers.Bidirectional(tf.keras.layers.LSTM(32)),\n",
        "    tf.keras.layers.Flatten(), \n",
        "    tf.keras.layers.Dense(EMB_DIM, activation='relu'),\n",
        "    tf.keras.layers.Dropout(0.5),\n",
        "    tf.keras.layers.Dense(2,activation='softmax')\n",
        "])\n",
        "\n",
        "model17.compile(loss=tf.keras.losses.BinaryCrossentropy(from_logits=True),\n",
        "              optimizer=tf.keras.optimizers.RMSprop(1e-4),\n",
        "              metrics=['accuracy'])\n",
        "\n",
        "model17.fit(x_train, y_train, batch_size=32, epochs=10)\n",
        "\n",
        "\n",
        "accuracy17= model17.evaluate(x_test, y_test)\n",
        "# print('test loss is:', loss)\n",
        "print('test accuracy is: ', accuracy17)\n",
        "\n",
        "\n",
        "predictions17= model17.predict(x_test)\n",
        "predictions17=np.argmax(predictions17, axis=1)\n",
        "y_test=np.argmax(y_test, axis=1)\n",
        "\n",
        "print('Recall: %.3f' % recall_score(y_test, predictions17))\n",
        "cm = confusion_matrix(y_test, predictions17)\n",
        "print('The confusion matrix is', cm)\n",
        "print('Accuracy: %.3f' % accuracy_score(y_test, predictions17))\n",
        "print('F1 Score: %.3f' % f1_score(y_test, predictions17))\n",
        "print('Precision: %.3f' % precision_score(y_test, predictions17))"
      ]
    },
    {
      "cell_type": "code",
      "execution_count": null,
      "metadata": {
        "colab": {
          "base_uri": "https://localhost:8080/"
        },
        "id": "mXN8EaqOQ7Ai",
        "outputId": "3dd03738-a7c7-4957-c243-736a558fd73f"
      },
      "outputs": [
        {
          "name": "stdout",
          "output_type": "stream",
          "text": [
            "Epoch 1/10\n",
            "612/612 [==============================] - 45s 68ms/step - loss: 0.4023 - accuracy: 0.8354 - get_f1: 0.8354\n",
            "Epoch 2/10\n",
            "612/612 [==============================] - 37s 61ms/step - loss: 0.1860 - accuracy: 0.9305 - get_f1: 0.9305\n",
            "Epoch 3/10\n",
            "612/612 [==============================] - 38s 62ms/step - loss: 0.0768 - accuracy: 0.9763 - get_f1: 0.9763\n",
            "Epoch 4/10\n",
            "612/612 [==============================] - 38s 62ms/step - loss: 0.0452 - accuracy: 0.9878 - get_f1: 0.9878\n",
            "Epoch 5/10\n",
            "612/612 [==============================] - 38s 61ms/step - loss: 0.0292 - accuracy: 0.9909 - get_f1: 0.9909\n",
            "Epoch 6/10\n",
            "612/612 [==============================] - 38s 62ms/step - loss: 0.0237 - accuracy: 0.9922 - get_f1: 0.9922\n",
            "Epoch 7/10\n",
            "612/612 [==============================] - 38s 61ms/step - loss: 0.0196 - accuracy: 0.9942 - get_f1: 0.9942\n",
            "Epoch 8/10\n",
            "612/612 [==============================] - 38s 61ms/step - loss: 0.0184 - accuracy: 0.9943 - get_f1: 0.9943\n",
            "Epoch 9/10\n",
            "612/612 [==============================] - 37s 61ms/step - loss: 0.0170 - accuracy: 0.9942 - get_f1: 0.9942\n",
            "Epoch 10/10\n",
            "612/612 [==============================] - 37s 61ms/step - loss: 0.0188 - accuracy: 0.9940 - get_f1: 0.9939\n",
            "204/204 [==============================] - 3s 9ms/step - loss: 0.6301 - accuracy: 0.8065 - get_f1: 0.8065\n",
            "test accuracy is:  [0.6301122307777405, 0.8065307140350342, 0.8065370321273804]\n",
            "204/204 [==============================] - 2s 8ms/step\n",
            "Recall: 0.849\n",
            "The confusion matrix is [[4266 1085]\n",
            " [ 177  995]]\n",
            "Accuracy: 0.807\n",
            "F1 Score: 0.612\n",
            "Precision: 0.478\n"
          ]
        }
      ],
      "source": [
        "#Model 5: 1  RNN - BiLSTM with flatten layer, RMSprop 1e-3\n",
        "\n",
        "VOCAB_SIZE = len(arabert_tokenizer.get_vocab())\n",
        "EMB_DIM = 200\n",
        "\n",
        "from tensorflow.keras import layers\n",
        "model18 = tf.keras.Sequential([\n",
        "    tf.keras.layers.Embedding(VOCAB_SIZE, EMB_DIM),\n",
        "    tf.keras.layers.SimpleRNN(64, return_sequences=True),\n",
        "    tf.keras.layers.Bidirectional(tf.keras.layers.LSTM(32)),\n",
        "    tf.keras.layers.Flatten(), \n",
        "    tf.keras.layers.Dense(EMB_DIM, activation='relu'),\n",
        "    tf.keras.layers.Dropout(0.5),\n",
        "    tf.keras.layers.Dense(2,activation='softmax')\n",
        "])\n",
        "\n",
        "model18.compile(loss=tf.keras.losses.BinaryCrossentropy(from_logits=True),\n",
        "              optimizer=tf.keras.optimizers.RMSprop(1e-3),\n",
        "              metrics=['accuracy',get_f1])\n",
        "\n",
        "model18.fit(x_train, y_train, batch_size=32, epochs=10)\n",
        "\n",
        "\n",
        "accuracy18= model18.evaluate(x_test, y_test)\n",
        "# print('test loss is:', loss)\n",
        "print('test accuracy is: ', accuracy18)\n",
        "\n",
        "\n",
        "predictions18= model18.predict(x_test)\n",
        "predictions18=np.argmax(predictions18, axis=1)\n",
        "y_test=np.argmax(y_test, axis=1)\n",
        "\n",
        "print('Recall: %.3f' % recall_score(y_test, predictions18))\n",
        "cm = confusion_matrix(y_test, predictions18)\n",
        "print('The confusion matrix is', cm)\n",
        "print('Accuracy: %.3f' % accuracy_score(y_test, predictions18))\n",
        "print('F1 Score: %.3f' % f1_score(y_test, predictions18))\n",
        "print('Precision: %.3f' % precision_score(y_test, predictions18))"
      ]
    },
    {
      "cell_type": "code",
      "execution_count": null,
      "metadata": {
        "colab": {
          "base_uri": "https://localhost:8080/"
        },
        "id": "x86pKyOOQ7DJ",
        "outputId": "395d9214-005c-493c-fd11-86bf06113ec4"
      },
      "outputs": [
        {
          "name": "stdout",
          "output_type": "stream",
          "text": [
            "Epoch 1/10\n"
          ]
        },
        {
          "name": "stderr",
          "output_type": "stream",
          "text": [
            "/usr/local/lib/python3.8/dist-packages/tensorflow/python/util/dispatch.py:1082: UserWarning: \"`binary_crossentropy` received `from_logits=True`, but the `output` argument was produced by a sigmoid or softmax activation and thus does not represent logits. Was this intended?\"\n",
            "  return dispatch_target(*args, **kwargs)\n"
          ]
        },
        {
          "name": "stdout",
          "output_type": "stream",
          "text": [
            "612/612 [==============================] - 40s 60ms/step - loss: 0.4724 - accuracy: 0.8183 - get_f1: 0.8183\n",
            "Epoch 2/10\n",
            "612/612 [==============================] - 37s 60ms/step - loss: 0.3628 - accuracy: 0.8594 - get_f1: 0.8594\n",
            "Epoch 3/10\n",
            "612/612 [==============================] - 36s 60ms/step - loss: 0.2997 - accuracy: 0.8835 - get_f1: 0.8836\n",
            "Epoch 4/10\n",
            "612/612 [==============================] - 41s 67ms/step - loss: 0.2603 - accuracy: 0.9033 - get_f1: 0.9034\n",
            "Epoch 5/10\n",
            "612/612 [==============================] - 36s 60ms/step - loss: 0.2286 - accuracy: 0.9189 - get_f1: 0.9188\n",
            "Epoch 6/10\n",
            "612/612 [==============================] - 36s 60ms/step - loss: 0.2031 - accuracy: 0.9327 - get_f1: 0.9327\n",
            "Epoch 7/10\n",
            "612/612 [==============================] - 36s 60ms/step - loss: 0.1812 - accuracy: 0.9401 - get_f1: 0.9400\n",
            "Epoch 8/10\n",
            "612/612 [==============================] - 37s 61ms/step - loss: 0.1698 - accuracy: 0.9485 - get_f1: 0.9485\n",
            "Epoch 9/10\n",
            "612/612 [==============================] - 37s 60ms/step - loss: 0.1529 - accuracy: 0.9530 - get_f1: 0.9530\n",
            "Epoch 10/10\n",
            "612/612 [==============================] - 38s 62ms/step - loss: 0.1459 - accuracy: 0.9563 - get_f1: 0.9563\n",
            "204/204 [==============================] - 3s 10ms/step - loss: 0.5082 - accuracy: 0.8901 - get_f1: 0.8901\n",
            "test accuracy is:  [0.5082199573516846, 0.8900812268257141, 0.8901370167732239]\n",
            "204/204 [==============================] - 2s 8ms/step\n",
            "Recall: 0.624\n",
            "The confusion matrix is [[5083  282]\n",
            " [ 435  723]]\n",
            "Accuracy: 0.890\n",
            "F1 Score: 0.669\n",
            "Precision: 0.719\n"
          ]
        }
      ],
      "source": [
        "#Model 5: 1  RNN - BiLSTM with flatten layer, RMSprop 1e-2\n",
        "\n",
        "VOCAB_SIZE = len(arabert_tokenizer.get_vocab())\n",
        "EMB_DIM = 200\n",
        "\n",
        "from tensorflow.keras import layers\n",
        "model19 = tf.keras.Sequential([\n",
        "    tf.keras.layers.Embedding(VOCAB_SIZE, EMB_DIM),\n",
        "    tf.keras.layers.SimpleRNN(64, return_sequences=True),\n",
        "    tf.keras.layers.Bidirectional(tf.keras.layers.LSTM(32)),\n",
        "    tf.keras.layers.Flatten(), \n",
        "    tf.keras.layers.Dense(EMB_DIM, activation='relu'),\n",
        "    tf.keras.layers.Dropout(0.5),\n",
        "    tf.keras.layers.Dense(2,activation='softmax')\n",
        "])\n",
        "\n",
        "model19.compile(loss=tf.keras.losses.BinaryCrossentropy(from_logits=True),\n",
        "              optimizer=tf.keras.optimizers.RMSprop(1e-2),\n",
        "              metrics=['accuracy',get_f1])\n",
        "\n",
        "model19.fit(x_train, y_train, batch_size=32, epochs=10)\n",
        "\n",
        "\n",
        "accuracy19= model19.evaluate(x_test, y_test)\n",
        "# print('test loss is:', loss)\n",
        "print('test accuracy is: ', accuracy19)\n",
        "\n",
        "\n",
        "predictions19= model19.predict(x_test)\n",
        "predictions19=np.argmax(predictions19, axis=1)\n",
        "y_test=np.argmax(y_test, axis=1)\n",
        "\n",
        "print('Recall: %.3f' % recall_score(y_test, predictions19))\n",
        "cm = confusion_matrix(y_test, predictions19)\n",
        "print('The confusion matrix is', cm)\n",
        "print('Accuracy: %.3f' % accuracy_score(y_test, predictions19))\n",
        "print('F1 Score: %.3f' % f1_score(y_test, predictions19))\n",
        "print('Precision: %.3f' % precision_score(y_test, predictions19))"
      ]
    },
    {
      "cell_type": "code",
      "execution_count": null,
      "metadata": {
        "colab": {
          "base_uri": "https://localhost:8080/",
          "height": 1000
        },
        "id": "hPn7kAzzQ7Fz",
        "outputId": "e592ad37-7748-46b7-9875-e56fc0853e9f"
      },
      "outputs": [
        {
          "name": "stdout",
          "output_type": "stream",
          "text": [
            "Epoch 1/10\n"
          ]
        },
        {
          "name": "stderr",
          "output_type": "stream",
          "text": [
            "/usr/local/lib/python3.8/dist-packages/tensorflow/python/util/dispatch.py:1082: UserWarning: \"`binary_crossentropy` received `from_logits=True`, but the `output` argument was produced by a sigmoid or softmax activation and thus does not represent logits. Was this intended?\"\n",
            "  return dispatch_target(*args, **kwargs)\n"
          ]
        },
        {
          "name": "stdout",
          "output_type": "stream",
          "text": [
            "612/612 [==============================] - 46s 68ms/step - loss: 0.8715 - accuracy: 0.8007 - get_f1: 0.8008\n",
            "Epoch 2/10\n",
            "612/612 [==============================] - 38s 62ms/step - loss: 0.6393 - accuracy: 0.8124 - get_f1: 0.8124\n",
            "Epoch 3/10\n",
            "612/612 [==============================] - 37s 61ms/step - loss: 0.5863 - accuracy: 0.8130 - get_f1: 0.8131\n",
            "Epoch 4/10\n",
            "612/612 [==============================] - 37s 61ms/step - loss: 0.5321 - accuracy: 0.8190 - get_f1: 0.8190\n",
            "Epoch 5/10\n",
            "612/612 [==============================] - 37s 61ms/step - loss: 0.5078 - accuracy: 0.8191 - get_f1: 0.8191\n",
            "Epoch 6/10\n",
            "612/612 [==============================] - 37s 61ms/step - loss: 0.4864 - accuracy: 0.8204 - get_f1: 0.8204\n",
            "Epoch 7/10\n",
            "612/612 [==============================] - 37s 60ms/step - loss: 0.4943 - accuracy: 0.8199 - get_f1: 0.8199\n",
            "Epoch 8/10\n",
            "612/612 [==============================] - 37s 61ms/step - loss: 0.4970 - accuracy: 0.8197 - get_f1: 0.8198\n",
            "Epoch 9/10\n",
            "612/612 [==============================] - 37s 61ms/step - loss: 0.4929 - accuracy: 0.8195 - get_f1: 0.8195\n",
            "Epoch 10/10\n",
            "612/612 [==============================] - 37s 60ms/step - loss: 0.4930 - accuracy: 0.8202 - get_f1: 0.8203\n"
          ]
        },
        {
          "ename": "ValueError",
          "evalue": "ignored",
          "output_type": "error",
          "traceback": [
            "\u001b[0;31m---------------------------------------------------------------------------\u001b[0m",
            "\u001b[0;31mValueError\u001b[0m                                Traceback (most recent call last)",
            "\u001b[0;32m<ipython-input-63-ffc526f4dc63>\u001b[0m in \u001b[0;36m<module>\u001b[0;34m\u001b[0m\n\u001b[1;32m     22\u001b[0m \u001b[0;34m\u001b[0m\u001b[0m\n\u001b[1;32m     23\u001b[0m \u001b[0;34m\u001b[0m\u001b[0m\n\u001b[0;32m---> 24\u001b[0;31m \u001b[0maccuracy20\u001b[0m\u001b[0;34m=\u001b[0m \u001b[0mmodel20\u001b[0m\u001b[0;34m.\u001b[0m\u001b[0mevaluate\u001b[0m\u001b[0;34m(\u001b[0m\u001b[0mx_test\u001b[0m\u001b[0;34m,\u001b[0m \u001b[0my_test\u001b[0m\u001b[0;34m)\u001b[0m\u001b[0;34m\u001b[0m\u001b[0;34m\u001b[0m\u001b[0m\n\u001b[0m\u001b[1;32m     25\u001b[0m \u001b[0;31m# print('test loss is:', loss)\u001b[0m\u001b[0;34m\u001b[0m\u001b[0;34m\u001b[0m\u001b[0;34m\u001b[0m\u001b[0m\n\u001b[1;32m     26\u001b[0m \u001b[0mprint\u001b[0m\u001b[0;34m(\u001b[0m\u001b[0;34m'test accuracy is: '\u001b[0m\u001b[0;34m,\u001b[0m \u001b[0maccuracy20\u001b[0m\u001b[0;34m)\u001b[0m\u001b[0;34m\u001b[0m\u001b[0;34m\u001b[0m\u001b[0m\n",
            "\u001b[0;32m/usr/local/lib/python3.8/dist-packages/keras/utils/traceback_utils.py\u001b[0m in \u001b[0;36merror_handler\u001b[0;34m(*args, **kwargs)\u001b[0m\n\u001b[1;32m     65\u001b[0m     \u001b[0;32mexcept\u001b[0m \u001b[0mException\u001b[0m \u001b[0;32mas\u001b[0m \u001b[0me\u001b[0m\u001b[0;34m:\u001b[0m  \u001b[0;31m# pylint: disable=broad-except\u001b[0m\u001b[0;34m\u001b[0m\u001b[0;34m\u001b[0m\u001b[0m\n\u001b[1;32m     66\u001b[0m       \u001b[0mfiltered_tb\u001b[0m \u001b[0;34m=\u001b[0m \u001b[0m_process_traceback_frames\u001b[0m\u001b[0;34m(\u001b[0m\u001b[0me\u001b[0m\u001b[0;34m.\u001b[0m\u001b[0m__traceback__\u001b[0m\u001b[0;34m)\u001b[0m\u001b[0;34m\u001b[0m\u001b[0;34m\u001b[0m\u001b[0m\n\u001b[0;32m---> 67\u001b[0;31m       \u001b[0;32mraise\u001b[0m \u001b[0me\u001b[0m\u001b[0;34m.\u001b[0m\u001b[0mwith_traceback\u001b[0m\u001b[0;34m(\u001b[0m\u001b[0mfiltered_tb\u001b[0m\u001b[0;34m)\u001b[0m \u001b[0;32mfrom\u001b[0m \u001b[0;32mNone\u001b[0m\u001b[0;34m\u001b[0m\u001b[0;34m\u001b[0m\u001b[0m\n\u001b[0m\u001b[1;32m     68\u001b[0m     \u001b[0;32mfinally\u001b[0m\u001b[0;34m:\u001b[0m\u001b[0;34m\u001b[0m\u001b[0;34m\u001b[0m\u001b[0m\n\u001b[1;32m     69\u001b[0m       \u001b[0;32mdel\u001b[0m \u001b[0mfiltered_tb\u001b[0m\u001b[0;34m\u001b[0m\u001b[0;34m\u001b[0m\u001b[0m\n",
            "\u001b[0;32m/usr/local/lib/python3.8/dist-packages/keras/engine/training.py\u001b[0m in \u001b[0;36mtf__test_function\u001b[0;34m(iterator)\u001b[0m\n\u001b[1;32m     13\u001b[0m                 \u001b[0;32mtry\u001b[0m\u001b[0;34m:\u001b[0m\u001b[0;34m\u001b[0m\u001b[0;34m\u001b[0m\u001b[0m\n\u001b[1;32m     14\u001b[0m                     \u001b[0mdo_return\u001b[0m \u001b[0;34m=\u001b[0m \u001b[0;32mTrue\u001b[0m\u001b[0;34m\u001b[0m\u001b[0;34m\u001b[0m\u001b[0m\n\u001b[0;32m---> 15\u001b[0;31m                     \u001b[0mretval_\u001b[0m \u001b[0;34m=\u001b[0m \u001b[0mag__\u001b[0m\u001b[0;34m.\u001b[0m\u001b[0mconverted_call\u001b[0m\u001b[0;34m(\u001b[0m\u001b[0mag__\u001b[0m\u001b[0;34m.\u001b[0m\u001b[0mld\u001b[0m\u001b[0;34m(\u001b[0m\u001b[0mstep_function\u001b[0m\u001b[0;34m)\u001b[0m\u001b[0;34m,\u001b[0m \u001b[0;34m(\u001b[0m\u001b[0mag__\u001b[0m\u001b[0;34m.\u001b[0m\u001b[0mld\u001b[0m\u001b[0;34m(\u001b[0m\u001b[0mself\u001b[0m\u001b[0;34m)\u001b[0m\u001b[0;34m,\u001b[0m \u001b[0mag__\u001b[0m\u001b[0;34m.\u001b[0m\u001b[0mld\u001b[0m\u001b[0;34m(\u001b[0m\u001b[0miterator\u001b[0m\u001b[0;34m)\u001b[0m\u001b[0;34m)\u001b[0m\u001b[0;34m,\u001b[0m \u001b[0;32mNone\u001b[0m\u001b[0;34m,\u001b[0m \u001b[0mfscope\u001b[0m\u001b[0;34m)\u001b[0m\u001b[0;34m\u001b[0m\u001b[0;34m\u001b[0m\u001b[0m\n\u001b[0m\u001b[1;32m     16\u001b[0m                 \u001b[0;32mexcept\u001b[0m\u001b[0;34m:\u001b[0m\u001b[0;34m\u001b[0m\u001b[0;34m\u001b[0m\u001b[0m\n\u001b[1;32m     17\u001b[0m                     \u001b[0mdo_return\u001b[0m \u001b[0;34m=\u001b[0m \u001b[0;32mFalse\u001b[0m\u001b[0;34m\u001b[0m\u001b[0;34m\u001b[0m\u001b[0m\n",
            "\u001b[0;31mValueError\u001b[0m: in user code:\n\n    File \"/usr/local/lib/python3.8/dist-packages/keras/engine/training.py\", line 1557, in test_function  *\n        return step_function(self, iterator)\n    File \"/usr/local/lib/python3.8/dist-packages/keras/engine/training.py\", line 1546, in step_function  **\n        outputs = model.distribute_strategy.run(run_step, args=(data,))\n    File \"/usr/local/lib/python3.8/dist-packages/keras/engine/training.py\", line 1535, in run_step  **\n        outputs = model.test_step(data)\n    File \"/usr/local/lib/python3.8/dist-packages/keras/engine/training.py\", line 1501, in test_step\n        self.compute_loss(x, y, y_pred, sample_weight)\n    File \"/usr/local/lib/python3.8/dist-packages/keras/engine/training.py\", line 948, in compute_loss\n        return self.compiled_loss(\n    File \"/usr/local/lib/python3.8/dist-packages/keras/engine/compile_utils.py\", line 201, in __call__\n        loss_value = loss_obj(y_t, y_p, sample_weight=sw)\n    File \"/usr/local/lib/python3.8/dist-packages/keras/losses.py\", line 139, in __call__\n        losses = call_fn(y_true, y_pred)\n    File \"/usr/local/lib/python3.8/dist-packages/keras/losses.py\", line 243, in call  **\n        return ag_fn(y_true, y_pred, **self._fn_kwargs)\n    File \"/usr/local/lib/python3.8/dist-packages/keras/losses.py\", line 1930, in binary_crossentropy\n        backend.binary_crossentropy(y_true, y_pred, from_logits=from_logits),\n    File \"/usr/local/lib/python3.8/dist-packages/keras/backend.py\", line 5283, in binary_crossentropy\n        return tf.nn.sigmoid_cross_entropy_with_logits(labels=target, logits=output)\n\n    ValueError: `logits` and `labels` must have the same shape, received ((None, 2) vs (None, 1)).\n"
          ]
        }
      ],
      "source": [
        "#Model 5: 1  RNN - BiLSTM with flatten layer, RMSprop 1e-1\n",
        "\n",
        "VOCAB_SIZE = len(arabert_tokenizer.get_vocab())\n",
        "EMB_DIM = 200\n",
        "\n",
        "from tensorflow.keras import layers\n",
        "model20 = tf.keras.Sequential([\n",
        "    tf.keras.layers.Embedding(VOCAB_SIZE, EMB_DIM),\n",
        "    tf.keras.layers.SimpleRNN(64, return_sequences=True),\n",
        "    tf.keras.layers.Bidirectional(tf.keras.layers.LSTM(32)),\n",
        "    tf.keras.layers.Flatten(), \n",
        "    tf.keras.layers.Dense(EMB_DIM, activation='relu'),\n",
        "    tf.keras.layers.Dropout(0.5),\n",
        "    tf.keras.layers.Dense(2,activation='softmax')\n",
        "])\n",
        "\n",
        "model20.compile(loss=tf.keras.losses.BinaryCrossentropy(from_logits=True),\n",
        "              optimizer=tf.keras.optimizers.RMSprop(1e-1),\n",
        "              metrics=['accuracy',get_f1])\n",
        "\n",
        "model20.fit(x_train, y_train, batch_size=32, epochs=10)\n",
        "\n"
      ]
    },
    {
      "cell_type": "code",
      "execution_count": null,
      "metadata": {
        "colab": {
          "base_uri": "https://localhost:8080/"
        },
        "id": "mRt3bup3Q7Ib",
        "outputId": "783d6007-fc81-4d2f-8006-a58525126755"
      },
      "outputs": [
        {
          "name": "stdout",
          "output_type": "stream",
          "text": [
            "204/204 [==============================] - 4s 14ms/step - loss: 0.4827 - accuracy: 0.8202 - get_f1: 0.8201\n",
            "test accuracy is:  [0.48267966508865356, 0.8201747536659241, 0.8201422095298767]\n",
            "204/204 [==============================] - 4s 12ms/step\n",
            "Recall: 0.000\n",
            "The confusion matrix is [[5350    0]\n",
            " [1173    0]]\n",
            "Accuracy: 0.820\n",
            "F1 Score: 0.000\n",
            "Precision: 0.000\n"
          ]
        },
        {
          "name": "stderr",
          "output_type": "stream",
          "text": [
            "/usr/local/lib/python3.8/dist-packages/sklearn/metrics/_classification.py:1318: UndefinedMetricWarning: Precision is ill-defined and being set to 0.0 due to no predicted samples. Use `zero_division` parameter to control this behavior.\n",
            "  _warn_prf(average, modifier, msg_start, len(result))\n"
          ]
        }
      ],
      "source": [
        "\n",
        "accuracy20= model20.evaluate(x_test, y_test)\n",
        "# print('test loss is:', loss)\n",
        "print('test accuracy is: ', accuracy20)\n",
        "\n",
        "\n",
        "predictions20= model20.predict(x_test)\n",
        "predictions20=np.argmax(predictions20, axis=1)\n",
        "y_test=np.argmax(y_test, axis=1)\n",
        "\n",
        "print('Recall: %.3f' % recall_score(y_test, predictions20))\n",
        "cm = confusion_matrix(y_test, predictions20)\n",
        "print('The confusion matrix is', cm)\n",
        "print('Accuracy: %.3f' % accuracy_score(y_test, predictions20))\n",
        "print('F1 Score: %.3f' % f1_score(y_test, predictions20))\n",
        "print('Precision: %.3f' % precision_score(y_test, predictions20))"
      ]
    },
    {
      "cell_type": "code",
      "execution_count": null,
      "metadata": {
        "id": "r-0yEfJTesbp"
      },
      "outputs": [],
      "source": []
    },
    {
      "cell_type": "code",
      "source": [
        "#Model 5: 1  RNN - BiLSTM with flatten layer, Nadam 1e-4\n",
        "\n",
        "VOCAB_SIZE = len(arabert_tokenizer.get_vocab())\n",
        "EMB_DIM = 200\n",
        "\n",
        "from tensorflow.keras import layers\n",
        "model23 = tf.keras.Sequential([\n",
        "    tf.keras.layers.Embedding(VOCAB_SIZE, EMB_DIM),\n",
        "    tf.keras.layers.SimpleRNN(64, return_sequences=True),\n",
        "    tf.keras.layers.Bidirectional(tf.keras.layers.LSTM(32)),\n",
        "    tf.keras.layers.Flatten(), \n",
        "    tf.keras.layers.Dense(EMB_DIM, activation='relu'),\n",
        "    tf.keras.layers.Dropout(0.5),\n",
        "    tf.keras.layers.Dense(2,activation='softmax')\n",
        "])\n",
        "\n",
        "model23.compile(loss=tf.keras.losses.BinaryCrossentropy(from_logits=True),\n",
        "              optimizer=tf.keras.optimizers.Nadam(1e-4),\n",
        "              metrics=['accuracy'])\n",
        "\n",
        "model23.fit(x_train, y_train, batch_size=32, epochs=10)\n",
        "\n",
        "\n",
        "accuracy23= model23.evaluate(x_test, y_test)\n",
        "# print('test loss is:', loss)\n",
        "print('test accuracy is: ', accuracy23)\n",
        "\n",
        "\n",
        "predictions23= model23.predict(x_test)\n",
        "predictions23=np.argmax(predictions23, axis=1)\n",
        "y_test=np.argmax(y_test, axis=1)\n",
        "\n",
        "print('Recall: %.3f' % recall_score(y_test, predictions23))\n",
        "cm = confusion_matrix(y_test, predictions23)\n",
        "print('The confusion matrix is', cm)\n",
        "print('Accuracy: %.3f' % accuracy_score(y_test, predictions23))\n",
        "print('F1 Score: %.3f' % f1_score(y_test, predictions23))\n",
        "print('Precision: %.3f' % precision_score(y_test, predictions23))"
      ],
      "metadata": {
        "colab": {
          "base_uri": "https://localhost:8080/"
        },
        "id": "0rLciAVkCC68",
        "outputId": "ce4788b2-981a-4b86-fbd4-e7da105cdda4"
      },
      "execution_count": 14,
      "outputs": [
        {
          "output_type": "stream",
          "name": "stdout",
          "text": [
            "Epoch 1/10\n"
          ]
        },
        {
          "output_type": "stream",
          "name": "stderr",
          "text": [
            "/usr/local/lib/python3.8/dist-packages/tensorflow/python/util/dispatch.py:1082: UserWarning: \"`binary_crossentropy` received `from_logits=True`, but the `output` argument was produced by a sigmoid or softmax activation and thus does not represent logits. Was this intended?\"\n",
            "  return dispatch_target(*args, **kwargs)\n"
          ]
        },
        {
          "output_type": "stream",
          "name": "stdout",
          "text": [
            "612/612 [==============================] - 80s 113ms/step - loss: 0.4719 - accuracy: 0.8153\n",
            "Epoch 2/10\n",
            "612/612 [==============================] - 69s 112ms/step - loss: 0.3085 - accuracy: 0.8768\n",
            "Epoch 3/10\n",
            "612/612 [==============================] - 51s 83ms/step - loss: 0.1695 - accuracy: 0.9396\n",
            "Epoch 4/10\n",
            "612/612 [==============================] - 38s 62ms/step - loss: 0.0986 - accuracy: 0.9672\n",
            "Epoch 5/10\n",
            "612/612 [==============================] - 39s 63ms/step - loss: 0.0652 - accuracy: 0.9795\n",
            "Epoch 6/10\n",
            "612/612 [==============================] - 38s 62ms/step - loss: 0.0476 - accuracy: 0.9854\n",
            "Epoch 7/10\n",
            "612/612 [==============================] - 40s 65ms/step - loss: 0.0383 - accuracy: 0.9888\n",
            "Epoch 8/10\n",
            "612/612 [==============================] - 38s 63ms/step - loss: 0.0317 - accuracy: 0.9905\n",
            "Epoch 9/10\n",
            "612/612 [==============================] - 38s 62ms/step - loss: 0.0283 - accuracy: 0.9917\n",
            "Epoch 10/10\n",
            "612/612 [==============================] - 38s 62ms/step - loss: 0.0260 - accuracy: 0.9921\n",
            "204/204 [==============================] - 3s 9ms/step - loss: 0.4316 - accuracy: 0.9004\n",
            "test accuracy is:  [0.43162772059440613, 0.9003525972366333]\n",
            "204/204 [==============================] - 2s 8ms/step\n",
            "Recall: 0.702\n",
            "The confusion matrix is [[5061  306]\n",
            " [ 344  812]]\n",
            "Accuracy: 0.900\n",
            "F1 Score: 0.714\n",
            "Precision: 0.726\n"
          ]
        }
      ]
    },
    {
      "cell_type": "code",
      "source": [
        "# #shuffle the data\n",
        "\n",
        "indices = np.arange(data.shape[0])\n",
        "np.random.shuffle(indices)\n",
        "data = data[indices]\n",
        "labels = labels[indices]\n",
        "\n",
        "# split the data into training, testing\n",
        "\n",
        "nb_validation_samples = int(0.25* data.shape[0])\n",
        "x_train = data[:-nb_validation_samples]\n",
        "y_train = labels[:-nb_validation_samples]\n",
        "x_test = data[-nb_validation_samples:]\n",
        "y_test = labels[-nb_validation_samples:]"
      ],
      "metadata": {
        "id": "SR7ZMk3_CR-d"
      },
      "execution_count": 15,
      "outputs": []
    },
    {
      "cell_type": "code",
      "source": [
        "#Model 5: 1  RNN - BiLSTM with flatten layer, Adagrad 1e-4\n",
        "\n",
        "VOCAB_SIZE = len(arabert_tokenizer.get_vocab())\n",
        "EMB_DIM = 200\n",
        "\n",
        "from tensorflow.keras import layers\n",
        "model24 = tf.keras.Sequential([\n",
        "    tf.keras.layers.Embedding(VOCAB_SIZE, EMB_DIM),\n",
        "    tf.keras.layers.SimpleRNN(64, return_sequences=True),\n",
        "    tf.keras.layers.Bidirectional(tf.keras.layers.LSTM(32)),\n",
        "    tf.keras.layers.Flatten(), \n",
        "    tf.keras.layers.Dense(EMB_DIM, activation='relu'),\n",
        "    tf.keras.layers.Dropout(0.5),\n",
        "    tf.keras.layers.Dense(2,activation='softmax')\n",
        "])\n",
        "\n",
        "model24.compile(loss=tf.keras.losses.BinaryCrossentropy(from_logits=True),\n",
        "              optimizer=tf.keras.optimizers.Adagrad(1e-4),\n",
        "              metrics=['accuracy'])\n",
        "\n",
        "model24.fit(x_train, y_train, batch_size=32, epochs=10)\n",
        "\n",
        "\n",
        "accuracy24= model24.evaluate(x_test, y_test)\n",
        "# print('test loss is:', loss)\n",
        "print('test accuracy is: ', accuracy24)\n",
        "\n",
        "\n",
        "predictions24= model24.predict(x_test)\n",
        "predictions24=np.argmax(predictions24, axis=1)\n",
        "y_test=np.argmax(y_test, axis=1)\n",
        "\n",
        "print('Recall: %.3f' % recall_score(y_test, predictions24))\n",
        "cm = confusion_matrix(y_test, predictions24)\n",
        "print('The confusion matrix is', cm)\n",
        "print('Accuracy: %.3f' % accuracy_score(y_test, predictions24))\n",
        "print('F1 Score: %.3f' % f1_score(y_test, predictions24))\n",
        "print('Precision: %.3f' % precision_score(y_test, predictions24))"
      ],
      "metadata": {
        "colab": {
          "base_uri": "https://localhost:8080/"
        },
        "id": "DlDwcfpBCTIq",
        "outputId": "d090ee15-2061-45f3-e692-28fec61f5b08"
      },
      "execution_count": 16,
      "outputs": [
        {
          "output_type": "stream",
          "name": "stdout",
          "text": [
            "Epoch 1/10\n"
          ]
        },
        {
          "output_type": "stream",
          "name": "stderr",
          "text": [
            "/usr/local/lib/python3.8/dist-packages/tensorflow/python/util/dispatch.py:1082: UserWarning: \"`binary_crossentropy` received `from_logits=True`, but the `output` argument was produced by a sigmoid or softmax activation and thus does not represent logits. Was this intended?\"\n",
            "  return dispatch_target(*args, **kwargs)\n"
          ]
        },
        {
          "output_type": "stream",
          "name": "stdout",
          "text": [
            "612/612 [==============================] - 39s 57ms/step - loss: 0.6476 - accuracy: 0.8114\n",
            "Epoch 2/10\n",
            "612/612 [==============================] - 35s 57ms/step - loss: 0.6068 - accuracy: 0.8211\n",
            "Epoch 3/10\n",
            "612/612 [==============================] - 35s 57ms/step - loss: 0.5753 - accuracy: 0.8211\n",
            "Epoch 4/10\n",
            "612/612 [==============================] - 37s 61ms/step - loss: 0.5517 - accuracy: 0.8211\n",
            "Epoch 5/10\n",
            "612/612 [==============================] - 35s 58ms/step - loss: 0.5344 - accuracy: 0.8211\n",
            "Epoch 6/10\n",
            "612/612 [==============================] - 35s 57ms/step - loss: 0.5217 - accuracy: 0.8211\n",
            "Epoch 7/10\n",
            "612/612 [==============================] - 35s 58ms/step - loss: 0.5112 - accuracy: 0.8211\n",
            "Epoch 8/10\n",
            "612/612 [==============================] - 37s 61ms/step - loss: 0.5038 - accuracy: 0.8211\n",
            "Epoch 9/10\n",
            "612/612 [==============================] - 35s 58ms/step - loss: 0.4983 - accuracy: 0.8211\n",
            "Epoch 10/10\n",
            "612/612 [==============================] - 35s 58ms/step - loss: 0.4944 - accuracy: 0.8211\n",
            "204/204 [==============================] - 3s 9ms/step - loss: 0.4864 - accuracy: 0.8208\n",
            "test accuracy is:  [0.4864003658294678, 0.8207879662513733]\n",
            "204/204 [==============================] - 2s 8ms/step\n",
            "Recall: 0.000\n",
            "The confusion matrix is [[5354    0]\n",
            " [1169    0]]\n",
            "Accuracy: 0.821\n",
            "F1 Score: 0.000\n",
            "Precision: 0.000\n"
          ]
        },
        {
          "output_type": "stream",
          "name": "stderr",
          "text": [
            "/usr/local/lib/python3.8/dist-packages/sklearn/metrics/_classification.py:1318: UndefinedMetricWarning: Precision is ill-defined and being set to 0.0 due to no predicted samples. Use `zero_division` parameter to control this behavior.\n",
            "  _warn_prf(average, modifier, msg_start, len(result))\n"
          ]
        }
      ]
    },
    {
      "cell_type": "code",
      "source": [
        "# #shuffle the data\n",
        "\n",
        "indices = np.arange(data.shape[0])\n",
        "np.random.shuffle(indices)\n",
        "data = data[indices]\n",
        "labels = labels[indices]\n",
        "\n",
        "# split the data into training, testing\n",
        "\n",
        "nb_validation_samples = int(0.25* data.shape[0])\n",
        "x_train = data[:-nb_validation_samples]\n",
        "y_train = labels[:-nb_validation_samples]\n",
        "x_test = data[-nb_validation_samples:]\n",
        "y_test = labels[-nb_validation_samples:]"
      ],
      "metadata": {
        "id": "ebOh0SFTCa2V"
      },
      "execution_count": 17,
      "outputs": []
    },
    {
      "cell_type": "code",
      "source": [
        "#Model 5: 1  RNN - BiLSTM with flatten layer, Adadelta 1e-4\n",
        "\n",
        "VOCAB_SIZE = len(arabert_tokenizer.get_vocab())\n",
        "EMB_DIM = 200\n",
        "\n",
        "from tensorflow.keras import layers\n",
        "model25 = tf.keras.Sequential([\n",
        "    tf.keras.layers.Embedding(VOCAB_SIZE, EMB_DIM),\n",
        "    tf.keras.layers.SimpleRNN(64, return_sequences=True),\n",
        "    tf.keras.layers.Bidirectional(tf.keras.layers.LSTM(32)),\n",
        "    tf.keras.layers.Flatten(), \n",
        "    tf.keras.layers.Dense(EMB_DIM, activation='relu'),\n",
        "    tf.keras.layers.Dropout(0.5),\n",
        "    tf.keras.layers.Dense(2,activation='softmax')\n",
        "])\n",
        "\n",
        "model25.compile(loss=tf.keras.losses.BinaryCrossentropy(from_logits=True),\n",
        "              optimizer=tf.keras.optimizers.Adadelta(1e-4),\n",
        "              metrics=['accuracy'])\n",
        "\n",
        "model25.fit(x_train, y_train, batch_size=32, epochs=10)\n",
        "\n",
        "\n",
        "accuracy25= model25.evaluate(x_test, y_test)\n",
        "# print('test loss is:', loss)\n",
        "print('test accuracy is: ', accuracy25)\n",
        "\n",
        "\n",
        "predictions25= model25.predict(x_test)\n",
        "predictions25=np.argmax(predictions25, axis=1)\n",
        "y_test=np.argmax(y_test, axis=1)\n",
        "\n",
        "print('Recall: %.3f' % recall_score(y_test, predictions25))\n",
        "cm = confusion_matrix(y_test, predictions25)\n",
        "print('The confusion matrix is', cm)\n",
        "print('Accuracy: %.3f' % accuracy_score(y_test, predictions25))\n",
        "print('F1 Score: %.3f' % f1_score(y_test, predictions25))\n",
        "print('Precision: %.3f' % precision_score(y_test, predictions25))"
      ],
      "metadata": {
        "colab": {
          "base_uri": "https://localhost:8080/"
        },
        "id": "M64caoLcCb6M",
        "outputId": "3d4befff-8b7e-4e0c-a4b8-3b5466789d56"
      },
      "execution_count": 18,
      "outputs": [
        {
          "output_type": "stream",
          "name": "stdout",
          "text": [
            "Epoch 1/10\n"
          ]
        },
        {
          "output_type": "stream",
          "name": "stderr",
          "text": [
            "/usr/local/lib/python3.8/dist-packages/tensorflow/python/util/dispatch.py:1082: UserWarning: \"`binary_crossentropy` received `from_logits=True`, but the `output` argument was produced by a sigmoid or softmax activation and thus does not represent logits. Was this intended?\"\n",
            "  return dispatch_target(*args, **kwargs)\n"
          ]
        },
        {
          "output_type": "stream",
          "name": "stdout",
          "text": [
            "612/612 [==============================] - 39s 58ms/step - loss: 0.7040 - accuracy: 0.2402\n",
            "Epoch 2/10\n",
            "612/612 [==============================] - 38s 61ms/step - loss: 0.6979 - accuracy: 0.3780\n",
            "Epoch 3/10\n",
            "612/612 [==============================] - 36s 58ms/step - loss: 0.6913 - accuracy: 0.5483\n",
            "Epoch 4/10\n",
            "612/612 [==============================] - 36s 58ms/step - loss: 0.6836 - accuracy: 0.6870\n",
            "Epoch 5/10\n",
            "612/612 [==============================] - 35s 58ms/step - loss: 0.6761 - accuracy: 0.7507\n",
            "Epoch 6/10\n",
            "612/612 [==============================] - 35s 58ms/step - loss: 0.6689 - accuracy: 0.7799\n",
            "Epoch 7/10\n",
            "612/612 [==============================] - 38s 62ms/step - loss: 0.6624 - accuracy: 0.7971\n",
            "Epoch 8/10\n",
            "612/612 [==============================] - 35s 58ms/step - loss: 0.6562 - accuracy: 0.8070\n",
            "Epoch 9/10\n",
            "612/612 [==============================] - 36s 58ms/step - loss: 0.6512 - accuracy: 0.8122\n",
            "Epoch 10/10\n",
            "612/612 [==============================] - 36s 58ms/step - loss: 0.6463 - accuracy: 0.8144\n",
            "204/204 [==============================] - 3s 9ms/step - loss: 0.6429 - accuracy: 0.8191\n",
            "test accuracy is:  [0.6429358124732971, 0.8191016316413879]\n",
            "204/204 [==============================] - 2s 8ms/step\n",
            "Recall: 0.000\n",
            "The confusion matrix is [[5343    0]\n",
            " [1180    0]]\n",
            "Accuracy: 0.819\n",
            "F1 Score: 0.000\n",
            "Precision: 0.000\n"
          ]
        },
        {
          "output_type": "stream",
          "name": "stderr",
          "text": [
            "/usr/local/lib/python3.8/dist-packages/sklearn/metrics/_classification.py:1318: UndefinedMetricWarning: Precision is ill-defined and being set to 0.0 due to no predicted samples. Use `zero_division` parameter to control this behavior.\n",
            "  _warn_prf(average, modifier, msg_start, len(result))\n"
          ]
        }
      ]
    },
    {
      "cell_type": "code",
      "source": [
        "# #shuffle the data\n",
        "\n",
        "indices = np.arange(data.shape[0])\n",
        "np.random.shuffle(indices)\n",
        "data = data[indices]\n",
        "labels = labels[indices]\n",
        "\n",
        "# split the data into training, testing\n",
        "\n",
        "nb_validation_samples = int(0.25* data.shape[0])\n",
        "x_train = data[:-nb_validation_samples]\n",
        "y_train = labels[:-nb_validation_samples]\n",
        "x_test = data[-nb_validation_samples:]\n",
        "y_test = labels[-nb_validation_samples:]"
      ],
      "metadata": {
        "id": "8G3EOkYhCr_e"
      },
      "execution_count": 19,
      "outputs": []
    },
    {
      "cell_type": "code",
      "source": [
        "#Model 5: 1  RNN - BiLSTM with flatten layer, Adamax 1e-4\n",
        "\n",
        "VOCAB_SIZE = len(arabert_tokenizer.get_vocab())\n",
        "EMB_DIM = 200\n",
        "\n",
        "from tensorflow.keras import layers\n",
        "model26 = tf.keras.Sequential([\n",
        "    tf.keras.layers.Embedding(VOCAB_SIZE, EMB_DIM),\n",
        "    tf.keras.layers.SimpleRNN(64, return_sequences=True),\n",
        "    tf.keras.layers.Bidirectional(tf.keras.layers.LSTM(32)),\n",
        "    tf.keras.layers.Flatten(), \n",
        "    tf.keras.layers.Dense(EMB_DIM, activation='relu'),\n",
        "    tf.keras.layers.Dropout(0.5),\n",
        "    tf.keras.layers.Dense(2,activation='softmax')\n",
        "])\n",
        "\n",
        "model26.compile(loss=tf.keras.losses.BinaryCrossentropy(from_logits=True),\n",
        "              optimizer=tf.keras.optimizers.Adamax(1e-4),\n",
        "              metrics=['accuracy'])\n",
        "\n",
        "model26.fit(x_train, y_train, batch_size=32, epochs=10)\n",
        "\n",
        "\n",
        "accuracy26= model26.evaluate(x_test, y_test)\n",
        "# print('test loss is:', loss)\n",
        "print('test accuracy is: ', accuracy26)\n",
        "\n",
        "\n",
        "predictions26= model26.predict(x_test)\n",
        "predictions26=np.argmax(predictions26, axis=1)\n",
        "y_test=np.argmax(y_test, axis=1)\n",
        "\n",
        "print('Recall: %.3f' % recall_score(y_test, predictions26))\n",
        "cm = confusion_matrix(y_test, predictions26)\n",
        "print('The confusion matrix is', cm)\n",
        "print('Accuracy: %.3f' % accuracy_score(y_test, predictions26))\n",
        "print('F1 Score: %.3f' % f1_score(y_test, predictions26))\n",
        "print('Precision: %.3f' % precision_score(y_test, predictions26))"
      ],
      "metadata": {
        "colab": {
          "base_uri": "https://localhost:8080/"
        },
        "id": "tXyOYNWYCs3e",
        "outputId": "d9f4c443-f91c-4c17-e3c2-f725a8e25ff0"
      },
      "execution_count": 20,
      "outputs": [
        {
          "output_type": "stream",
          "name": "stdout",
          "text": [
            "Epoch 1/10\n"
          ]
        },
        {
          "output_type": "stream",
          "name": "stderr",
          "text": [
            "/usr/local/lib/python3.8/dist-packages/tensorflow/python/util/dispatch.py:1082: UserWarning: \"`binary_crossentropy` received `from_logits=True`, but the `output` argument was produced by a sigmoid or softmax activation and thus does not represent logits. Was this intended?\"\n",
            "  return dispatch_target(*args, **kwargs)\n"
          ]
        },
        {
          "output_type": "stream",
          "name": "stdout",
          "text": [
            "612/612 [==============================] - 41s 61ms/step - loss: 0.4990 - accuracy: 0.8159\n",
            "Epoch 2/10\n",
            "612/612 [==============================] - 35s 58ms/step - loss: 0.4669 - accuracy: 0.8193\n",
            "Epoch 3/10\n",
            "612/612 [==============================] - 35s 58ms/step - loss: 0.4578 - accuracy: 0.8194\n",
            "Epoch 4/10\n",
            "612/612 [==============================] - 35s 57ms/step - loss: 0.4393 - accuracy: 0.8204\n",
            "Epoch 5/10\n",
            "612/612 [==============================] - 37s 61ms/step - loss: 0.4115 - accuracy: 0.8281\n",
            "Epoch 6/10\n",
            "612/612 [==============================] - 35s 57ms/step - loss: 0.3891 - accuracy: 0.8379\n",
            "Epoch 7/10\n",
            "612/612 [==============================] - 35s 57ms/step - loss: 0.3687 - accuracy: 0.8457\n",
            "Epoch 8/10\n",
            "612/612 [==============================] - 35s 57ms/step - loss: 0.3442 - accuracy: 0.8550\n",
            "Epoch 9/10\n",
            "612/612 [==============================] - 35s 58ms/step - loss: 0.3220 - accuracy: 0.8671\n",
            "Epoch 10/10\n",
            "612/612 [==============================] - 37s 61ms/step - loss: 0.3025 - accuracy: 0.8750\n",
            "204/204 [==============================] - 3s 9ms/step - loss: 0.3741 - accuracy: 0.8427\n",
            "test accuracy is:  [0.37413400411605835, 0.8427104353904724]\n",
            "204/204 [==============================] - 2s 8ms/step\n",
            "Recall: 0.393\n",
            "The confusion matrix is [[5051  337]\n",
            " [ 689  446]]\n",
            "Accuracy: 0.843\n",
            "F1 Score: 0.465\n",
            "Precision: 0.570\n"
          ]
        }
      ]
    },
    {
      "cell_type": "markdown",
      "metadata": {
        "id": "U7uDsqbtxI4C"
      },
      "source": [
        "# Activation Functions Tuning"
      ]
    },
    {
      "cell_type": "code",
      "execution_count": null,
      "metadata": {
        "id": "rp-VV5u55Lt5"
      },
      "outputs": [],
      "source": [
        "# #shuffle the data\n",
        "\n",
        "indices = np.arange(data.shape[0])\n",
        "np.random.shuffle(indices)\n",
        "data = data[indices]\n",
        "labels = labels[indices]\n",
        "\n",
        "# split the data into training, testing\n",
        "\n",
        "nb_validation_samples = int(0.25* data.shape[0])\n",
        "x_train = data[:-nb_validation_samples]\n",
        "y_train = labels[:-nb_validation_samples]\n",
        "x_test = data[-nb_validation_samples:]\n",
        "y_test = labels[-nb_validation_samples:]"
      ]
    },
    {
      "cell_type": "code",
      "execution_count": null,
      "metadata": {
        "colab": {
          "base_uri": "https://localhost:8080/"
        },
        "id": "udmuO7L_xLxr",
        "outputId": "9decb199-6391-4f43-c143-2272203b7bfe"
      },
      "outputs": [
        {
          "name": "stdout",
          "output_type": "stream",
          "text": [
            "Epoch 1/10\n"
          ]
        },
        {
          "name": "stderr",
          "output_type": "stream",
          "text": [
            "/usr/local/lib/python3.8/dist-packages/tensorflow/python/util/dispatch.py:1082: UserWarning: \"`binary_crossentropy` received `from_logits=True`, but the `output` argument was produced by a sigmoid or softmax activation and thus does not represent logits. Was this intended?\"\n",
            "  return dispatch_target(*args, **kwargs)\n"
          ]
        },
        {
          "name": "stdout",
          "output_type": "stream",
          "text": [
            "612/612 [==============================] - 54s 83ms/step - loss: 0.5304 - accuracy: 0.8085\n",
            "Epoch 2/10\n",
            "612/612 [==============================] - 39s 63ms/step - loss: 0.3556 - accuracy: 0.8594\n",
            "Epoch 3/10\n",
            "612/612 [==============================] - 38s 63ms/step - loss: 0.1815 - accuracy: 0.9389\n",
            "Epoch 4/10\n",
            "612/612 [==============================] - 39s 63ms/step - loss: 0.1045 - accuracy: 0.9687\n",
            "Epoch 5/10\n",
            "612/612 [==============================] - 38s 62ms/step - loss: 0.0686 - accuracy: 0.9805\n",
            "Epoch 6/10\n",
            "612/612 [==============================] - 39s 63ms/step - loss: 0.0512 - accuracy: 0.9861\n",
            "Epoch 7/10\n",
            "612/612 [==============================] - 39s 63ms/step - loss: 0.0407 - accuracy: 0.9884\n",
            "Epoch 8/10\n",
            "612/612 [==============================] - 42s 69ms/step - loss: 0.0325 - accuracy: 0.9906\n",
            "Epoch 9/10\n",
            "612/612 [==============================] - 39s 64ms/step - loss: 0.0289 - accuracy: 0.9912\n",
            "Epoch 10/10\n",
            "612/612 [==============================] - 38s 62ms/step - loss: 0.0257 - accuracy: 0.9912\n",
            "204/204 [==============================] - 3s 9ms/step - loss: 0.4403 - accuracy: 0.8961\n",
            "test accuracy is:  [0.4402760863304138, 0.8960601091384888]\n",
            "204/204 [==============================] - 2s 8ms/step\n",
            "The confusion matrix is [[5052  278]\n",
            " [ 400  793]]\n",
            "Accuracy: 0.896\n",
            "Recall: 0.665\n",
            "Precision: 0.740\n",
            "F1 Score: 0.701\n"
          ]
        }
      ],
      "source": [
        "# RNN - BiLSTM with flatten layer, Adam(1e-4), (Softplus+softmax)\n",
        "\n",
        "from tensorflow.keras import layers\n",
        "model10 = tf.keras.Sequential([\n",
        "    tf.keras.layers.Embedding(VOCAB_SIZE, EMB_DIM),\n",
        "    tf.keras.layers.SimpleRNN(64, return_sequences=True),\n",
        "    tf.keras.layers.Bidirectional(tf.keras.layers.LSTM(32)),\n",
        "    tf.keras.layers.Flatten(), \n",
        "    tf.keras.layers.Dense(EMB_DIM, activation='softplus'),\n",
        "    tf.keras.layers.Dropout(0.5),\n",
        "    tf.keras.layers.Dense(2,activation='softmax')\n",
        "])\n",
        "\n",
        "model10.compile(loss=tf.keras.losses.BinaryCrossentropy(from_logits=True),\n",
        "              optimizer=tf.keras.optimizers.Adam(1e-4),\n",
        "              metrics=['accuracy'])\n",
        "\n",
        "model10.fit(x_train, y_train, batch_size=32, epochs=10)\n",
        "\n",
        "accuracy10= model10.evaluate(x_test, y_test)\n",
        "# print('test loss is:', loss)\n",
        "print('test accuracy is: ', accuracy10)\n",
        "\n",
        "predictions10= model10.predict(x_test)\n",
        "\n",
        "predictions10=np.argmax(predictions10, axis=1)\n",
        "y_test=np.argmax(y_test, axis=1)\n",
        "\n",
        "\n",
        "cm = confusion_matrix(y_test, predictions10)\n",
        "print('The confusion matrix is', cm)\n",
        "print('Accuracy: %.3f' % accuracy_score(y_test, predictions10))\n",
        "print('Recall: %.3f' % recall_score(y_test, predictions10))\n",
        "print('Precision: %.3f' % precision_score(y_test, predictions10))\n",
        "print('F1 Score: %.3f' % f1_score(y_test, predictions10))\n"
      ]
    },
    {
      "cell_type": "code",
      "execution_count": null,
      "metadata": {
        "id": "b35YEYzK5NHx"
      },
      "outputs": [],
      "source": [
        "# #shuffle the data\n",
        "\n",
        "indices = np.arange(data.shape[0])\n",
        "np.random.shuffle(indices)\n",
        "data = data[indices]\n",
        "labels = labels[indices]\n",
        "\n",
        "# split the data into training, testing\n",
        "\n",
        "nb_validation_samples = int(0.25* data.shape[0])\n",
        "x_train = data[:-nb_validation_samples]\n",
        "y_train = labels[:-nb_validation_samples]\n",
        "x_test = data[-nb_validation_samples:]\n",
        "y_test = labels[-nb_validation_samples:]"
      ]
    },
    {
      "cell_type": "code",
      "execution_count": null,
      "metadata": {
        "colab": {
          "base_uri": "https://localhost:8080/"
        },
        "id": "Y_OAXYXH21gB",
        "outputId": "ad1a1fb2-6a37-43d8-a0bf-1015868abd47"
      },
      "outputs": [
        {
          "name": "stdout",
          "output_type": "stream",
          "text": [
            "Epoch 1/10\n"
          ]
        },
        {
          "name": "stderr",
          "output_type": "stream",
          "text": [
            "/usr/local/lib/python3.8/dist-packages/tensorflow/python/util/dispatch.py:1082: UserWarning: \"`binary_crossentropy` received `from_logits=True`, but the `output` argument was produced by a sigmoid or softmax activation and thus does not represent logits. Was this intended?\"\n",
            "  return dispatch_target(*args, **kwargs)\n"
          ]
        },
        {
          "name": "stdout",
          "output_type": "stream",
          "text": [
            "612/612 [==============================] - 42s 62ms/step - loss: 0.4468 - accuracy: 0.8238\n",
            "Epoch 2/10\n",
            "612/612 [==============================] - 38s 63ms/step - loss: 0.2418 - accuracy: 0.9056\n",
            "Epoch 3/10\n",
            "612/612 [==============================] - 38s 62ms/step - loss: 0.1112 - accuracy: 0.9628\n",
            "Epoch 4/10\n",
            "612/612 [==============================] - 39s 63ms/step - loss: 0.0595 - accuracy: 0.9811\n",
            "Epoch 5/10\n",
            "612/612 [==============================] - 39s 64ms/step - loss: 0.0428 - accuracy: 0.9880\n",
            "Epoch 6/10\n",
            "612/612 [==============================] - 44s 71ms/step - loss: 0.0314 - accuracy: 0.9907\n",
            "Epoch 7/10\n",
            "612/612 [==============================] - 40s 65ms/step - loss: 0.0278 - accuracy: 0.9922\n",
            "Epoch 8/10\n",
            "612/612 [==============================] - 39s 64ms/step - loss: 0.0236 - accuracy: 0.9929\n",
            "Epoch 9/10\n",
            "612/612 [==============================] - 39s 64ms/step - loss: 0.0208 - accuracy: 0.9934\n",
            "Epoch 10/10\n",
            "612/612 [==============================] - 40s 66ms/step - loss: 0.0183 - accuracy: 0.9934\n",
            "204/204 [==============================] - 3s 9ms/step - loss: 0.3777 - accuracy: 0.9106\n",
            "test accuracy is:  [0.37771451473236084, 0.9106239676475525]\n",
            "204/204 [==============================] - 2s 8ms/step\n",
            "The confusion matrix is [[5143  213]\n",
            " [ 370  797]]\n",
            "Accuracy: 0.911\n",
            "Recall: 0.683\n",
            "Precision: 0.789\n",
            "F1 Score: 0.732\n"
          ]
        }
      ],
      "source": [
        "# RNN - BiLSTM with flatten layer, Adam(1e-4), (Softsign+softmax)\n",
        "\n",
        "from tensorflow.keras import layers\n",
        "model11 = tf.keras.Sequential([\n",
        "    tf.keras.layers.Embedding(VOCAB_SIZE, EMB_DIM),\n",
        "    tf.keras.layers.SimpleRNN(64, return_sequences=True),\n",
        "    tf.keras.layers.Bidirectional(tf.keras.layers.LSTM(32)),\n",
        "    tf.keras.layers.Flatten(), \n",
        "    tf.keras.layers.Dense(EMB_DIM, activation='softsign'),\n",
        "    tf.keras.layers.Dropout(0.5),\n",
        "    tf.keras.layers.Dense(2,activation='softmax')\n",
        "])\n",
        "\n",
        "model11.compile(loss=tf.keras.losses.BinaryCrossentropy(from_logits=True),\n",
        "              optimizer=tf.keras.optimizers.Adam(1e-4),\n",
        "              metrics=['accuracy'])\n",
        "\n",
        "model11.fit(x_train, y_train, batch_size=32, epochs=10)\n",
        "\n",
        "accuracy11= model11.evaluate(x_test, y_test)\n",
        "# print('test loss is:', loss)\n",
        "print('test accuracy is: ', accuracy11)\n",
        "\n",
        "predictions11= model11.predict(x_test)\n",
        "\n",
        "predictions11=np.argmax(predictions11, axis=1)\n",
        "y_test=np.argmax(y_test, axis=1)\n",
        "\n",
        "\n",
        "cm = confusion_matrix(y_test, predictions11)\n",
        "print('The confusion matrix is', cm)\n",
        "print('Accuracy: %.3f' % accuracy_score(y_test, predictions11))\n",
        "print('Recall: %.3f' % recall_score(y_test, predictions11))\n",
        "print('Precision: %.3f' % precision_score(y_test, predictions11))\n",
        "print('F1 Score: %.3f' % f1_score(y_test, predictions11))\n"
      ]
    },
    {
      "cell_type": "code",
      "execution_count": null,
      "metadata": {
        "id": "cweyYwKP5OOi"
      },
      "outputs": [],
      "source": [
        "# #shuffle the data\n",
        "\n",
        "indices = np.arange(data.shape[0])\n",
        "np.random.shuffle(indices)\n",
        "data = data[indices]\n",
        "labels = labels[indices]\n",
        "\n",
        "# split the data into training, testing\n",
        "\n",
        "nb_validation_samples = int(0.25* data.shape[0])\n",
        "x_train = data[:-nb_validation_samples]\n",
        "y_train = labels[:-nb_validation_samples]\n",
        "x_test = data[-nb_validation_samples:]\n",
        "y_test = labels[-nb_validation_samples:]"
      ]
    },
    {
      "cell_type": "code",
      "execution_count": null,
      "metadata": {
        "colab": {
          "base_uri": "https://localhost:8080/"
        },
        "id": "9dMhJYTZ3AfW",
        "outputId": "ea8296f6-369d-4f5b-bd78-aeaa25f3c52d"
      },
      "outputs": [
        {
          "name": "stdout",
          "output_type": "stream",
          "text": [
            "Epoch 1/10\n"
          ]
        },
        {
          "name": "stderr",
          "output_type": "stream",
          "text": [
            "/usr/local/lib/python3.8/dist-packages/tensorflow/python/util/dispatch.py:1082: UserWarning: \"`binary_crossentropy` received `from_logits=True`, but the `output` argument was produced by a sigmoid or softmax activation and thus does not represent logits. Was this intended?\"\n",
            "  return dispatch_target(*args, **kwargs)\n"
          ]
        },
        {
          "name": "stdout",
          "output_type": "stream",
          "text": [
            "612/612 [==============================] - 42s 64ms/step - loss: 0.4439 - accuracy: 0.8231\n",
            "Epoch 2/10\n",
            "612/612 [==============================] - 43s 71ms/step - loss: 0.2406 - accuracy: 0.9060\n",
            "Epoch 3/10\n",
            "612/612 [==============================] - 39s 63ms/step - loss: 0.1098 - accuracy: 0.9630\n",
            "Epoch 4/10\n",
            "612/612 [==============================] - 38s 63ms/step - loss: 0.0607 - accuracy: 0.9803\n",
            "Epoch 5/10\n",
            "612/612 [==============================] - 39s 63ms/step - loss: 0.0393 - accuracy: 0.9891\n",
            "Epoch 6/10\n",
            "612/612 [==============================] - 39s 63ms/step - loss: 0.0334 - accuracy: 0.9902\n",
            "Epoch 7/10\n",
            "612/612 [==============================] - 47s 76ms/step - loss: 0.0269 - accuracy: 0.9920\n",
            "Epoch 8/10\n",
            "612/612 [==============================] - 39s 64ms/step - loss: 0.0234 - accuracy: 0.9927\n",
            "Epoch 9/10\n",
            "612/612 [==============================] - 40s 65ms/step - loss: 0.0203 - accuracy: 0.9926\n",
            "Epoch 10/10\n",
            "612/612 [==============================] - 43s 70ms/step - loss: 0.0192 - accuracy: 0.9928\n",
            "204/204 [==============================] - 3s 9ms/step - loss: 0.3459 - accuracy: 0.9051\n",
            "test accuracy is:  [0.34593260288238525, 0.9051049947738647]\n",
            "204/204 [==============================] - 2s 8ms/step\n",
            "The confusion matrix is [[5063  320]\n",
            " [ 299  841]]\n",
            "Accuracy: 0.905\n",
            "Recall: 0.738\n",
            "Precision: 0.724\n",
            "F1 Score: 0.731\n"
          ]
        }
      ],
      "source": [
        "# RNN - BiLSTM with flatten layer, Adam(1e-4), (tanh+softmax)\n",
        "\n",
        "from tensorflow.keras import layers\n",
        "model12 = tf.keras.Sequential([\n",
        "    tf.keras.layers.Embedding(VOCAB_SIZE, EMB_DIM),\n",
        "    tf.keras.layers.SimpleRNN(64, return_sequences=True),\n",
        "    tf.keras.layers.Bidirectional(tf.keras.layers.LSTM(32)),\n",
        "    tf.keras.layers.Flatten(), \n",
        "    tf.keras.layers.Dense(EMB_DIM, activation='tanh'),\n",
        "    tf.keras.layers.Dropout(0.5),\n",
        "    tf.keras.layers.Dense(2,activation='softmax')\n",
        "])\n",
        "\n",
        "model12.compile(loss=tf.keras.losses.BinaryCrossentropy(from_logits=True),\n",
        "              optimizer=tf.keras.optimizers.Adam(1e-4),\n",
        "              metrics=['accuracy'])\n",
        "\n",
        "model12.fit(x_train, y_train, batch_size=32, epochs=10)\n",
        "\n",
        "accuracy12= model12.evaluate(x_test, y_test)\n",
        "# print('test loss is:', loss)\n",
        "print('test accuracy is: ', accuracy12)\n",
        "\n",
        "predictions12= model12.predict(x_test)\n",
        "\n",
        "predictions12=np.argmax(predictions12, axis=1)\n",
        "y_test=np.argmax(y_test, axis=1)\n",
        "\n",
        "\n",
        "cm = confusion_matrix(y_test, predictions12)\n",
        "print('The confusion matrix is', cm)\n",
        "print('Accuracy: %.3f' % accuracy_score(y_test, predictions12))\n",
        "print('Recall: %.3f' % recall_score(y_test, predictions12))\n",
        "print('Precision: %.3f' % precision_score(y_test, predictions12))\n",
        "print('F1 Score: %.3f' % f1_score(y_test, predictions12))\n"
      ]
    },
    {
      "cell_type": "code",
      "execution_count": null,
      "metadata": {
        "id": "SP-58wei5PmL"
      },
      "outputs": [],
      "source": [
        "# #shuffle the data\n",
        "\n",
        "indices = np.arange(data.shape[0])\n",
        "np.random.shuffle(indices)\n",
        "data = data[indices]\n",
        "labels = labels[indices]\n",
        "\n",
        "# split the data into training, testing\n",
        "\n",
        "nb_validation_samples = int(0.25* data.shape[0])\n",
        "x_train = data[:-nb_validation_samples]\n",
        "y_train = labels[:-nb_validation_samples]\n",
        "x_test = data[-nb_validation_samples:]\n",
        "y_test = labels[-nb_validation_samples:]"
      ]
    },
    {
      "cell_type": "code",
      "execution_count": null,
      "metadata": {
        "colab": {
          "base_uri": "https://localhost:8080/"
        },
        "id": "FLcMGMO63EVV",
        "outputId": "3c003a52-969c-47da-9703-9ee55193c87b"
      },
      "outputs": [
        {
          "name": "stdout",
          "output_type": "stream",
          "text": [
            "Epoch 1/10\n"
          ]
        },
        {
          "name": "stderr",
          "output_type": "stream",
          "text": [
            "/usr/local/lib/python3.8/dist-packages/tensorflow/python/util/dispatch.py:1082: UserWarning: \"`binary_crossentropy` received `from_logits=True`, but the `output` argument was produced by a sigmoid or softmax activation and thus does not represent logits. Was this intended?\"\n",
            "  return dispatch_target(*args, **kwargs)\n"
          ]
        },
        {
          "name": "stdout",
          "output_type": "stream",
          "text": [
            "612/612 [==============================] - 41s 62ms/step - loss: 0.4430 - accuracy: 0.8253\n",
            "Epoch 2/10\n",
            "612/612 [==============================] - 38s 62ms/step - loss: 0.2334 - accuracy: 0.9093\n",
            "Epoch 3/10\n",
            "612/612 [==============================] - 39s 63ms/step - loss: 0.1031 - accuracy: 0.9647\n",
            "Epoch 4/10\n",
            "612/612 [==============================] - 38s 63ms/step - loss: 0.0568 - accuracy: 0.9827\n",
            "Epoch 5/10\n",
            "612/612 [==============================] - 38s 63ms/step - loss: 0.0387 - accuracy: 0.9889\n",
            "Epoch 6/10\n",
            "612/612 [==============================] - 38s 63ms/step - loss: 0.0303 - accuracy: 0.9917\n",
            "Epoch 7/10\n",
            "612/612 [==============================] - 42s 68ms/step - loss: 0.0267 - accuracy: 0.9916\n",
            "Epoch 8/10\n",
            "612/612 [==============================] - 38s 61ms/step - loss: 0.0246 - accuracy: 0.9926\n",
            "Epoch 9/10\n",
            "612/612 [==============================] - 38s 61ms/step - loss: 0.0210 - accuracy: 0.9929\n",
            "Epoch 10/10\n",
            "612/612 [==============================] - 38s 62ms/step - loss: 0.0196 - accuracy: 0.9921\n",
            "204/204 [==============================] - 3s 9ms/step - loss: 0.4060 - accuracy: 0.9007\n",
            "test accuracy is:  [0.40602847933769226, 0.9006592035293579]\n",
            "204/204 [==============================] - 2s 8ms/step\n",
            "The confusion matrix is [[5041  336]\n",
            " [ 312  834]]\n",
            "Accuracy: 0.901\n",
            "Recall: 0.728\n",
            "Precision: 0.713\n",
            "F1 Score: 0.720\n"
          ]
        }
      ],
      "source": [
        "# RNN - BiLSTM with flatten layer, Adam(1e-4), (selu+softmax)\n",
        "\n",
        "from tensorflow.keras import layers\n",
        "model13 = tf.keras.Sequential([\n",
        "    tf.keras.layers.Embedding(VOCAB_SIZE, EMB_DIM),\n",
        "    tf.keras.layers.SimpleRNN(64, return_sequences=True),\n",
        "    tf.keras.layers.Bidirectional(tf.keras.layers.LSTM(32)),\n",
        "    tf.keras.layers.Flatten(), \n",
        "    tf.keras.layers.Dense(EMB_DIM, activation='selu'),\n",
        "    tf.keras.layers.Dropout(0.5),\n",
        "    tf.keras.layers.Dense(2,activation='softmax')\n",
        "])\n",
        "\n",
        "model13.compile(loss=tf.keras.losses.BinaryCrossentropy(from_logits=True),\n",
        "              optimizer=tf.keras.optimizers.Adam(1e-4),\n",
        "              metrics=['accuracy'])\n",
        "\n",
        "model13.fit(x_train, y_train, batch_size=32, epochs=10)\n",
        "\n",
        "accuracy13= model13.evaluate(x_test, y_test)\n",
        "# print('test loss is:', loss)\n",
        "print('test accuracy is: ', accuracy13)\n",
        "\n",
        "predictions13= model13.predict(x_test)\n",
        "\n",
        "predictions13=np.argmax(predictions13, axis=1)\n",
        "y_test=np.argmax(y_test, axis=1)\n",
        "\n",
        "\n",
        "cm = confusion_matrix(y_test, predictions13)\n",
        "print('The confusion matrix is', cm)\n",
        "print('Accuracy: %.3f' % accuracy_score(y_test, predictions13))\n",
        "print('Recall: %.3f' % recall_score(y_test, predictions13))\n",
        "print('Precision: %.3f' % precision_score(y_test, predictions13))\n",
        "print('F1 Score: %.3f' % f1_score(y_test, predictions13))\n"
      ]
    },
    {
      "cell_type": "code",
      "execution_count": null,
      "metadata": {
        "id": "tTOUH8Kc5QwH"
      },
      "outputs": [],
      "source": [
        "# #shuffle the data\n",
        "\n",
        "indices = np.arange(data.shape[0])\n",
        "np.random.shuffle(indices)\n",
        "data = data[indices]\n",
        "labels = labels[indices]\n",
        "\n",
        "# split the data into training, testing\n",
        "\n",
        "nb_validation_samples = int(0.25* data.shape[0])\n",
        "x_train = data[:-nb_validation_samples]\n",
        "y_train = labels[:-nb_validation_samples]\n",
        "x_test = data[-nb_validation_samples:]\n",
        "y_test = labels[-nb_validation_samples:]"
      ]
    },
    {
      "cell_type": "code",
      "execution_count": null,
      "metadata": {
        "colab": {
          "base_uri": "https://localhost:8080/"
        },
        "id": "JUgy1-me3e95",
        "outputId": "2e6845cf-e431-42e8-c2d7-e90852e1d794"
      },
      "outputs": [
        {
          "name": "stdout",
          "output_type": "stream",
          "text": [
            "Epoch 1/10\n"
          ]
        },
        {
          "name": "stderr",
          "output_type": "stream",
          "text": [
            "/usr/local/lib/python3.8/dist-packages/tensorflow/python/util/dispatch.py:1082: UserWarning: \"`binary_crossentropy` received `from_logits=True`, but the `output` argument was produced by a sigmoid or softmax activation and thus does not represent logits. Was this intended?\"\n",
            "  return dispatch_target(*args, **kwargs)\n"
          ]
        },
        {
          "name": "stdout",
          "output_type": "stream",
          "text": [
            "612/612 [==============================] - 40s 60ms/step - loss: 0.4447 - accuracy: 0.8245\n",
            "Epoch 2/10\n",
            "612/612 [==============================] - 37s 61ms/step - loss: 0.2389 - accuracy: 0.9074\n",
            "Epoch 3/10\n",
            "612/612 [==============================] - 40s 66ms/step - loss: 0.1104 - accuracy: 0.9616\n",
            "Epoch 4/10\n",
            "612/612 [==============================] - 38s 62ms/step - loss: 0.0626 - accuracy: 0.9799\n",
            "Epoch 5/10\n",
            "612/612 [==============================] - 37s 61ms/step - loss: 0.0417 - accuracy: 0.9871\n",
            "Epoch 6/10\n",
            "612/612 [==============================] - 37s 60ms/step - loss: 0.0312 - accuracy: 0.9906\n",
            "Epoch 7/10\n",
            "612/612 [==============================] - 37s 61ms/step - loss: 0.0273 - accuracy: 0.9911\n",
            "Epoch 8/10\n",
            "612/612 [==============================] - 38s 62ms/step - loss: 0.0229 - accuracy: 0.9913\n",
            "Epoch 9/10\n",
            "612/612 [==============================] - 38s 62ms/step - loss: 0.0192 - accuracy: 0.9922\n",
            "Epoch 10/10\n",
            "612/612 [==============================] - 38s 62ms/step - loss: 0.0182 - accuracy: 0.9923\n",
            "204/204 [==============================] - 3s 9ms/step - loss: 0.4510 - accuracy: 0.8844\n",
            "test accuracy is:  [0.451027512550354, 0.8844090104103088]\n",
            "204/204 [==============================] - 2s 8ms/step\n",
            "The confusion matrix is [[4911  425]\n",
            " [ 329  858]]\n",
            "Accuracy: 0.884\n",
            "Recall: 0.723\n",
            "Precision: 0.669\n",
            "F1 Score: 0.695\n"
          ]
        }
      ],
      "source": [
        "# RNN - BiLSTM with flatten layer, Adam(1e-4), (elu+softmax)\n",
        "\n",
        "from tensorflow.keras import layers\n",
        "model14 = tf.keras.Sequential([\n",
        "    tf.keras.layers.Embedding(VOCAB_SIZE, EMB_DIM),\n",
        "    tf.keras.layers.SimpleRNN(64, return_sequences=True),\n",
        "    tf.keras.layers.Bidirectional(tf.keras.layers.LSTM(32)),\n",
        "    tf.keras.layers.Flatten(), \n",
        "    tf.keras.layers.Dense(EMB_DIM, activation='elu'),\n",
        "    tf.keras.layers.Dropout(0.5),\n",
        "    tf.keras.layers.Dense(2,activation='softmax')\n",
        "])\n",
        "\n",
        "model14.compile(loss=tf.keras.losses.BinaryCrossentropy(from_logits=True),\n",
        "              optimizer=tf.keras.optimizers.Adam(1e-4),\n",
        "              metrics=['accuracy'])\n",
        "\n",
        "model14.fit(x_train, y_train, batch_size=32, epochs=10)\n",
        "\n",
        "accuracy14= model14.evaluate(x_test, y_test)\n",
        "# print('test loss is:', loss)\n",
        "print('test accuracy is: ', accuracy14)\n",
        "\n",
        "predictions14= model14.predict(x_test)\n",
        "\n",
        "predictions14=np.argmax(predictions14, axis=1)\n",
        "y_test=np.argmax(y_test, axis=1)\n",
        "\n",
        "\n",
        "cm = confusion_matrix(y_test, predictions14)\n",
        "print('The confusion matrix is', cm)\n",
        "print('Accuracy: %.3f' % accuracy_score(y_test, predictions14))\n",
        "print('Recall: %.3f' % recall_score(y_test, predictions14))\n",
        "print('Precision: %.3f' % precision_score(y_test, predictions14))\n",
        "print('F1 Score: %.3f' % f1_score(y_test, predictions14))\n"
      ]
    },
    {
      "cell_type": "code",
      "execution_count": null,
      "metadata": {
        "id": "mhtQgt1L5SF7"
      },
      "outputs": [],
      "source": [
        "# #shuffle the data\n",
        "\n",
        "indices = np.arange(data.shape[0])\n",
        "np.random.shuffle(indices)\n",
        "data = data[indices]\n",
        "labels = labels[indices]\n",
        "\n",
        "# split the data into training, testing\n",
        "\n",
        "nb_validation_samples = int(0.25* data.shape[0])\n",
        "x_train = data[:-nb_validation_samples]\n",
        "y_train = labels[:-nb_validation_samples]\n",
        "x_test = data[-nb_validation_samples:]\n",
        "y_test = labels[-nb_validation_samples:]"
      ]
    },
    {
      "cell_type": "code",
      "execution_count": null,
      "metadata": {
        "colab": {
          "base_uri": "https://localhost:8080/"
        },
        "id": "3WiulJyu3gb4",
        "outputId": "3863f5b4-30e2-48f2-e55c-5273daf2cea7"
      },
      "outputs": [
        {
          "name": "stdout",
          "output_type": "stream",
          "text": [
            "Epoch 1/10\n"
          ]
        },
        {
          "name": "stderr",
          "output_type": "stream",
          "text": [
            "/usr/local/lib/python3.8/dist-packages/tensorflow/python/util/dispatch.py:1082: UserWarning: \"`binary_crossentropy` received `from_logits=True`, but the `output` argument was produced by a sigmoid or softmax activation and thus does not represent logits. Was this intended?\"\n",
            "  return dispatch_target(*args, **kwargs)\n"
          ]
        },
        {
          "name": "stdout",
          "output_type": "stream",
          "text": [
            "612/612 [==============================] - 45s 68ms/step - loss: 0.5798 - accuracy: 0.7910\n",
            "Epoch 2/10\n",
            "612/612 [==============================] - 38s 62ms/step - loss: 0.3381 - accuracy: 0.8741\n",
            "Epoch 3/10\n",
            "612/612 [==============================] - 38s 63ms/step - loss: 0.1578 - accuracy: 0.9472\n",
            "Epoch 4/10\n",
            "612/612 [==============================] - 38s 62ms/step - loss: 0.0892 - accuracy: 0.9720\n",
            "Epoch 5/10\n",
            "612/612 [==============================] - 38s 62ms/step - loss: 0.0588 - accuracy: 0.9827\n",
            "Epoch 6/10\n",
            "612/612 [==============================] - 39s 63ms/step - loss: 0.0438 - accuracy: 0.9878\n",
            "Epoch 7/10\n",
            "612/612 [==============================] - 38s 62ms/step - loss: 0.0352 - accuracy: 0.9902\n",
            "Epoch 8/10\n",
            "612/612 [==============================] - 38s 62ms/step - loss: 0.0307 - accuracy: 0.9915\n",
            "Epoch 9/10\n",
            "612/612 [==============================] - 42s 69ms/step - loss: 0.0266 - accuracy: 0.9920\n",
            "Epoch 10/10\n",
            "612/612 [==============================] - 38s 62ms/step - loss: 0.0247 - accuracy: 0.9926\n",
            "204/204 [==============================] - 3s 9ms/step - loss: 0.4391 - accuracy: 0.8982\n",
            "test accuracy is:  [0.4391281306743622, 0.898206353187561]\n",
            "204/204 [==============================] - 2s 8ms/step\n",
            "The confusion matrix is [[5007  354]\n",
            " [ 310  852]]\n",
            "Accuracy: 0.898\n",
            "Recall: 0.733\n",
            "Precision: 0.706\n",
            "F1 Score: 0.720\n"
          ]
        }
      ],
      "source": [
        "# RNN - BiLSTM with flatten layer, Adam(1e-4), (exponential+softmax)\n",
        "\n",
        "from tensorflow.keras import layers\n",
        "model15 = tf.keras.Sequential([\n",
        "    tf.keras.layers.Embedding(VOCAB_SIZE, EMB_DIM),\n",
        "    tf.keras.layers.SimpleRNN(64, return_sequences=True),\n",
        "    tf.keras.layers.Bidirectional(tf.keras.layers.LSTM(32)),\n",
        "    tf.keras.layers.Flatten(), \n",
        "    tf.keras.layers.Dense(EMB_DIM, activation='exponential'),\n",
        "    tf.keras.layers.Dropout(0.5),\n",
        "    tf.keras.layers.Dense(2,activation='softmax')\n",
        "])\n",
        "\n",
        "model15.compile(loss=tf.keras.losses.BinaryCrossentropy(from_logits=True),\n",
        "              optimizer=tf.keras.optimizers.Adam(1e-4),\n",
        "              metrics=['accuracy'])\n",
        "\n",
        "model15.fit(x_train, y_train, batch_size=32, epochs=10)\n",
        "\n",
        "accuracy15= model15.evaluate(x_test, y_test)\n",
        "# print('test loss is:', loss)\n",
        "print('test accuracy is: ', accuracy15)\n",
        "\n",
        "predictions15= model15.predict(x_test)\n",
        "\n",
        "predictions15=np.argmax(predictions15, axis=1)\n",
        "y_test=np.argmax(y_test, axis=1)\n",
        "\n",
        "\n",
        "cm = confusion_matrix(y_test, predictions15)\n",
        "print('The confusion matrix is', cm)\n",
        "print('Accuracy: %.3f' % accuracy_score(y_test, predictions15))\n",
        "print('Recall: %.3f' % recall_score(y_test, predictions15))\n",
        "print('Precision: %.3f' % precision_score(y_test, predictions15))\n",
        "print('F1 Score: %.3f' % f1_score(y_test, predictions15))\n"
      ]
    },
    {
      "cell_type": "code",
      "execution_count": null,
      "metadata": {
        "id": "VmwBT1x35Sri"
      },
      "outputs": [],
      "source": []
    },
    {
      "cell_type": "markdown",
      "metadata": {
        "id": "IpkFYfjvEPP6"
      },
      "source": [
        "#Batch Size Tuning \n"
      ]
    },
    {
      "cell_type": "code",
      "execution_count": null,
      "metadata": {
        "colab": {
          "base_uri": "https://localhost:8080/"
        },
        "id": "EAfSJ_CeETAL",
        "outputId": "1d8ac97e-9b22-49c7-e904-922090f06421"
      },
      "outputs": [
        {
          "name": "stdout",
          "output_type": "stream",
          "text": [
            "Epoch 1/10\n"
          ]
        },
        {
          "name": "stderr",
          "output_type": "stream",
          "text": [
            "/usr/local/lib/python3.8/dist-packages/tensorflow/python/util/dispatch.py:1082: UserWarning: \"`binary_crossentropy` received `from_logits=True`, but the `output` argument was produced by a sigmoid or softmax activation and thus does not represent logits. Was this intended?\"\n",
            "  return dispatch_target(*args, **kwargs)\n"
          ]
        },
        {
          "name": "stdout",
          "output_type": "stream",
          "text": [
            "1958/1958 [==============================] - 174s 86ms/step - loss: 0.4294 - accuracy: 0.8299\n",
            "Epoch 2/10\n",
            "1958/1958 [==============================] - 126s 64ms/step - loss: 0.2031 - accuracy: 0.9239\n",
            "Epoch 3/10\n",
            "1958/1958 [==============================] - 122s 62ms/step - loss: 0.0810 - accuracy: 0.9739\n",
            "Epoch 4/10\n",
            "1958/1958 [==============================] - 125s 64ms/step - loss: 0.0435 - accuracy: 0.9883\n",
            "Epoch 5/10\n",
            "1958/1958 [==============================] - 122s 62ms/step - loss: 0.0334 - accuracy: 0.9910\n",
            "Epoch 6/10\n",
            "1958/1958 [==============================] - 125s 64ms/step - loss: 0.0244 - accuracy: 0.9930\n",
            "Epoch 7/10\n",
            "1958/1958 [==============================] - 121s 62ms/step - loss: 0.0207 - accuracy: 0.9934\n",
            "Epoch 8/10\n",
            "1958/1958 [==============================] - 125s 64ms/step - loss: 0.0170 - accuracy: 0.9939\n",
            "Epoch 9/10\n",
            "1958/1958 [==============================] - 121s 62ms/step - loss: 0.0140 - accuracy: 0.9938\n",
            "Epoch 10/10\n",
            "1958/1958 [==============================] - 120s 61ms/step - loss: 0.0111 - accuracy: 0.9944\n",
            "204/204 [==============================] - 3s 8ms/step\n",
            "The Confusion Matrix is [[5061  287]\n",
            " [ 410  765]]\n",
            "Accuracy: 0.893\n",
            "Recall: 0.651\n",
            "Precision: 0.727\n",
            "F1 Score: 0.687\n"
          ]
        }
      ],
      "source": [
        "#RNN - BiLSTM with flatten (10 Batch Size)\n",
        "\n",
        "from tensorflow.keras import layers\n",
        "model16 = tf.keras.Sequential([\n",
        "    tf.keras.layers.Embedding(VOCAB_SIZE, EMB_DIM),\n",
        "    tf.keras.layers.SimpleRNN(64, return_sequences=True),\n",
        "    tf.keras.layers.Bidirectional(tf.keras.layers.LSTM(32)),\n",
        "    tf.keras.layers.Flatten(), \n",
        "    tf.keras.layers.Dense(EMB_DIM, activation='relu'),\n",
        "    tf.keras.layers.Dropout(0.5),\n",
        "    tf.keras.layers.Dense(2,activation='softmax')\n",
        "])\n",
        "\n",
        "model16.compile(loss=tf.keras.losses.BinaryCrossentropy(from_logits=True),\n",
        "              optimizer=tf.keras.optimizers.Adam(1e-4),\n",
        "              metrics=['accuracy'])\n",
        "\n",
        "model16.fit(x_train, y_train, batch_size=10, epochs=10)\n",
        "\n",
        "\n",
        "predictions16= model16.predict(x_test)\n",
        "predictions16=np.argmax(predictions16, axis=1)\n",
        "y_test=np.argmax(y_test, axis=1)\n",
        "\n",
        "cm = confusion_matrix(y_test, predictions16)\n",
        "print('The Confusion Matrix is', cm)\n",
        "print('Accuracy: %.3f' % accuracy_score(y_test, predictions16))\n",
        "print('Recall: %.3f' % recall_score(y_test, predictions16))\n",
        "print('Precision: %.3f' % precision_score(y_test, predictions16))\n",
        "print('F1 Score: %.3f' % f1_score(y_test, predictions16))"
      ]
    },
    {
      "cell_type": "code",
      "execution_count": null,
      "metadata": {
        "colab": {
          "base_uri": "https://localhost:8080/"
        },
        "id": "3Zwnnq0VE6_s",
        "outputId": "036f24b1-212d-4c89-fe18-1e3fa15897bc"
      },
      "outputs": [
        {
          "name": "stdout",
          "output_type": "stream",
          "text": [
            "Epoch 1/10\n"
          ]
        },
        {
          "name": "stderr",
          "output_type": "stream",
          "text": [
            "/usr/local/lib/python3.8/dist-packages/tensorflow/python/util/dispatch.py:1082: UserWarning: \"`binary_crossentropy` received `from_logits=True`, but the `output` argument was produced by a sigmoid or softmax activation and thus does not represent logits. Was this intended?\"\n",
            "  return dispatch_target(*args, **kwargs)\n"
          ]
        },
        {
          "name": "stdout",
          "output_type": "stream",
          "text": [
            "490/490 [==============================] - 38s 71ms/step - loss: 0.4679 - accuracy: 0.8171\n",
            "Epoch 2/10\n",
            "490/490 [==============================] - 31s 63ms/step - loss: 0.2832 - accuracy: 0.8903\n",
            "Epoch 3/10\n",
            "490/490 [==============================] - 31s 62ms/step - loss: 0.1394 - accuracy: 0.9524\n",
            "Epoch 4/10\n",
            "490/490 [==============================] - 30s 62ms/step - loss: 0.0730 - accuracy: 0.9766\n",
            "Epoch 5/10\n",
            "490/490 [==============================] - 47s 95ms/step - loss: 0.0463 - accuracy: 0.9872\n",
            "Epoch 6/10\n",
            "490/490 [==============================] - 35s 71ms/step - loss: 0.0376 - accuracy: 0.9899\n",
            "Epoch 7/10\n",
            "490/490 [==============================] - 31s 63ms/step - loss: 0.0296 - accuracy: 0.9919\n",
            "Epoch 8/10\n",
            "490/490 [==============================] - 31s 63ms/step - loss: 0.0262 - accuracy: 0.9925\n",
            "Epoch 9/10\n",
            "490/490 [==============================] - 31s 64ms/step - loss: 0.0247 - accuracy: 0.9924\n",
            "Epoch 10/10\n",
            "490/490 [==============================] - 35s 70ms/step - loss: 0.0226 - accuracy: 0.9929\n",
            "204/204 [==============================] - 2s 8ms/step\n",
            "The Confusion Matrix is [[5106  253]\n",
            " [ 373  791]]\n",
            "Accuracy: 0.904\n",
            "Recall: 0.680\n",
            "Precision: 0.758\n",
            "F1 Score: 0.716\n"
          ]
        }
      ],
      "source": [
        "#RNN - BiLSTM with flatten (40 Batch Size)\n",
        "\n",
        "from tensorflow.keras import layers\n",
        "model17 = tf.keras.Sequential([\n",
        "    tf.keras.layers.Embedding(VOCAB_SIZE, EMB_DIM),\n",
        "    tf.keras.layers.SimpleRNN(64, return_sequences=True),\n",
        "    tf.keras.layers.Bidirectional(tf.keras.layers.LSTM(32)),\n",
        "    tf.keras.layers.Flatten(), \n",
        "    tf.keras.layers.Dense(EMB_DIM, activation='relu'),\n",
        "    tf.keras.layers.Dropout(0.5),\n",
        "    tf.keras.layers.Dense(2,activation='softmax')\n",
        "])\n",
        "\n",
        "model17.compile(loss=tf.keras.losses.BinaryCrossentropy(from_logits=True),\n",
        "              optimizer=tf.keras.optimizers.Adam(1e-4),\n",
        "              metrics=['accuracy'])\n",
        "\n",
        "model17.fit(x_train, y_train, batch_size=40, epochs=10)\n",
        "\n",
        "\n",
        "predictions17= model17.predict(x_test)\n",
        "predictions17=np.argmax(predictions17, axis=1)\n",
        "y_test=np.argmax(y_test, axis=1)\n",
        "\n",
        "cm = confusion_matrix(y_test, predictions17)\n",
        "print('The Confusion Matrix is', cm)\n",
        "print('Accuracy: %.3f' % accuracy_score(y_test, predictions17))\n",
        "print('Recall: %.3f' % recall_score(y_test, predictions17))\n",
        "print('Precision: %.3f' % precision_score(y_test, predictions17))\n",
        "print('F1 Score: %.3f' % f1_score(y_test, predictions17))"
      ]
    },
    {
      "cell_type": "code",
      "execution_count": null,
      "metadata": {
        "id": "uEVyzD68FZle"
      },
      "outputs": [],
      "source": [
        "# #shuffle the data\n",
        "\n",
        "indices = np.arange(data.shape[0])\n",
        "np.random.shuffle(indices)\n",
        "data = data[indices]\n",
        "labels = labels[indices]\n",
        "\n",
        "# split the data into training, testing\n",
        "\n",
        "nb_validation_samples = int(0.25* data.shape[0])\n",
        "x_train = data[:-nb_validation_samples]\n",
        "y_train = labels[:-nb_validation_samples]\n",
        "x_test = data[-nb_validation_samples:]\n",
        "y_test = labels[-nb_validation_samples:]"
      ]
    },
    {
      "cell_type": "code",
      "execution_count": null,
      "metadata": {
        "colab": {
          "base_uri": "https://localhost:8080/"
        },
        "id": "k2RfMJc7FGvS",
        "outputId": "7d8a256f-d2bc-41c2-f91f-e2d08a3771e3"
      },
      "outputs": [
        {
          "name": "stdout",
          "output_type": "stream",
          "text": [
            "Epoch 1/10\n"
          ]
        },
        {
          "name": "stderr",
          "output_type": "stream",
          "text": [
            "/usr/local/lib/python3.8/dist-packages/tensorflow/python/util/dispatch.py:1082: UserWarning: \"`binary_crossentropy` received `from_logits=True`, but the `output` argument was produced by a sigmoid or softmax activation and thus does not represent logits. Was this intended?\"\n",
            "  return dispatch_target(*args, **kwargs)\n"
          ]
        },
        {
          "name": "stdout",
          "output_type": "stream",
          "text": [
            "327/327 [==============================] - 23s 62ms/step - loss: 0.4927 - accuracy: 0.8154\n",
            "Epoch 2/10\n",
            "327/327 [==============================] - 20s 61ms/step - loss: 0.3373 - accuracy: 0.8640\n",
            "Epoch 3/10\n",
            "327/327 [==============================] - 20s 62ms/step - loss: 0.1742 - accuracy: 0.9399\n",
            "Epoch 4/10\n",
            "327/327 [==============================] - 20s 61ms/step - loss: 0.0971 - accuracy: 0.9701\n",
            "Epoch 5/10\n",
            "327/327 [==============================] - 20s 61ms/step - loss: 0.0620 - accuracy: 0.9812\n",
            "Epoch 6/10\n",
            "327/327 [==============================] - 20s 61ms/step - loss: 0.0452 - accuracy: 0.9872\n",
            "Epoch 7/10\n",
            "327/327 [==============================] - 20s 62ms/step - loss: 0.0375 - accuracy: 0.9898\n",
            "Epoch 8/10\n",
            "327/327 [==============================] - 20s 62ms/step - loss: 0.0319 - accuracy: 0.9910\n",
            "Epoch 9/10\n",
            "327/327 [==============================] - 20s 61ms/step - loss: 0.0281 - accuracy: 0.9921\n",
            "Epoch 10/10\n",
            "327/327 [==============================] - 24s 73ms/step - loss: 0.0242 - accuracy: 0.9935\n",
            "204/204 [==============================] - 2s 8ms/step\n",
            "The Confusion Matrix is [[5056  362]\n",
            " [ 299  806]]\n",
            "Accuracy: 0.899\n",
            "Recall: 0.729\n",
            "Precision: 0.690\n",
            "F1 Score: 0.709\n"
          ]
        }
      ],
      "source": [
        "#RNN - BiLSTM with flatten (60 Batch Size)\n",
        "\n",
        "from tensorflow.keras import layers\n",
        "model18 = tf.keras.Sequential([\n",
        "    tf.keras.layers.Embedding(VOCAB_SIZE, EMB_DIM),\n",
        "    tf.keras.layers.SimpleRNN(64, return_sequences=True),\n",
        "    tf.keras.layers.Bidirectional(tf.keras.layers.LSTM(32)),\n",
        "    tf.keras.layers.Flatten(), \n",
        "    tf.keras.layers.Dense(EMB_DIM, activation='relu'),\n",
        "    tf.keras.layers.Dropout(0.5),\n",
        "    tf.keras.layers.Dense(2,activation='softmax')\n",
        "])\n",
        "\n",
        "model18.compile(loss=tf.keras.losses.BinaryCrossentropy(from_logits=True),\n",
        "              optimizer=tf.keras.optimizers.Adam(1e-4),\n",
        "              metrics=['accuracy'])\n",
        "\n",
        "model18.fit(x_train, y_train, batch_size=60, epochs=10)\n",
        "\n",
        "\n",
        "predictions18= model18.predict(x_test)\n",
        "predictions18=np.argmax(predictions18, axis=1)\n",
        "y_test=np.argmax(y_test, axis=1)\n",
        "\n",
        "cm = confusion_matrix(y_test, predictions18)\n",
        "print('The Confusion Matrix is', cm)\n",
        "print('Accuracy: %.3f' % accuracy_score(y_test, predictions18))\n",
        "print('Recall: %.3f' % recall_score(y_test, predictions18))\n",
        "print('Precision: %.3f' % precision_score(y_test, predictions18))\n",
        "print('F1 Score: %.3f' % f1_score(y_test, predictions18))"
      ]
    },
    {
      "cell_type": "code",
      "execution_count": null,
      "metadata": {
        "id": "Jb33ix5eKbY-"
      },
      "outputs": [],
      "source": [
        "# #shuffle the data\n",
        "\n",
        "indices = np.arange(data.shape[0])\n",
        "np.random.shuffle(indices)\n",
        "data = data[indices]\n",
        "labels = labels[indices]\n",
        "\n",
        "# split the data into training, testing\n",
        "\n",
        "nb_validation_samples = int(0.25* data.shape[0])\n",
        "x_train = data[:-nb_validation_samples]\n",
        "y_train = labels[:-nb_validation_samples]\n",
        "x_test = data[-nb_validation_samples:]\n",
        "y_test = labels[-nb_validation_samples:]"
      ]
    },
    {
      "cell_type": "code",
      "execution_count": null,
      "metadata": {
        "colab": {
          "base_uri": "https://localhost:8080/"
        },
        "id": "3EnP1ndGFaPw",
        "outputId": "d05ad392-5591-457b-c825-f4fea199ac35"
      },
      "outputs": [
        {
          "name": "stdout",
          "output_type": "stream",
          "text": [
            "Epoch 1/10\n"
          ]
        },
        {
          "name": "stderr",
          "output_type": "stream",
          "text": [
            "/usr/local/lib/python3.8/dist-packages/tensorflow/python/util/dispatch.py:1082: UserWarning: \"`binary_crossentropy` received `from_logits=True`, but the `output` argument was produced by a sigmoid or softmax activation and thus does not represent logits. Was this intended?\"\n",
            "  return dispatch_target(*args, **kwargs)\n"
          ]
        },
        {
          "name": "stdout",
          "output_type": "stream",
          "text": [
            "245/245 [==============================] - 18s 61ms/step - loss: 0.4954 - accuracy: 0.8167\n",
            "Epoch 2/10\n",
            "245/245 [==============================] - 15s 62ms/step - loss: 0.3656 - accuracy: 0.8507\n",
            "Epoch 3/10\n",
            "245/245 [==============================] - 15s 62ms/step - loss: 0.2044 - accuracy: 0.9263\n",
            "Epoch 4/10\n",
            "245/245 [==============================] - 15s 62ms/step - loss: 0.1143 - accuracy: 0.9635\n",
            "Epoch 5/10\n",
            "245/245 [==============================] - 15s 61ms/step - loss: 0.0747 - accuracy: 0.9775\n",
            "Epoch 6/10\n",
            "245/245 [==============================] - 15s 63ms/step - loss: 0.0552 - accuracy: 0.9837\n",
            "Epoch 7/10\n",
            "245/245 [==============================] - 15s 61ms/step - loss: 0.0437 - accuracy: 0.9873\n",
            "Epoch 8/10\n",
            "245/245 [==============================] - 15s 62ms/step - loss: 0.0383 - accuracy: 0.9894\n",
            "Epoch 9/10\n",
            "245/245 [==============================] - 15s 62ms/step - loss: 0.0325 - accuracy: 0.9912\n",
            "Epoch 10/10\n",
            "245/245 [==============================] - 15s 62ms/step - loss: 0.0296 - accuracy: 0.9908\n",
            "204/204 [==============================] - 3s 13ms/step\n",
            "The Confusion Matrix is [[5010  300]\n",
            " [ 375  838]]\n",
            "Accuracy: 0.897\n",
            "Recall: 0.691\n",
            "Precision: 0.736\n",
            "F1 Score: 0.713\n"
          ]
        }
      ],
      "source": [
        "#RNN - BiLSTM with flatten (80 Batch Size)\n",
        "\n",
        "from tensorflow.keras import layers\n",
        "model19 = tf.keras.Sequential([\n",
        "    tf.keras.layers.Embedding(VOCAB_SIZE, EMB_DIM),\n",
        "    tf.keras.layers.SimpleRNN(64, return_sequences=True),\n",
        "    tf.keras.layers.Bidirectional(tf.keras.layers.LSTM(32)),\n",
        "    tf.keras.layers.Flatten(), \n",
        "    tf.keras.layers.Dense(EMB_DIM, activation='relu'),\n",
        "    tf.keras.layers.Dropout(0.5),\n",
        "    tf.keras.layers.Dense(2,activation='softmax')\n",
        "])\n",
        "\n",
        "model19.compile(loss=tf.keras.losses.BinaryCrossentropy(from_logits=True),\n",
        "              optimizer=tf.keras.optimizers.Adam(1e-4),\n",
        "              metrics=['accuracy'])\n",
        "\n",
        "model19.fit(x_train, y_train, batch_size=80, epochs=10)\n",
        "\n",
        "\n",
        "predictions19= model19.predict(x_test)\n",
        "predictions19=np.argmax(predictions19, axis=1)\n",
        "y_test=np.argmax(y_test, axis=1)\n",
        "\n",
        "cm = confusion_matrix(y_test, predictions19)\n",
        "print('The Confusion Matrix is', cm)\n",
        "print('Accuracy: %.3f' % accuracy_score(y_test, predictions19))\n",
        "print('Recall: %.3f' % recall_score(y_test, predictions19))\n",
        "print('Precision: %.3f' % precision_score(y_test, predictions19))\n",
        "print('F1 Score: %.3f' % f1_score(y_test, predictions19))"
      ]
    },
    {
      "cell_type": "code",
      "execution_count": null,
      "metadata": {
        "id": "nl_4g7A9KgxY"
      },
      "outputs": [],
      "source": []
    },
    {
      "cell_type": "markdown",
      "metadata": {
        "id": "1Gj89wafNOiQ"
      },
      "source": [
        "# Epochs"
      ]
    },
    {
      "cell_type": "code",
      "execution_count": null,
      "metadata": {
        "colab": {
          "base_uri": "https://localhost:8080/",
          "height": 1000
        },
        "id": "Ft4oN3IENQAj",
        "outputId": "d086c97c-2810-453f-8eb9-7f98662fd546"
      },
      "outputs": [
        {
          "name": "stdout",
          "output_type": "stream",
          "text": [
            "Epoch 1/25\n"
          ]
        },
        {
          "name": "stderr",
          "output_type": "stream",
          "text": [
            "/usr/local/lib/python3.8/dist-packages/tensorflow/python/util/dispatch.py:1082: UserWarning: \"`binary_crossentropy` received `from_logits=True`, but the `output` argument was produced by a sigmoid or softmax activation and thus does not represent logits. Was this intended?\"\n",
            "  return dispatch_target(*args, **kwargs)\n"
          ]
        },
        {
          "name": "stdout",
          "output_type": "stream",
          "text": [
            "612/612 [==============================] - 45s 63ms/step - loss: 0.4673 - accuracy: 0.8189\n",
            "Epoch 2/25\n",
            "612/612 [==============================] - 41s 68ms/step - loss: 0.2670 - accuracy: 0.8991\n",
            "Epoch 3/25\n",
            "612/612 [==============================] - 70s 115ms/step - loss: 0.1261 - accuracy: 0.9592\n",
            "Epoch 4/25\n",
            "612/612 [==============================] - 58s 95ms/step - loss: 0.0711 - accuracy: 0.9782\n",
            "Epoch 5/25\n",
            "612/612 [==============================] - 45s 73ms/step - loss: 0.0483 - accuracy: 0.9864\n",
            "Epoch 6/25\n",
            "612/612 [==============================] - 40s 65ms/step - loss: 0.0379 - accuracy: 0.9892\n",
            "Epoch 7/25\n",
            "612/612 [==============================] - 40s 66ms/step - loss: 0.0317 - accuracy: 0.9915\n",
            "Epoch 8/25\n",
            "612/612 [==============================] - 40s 65ms/step - loss: 0.0282 - accuracy: 0.9922\n",
            "Epoch 9/25\n",
            "612/612 [==============================] - 40s 65ms/step - loss: 0.0242 - accuracy: 0.9926\n",
            "Epoch 10/25\n",
            "612/612 [==============================] - 39s 64ms/step - loss: 0.0218 - accuracy: 0.9927\n",
            "Epoch 11/25\n",
            "612/612 [==============================] - 43s 71ms/step - loss: 0.0201 - accuracy: 0.9929\n",
            "Epoch 12/25\n",
            "612/612 [==============================] - 38s 63ms/step - loss: 0.0171 - accuracy: 0.9930\n",
            "Epoch 13/25\n",
            "612/612 [==============================] - 41s 66ms/step - loss: 0.0171 - accuracy: 0.9934\n",
            "Epoch 14/25\n",
            "612/612 [==============================] - 38s 63ms/step - loss: 0.0146 - accuracy: 0.9935\n",
            "Epoch 15/25\n",
            "612/612 [==============================] - 38s 63ms/step - loss: 0.0128 - accuracy: 0.9935\n",
            "Epoch 16/25\n",
            "612/612 [==============================] - 40s 66ms/step - loss: 0.0126 - accuracy: 0.9939\n",
            "Epoch 17/25\n",
            "612/612 [==============================] - 38s 62ms/step - loss: 0.0112 - accuracy: 0.9942\n",
            "Epoch 18/25\n",
            "612/612 [==============================] - 40s 66ms/step - loss: 0.0112 - accuracy: 0.9934\n",
            "Epoch 19/25\n",
            "612/612 [==============================] - 38s 63ms/step - loss: 0.0109 - accuracy: 0.9942\n",
            "Epoch 20/25\n",
            "612/612 [==============================] - 41s 67ms/step - loss: 0.0099 - accuracy: 0.9945\n",
            "Epoch 21/25\n",
            "612/612 [==============================] - 39s 64ms/step - loss: 0.0098 - accuracy: 0.9943\n",
            "Epoch 22/25\n",
            "612/612 [==============================] - 38s 62ms/step - loss: 0.0094 - accuracy: 0.9948\n",
            "Epoch 23/25\n",
            "612/612 [==============================] - 40s 66ms/step - loss: 0.0094 - accuracy: 0.9945\n",
            "Epoch 24/25\n",
            "612/612 [==============================] - 38s 62ms/step - loss: 0.0090 - accuracy: 0.9946\n",
            "Epoch 25/25\n",
            "612/612 [==============================] - 40s 65ms/step - loss: 0.0089 - accuracy: 0.9943\n",
            "204/204 [==============================] - 2s 8ms/step\n"
          ]
        },
        {
          "ename": "AxisError",
          "evalue": "ignored",
          "output_type": "error",
          "traceback": [
            "\u001b[0;31m---------------------------------------------------------------------------\u001b[0m",
            "\u001b[0;31mAxisError\u001b[0m                                 Traceback (most recent call last)",
            "\u001b[0;32m<ipython-input-38-b9f6a6921f15>\u001b[0m in \u001b[0;36m<module>\u001b[0;34m\u001b[0m\n\u001b[1;32m     21\u001b[0m \u001b[0mpredictions20\u001b[0m\u001b[0;34m=\u001b[0m \u001b[0mmodel20\u001b[0m\u001b[0;34m.\u001b[0m\u001b[0mpredict\u001b[0m\u001b[0;34m(\u001b[0m\u001b[0mx_test\u001b[0m\u001b[0;34m)\u001b[0m\u001b[0;34m\u001b[0m\u001b[0;34m\u001b[0m\u001b[0m\n\u001b[1;32m     22\u001b[0m \u001b[0mpredictions20\u001b[0m\u001b[0;34m=\u001b[0m\u001b[0mnp\u001b[0m\u001b[0;34m.\u001b[0m\u001b[0margmax\u001b[0m\u001b[0;34m(\u001b[0m\u001b[0mpredictions20\u001b[0m\u001b[0;34m,\u001b[0m \u001b[0maxis\u001b[0m\u001b[0;34m=\u001b[0m\u001b[0;36m1\u001b[0m\u001b[0;34m)\u001b[0m\u001b[0;34m\u001b[0m\u001b[0;34m\u001b[0m\u001b[0m\n\u001b[0;32m---> 23\u001b[0;31m \u001b[0my_test\u001b[0m\u001b[0;34m=\u001b[0m\u001b[0mnp\u001b[0m\u001b[0;34m.\u001b[0m\u001b[0margmax\u001b[0m\u001b[0;34m(\u001b[0m\u001b[0my_test\u001b[0m\u001b[0;34m,\u001b[0m \u001b[0maxis\u001b[0m\u001b[0;34m=\u001b[0m\u001b[0;36m1\u001b[0m\u001b[0;34m)\u001b[0m\u001b[0;34m\u001b[0m\u001b[0;34m\u001b[0m\u001b[0m\n\u001b[0m\u001b[1;32m     24\u001b[0m \u001b[0;34m\u001b[0m\u001b[0m\n\u001b[1;32m     25\u001b[0m \u001b[0mcm\u001b[0m \u001b[0;34m=\u001b[0m \u001b[0mconfusion_matrix\u001b[0m\u001b[0;34m(\u001b[0m\u001b[0my_test\u001b[0m\u001b[0;34m,\u001b[0m \u001b[0mpredictions20\u001b[0m\u001b[0;34m)\u001b[0m\u001b[0;34m\u001b[0m\u001b[0;34m\u001b[0m\u001b[0m\n",
            "\u001b[0;32m<__array_function__ internals>\u001b[0m in \u001b[0;36margmax\u001b[0;34m(*args, **kwargs)\u001b[0m\n",
            "\u001b[0;32m/usr/local/lib/python3.8/dist-packages/numpy/core/fromnumeric.py\u001b[0m in \u001b[0;36margmax\u001b[0;34m(a, axis, out)\u001b[0m\n\u001b[1;32m   1193\u001b[0m \u001b[0;34m\u001b[0m\u001b[0m\n\u001b[1;32m   1194\u001b[0m     \"\"\"\n\u001b[0;32m-> 1195\u001b[0;31m     \u001b[0;32mreturn\u001b[0m \u001b[0m_wrapfunc\u001b[0m\u001b[0;34m(\u001b[0m\u001b[0ma\u001b[0m\u001b[0;34m,\u001b[0m \u001b[0;34m'argmax'\u001b[0m\u001b[0;34m,\u001b[0m \u001b[0maxis\u001b[0m\u001b[0;34m=\u001b[0m\u001b[0maxis\u001b[0m\u001b[0;34m,\u001b[0m \u001b[0mout\u001b[0m\u001b[0;34m=\u001b[0m\u001b[0mout\u001b[0m\u001b[0;34m)\u001b[0m\u001b[0;34m\u001b[0m\u001b[0;34m\u001b[0m\u001b[0m\n\u001b[0m\u001b[1;32m   1196\u001b[0m \u001b[0;34m\u001b[0m\u001b[0m\n\u001b[1;32m   1197\u001b[0m \u001b[0;34m\u001b[0m\u001b[0m\n",
            "\u001b[0;32m/usr/local/lib/python3.8/dist-packages/numpy/core/fromnumeric.py\u001b[0m in \u001b[0;36m_wrapfunc\u001b[0;34m(obj, method, *args, **kwds)\u001b[0m\n\u001b[1;32m     55\u001b[0m \u001b[0;34m\u001b[0m\u001b[0m\n\u001b[1;32m     56\u001b[0m     \u001b[0;32mtry\u001b[0m\u001b[0;34m:\u001b[0m\u001b[0;34m\u001b[0m\u001b[0;34m\u001b[0m\u001b[0m\n\u001b[0;32m---> 57\u001b[0;31m         \u001b[0;32mreturn\u001b[0m \u001b[0mbound\u001b[0m\u001b[0;34m(\u001b[0m\u001b[0;34m*\u001b[0m\u001b[0margs\u001b[0m\u001b[0;34m,\u001b[0m \u001b[0;34m**\u001b[0m\u001b[0mkwds\u001b[0m\u001b[0;34m)\u001b[0m\u001b[0;34m\u001b[0m\u001b[0;34m\u001b[0m\u001b[0m\n\u001b[0m\u001b[1;32m     58\u001b[0m     \u001b[0;32mexcept\u001b[0m \u001b[0mTypeError\u001b[0m\u001b[0;34m:\u001b[0m\u001b[0;34m\u001b[0m\u001b[0;34m\u001b[0m\u001b[0m\n\u001b[1;32m     59\u001b[0m         \u001b[0;31m# A TypeError occurs if the object does have such a method in its\u001b[0m\u001b[0;34m\u001b[0m\u001b[0;34m\u001b[0m\u001b[0;34m\u001b[0m\u001b[0m\n",
            "\u001b[0;31mAxisError\u001b[0m: axis 1 is out of bounds for array of dimension 1"
          ]
        }
      ],
      "source": [
        "#RNN - BiLSTM with flatten (25 Epochs)\n",
        "\n",
        "from tensorflow.keras import layers\n",
        "model20 = tf.keras.Sequential([\n",
        "    tf.keras.layers.Embedding(VOCAB_SIZE, EMB_DIM),\n",
        "    tf.keras.layers.SimpleRNN(64, return_sequences=True),\n",
        "    tf.keras.layers.Bidirectional(tf.keras.layers.LSTM(32)),\n",
        "    tf.keras.layers.Flatten(), \n",
        "    tf.keras.layers.Dense(EMB_DIM, activation='relu'),\n",
        "    tf.keras.layers.Dropout(0.5),\n",
        "    tf.keras.layers.Dense(2,activation='softmax')\n",
        "])\n",
        "\n",
        "model20.compile(loss=tf.keras.losses.BinaryCrossentropy(from_logits=True),\n",
        "              optimizer=tf.keras.optimizers.Adam(1e-4),\n",
        "              metrics=['accuracy'])\n",
        "\n",
        "model20.fit(x_train, y_train, batch_size=32, epochs=25)"
      ]
    },
    {
      "cell_type": "code",
      "execution_count": null,
      "metadata": {
        "colab": {
          "base_uri": "https://localhost:8080/"
        },
        "id": "sC45h3WGSOho",
        "outputId": "24bcc47d-8dcd-48f4-f6d5-941a7511295d"
      },
      "outputs": [
        {
          "name": "stdout",
          "output_type": "stream",
          "text": [
            "204/204 [==============================] - 2s 8ms/step\n",
            "The Confusion Matrix is [[5226   98]\n",
            " [  90 1109]]\n",
            "Accuracy: 0.971\n",
            "Recall: 0.925\n",
            "Precision: 0.919\n",
            "F1 Score: 0.922\n"
          ]
        }
      ],
      "source": [
        "\n",
        "predictions20= model20.predict(x_test)\n",
        "predictions20=np.argmax(predictions20, axis=1)\n",
        "y_test=np.argmax(y_test, axis=1)\n",
        "\n",
        "cm = confusion_matrix(y_test, predictions20)\n",
        "print('The Confusion Matrix is', cm)\n",
        "print('Accuracy: %.3f' % accuracy_score(y_test, predictions20))\n",
        "print('Recall: %.3f' % recall_score(y_test, predictions20))\n",
        "print('Precision: %.3f' % precision_score(y_test, predictions20))\n",
        "print('F1 Score: %.3f' % f1_score(y_test, predictions20))"
      ]
    },
    {
      "cell_type": "code",
      "execution_count": null,
      "metadata": {
        "id": "f7AEcNvfNeH7"
      },
      "outputs": [],
      "source": [
        "# #shuffle the data\n",
        "\n",
        "indices = np.arange(data.shape[0])\n",
        "np.random.shuffle(indices)\n",
        "data = data[indices]\n",
        "labels = labels[indices]\n",
        "\n",
        "# split the data into training, testing\n",
        "\n",
        "nb_validation_samples = int(0.25* data.shape[0])\n",
        "x_train = data[:-nb_validation_samples]\n",
        "y_train = labels[:-nb_validation_samples]\n",
        "x_test = data[-nb_validation_samples:]\n",
        "y_test = labels[-nb_validation_samples:]"
      ]
    },
    {
      "cell_type": "code",
      "execution_count": null,
      "metadata": {
        "colab": {
          "base_uri": "https://localhost:8080/"
        },
        "id": "IR4a6bqKNx07",
        "outputId": "85fabe6b-fe09-4c74-d1bf-7766ad10cd14"
      },
      "outputs": [
        {
          "metadata": {
            "tags": null
          },
          "name": "stdout",
          "output_type": "stream",
          "text": [
            "Epoch 1/50\n"
          ]
        },
        {
          "metadata": {
            "tags": null
          },
          "name": "stderr",
          "output_type": "stream",
          "text": [
            "/usr/local/lib/python3.8/dist-packages/tensorflow/python/util/dispatch.py:1082: UserWarning: \"`binary_crossentropy` received `from_logits=True`, but the `output` argument was produced by a sigmoid or softmax activation and thus does not represent logits. Was this intended?\"\n",
            "  return dispatch_target(*args, **kwargs)\n"
          ]
        },
        {
          "output_type": "stream",
          "name": "stdout",
          "text": [
            "612/612 [==============================] - 127s 200ms/step - loss: 0.4601 - accuracy: 0.8218\n",
            "Epoch 2/50\n",
            "612/612 [==============================] - 122s 200ms/step - loss: 0.2673 - accuracy: 0.8976\n",
            "Epoch 3/50\n",
            "612/612 [==============================] - 122s 199ms/step - loss: 0.1246 - accuracy: 0.9586\n",
            "Epoch 4/50\n",
            "612/612 [==============================] - 122s 199ms/step - loss: 0.0673 - accuracy: 0.9797\n",
            "Epoch 5/50\n",
            "612/612 [==============================] - 121s 198ms/step - loss: 0.0453 - accuracy: 0.9864\n",
            "Epoch 6/50\n",
            "612/612 [==============================] - 122s 199ms/step - loss: 0.0365 - accuracy: 0.9901\n",
            "Epoch 7/50\n",
            "612/612 [==============================] - 122s 200ms/step - loss: 0.0289 - accuracy: 0.9919\n",
            "Epoch 8/50\n",
            "612/612 [==============================] - 121s 198ms/step - loss: 0.0256 - accuracy: 0.9925\n",
            "Epoch 9/50\n",
            "612/612 [==============================] - 123s 202ms/step - loss: 0.0235 - accuracy: 0.9922\n",
            "Epoch 10/50\n",
            "612/612 [==============================] - 123s 201ms/step - loss: 0.0216 - accuracy: 0.9926\n",
            "Epoch 11/50\n",
            "612/612 [==============================] - 123s 200ms/step - loss: 0.0178 - accuracy: 0.9937\n",
            "Epoch 12/50\n",
            "612/612 [==============================] - 123s 201ms/step - loss: 0.0162 - accuracy: 0.9926\n",
            "Epoch 13/50\n",
            "612/612 [==============================] - 123s 200ms/step - loss: 0.0141 - accuracy: 0.9937\n",
            "Epoch 14/50\n",
            "612/612 [==============================] - 123s 200ms/step - loss: 0.0125 - accuracy: 0.9935\n",
            "Epoch 15/50\n",
            "612/612 [==============================] - 121s 197ms/step - loss: 0.0118 - accuracy: 0.9934\n",
            "Epoch 16/50\n",
            "612/612 [==============================] - 121s 198ms/step - loss: 0.0108 - accuracy: 0.9940\n",
            "Epoch 17/50\n",
            "612/612 [==============================] - 118s 193ms/step - loss: 0.0101 - accuracy: 0.9942\n",
            "Epoch 18/50\n",
            "612/612 [==============================] - 118s 193ms/step - loss: 0.0101 - accuracy: 0.9941\n",
            "Epoch 19/50\n",
            "612/612 [==============================] - 118s 193ms/step - loss: 0.0095 - accuracy: 0.9943\n",
            "Epoch 20/50\n",
            "612/612 [==============================] - 119s 194ms/step - loss: 0.0092 - accuracy: 0.9944\n",
            "Epoch 21/50\n",
            "612/612 [==============================] - 116s 190ms/step - loss: 0.0093 - accuracy: 0.9943\n",
            "Epoch 22/50\n",
            "612/612 [==============================] - 118s 193ms/step - loss: 0.0088 - accuracy: 0.9951\n",
            "Epoch 23/50\n",
            "612/612 [==============================] - 118s 193ms/step - loss: 0.0089 - accuracy: 0.9950\n",
            "Epoch 24/50\n",
            "612/612 [==============================] - 118s 193ms/step - loss: 0.0094 - accuracy: 0.9945\n",
            "Epoch 25/50\n",
            "612/612 [==============================] - 118s 193ms/step - loss: 0.0093 - accuracy: 0.9937\n",
            "Epoch 26/50\n",
            "612/612 [==============================] - 116s 190ms/step - loss: 0.0085 - accuracy: 0.9942\n",
            "Epoch 27/50\n",
            "612/612 [==============================] - 118s 193ms/step - loss: 0.0082 - accuracy: 0.9950\n",
            "Epoch 28/50\n",
            "612/612 [==============================] - 118s 193ms/step - loss: 0.0084 - accuracy: 0.9950\n",
            "Epoch 29/50\n",
            "612/612 [==============================] - 118s 193ms/step - loss: 0.0085 - accuracy: 0.9943\n",
            "Epoch 30/50\n",
            "612/612 [==============================] - 118s 194ms/step - loss: 0.0086 - accuracy: 0.9946\n",
            "Epoch 31/50\n",
            "612/612 [==============================] - 117s 190ms/step - loss: 0.0084 - accuracy: 0.9949\n",
            "Epoch 32/50\n",
            "612/612 [==============================] - 118s 193ms/step - loss: 0.0087 - accuracy: 0.9945\n",
            "Epoch 33/50\n",
            "612/612 [==============================] - 118s 193ms/step - loss: 0.0089 - accuracy: 0.9948\n",
            "Epoch 34/50\n",
            "612/612 [==============================] - 119s 194ms/step - loss: 0.0079 - accuracy: 0.9952\n",
            "Epoch 35/50\n",
            "612/612 [==============================] - 119s 194ms/step - loss: 0.0084 - accuracy: 0.9948\n",
            "Epoch 36/50\n",
            "612/612 [==============================] - 119s 194ms/step - loss: 0.0081 - accuracy: 0.9952\n",
            "Epoch 37/50\n",
            "612/612 [==============================] - 116s 190ms/step - loss: 0.0082 - accuracy: 0.9952\n",
            "Epoch 38/50\n",
            "612/612 [==============================] - 118s 193ms/step - loss: 0.0082 - accuracy: 0.9949\n",
            "Epoch 39/50\n",
            "612/612 [==============================] - 118s 193ms/step - loss: 0.0080 - accuracy: 0.9946\n",
            "Epoch 40/50\n",
            "612/612 [==============================] - 118s 193ms/step - loss: 0.0081 - accuracy: 0.9953\n",
            "Epoch 41/50\n",
            "612/612 [==============================] - 118s 192ms/step - loss: 0.0079 - accuracy: 0.9950\n",
            "Epoch 42/50\n",
            "612/612 [==============================] - 118s 193ms/step - loss: 0.0082 - accuracy: 0.9946\n",
            "Epoch 43/50\n",
            "612/612 [==============================] - 116s 190ms/step - loss: 0.0082 - accuracy: 0.9949\n",
            "Epoch 44/50\n",
            "612/612 [==============================] - 118s 193ms/step - loss: 0.0081 - accuracy: 0.9952\n",
            "Epoch 45/50\n",
            "612/612 [==============================] - 118s 192ms/step - loss: 0.0079 - accuracy: 0.9951\n",
            "Epoch 46/50\n",
            "612/612 [==============================] - 118s 193ms/step - loss: 0.0082 - accuracy: 0.9950\n",
            "Epoch 47/50\n",
            "612/612 [==============================] - 121s 198ms/step - loss: 0.0080 - accuracy: 0.9945\n",
            "Epoch 48/50\n",
            "612/612 [==============================] - 122s 199ms/step - loss: 0.0078 - accuracy: 0.9950\n",
            "Epoch 49/50\n",
            "612/612 [==============================] - 122s 200ms/step - loss: 0.0078 - accuracy: 0.9952\n",
            "Epoch 50/50\n",
            "612/612 [==============================] - 124s 202ms/step - loss: 0.0077 - accuracy: 0.9948\n",
            "204/204 [==============================] - 4s 17ms/step\n",
            "The Confusion Matrix is [[5041  320]\n",
            " [ 366  796]]\n",
            "Accuracy: 0.895\n",
            "Recall: 0.685\n",
            "Precision: 0.713\n",
            "F1 Score: 0.699\n"
          ]
        }
      ],
      "source": [
        "#RNN - BiLSTM with flatten (50 Epochs)\n",
        "\n",
        "from tensorflow.keras import layers\n",
        "model21 = tf.keras.Sequential([\n",
        "    tf.keras.layers.Embedding(VOCAB_SIZE, EMB_DIM),\n",
        "    tf.keras.layers.SimpleRNN(64, return_sequences=True),\n",
        "    tf.keras.layers.Bidirectional(tf.keras.layers.LSTM(32)),\n",
        "    tf.keras.layers.Flatten(), \n",
        "    tf.keras.layers.Dense(EMB_DIM, activation='relu'),\n",
        "    tf.keras.layers.Dropout(0.5),\n",
        "    tf.keras.layers.Dense(2,activation='softmax')\n",
        "])\n",
        "\n",
        "model21.compile(loss=tf.keras.losses.BinaryCrossentropy(from_logits=True),\n",
        "              optimizer=tf.keras.optimizers.Adam(1e-4),\n",
        "              metrics=['accuracy'])\n",
        "\n",
        "model21.fit(x_train, y_train, batch_size=32, epochs=50)\n",
        "\n",
        "\n",
        "predictions21= model21.predict(x_test)\n",
        "predictions21=np.argmax(predictions21, axis=1)\n",
        "y_test=np.argmax(y_test, axis=1)\n",
        "\n",
        "cm = confusion_matrix(y_test, predictions21)\n",
        "print('The Confusion Matrix is', cm)\n",
        "print('Accuracy: %.3f' % accuracy_score(y_test, predictions21))\n",
        "print('Recall: %.3f' % recall_score(y_test, predictions21))\n",
        "print('Precision: %.3f' % precision_score(y_test, predictions21))\n",
        "print('F1 Score: %.3f' % f1_score(y_test, predictions21))"
      ]
    },
    {
      "cell_type": "code",
      "execution_count": null,
      "metadata": {
        "id": "GWLae8iKN1OA"
      },
      "outputs": [],
      "source": [
        "# #shuffle the data\n",
        "\n",
        "indices = np.arange(data.shape[0])\n",
        "np.random.shuffle(indices)\n",
        "data = data[indices]\n",
        "labels = labels[indices]\n",
        "\n",
        "# split the data into training, testing\n",
        "\n",
        "nb_validation_samples = int(0.25* data.shape[0])\n",
        "x_train = data[:-nb_validation_samples]\n",
        "y_train = labels[:-nb_validation_samples]\n",
        "x_test = data[-nb_validation_samples:]\n",
        "y_test = labels[-nb_validation_samples:]"
      ]
    },
    {
      "cell_type": "code",
      "execution_count": null,
      "metadata": {
        "colab": {
          "base_uri": "https://localhost:8080/"
        },
        "id": "Q7zA7PGsN1QH",
        "outputId": "a0dedd4d-86a3-46dc-acd8-91f1cdb3db58"
      },
      "outputs": [
        {
          "name": "stdout",
          "output_type": "stream",
          "text": [
            "Epoch 1/75\n",
            "612/612 [==============================] - 57s 78ms/step - loss: 0.4702 - accuracy: 0.8156\n",
            "Epoch 2/75\n",
            "612/612 [==============================] - 40s 65ms/step - loss: 0.2835 - accuracy: 0.8888\n",
            "Epoch 3/75\n",
            "612/612 [==============================] - 39s 63ms/step - loss: 0.1388 - accuracy: 0.9537\n",
            "Epoch 4/75\n",
            "612/612 [==============================] - 40s 65ms/step - loss: 0.0768 - accuracy: 0.9767\n",
            "Epoch 5/75\n",
            "612/612 [==============================] - 37s 61ms/step - loss: 0.0523 - accuracy: 0.9850\n",
            "Epoch 6/75\n",
            "612/612 [==============================] - 40s 65ms/step - loss: 0.0400 - accuracy: 0.9887\n",
            "Epoch 7/75\n",
            "612/612 [==============================] - 38s 62ms/step - loss: 0.0332 - accuracy: 0.9905\n",
            "Epoch 8/75\n",
            "612/612 [==============================] - 40s 65ms/step - loss: 0.0283 - accuracy: 0.9921\n",
            "Epoch 9/75\n",
            "612/612 [==============================] - 38s 61ms/step - loss: 0.0262 - accuracy: 0.9925\n",
            "Epoch 10/75\n",
            "612/612 [==============================] - 39s 64ms/step - loss: 0.0241 - accuracy: 0.9927\n",
            "Epoch 11/75\n",
            "612/612 [==============================] - 37s 61ms/step - loss: 0.0225 - accuracy: 0.9927\n",
            "Epoch 12/75\n",
            "612/612 [==============================] - 39s 64ms/step - loss: 0.0205 - accuracy: 0.9931\n",
            "Epoch 13/75\n",
            "612/612 [==============================] - 37s 61ms/step - loss: 0.0187 - accuracy: 0.9931\n",
            "Epoch 14/75\n",
            "612/612 [==============================] - 40s 65ms/step - loss: 0.0177 - accuracy: 0.9929\n",
            "Epoch 15/75\n",
            "612/612 [==============================] - 37s 61ms/step - loss: 0.0166 - accuracy: 0.9935\n",
            "Epoch 16/75\n",
            "612/612 [==============================] - 39s 64ms/step - loss: 0.0142 - accuracy: 0.9936\n",
            "Epoch 17/75\n",
            "612/612 [==============================] - 37s 61ms/step - loss: 0.0136 - accuracy: 0.9938\n",
            "Epoch 18/75\n",
            "612/612 [==============================] - 39s 64ms/step - loss: 0.0119 - accuracy: 0.9938\n",
            "Epoch 19/75\n",
            "612/612 [==============================] - 37s 61ms/step - loss: 0.0117 - accuracy: 0.9941\n",
            "Epoch 20/75\n",
            "612/612 [==============================] - 39s 64ms/step - loss: 0.0112 - accuracy: 0.9942\n",
            "Epoch 21/75\n",
            "612/612 [==============================] - 37s 61ms/step - loss: 0.0107 - accuracy: 0.9943\n",
            "Epoch 22/75\n",
            "612/612 [==============================] - 39s 64ms/step - loss: 0.0096 - accuracy: 0.9946\n",
            "Epoch 23/75\n",
            "612/612 [==============================] - 37s 61ms/step - loss: 0.0098 - accuracy: 0.9940\n",
            "Epoch 24/75\n",
            "612/612 [==============================] - 39s 65ms/step - loss: 0.0095 - accuracy: 0.9955\n",
            "Epoch 25/75\n",
            "612/612 [==============================] - 38s 62ms/step - loss: 0.0090 - accuracy: 0.9947\n",
            "Epoch 26/75\n",
            "612/612 [==============================] - 39s 64ms/step - loss: 0.0095 - accuracy: 0.9950\n",
            "Epoch 27/75\n",
            "612/612 [==============================] - 37s 61ms/step - loss: 0.0089 - accuracy: 0.9944\n",
            "Epoch 28/75\n",
            "612/612 [==============================] - 39s 64ms/step - loss: 0.0087 - accuracy: 0.9949\n",
            "Epoch 29/75\n",
            "612/612 [==============================] - 37s 60ms/step - loss: 0.0086 - accuracy: 0.9950\n",
            "Epoch 30/75\n",
            "612/612 [==============================] - 38s 62ms/step - loss: 0.0082 - accuracy: 0.9948\n",
            "Epoch 31/75\n",
            "612/612 [==============================] - 39s 64ms/step - loss: 0.0085 - accuracy: 0.9950\n",
            "Epoch 32/75\n",
            "612/612 [==============================] - 39s 65ms/step - loss: 0.0086 - accuracy: 0.9948\n",
            "Epoch 33/75\n",
            "612/612 [==============================] - 37s 61ms/step - loss: 0.0085 - accuracy: 0.9951\n",
            "Epoch 34/75\n",
            "612/612 [==============================] - 39s 63ms/step - loss: 0.0082 - accuracy: 0.9951\n",
            "Epoch 35/75\n",
            "612/612 [==============================] - 38s 63ms/step - loss: 0.0083 - accuracy: 0.9953\n",
            "Epoch 36/75\n",
            "612/612 [==============================] - 40s 65ms/step - loss: 0.0083 - accuracy: 0.9949\n",
            "Epoch 37/75\n",
            "612/612 [==============================] - 37s 61ms/step - loss: 0.0081 - accuracy: 0.9951\n",
            "Epoch 38/75\n",
            "612/612 [==============================] - 39s 64ms/step - loss: 0.0083 - accuracy: 0.9952\n",
            "Epoch 39/75\n",
            "612/612 [==============================] - 37s 61ms/step - loss: 0.0081 - accuracy: 0.9953\n",
            "Epoch 40/75\n",
            "612/612 [==============================] - 39s 64ms/step - loss: 0.0083 - accuracy: 0.9949\n",
            "Epoch 41/75\n",
            "612/612 [==============================] - 37s 61ms/step - loss: 0.0083 - accuracy: 0.9950\n",
            "Epoch 42/75\n",
            "612/612 [==============================] - 37s 61ms/step - loss: 0.0080 - accuracy: 0.9947\n",
            "Epoch 43/75\n",
            "612/612 [==============================] - 39s 63ms/step - loss: 0.0080 - accuracy: 0.9948\n",
            "Epoch 44/75\n",
            "612/612 [==============================] - 39s 64ms/step - loss: 0.0080 - accuracy: 0.9955\n",
            "Epoch 45/75\n",
            "612/612 [==============================] - 37s 60ms/step - loss: 0.0081 - accuracy: 0.9945\n",
            "Epoch 46/75\n",
            "612/612 [==============================] - 37s 60ms/step - loss: 0.0080 - accuracy: 0.9951\n",
            "Epoch 47/75\n",
            "612/612 [==============================] - 39s 64ms/step - loss: 0.0079 - accuracy: 0.9952\n",
            "Epoch 48/75\n",
            "612/612 [==============================] - 40s 65ms/step - loss: 0.0083 - accuracy: 0.9950\n",
            "Epoch 49/75\n",
            "612/612 [==============================] - 37s 61ms/step - loss: 0.0078 - accuracy: 0.9950\n",
            "Epoch 50/75\n",
            "612/612 [==============================] - 37s 60ms/step - loss: 0.0077 - accuracy: 0.9952\n",
            "Epoch 51/75\n",
            "612/612 [==============================] - 39s 64ms/step - loss: 0.0077 - accuracy: 0.9954\n",
            "Epoch 52/75\n",
            "612/612 [==============================] - 39s 64ms/step - loss: 0.0078 - accuracy: 0.9951\n",
            "Epoch 53/75\n",
            "612/612 [==============================] - 37s 60ms/step - loss: 0.0078 - accuracy: 0.9954\n",
            "Epoch 54/75\n",
            "612/612 [==============================] - 37s 61ms/step - loss: 0.0078 - accuracy: 0.9951\n",
            "Epoch 55/75\n",
            "612/612 [==============================] - 39s 64ms/step - loss: 0.0077 - accuracy: 0.9949\n",
            "Epoch 56/75\n",
            "612/612 [==============================] - 39s 64ms/step - loss: 0.0077 - accuracy: 0.9948\n",
            "Epoch 57/75\n",
            "612/612 [==============================] - 37s 61ms/step - loss: 0.0083 - accuracy: 0.9947\n",
            "Epoch 58/75\n",
            "612/612 [==============================] - 37s 60ms/step - loss: 0.0079 - accuracy: 0.9953\n",
            "Epoch 59/75\n",
            "612/612 [==============================] - 39s 64ms/step - loss: 0.0076 - accuracy: 0.9951\n",
            "Epoch 60/75\n",
            "612/612 [==============================] - 39s 63ms/step - loss: 0.0078 - accuracy: 0.9951\n",
            "Epoch 61/75\n",
            "612/612 [==============================] - 37s 60ms/step - loss: 0.0078 - accuracy: 0.9951\n",
            "Epoch 62/75\n",
            "612/612 [==============================] - 37s 60ms/step - loss: 0.0077 - accuracy: 0.9954\n",
            "Epoch 63/75\n",
            "612/612 [==============================] - 39s 64ms/step - loss: 0.0077 - accuracy: 0.9955\n",
            "Epoch 64/75\n",
            "612/612 [==============================] - 39s 63ms/step - loss: 0.0076 - accuracy: 0.9953\n",
            "Epoch 65/75\n",
            "612/612 [==============================] - 37s 60ms/step - loss: 0.0076 - accuracy: 0.9955\n",
            "Epoch 66/75\n",
            "612/612 [==============================] - 36s 59ms/step - loss: 0.0078 - accuracy: 0.9949\n",
            "Epoch 67/75\n",
            "612/612 [==============================] - 38s 63ms/step - loss: 0.0075 - accuracy: 0.9955\n",
            "Epoch 68/75\n",
            "612/612 [==============================] - 39s 63ms/step - loss: 0.0078 - accuracy: 0.9949\n",
            "Epoch 69/75\n",
            "612/612 [==============================] - 38s 61ms/step - loss: 0.0080 - accuracy: 0.9950\n",
            "Epoch 70/75\n",
            "612/612 [==============================] - 38s 62ms/step - loss: 0.0077 - accuracy: 0.9951\n",
            "Epoch 71/75\n",
            "612/612 [==============================] - 39s 64ms/step - loss: 0.0076 - accuracy: 0.9953\n",
            "Epoch 72/75\n",
            "612/612 [==============================] - 39s 64ms/step - loss: 0.0076 - accuracy: 0.9954\n",
            "Epoch 73/75\n",
            "612/612 [==============================] - 38s 62ms/step - loss: 0.0076 - accuracy: 0.9954\n",
            "Epoch 74/75\n",
            "612/612 [==============================] - 38s 61ms/step - loss: 0.0076 - accuracy: 0.9951\n",
            "Epoch 75/75\n",
            "612/612 [==============================] - 39s 64ms/step - loss: 0.0076 - accuracy: 0.9953\n",
            "204/204 [==============================] - 2s 8ms/step\n",
            "The Confusion Matrix is [[5009  330]\n",
            " [ 382  802]]\n",
            "Accuracy: 0.891\n",
            "Recall: 0.677\n",
            "Precision: 0.708\n",
            "F1 Score: 0.693\n"
          ]
        }
      ],
      "source": [
        "#RNN - BiLSTM with flatten (75 epochs)\n",
        "\n",
        "from tensorflow.keras import layers\n",
        "model22 = tf.keras.Sequential([\n",
        "    tf.keras.layers.Embedding(VOCAB_SIZE, EMB_DIM),\n",
        "    tf.keras.layers.SimpleRNN(64, return_sequences=True),\n",
        "    tf.keras.layers.Bidirectional(tf.keras.layers.LSTM(32)),\n",
        "    tf.keras.layers.Flatten(), \n",
        "    tf.keras.layers.Dense(EMB_DIM, activation='relu'),\n",
        "    tf.keras.layers.Dropout(0.5),\n",
        "    tf.keras.layers.Dense(2,activation='softmax')\n",
        "])\n",
        "\n",
        "model22.compile(loss=tf.keras.losses.BinaryCrossentropy(from_logits=True),\n",
        "              optimizer=tf.keras.optimizers.Adam(1e-4),\n",
        "              metrics=['accuracy'])\n",
        "\n",
        "model22.fit(x_train, y_train, batch_size=32, epochs=75)\n",
        "\n",
        "\n",
        "predictions22= model22.predict(x_test)\n",
        "predictions22=np.argmax(predictions22, axis=1)\n",
        "y_test=np.argmax(y_test, axis=1)\n",
        "\n",
        "cm = confusion_matrix(y_test, predictions22)\n",
        "print('The Confusion Matrix is', cm)\n",
        "print('Accuracy: %.3f' % accuracy_score(y_test, predictions22))\n",
        "print('Recall: %.3f' % recall_score(y_test, predictions22))\n",
        "print('Precision: %.3f' % precision_score(y_test, predictions22))\n",
        "print('F1 Score: %.3f' % f1_score(y_test, predictions22))"
      ]
    },
    {
      "cell_type": "code",
      "execution_count": null,
      "metadata": {
        "id": "gAyp8jwuOTTF"
      },
      "outputs": [],
      "source": []
    }
  ],
  "metadata": {
    "accelerator": "GPU",
    "colab": {
      "provenance": [],
      "collapsed_sections": [
        "__PYCbUTQC49",
        "P6YftiGlw1an",
        "U7uDsqbtxI4C",
        "IpkFYfjvEPP6",
        "1Gj89wafNOiQ"
      ]
    },
    "gpuClass": "standard",
    "kernelspec": {
      "display_name": "Python 3",
      "name": "python3"
    },
    "language_info": {
      "name": "python"
    },
    "widgets": {
      "application/vnd.jupyter.widget-state+json": {
        "ac37e481f92b4cc89e7de9e0ea87ed5f": {
          "model_module": "@jupyter-widgets/controls",
          "model_name": "HBoxModel",
          "model_module_version": "1.5.0",
          "state": {
            "_dom_classes": [],
            "_model_module": "@jupyter-widgets/controls",
            "_model_module_version": "1.5.0",
            "_model_name": "HBoxModel",
            "_view_count": null,
            "_view_module": "@jupyter-widgets/controls",
            "_view_module_version": "1.5.0",
            "_view_name": "HBoxView",
            "box_style": "",
            "children": [
              "IPY_MODEL_0fb6690615b34698b9ecfd7af1ea5d2d",
              "IPY_MODEL_b0843bcc53044f249464ad7cca361227",
              "IPY_MODEL_6015a71b10d24f4a8fcd60cee26c0a3f"
            ],
            "layout": "IPY_MODEL_6e0cf2efbd364b4aae5c08d43bc123f2"
          }
        },
        "0fb6690615b34698b9ecfd7af1ea5d2d": {
          "model_module": "@jupyter-widgets/controls",
          "model_name": "HTMLModel",
          "model_module_version": "1.5.0",
          "state": {
            "_dom_classes": [],
            "_model_module": "@jupyter-widgets/controls",
            "_model_module_version": "1.5.0",
            "_model_name": "HTMLModel",
            "_view_count": null,
            "_view_module": "@jupyter-widgets/controls",
            "_view_module_version": "1.5.0",
            "_view_name": "HTMLView",
            "description": "",
            "description_tooltip": null,
            "layout": "IPY_MODEL_d29e1216a12b41618a6dc5956f8b1484",
            "placeholder": "​",
            "style": "IPY_MODEL_e4d6685c7c14437cb977b4789fd057bd",
            "value": "Downloading: 100%"
          }
        },
        "b0843bcc53044f249464ad7cca361227": {
          "model_module": "@jupyter-widgets/controls",
          "model_name": "FloatProgressModel",
          "model_module_version": "1.5.0",
          "state": {
            "_dom_classes": [],
            "_model_module": "@jupyter-widgets/controls",
            "_model_module_version": "1.5.0",
            "_model_name": "FloatProgressModel",
            "_view_count": null,
            "_view_module": "@jupyter-widgets/controls",
            "_view_module_version": "1.5.0",
            "_view_name": "ProgressView",
            "bar_style": "success",
            "description": "",
            "description_tooltip": null,
            "layout": "IPY_MODEL_da0b4f3e720b4987b6dce2f0617c39f0",
            "max": 379,
            "min": 0,
            "orientation": "horizontal",
            "style": "IPY_MODEL_1acb544cafe343e5ae0faee7c0296926",
            "value": 379
          }
        },
        "6015a71b10d24f4a8fcd60cee26c0a3f": {
          "model_module": "@jupyter-widgets/controls",
          "model_name": "HTMLModel",
          "model_module_version": "1.5.0",
          "state": {
            "_dom_classes": [],
            "_model_module": "@jupyter-widgets/controls",
            "_model_module_version": "1.5.0",
            "_model_name": "HTMLModel",
            "_view_count": null,
            "_view_module": "@jupyter-widgets/controls",
            "_view_module_version": "1.5.0",
            "_view_name": "HTMLView",
            "description": "",
            "description_tooltip": null,
            "layout": "IPY_MODEL_38538ae456a944f0ad35eef87f104f7f",
            "placeholder": "​",
            "style": "IPY_MODEL_ecfa6e25f12d4b68a57aa02cb4d4a8ff",
            "value": " 379/379 [00:00&lt;00:00, 23.6kB/s]"
          }
        },
        "6e0cf2efbd364b4aae5c08d43bc123f2": {
          "model_module": "@jupyter-widgets/base",
          "model_name": "LayoutModel",
          "model_module_version": "1.2.0",
          "state": {
            "_model_module": "@jupyter-widgets/base",
            "_model_module_version": "1.2.0",
            "_model_name": "LayoutModel",
            "_view_count": null,
            "_view_module": "@jupyter-widgets/base",
            "_view_module_version": "1.2.0",
            "_view_name": "LayoutView",
            "align_content": null,
            "align_items": null,
            "align_self": null,
            "border": null,
            "bottom": null,
            "display": null,
            "flex": null,
            "flex_flow": null,
            "grid_area": null,
            "grid_auto_columns": null,
            "grid_auto_flow": null,
            "grid_auto_rows": null,
            "grid_column": null,
            "grid_gap": null,
            "grid_row": null,
            "grid_template_areas": null,
            "grid_template_columns": null,
            "grid_template_rows": null,
            "height": null,
            "justify_content": null,
            "justify_items": null,
            "left": null,
            "margin": null,
            "max_height": null,
            "max_width": null,
            "min_height": null,
            "min_width": null,
            "object_fit": null,
            "object_position": null,
            "order": null,
            "overflow": null,
            "overflow_x": null,
            "overflow_y": null,
            "padding": null,
            "right": null,
            "top": null,
            "visibility": null,
            "width": null
          }
        },
        "d29e1216a12b41618a6dc5956f8b1484": {
          "model_module": "@jupyter-widgets/base",
          "model_name": "LayoutModel",
          "model_module_version": "1.2.0",
          "state": {
            "_model_module": "@jupyter-widgets/base",
            "_model_module_version": "1.2.0",
            "_model_name": "LayoutModel",
            "_view_count": null,
            "_view_module": "@jupyter-widgets/base",
            "_view_module_version": "1.2.0",
            "_view_name": "LayoutView",
            "align_content": null,
            "align_items": null,
            "align_self": null,
            "border": null,
            "bottom": null,
            "display": null,
            "flex": null,
            "flex_flow": null,
            "grid_area": null,
            "grid_auto_columns": null,
            "grid_auto_flow": null,
            "grid_auto_rows": null,
            "grid_column": null,
            "grid_gap": null,
            "grid_row": null,
            "grid_template_areas": null,
            "grid_template_columns": null,
            "grid_template_rows": null,
            "height": null,
            "justify_content": null,
            "justify_items": null,
            "left": null,
            "margin": null,
            "max_height": null,
            "max_width": null,
            "min_height": null,
            "min_width": null,
            "object_fit": null,
            "object_position": null,
            "order": null,
            "overflow": null,
            "overflow_x": null,
            "overflow_y": null,
            "padding": null,
            "right": null,
            "top": null,
            "visibility": null,
            "width": null
          }
        },
        "e4d6685c7c14437cb977b4789fd057bd": {
          "model_module": "@jupyter-widgets/controls",
          "model_name": "DescriptionStyleModel",
          "model_module_version": "1.5.0",
          "state": {
            "_model_module": "@jupyter-widgets/controls",
            "_model_module_version": "1.5.0",
            "_model_name": "DescriptionStyleModel",
            "_view_count": null,
            "_view_module": "@jupyter-widgets/base",
            "_view_module_version": "1.2.0",
            "_view_name": "StyleView",
            "description_width": ""
          }
        },
        "da0b4f3e720b4987b6dce2f0617c39f0": {
          "model_module": "@jupyter-widgets/base",
          "model_name": "LayoutModel",
          "model_module_version": "1.2.0",
          "state": {
            "_model_module": "@jupyter-widgets/base",
            "_model_module_version": "1.2.0",
            "_model_name": "LayoutModel",
            "_view_count": null,
            "_view_module": "@jupyter-widgets/base",
            "_view_module_version": "1.2.0",
            "_view_name": "LayoutView",
            "align_content": null,
            "align_items": null,
            "align_self": null,
            "border": null,
            "bottom": null,
            "display": null,
            "flex": null,
            "flex_flow": null,
            "grid_area": null,
            "grid_auto_columns": null,
            "grid_auto_flow": null,
            "grid_auto_rows": null,
            "grid_column": null,
            "grid_gap": null,
            "grid_row": null,
            "grid_template_areas": null,
            "grid_template_columns": null,
            "grid_template_rows": null,
            "height": null,
            "justify_content": null,
            "justify_items": null,
            "left": null,
            "margin": null,
            "max_height": null,
            "max_width": null,
            "min_height": null,
            "min_width": null,
            "object_fit": null,
            "object_position": null,
            "order": null,
            "overflow": null,
            "overflow_x": null,
            "overflow_y": null,
            "padding": null,
            "right": null,
            "top": null,
            "visibility": null,
            "width": null
          }
        },
        "1acb544cafe343e5ae0faee7c0296926": {
          "model_module": "@jupyter-widgets/controls",
          "model_name": "ProgressStyleModel",
          "model_module_version": "1.5.0",
          "state": {
            "_model_module": "@jupyter-widgets/controls",
            "_model_module_version": "1.5.0",
            "_model_name": "ProgressStyleModel",
            "_view_count": null,
            "_view_module": "@jupyter-widgets/base",
            "_view_module_version": "1.2.0",
            "_view_name": "StyleView",
            "bar_color": null,
            "description_width": ""
          }
        },
        "38538ae456a944f0ad35eef87f104f7f": {
          "model_module": "@jupyter-widgets/base",
          "model_name": "LayoutModel",
          "model_module_version": "1.2.0",
          "state": {
            "_model_module": "@jupyter-widgets/base",
            "_model_module_version": "1.2.0",
            "_model_name": "LayoutModel",
            "_view_count": null,
            "_view_module": "@jupyter-widgets/base",
            "_view_module_version": "1.2.0",
            "_view_name": "LayoutView",
            "align_content": null,
            "align_items": null,
            "align_self": null,
            "border": null,
            "bottom": null,
            "display": null,
            "flex": null,
            "flex_flow": null,
            "grid_area": null,
            "grid_auto_columns": null,
            "grid_auto_flow": null,
            "grid_auto_rows": null,
            "grid_column": null,
            "grid_gap": null,
            "grid_row": null,
            "grid_template_areas": null,
            "grid_template_columns": null,
            "grid_template_rows": null,
            "height": null,
            "justify_content": null,
            "justify_items": null,
            "left": null,
            "margin": null,
            "max_height": null,
            "max_width": null,
            "min_height": null,
            "min_width": null,
            "object_fit": null,
            "object_position": null,
            "order": null,
            "overflow": null,
            "overflow_x": null,
            "overflow_y": null,
            "padding": null,
            "right": null,
            "top": null,
            "visibility": null,
            "width": null
          }
        },
        "ecfa6e25f12d4b68a57aa02cb4d4a8ff": {
          "model_module": "@jupyter-widgets/controls",
          "model_name": "DescriptionStyleModel",
          "model_module_version": "1.5.0",
          "state": {
            "_model_module": "@jupyter-widgets/controls",
            "_model_module_version": "1.5.0",
            "_model_name": "DescriptionStyleModel",
            "_view_count": null,
            "_view_module": "@jupyter-widgets/base",
            "_view_module_version": "1.2.0",
            "_view_name": "StyleView",
            "description_width": ""
          }
        },
        "acdf05bbad684cafb2e7bfdf8b55b097": {
          "model_module": "@jupyter-widgets/controls",
          "model_name": "HBoxModel",
          "model_module_version": "1.5.0",
          "state": {
            "_dom_classes": [],
            "_model_module": "@jupyter-widgets/controls",
            "_model_module_version": "1.5.0",
            "_model_name": "HBoxModel",
            "_view_count": null,
            "_view_module": "@jupyter-widgets/controls",
            "_view_module_version": "1.5.0",
            "_view_name": "HBoxView",
            "box_style": "",
            "children": [
              "IPY_MODEL_b44c8d3cb22e4061a69f19955571d663",
              "IPY_MODEL_26d445391b224b4b82612c513505be34",
              "IPY_MODEL_497fcbfc280d4c91853edf2589785973"
            ],
            "layout": "IPY_MODEL_c8b5710731a845779363d07af67d93a2"
          }
        },
        "b44c8d3cb22e4061a69f19955571d663": {
          "model_module": "@jupyter-widgets/controls",
          "model_name": "HTMLModel",
          "model_module_version": "1.5.0",
          "state": {
            "_dom_classes": [],
            "_model_module": "@jupyter-widgets/controls",
            "_model_module_version": "1.5.0",
            "_model_name": "HTMLModel",
            "_view_count": null,
            "_view_module": "@jupyter-widgets/controls",
            "_view_module_version": "1.5.0",
            "_view_name": "HTMLView",
            "description": "",
            "description_tooltip": null,
            "layout": "IPY_MODEL_ca97662f0f384d4b9671b186dd86a26d",
            "placeholder": "​",
            "style": "IPY_MODEL_55ceb9e5b18c43478114a3accd1ae8c7",
            "value": "Downloading: 100%"
          }
        },
        "26d445391b224b4b82612c513505be34": {
          "model_module": "@jupyter-widgets/controls",
          "model_name": "FloatProgressModel",
          "model_module_version": "1.5.0",
          "state": {
            "_dom_classes": [],
            "_model_module": "@jupyter-widgets/controls",
            "_model_module_version": "1.5.0",
            "_model_name": "FloatProgressModel",
            "_view_count": null,
            "_view_module": "@jupyter-widgets/controls",
            "_view_module_version": "1.5.0",
            "_view_name": "ProgressView",
            "bar_style": "success",
            "description": "",
            "description_tooltip": null,
            "layout": "IPY_MODEL_5a2accff0d05404f91de9e3f36886f27",
            "max": 576,
            "min": 0,
            "orientation": "horizontal",
            "style": "IPY_MODEL_67a6564247274764a50323d92b8ab962",
            "value": 576
          }
        },
        "497fcbfc280d4c91853edf2589785973": {
          "model_module": "@jupyter-widgets/controls",
          "model_name": "HTMLModel",
          "model_module_version": "1.5.0",
          "state": {
            "_dom_classes": [],
            "_model_module": "@jupyter-widgets/controls",
            "_model_module_version": "1.5.0",
            "_model_name": "HTMLModel",
            "_view_count": null,
            "_view_module": "@jupyter-widgets/controls",
            "_view_module_version": "1.5.0",
            "_view_name": "HTMLView",
            "description": "",
            "description_tooltip": null,
            "layout": "IPY_MODEL_d42c40c9dcab4082acc287789230a3fc",
            "placeholder": "​",
            "style": "IPY_MODEL_3ecdf8736dfc4dac9d7af435513a8a4d",
            "value": " 576/576 [00:00&lt;00:00, 20.4kB/s]"
          }
        },
        "c8b5710731a845779363d07af67d93a2": {
          "model_module": "@jupyter-widgets/base",
          "model_name": "LayoutModel",
          "model_module_version": "1.2.0",
          "state": {
            "_model_module": "@jupyter-widgets/base",
            "_model_module_version": "1.2.0",
            "_model_name": "LayoutModel",
            "_view_count": null,
            "_view_module": "@jupyter-widgets/base",
            "_view_module_version": "1.2.0",
            "_view_name": "LayoutView",
            "align_content": null,
            "align_items": null,
            "align_self": null,
            "border": null,
            "bottom": null,
            "display": null,
            "flex": null,
            "flex_flow": null,
            "grid_area": null,
            "grid_auto_columns": null,
            "grid_auto_flow": null,
            "grid_auto_rows": null,
            "grid_column": null,
            "grid_gap": null,
            "grid_row": null,
            "grid_template_areas": null,
            "grid_template_columns": null,
            "grid_template_rows": null,
            "height": null,
            "justify_content": null,
            "justify_items": null,
            "left": null,
            "margin": null,
            "max_height": null,
            "max_width": null,
            "min_height": null,
            "min_width": null,
            "object_fit": null,
            "object_position": null,
            "order": null,
            "overflow": null,
            "overflow_x": null,
            "overflow_y": null,
            "padding": null,
            "right": null,
            "top": null,
            "visibility": null,
            "width": null
          }
        },
        "ca97662f0f384d4b9671b186dd86a26d": {
          "model_module": "@jupyter-widgets/base",
          "model_name": "LayoutModel",
          "model_module_version": "1.2.0",
          "state": {
            "_model_module": "@jupyter-widgets/base",
            "_model_module_version": "1.2.0",
            "_model_name": "LayoutModel",
            "_view_count": null,
            "_view_module": "@jupyter-widgets/base",
            "_view_module_version": "1.2.0",
            "_view_name": "LayoutView",
            "align_content": null,
            "align_items": null,
            "align_self": null,
            "border": null,
            "bottom": null,
            "display": null,
            "flex": null,
            "flex_flow": null,
            "grid_area": null,
            "grid_auto_columns": null,
            "grid_auto_flow": null,
            "grid_auto_rows": null,
            "grid_column": null,
            "grid_gap": null,
            "grid_row": null,
            "grid_template_areas": null,
            "grid_template_columns": null,
            "grid_template_rows": null,
            "height": null,
            "justify_content": null,
            "justify_items": null,
            "left": null,
            "margin": null,
            "max_height": null,
            "max_width": null,
            "min_height": null,
            "min_width": null,
            "object_fit": null,
            "object_position": null,
            "order": null,
            "overflow": null,
            "overflow_x": null,
            "overflow_y": null,
            "padding": null,
            "right": null,
            "top": null,
            "visibility": null,
            "width": null
          }
        },
        "55ceb9e5b18c43478114a3accd1ae8c7": {
          "model_module": "@jupyter-widgets/controls",
          "model_name": "DescriptionStyleModel",
          "model_module_version": "1.5.0",
          "state": {
            "_model_module": "@jupyter-widgets/controls",
            "_model_module_version": "1.5.0",
            "_model_name": "DescriptionStyleModel",
            "_view_count": null,
            "_view_module": "@jupyter-widgets/base",
            "_view_module_version": "1.2.0",
            "_view_name": "StyleView",
            "description_width": ""
          }
        },
        "5a2accff0d05404f91de9e3f36886f27": {
          "model_module": "@jupyter-widgets/base",
          "model_name": "LayoutModel",
          "model_module_version": "1.2.0",
          "state": {
            "_model_module": "@jupyter-widgets/base",
            "_model_module_version": "1.2.0",
            "_model_name": "LayoutModel",
            "_view_count": null,
            "_view_module": "@jupyter-widgets/base",
            "_view_module_version": "1.2.0",
            "_view_name": "LayoutView",
            "align_content": null,
            "align_items": null,
            "align_self": null,
            "border": null,
            "bottom": null,
            "display": null,
            "flex": null,
            "flex_flow": null,
            "grid_area": null,
            "grid_auto_columns": null,
            "grid_auto_flow": null,
            "grid_auto_rows": null,
            "grid_column": null,
            "grid_gap": null,
            "grid_row": null,
            "grid_template_areas": null,
            "grid_template_columns": null,
            "grid_template_rows": null,
            "height": null,
            "justify_content": null,
            "justify_items": null,
            "left": null,
            "margin": null,
            "max_height": null,
            "max_width": null,
            "min_height": null,
            "min_width": null,
            "object_fit": null,
            "object_position": null,
            "order": null,
            "overflow": null,
            "overflow_x": null,
            "overflow_y": null,
            "padding": null,
            "right": null,
            "top": null,
            "visibility": null,
            "width": null
          }
        },
        "67a6564247274764a50323d92b8ab962": {
          "model_module": "@jupyter-widgets/controls",
          "model_name": "ProgressStyleModel",
          "model_module_version": "1.5.0",
          "state": {
            "_model_module": "@jupyter-widgets/controls",
            "_model_module_version": "1.5.0",
            "_model_name": "ProgressStyleModel",
            "_view_count": null,
            "_view_module": "@jupyter-widgets/base",
            "_view_module_version": "1.2.0",
            "_view_name": "StyleView",
            "bar_color": null,
            "description_width": ""
          }
        },
        "d42c40c9dcab4082acc287789230a3fc": {
          "model_module": "@jupyter-widgets/base",
          "model_name": "LayoutModel",
          "model_module_version": "1.2.0",
          "state": {
            "_model_module": "@jupyter-widgets/base",
            "_model_module_version": "1.2.0",
            "_model_name": "LayoutModel",
            "_view_count": null,
            "_view_module": "@jupyter-widgets/base",
            "_view_module_version": "1.2.0",
            "_view_name": "LayoutView",
            "align_content": null,
            "align_items": null,
            "align_self": null,
            "border": null,
            "bottom": null,
            "display": null,
            "flex": null,
            "flex_flow": null,
            "grid_area": null,
            "grid_auto_columns": null,
            "grid_auto_flow": null,
            "grid_auto_rows": null,
            "grid_column": null,
            "grid_gap": null,
            "grid_row": null,
            "grid_template_areas": null,
            "grid_template_columns": null,
            "grid_template_rows": null,
            "height": null,
            "justify_content": null,
            "justify_items": null,
            "left": null,
            "margin": null,
            "max_height": null,
            "max_width": null,
            "min_height": null,
            "min_width": null,
            "object_fit": null,
            "object_position": null,
            "order": null,
            "overflow": null,
            "overflow_x": null,
            "overflow_y": null,
            "padding": null,
            "right": null,
            "top": null,
            "visibility": null,
            "width": null
          }
        },
        "3ecdf8736dfc4dac9d7af435513a8a4d": {
          "model_module": "@jupyter-widgets/controls",
          "model_name": "DescriptionStyleModel",
          "model_module_version": "1.5.0",
          "state": {
            "_model_module": "@jupyter-widgets/controls",
            "_model_module_version": "1.5.0",
            "_model_name": "DescriptionStyleModel",
            "_view_count": null,
            "_view_module": "@jupyter-widgets/base",
            "_view_module_version": "1.2.0",
            "_view_name": "StyleView",
            "description_width": ""
          }
        },
        "50aca5a1ea084c508cca3a2fd21ef675": {
          "model_module": "@jupyter-widgets/controls",
          "model_name": "HBoxModel",
          "model_module_version": "1.5.0",
          "state": {
            "_dom_classes": [],
            "_model_module": "@jupyter-widgets/controls",
            "_model_module_version": "1.5.0",
            "_model_name": "HBoxModel",
            "_view_count": null,
            "_view_module": "@jupyter-widgets/controls",
            "_view_module_version": "1.5.0",
            "_view_name": "HBoxView",
            "box_style": "",
            "children": [
              "IPY_MODEL_5714527248af40c3a5fe893115a6289a",
              "IPY_MODEL_46f933d07aa64e6496363afefab4f83f",
              "IPY_MODEL_ae7de8dd34264750890fa520def04708"
            ],
            "layout": "IPY_MODEL_18cd9460fc86455184663c3604e3fcf4"
          }
        },
        "5714527248af40c3a5fe893115a6289a": {
          "model_module": "@jupyter-widgets/controls",
          "model_name": "HTMLModel",
          "model_module_version": "1.5.0",
          "state": {
            "_dom_classes": [],
            "_model_module": "@jupyter-widgets/controls",
            "_model_module_version": "1.5.0",
            "_model_name": "HTMLModel",
            "_view_count": null,
            "_view_module": "@jupyter-widgets/controls",
            "_view_module_version": "1.5.0",
            "_view_name": "HTMLView",
            "description": "",
            "description_tooltip": null,
            "layout": "IPY_MODEL_0ba43a95df154776967851f2ffa351d8",
            "placeholder": "​",
            "style": "IPY_MODEL_e3fcad59d722498eb31d50a023f0407d",
            "value": "Downloading: 100%"
          }
        },
        "46f933d07aa64e6496363afefab4f83f": {
          "model_module": "@jupyter-widgets/controls",
          "model_name": "FloatProgressModel",
          "model_module_version": "1.5.0",
          "state": {
            "_dom_classes": [],
            "_model_module": "@jupyter-widgets/controls",
            "_model_module_version": "1.5.0",
            "_model_name": "FloatProgressModel",
            "_view_count": null,
            "_view_module": "@jupyter-widgets/controls",
            "_view_module_version": "1.5.0",
            "_view_name": "ProgressView",
            "bar_style": "success",
            "description": "",
            "description_tooltip": null,
            "layout": "IPY_MODEL_485935fbee134bb8adb7fd625d36f996",
            "max": 780034,
            "min": 0,
            "orientation": "horizontal",
            "style": "IPY_MODEL_be11c1c9a57e480f87d65ed544bf5967",
            "value": 780034
          }
        },
        "ae7de8dd34264750890fa520def04708": {
          "model_module": "@jupyter-widgets/controls",
          "model_name": "HTMLModel",
          "model_module_version": "1.5.0",
          "state": {
            "_dom_classes": [],
            "_model_module": "@jupyter-widgets/controls",
            "_model_module_version": "1.5.0",
            "_model_name": "HTMLModel",
            "_view_count": null,
            "_view_module": "@jupyter-widgets/controls",
            "_view_module_version": "1.5.0",
            "_view_name": "HTMLView",
            "description": "",
            "description_tooltip": null,
            "layout": "IPY_MODEL_958d28e87e9f49d2ba03ad8abbf5a32f",
            "placeholder": "​",
            "style": "IPY_MODEL_88b1294a4d0d4f71981cc21a5a6ae654",
            "value": " 780k/780k [00:00&lt;00:00, 6.86MB/s]"
          }
        },
        "18cd9460fc86455184663c3604e3fcf4": {
          "model_module": "@jupyter-widgets/base",
          "model_name": "LayoutModel",
          "model_module_version": "1.2.0",
          "state": {
            "_model_module": "@jupyter-widgets/base",
            "_model_module_version": "1.2.0",
            "_model_name": "LayoutModel",
            "_view_count": null,
            "_view_module": "@jupyter-widgets/base",
            "_view_module_version": "1.2.0",
            "_view_name": "LayoutView",
            "align_content": null,
            "align_items": null,
            "align_self": null,
            "border": null,
            "bottom": null,
            "display": null,
            "flex": null,
            "flex_flow": null,
            "grid_area": null,
            "grid_auto_columns": null,
            "grid_auto_flow": null,
            "grid_auto_rows": null,
            "grid_column": null,
            "grid_gap": null,
            "grid_row": null,
            "grid_template_areas": null,
            "grid_template_columns": null,
            "grid_template_rows": null,
            "height": null,
            "justify_content": null,
            "justify_items": null,
            "left": null,
            "margin": null,
            "max_height": null,
            "max_width": null,
            "min_height": null,
            "min_width": null,
            "object_fit": null,
            "object_position": null,
            "order": null,
            "overflow": null,
            "overflow_x": null,
            "overflow_y": null,
            "padding": null,
            "right": null,
            "top": null,
            "visibility": null,
            "width": null
          }
        },
        "0ba43a95df154776967851f2ffa351d8": {
          "model_module": "@jupyter-widgets/base",
          "model_name": "LayoutModel",
          "model_module_version": "1.2.0",
          "state": {
            "_model_module": "@jupyter-widgets/base",
            "_model_module_version": "1.2.0",
            "_model_name": "LayoutModel",
            "_view_count": null,
            "_view_module": "@jupyter-widgets/base",
            "_view_module_version": "1.2.0",
            "_view_name": "LayoutView",
            "align_content": null,
            "align_items": null,
            "align_self": null,
            "border": null,
            "bottom": null,
            "display": null,
            "flex": null,
            "flex_flow": null,
            "grid_area": null,
            "grid_auto_columns": null,
            "grid_auto_flow": null,
            "grid_auto_rows": null,
            "grid_column": null,
            "grid_gap": null,
            "grid_row": null,
            "grid_template_areas": null,
            "grid_template_columns": null,
            "grid_template_rows": null,
            "height": null,
            "justify_content": null,
            "justify_items": null,
            "left": null,
            "margin": null,
            "max_height": null,
            "max_width": null,
            "min_height": null,
            "min_width": null,
            "object_fit": null,
            "object_position": null,
            "order": null,
            "overflow": null,
            "overflow_x": null,
            "overflow_y": null,
            "padding": null,
            "right": null,
            "top": null,
            "visibility": null,
            "width": null
          }
        },
        "e3fcad59d722498eb31d50a023f0407d": {
          "model_module": "@jupyter-widgets/controls",
          "model_name": "DescriptionStyleModel",
          "model_module_version": "1.5.0",
          "state": {
            "_model_module": "@jupyter-widgets/controls",
            "_model_module_version": "1.5.0",
            "_model_name": "DescriptionStyleModel",
            "_view_count": null,
            "_view_module": "@jupyter-widgets/base",
            "_view_module_version": "1.2.0",
            "_view_name": "StyleView",
            "description_width": ""
          }
        },
        "485935fbee134bb8adb7fd625d36f996": {
          "model_module": "@jupyter-widgets/base",
          "model_name": "LayoutModel",
          "model_module_version": "1.2.0",
          "state": {
            "_model_module": "@jupyter-widgets/base",
            "_model_module_version": "1.2.0",
            "_model_name": "LayoutModel",
            "_view_count": null,
            "_view_module": "@jupyter-widgets/base",
            "_view_module_version": "1.2.0",
            "_view_name": "LayoutView",
            "align_content": null,
            "align_items": null,
            "align_self": null,
            "border": null,
            "bottom": null,
            "display": null,
            "flex": null,
            "flex_flow": null,
            "grid_area": null,
            "grid_auto_columns": null,
            "grid_auto_flow": null,
            "grid_auto_rows": null,
            "grid_column": null,
            "grid_gap": null,
            "grid_row": null,
            "grid_template_areas": null,
            "grid_template_columns": null,
            "grid_template_rows": null,
            "height": null,
            "justify_content": null,
            "justify_items": null,
            "left": null,
            "margin": null,
            "max_height": null,
            "max_width": null,
            "min_height": null,
            "min_width": null,
            "object_fit": null,
            "object_position": null,
            "order": null,
            "overflow": null,
            "overflow_x": null,
            "overflow_y": null,
            "padding": null,
            "right": null,
            "top": null,
            "visibility": null,
            "width": null
          }
        },
        "be11c1c9a57e480f87d65ed544bf5967": {
          "model_module": "@jupyter-widgets/controls",
          "model_name": "ProgressStyleModel",
          "model_module_version": "1.5.0",
          "state": {
            "_model_module": "@jupyter-widgets/controls",
            "_model_module_version": "1.5.0",
            "_model_name": "ProgressStyleModel",
            "_view_count": null,
            "_view_module": "@jupyter-widgets/base",
            "_view_module_version": "1.2.0",
            "_view_name": "StyleView",
            "bar_color": null,
            "description_width": ""
          }
        },
        "958d28e87e9f49d2ba03ad8abbf5a32f": {
          "model_module": "@jupyter-widgets/base",
          "model_name": "LayoutModel",
          "model_module_version": "1.2.0",
          "state": {
            "_model_module": "@jupyter-widgets/base",
            "_model_module_version": "1.2.0",
            "_model_name": "LayoutModel",
            "_view_count": null,
            "_view_module": "@jupyter-widgets/base",
            "_view_module_version": "1.2.0",
            "_view_name": "LayoutView",
            "align_content": null,
            "align_items": null,
            "align_self": null,
            "border": null,
            "bottom": null,
            "display": null,
            "flex": null,
            "flex_flow": null,
            "grid_area": null,
            "grid_auto_columns": null,
            "grid_auto_flow": null,
            "grid_auto_rows": null,
            "grid_column": null,
            "grid_gap": null,
            "grid_row": null,
            "grid_template_areas": null,
            "grid_template_columns": null,
            "grid_template_rows": null,
            "height": null,
            "justify_content": null,
            "justify_items": null,
            "left": null,
            "margin": null,
            "max_height": null,
            "max_width": null,
            "min_height": null,
            "min_width": null,
            "object_fit": null,
            "object_position": null,
            "order": null,
            "overflow": null,
            "overflow_x": null,
            "overflow_y": null,
            "padding": null,
            "right": null,
            "top": null,
            "visibility": null,
            "width": null
          }
        },
        "88b1294a4d0d4f71981cc21a5a6ae654": {
          "model_module": "@jupyter-widgets/controls",
          "model_name": "DescriptionStyleModel",
          "model_module_version": "1.5.0",
          "state": {
            "_model_module": "@jupyter-widgets/controls",
            "_model_module_version": "1.5.0",
            "_model_name": "DescriptionStyleModel",
            "_view_count": null,
            "_view_module": "@jupyter-widgets/base",
            "_view_module_version": "1.2.0",
            "_view_name": "StyleView",
            "description_width": ""
          }
        },
        "a4c1cbb884d946fdb3dd3cd22003f210": {
          "model_module": "@jupyter-widgets/controls",
          "model_name": "HBoxModel",
          "model_module_version": "1.5.0",
          "state": {
            "_dom_classes": [],
            "_model_module": "@jupyter-widgets/controls",
            "_model_module_version": "1.5.0",
            "_model_name": "HBoxModel",
            "_view_count": null,
            "_view_module": "@jupyter-widgets/controls",
            "_view_module_version": "1.5.0",
            "_view_name": "HBoxView",
            "box_style": "",
            "children": [
              "IPY_MODEL_5b93485df3c34ec7be96b64a77c3dc05",
              "IPY_MODEL_c15e01915a634c19aa87c90dc7d59171",
              "IPY_MODEL_ade264846e6941d9b023cca2b0c80dcd"
            ],
            "layout": "IPY_MODEL_0efe1c4cef964c8b8c3758eb06a469a0"
          }
        },
        "5b93485df3c34ec7be96b64a77c3dc05": {
          "model_module": "@jupyter-widgets/controls",
          "model_name": "HTMLModel",
          "model_module_version": "1.5.0",
          "state": {
            "_dom_classes": [],
            "_model_module": "@jupyter-widgets/controls",
            "_model_module_version": "1.5.0",
            "_model_name": "HTMLModel",
            "_view_count": null,
            "_view_module": "@jupyter-widgets/controls",
            "_view_module_version": "1.5.0",
            "_view_name": "HTMLView",
            "description": "",
            "description_tooltip": null,
            "layout": "IPY_MODEL_ef3c679a016d43c2962ba91d60c9e74e",
            "placeholder": "​",
            "style": "IPY_MODEL_5b0d69819e1d44b0bd7a0fdd92019114",
            "value": "Downloading: 100%"
          }
        },
        "c15e01915a634c19aa87c90dc7d59171": {
          "model_module": "@jupyter-widgets/controls",
          "model_name": "FloatProgressModel",
          "model_module_version": "1.5.0",
          "state": {
            "_dom_classes": [],
            "_model_module": "@jupyter-widgets/controls",
            "_model_module_version": "1.5.0",
            "_model_name": "FloatProgressModel",
            "_view_count": null,
            "_view_module": "@jupyter-widgets/controls",
            "_view_module_version": "1.5.0",
            "_view_name": "ProgressView",
            "bar_style": "success",
            "description": "",
            "description_tooltip": null,
            "layout": "IPY_MODEL_2cf425afc15d4c9ca6d3b55c553003ad",
            "max": 2697421,
            "min": 0,
            "orientation": "horizontal",
            "style": "IPY_MODEL_c92b4347efd74f0fa84fe022742303f8",
            "value": 2697421
          }
        },
        "ade264846e6941d9b023cca2b0c80dcd": {
          "model_module": "@jupyter-widgets/controls",
          "model_name": "HTMLModel",
          "model_module_version": "1.5.0",
          "state": {
            "_dom_classes": [],
            "_model_module": "@jupyter-widgets/controls",
            "_model_module_version": "1.5.0",
            "_model_name": "HTMLModel",
            "_view_count": null,
            "_view_module": "@jupyter-widgets/controls",
            "_view_module_version": "1.5.0",
            "_view_name": "HTMLView",
            "description": "",
            "description_tooltip": null,
            "layout": "IPY_MODEL_7d5326bc973e4810b0b41c2956956d50",
            "placeholder": "​",
            "style": "IPY_MODEL_e290a3aba65c4eccbe42d71bfb605acc",
            "value": " 2.70M/2.70M [00:00&lt;00:00, 14.9MB/s]"
          }
        },
        "0efe1c4cef964c8b8c3758eb06a469a0": {
          "model_module": "@jupyter-widgets/base",
          "model_name": "LayoutModel",
          "model_module_version": "1.2.0",
          "state": {
            "_model_module": "@jupyter-widgets/base",
            "_model_module_version": "1.2.0",
            "_model_name": "LayoutModel",
            "_view_count": null,
            "_view_module": "@jupyter-widgets/base",
            "_view_module_version": "1.2.0",
            "_view_name": "LayoutView",
            "align_content": null,
            "align_items": null,
            "align_self": null,
            "border": null,
            "bottom": null,
            "display": null,
            "flex": null,
            "flex_flow": null,
            "grid_area": null,
            "grid_auto_columns": null,
            "grid_auto_flow": null,
            "grid_auto_rows": null,
            "grid_column": null,
            "grid_gap": null,
            "grid_row": null,
            "grid_template_areas": null,
            "grid_template_columns": null,
            "grid_template_rows": null,
            "height": null,
            "justify_content": null,
            "justify_items": null,
            "left": null,
            "margin": null,
            "max_height": null,
            "max_width": null,
            "min_height": null,
            "min_width": null,
            "object_fit": null,
            "object_position": null,
            "order": null,
            "overflow": null,
            "overflow_x": null,
            "overflow_y": null,
            "padding": null,
            "right": null,
            "top": null,
            "visibility": null,
            "width": null
          }
        },
        "ef3c679a016d43c2962ba91d60c9e74e": {
          "model_module": "@jupyter-widgets/base",
          "model_name": "LayoutModel",
          "model_module_version": "1.2.0",
          "state": {
            "_model_module": "@jupyter-widgets/base",
            "_model_module_version": "1.2.0",
            "_model_name": "LayoutModel",
            "_view_count": null,
            "_view_module": "@jupyter-widgets/base",
            "_view_module_version": "1.2.0",
            "_view_name": "LayoutView",
            "align_content": null,
            "align_items": null,
            "align_self": null,
            "border": null,
            "bottom": null,
            "display": null,
            "flex": null,
            "flex_flow": null,
            "grid_area": null,
            "grid_auto_columns": null,
            "grid_auto_flow": null,
            "grid_auto_rows": null,
            "grid_column": null,
            "grid_gap": null,
            "grid_row": null,
            "grid_template_areas": null,
            "grid_template_columns": null,
            "grid_template_rows": null,
            "height": null,
            "justify_content": null,
            "justify_items": null,
            "left": null,
            "margin": null,
            "max_height": null,
            "max_width": null,
            "min_height": null,
            "min_width": null,
            "object_fit": null,
            "object_position": null,
            "order": null,
            "overflow": null,
            "overflow_x": null,
            "overflow_y": null,
            "padding": null,
            "right": null,
            "top": null,
            "visibility": null,
            "width": null
          }
        },
        "5b0d69819e1d44b0bd7a0fdd92019114": {
          "model_module": "@jupyter-widgets/controls",
          "model_name": "DescriptionStyleModel",
          "model_module_version": "1.5.0",
          "state": {
            "_model_module": "@jupyter-widgets/controls",
            "_model_module_version": "1.5.0",
            "_model_name": "DescriptionStyleModel",
            "_view_count": null,
            "_view_module": "@jupyter-widgets/base",
            "_view_module_version": "1.2.0",
            "_view_name": "StyleView",
            "description_width": ""
          }
        },
        "2cf425afc15d4c9ca6d3b55c553003ad": {
          "model_module": "@jupyter-widgets/base",
          "model_name": "LayoutModel",
          "model_module_version": "1.2.0",
          "state": {
            "_model_module": "@jupyter-widgets/base",
            "_model_module_version": "1.2.0",
            "_model_name": "LayoutModel",
            "_view_count": null,
            "_view_module": "@jupyter-widgets/base",
            "_view_module_version": "1.2.0",
            "_view_name": "LayoutView",
            "align_content": null,
            "align_items": null,
            "align_self": null,
            "border": null,
            "bottom": null,
            "display": null,
            "flex": null,
            "flex_flow": null,
            "grid_area": null,
            "grid_auto_columns": null,
            "grid_auto_flow": null,
            "grid_auto_rows": null,
            "grid_column": null,
            "grid_gap": null,
            "grid_row": null,
            "grid_template_areas": null,
            "grid_template_columns": null,
            "grid_template_rows": null,
            "height": null,
            "justify_content": null,
            "justify_items": null,
            "left": null,
            "margin": null,
            "max_height": null,
            "max_width": null,
            "min_height": null,
            "min_width": null,
            "object_fit": null,
            "object_position": null,
            "order": null,
            "overflow": null,
            "overflow_x": null,
            "overflow_y": null,
            "padding": null,
            "right": null,
            "top": null,
            "visibility": null,
            "width": null
          }
        },
        "c92b4347efd74f0fa84fe022742303f8": {
          "model_module": "@jupyter-widgets/controls",
          "model_name": "ProgressStyleModel",
          "model_module_version": "1.5.0",
          "state": {
            "_model_module": "@jupyter-widgets/controls",
            "_model_module_version": "1.5.0",
            "_model_name": "ProgressStyleModel",
            "_view_count": null,
            "_view_module": "@jupyter-widgets/base",
            "_view_module_version": "1.2.0",
            "_view_name": "StyleView",
            "bar_color": null,
            "description_width": ""
          }
        },
        "7d5326bc973e4810b0b41c2956956d50": {
          "model_module": "@jupyter-widgets/base",
          "model_name": "LayoutModel",
          "model_module_version": "1.2.0",
          "state": {
            "_model_module": "@jupyter-widgets/base",
            "_model_module_version": "1.2.0",
            "_model_name": "LayoutModel",
            "_view_count": null,
            "_view_module": "@jupyter-widgets/base",
            "_view_module_version": "1.2.0",
            "_view_name": "LayoutView",
            "align_content": null,
            "align_items": null,
            "align_self": null,
            "border": null,
            "bottom": null,
            "display": null,
            "flex": null,
            "flex_flow": null,
            "grid_area": null,
            "grid_auto_columns": null,
            "grid_auto_flow": null,
            "grid_auto_rows": null,
            "grid_column": null,
            "grid_gap": null,
            "grid_row": null,
            "grid_template_areas": null,
            "grid_template_columns": null,
            "grid_template_rows": null,
            "height": null,
            "justify_content": null,
            "justify_items": null,
            "left": null,
            "margin": null,
            "max_height": null,
            "max_width": null,
            "min_height": null,
            "min_width": null,
            "object_fit": null,
            "object_position": null,
            "order": null,
            "overflow": null,
            "overflow_x": null,
            "overflow_y": null,
            "padding": null,
            "right": null,
            "top": null,
            "visibility": null,
            "width": null
          }
        },
        "e290a3aba65c4eccbe42d71bfb605acc": {
          "model_module": "@jupyter-widgets/controls",
          "model_name": "DescriptionStyleModel",
          "model_module_version": "1.5.0",
          "state": {
            "_model_module": "@jupyter-widgets/controls",
            "_model_module_version": "1.5.0",
            "_model_name": "DescriptionStyleModel",
            "_view_count": null,
            "_view_module": "@jupyter-widgets/base",
            "_view_module_version": "1.2.0",
            "_view_name": "StyleView",
            "description_width": ""
          }
        },
        "c0582b70f93e4666948ba3460340aec7": {
          "model_module": "@jupyter-widgets/controls",
          "model_name": "HBoxModel",
          "model_module_version": "1.5.0",
          "state": {
            "_dom_classes": [],
            "_model_module": "@jupyter-widgets/controls",
            "_model_module_version": "1.5.0",
            "_model_name": "HBoxModel",
            "_view_count": null,
            "_view_module": "@jupyter-widgets/controls",
            "_view_module_version": "1.5.0",
            "_view_name": "HBoxView",
            "box_style": "",
            "children": [
              "IPY_MODEL_337e7af9add34d63a3718eac37a50e9d",
              "IPY_MODEL_b45db34ae9ad46649d12871c0658c5e8",
              "IPY_MODEL_6185130906444795ae57a5ef14f91016"
            ],
            "layout": "IPY_MODEL_055c78066bf14141bbb4e984e1c1597c"
          }
        },
        "337e7af9add34d63a3718eac37a50e9d": {
          "model_module": "@jupyter-widgets/controls",
          "model_name": "HTMLModel",
          "model_module_version": "1.5.0",
          "state": {
            "_dom_classes": [],
            "_model_module": "@jupyter-widgets/controls",
            "_model_module_version": "1.5.0",
            "_model_name": "HTMLModel",
            "_view_count": null,
            "_view_module": "@jupyter-widgets/controls",
            "_view_module_version": "1.5.0",
            "_view_name": "HTMLView",
            "description": "",
            "description_tooltip": null,
            "layout": "IPY_MODEL_b02478ce10e543e59601cd49637d0a8f",
            "placeholder": "​",
            "style": "IPY_MODEL_71fad89ede30499e821724acfcf779ef",
            "value": "Downloading: 100%"
          }
        },
        "b45db34ae9ad46649d12871c0658c5e8": {
          "model_module": "@jupyter-widgets/controls",
          "model_name": "FloatProgressModel",
          "model_module_version": "1.5.0",
          "state": {
            "_dom_classes": [],
            "_model_module": "@jupyter-widgets/controls",
            "_model_module_version": "1.5.0",
            "_model_name": "FloatProgressModel",
            "_view_count": null,
            "_view_module": "@jupyter-widgets/controls",
            "_view_module_version": "1.5.0",
            "_view_name": "ProgressView",
            "bar_style": "success",
            "description": "",
            "description_tooltip": null,
            "layout": "IPY_MODEL_e116e9b196f8452a89fc7e79264848dd",
            "max": 112,
            "min": 0,
            "orientation": "horizontal",
            "style": "IPY_MODEL_24f914c697624979b532d03d6758d74f",
            "value": 112
          }
        },
        "6185130906444795ae57a5ef14f91016": {
          "model_module": "@jupyter-widgets/controls",
          "model_name": "HTMLModel",
          "model_module_version": "1.5.0",
          "state": {
            "_dom_classes": [],
            "_model_module": "@jupyter-widgets/controls",
            "_model_module_version": "1.5.0",
            "_model_name": "HTMLModel",
            "_view_count": null,
            "_view_module": "@jupyter-widgets/controls",
            "_view_module_version": "1.5.0",
            "_view_name": "HTMLView",
            "description": "",
            "description_tooltip": null,
            "layout": "IPY_MODEL_cd55a01920d6491d9432ed398583c7db",
            "placeholder": "​",
            "style": "IPY_MODEL_c5c8ccc2a1204cf4880019126064d0ee",
            "value": " 112/112 [00:00&lt;00:00, 5.12kB/s]"
          }
        },
        "055c78066bf14141bbb4e984e1c1597c": {
          "model_module": "@jupyter-widgets/base",
          "model_name": "LayoutModel",
          "model_module_version": "1.2.0",
          "state": {
            "_model_module": "@jupyter-widgets/base",
            "_model_module_version": "1.2.0",
            "_model_name": "LayoutModel",
            "_view_count": null,
            "_view_module": "@jupyter-widgets/base",
            "_view_module_version": "1.2.0",
            "_view_name": "LayoutView",
            "align_content": null,
            "align_items": null,
            "align_self": null,
            "border": null,
            "bottom": null,
            "display": null,
            "flex": null,
            "flex_flow": null,
            "grid_area": null,
            "grid_auto_columns": null,
            "grid_auto_flow": null,
            "grid_auto_rows": null,
            "grid_column": null,
            "grid_gap": null,
            "grid_row": null,
            "grid_template_areas": null,
            "grid_template_columns": null,
            "grid_template_rows": null,
            "height": null,
            "justify_content": null,
            "justify_items": null,
            "left": null,
            "margin": null,
            "max_height": null,
            "max_width": null,
            "min_height": null,
            "min_width": null,
            "object_fit": null,
            "object_position": null,
            "order": null,
            "overflow": null,
            "overflow_x": null,
            "overflow_y": null,
            "padding": null,
            "right": null,
            "top": null,
            "visibility": null,
            "width": null
          }
        },
        "b02478ce10e543e59601cd49637d0a8f": {
          "model_module": "@jupyter-widgets/base",
          "model_name": "LayoutModel",
          "model_module_version": "1.2.0",
          "state": {
            "_model_module": "@jupyter-widgets/base",
            "_model_module_version": "1.2.0",
            "_model_name": "LayoutModel",
            "_view_count": null,
            "_view_module": "@jupyter-widgets/base",
            "_view_module_version": "1.2.0",
            "_view_name": "LayoutView",
            "align_content": null,
            "align_items": null,
            "align_self": null,
            "border": null,
            "bottom": null,
            "display": null,
            "flex": null,
            "flex_flow": null,
            "grid_area": null,
            "grid_auto_columns": null,
            "grid_auto_flow": null,
            "grid_auto_rows": null,
            "grid_column": null,
            "grid_gap": null,
            "grid_row": null,
            "grid_template_areas": null,
            "grid_template_columns": null,
            "grid_template_rows": null,
            "height": null,
            "justify_content": null,
            "justify_items": null,
            "left": null,
            "margin": null,
            "max_height": null,
            "max_width": null,
            "min_height": null,
            "min_width": null,
            "object_fit": null,
            "object_position": null,
            "order": null,
            "overflow": null,
            "overflow_x": null,
            "overflow_y": null,
            "padding": null,
            "right": null,
            "top": null,
            "visibility": null,
            "width": null
          }
        },
        "71fad89ede30499e821724acfcf779ef": {
          "model_module": "@jupyter-widgets/controls",
          "model_name": "DescriptionStyleModel",
          "model_module_version": "1.5.0",
          "state": {
            "_model_module": "@jupyter-widgets/controls",
            "_model_module_version": "1.5.0",
            "_model_name": "DescriptionStyleModel",
            "_view_count": null,
            "_view_module": "@jupyter-widgets/base",
            "_view_module_version": "1.2.0",
            "_view_name": "StyleView",
            "description_width": ""
          }
        },
        "e116e9b196f8452a89fc7e79264848dd": {
          "model_module": "@jupyter-widgets/base",
          "model_name": "LayoutModel",
          "model_module_version": "1.2.0",
          "state": {
            "_model_module": "@jupyter-widgets/base",
            "_model_module_version": "1.2.0",
            "_model_name": "LayoutModel",
            "_view_count": null,
            "_view_module": "@jupyter-widgets/base",
            "_view_module_version": "1.2.0",
            "_view_name": "LayoutView",
            "align_content": null,
            "align_items": null,
            "align_self": null,
            "border": null,
            "bottom": null,
            "display": null,
            "flex": null,
            "flex_flow": null,
            "grid_area": null,
            "grid_auto_columns": null,
            "grid_auto_flow": null,
            "grid_auto_rows": null,
            "grid_column": null,
            "grid_gap": null,
            "grid_row": null,
            "grid_template_areas": null,
            "grid_template_columns": null,
            "grid_template_rows": null,
            "height": null,
            "justify_content": null,
            "justify_items": null,
            "left": null,
            "margin": null,
            "max_height": null,
            "max_width": null,
            "min_height": null,
            "min_width": null,
            "object_fit": null,
            "object_position": null,
            "order": null,
            "overflow": null,
            "overflow_x": null,
            "overflow_y": null,
            "padding": null,
            "right": null,
            "top": null,
            "visibility": null,
            "width": null
          }
        },
        "24f914c697624979b532d03d6758d74f": {
          "model_module": "@jupyter-widgets/controls",
          "model_name": "ProgressStyleModel",
          "model_module_version": "1.5.0",
          "state": {
            "_model_module": "@jupyter-widgets/controls",
            "_model_module_version": "1.5.0",
            "_model_name": "ProgressStyleModel",
            "_view_count": null,
            "_view_module": "@jupyter-widgets/base",
            "_view_module_version": "1.2.0",
            "_view_name": "StyleView",
            "bar_color": null,
            "description_width": ""
          }
        },
        "cd55a01920d6491d9432ed398583c7db": {
          "model_module": "@jupyter-widgets/base",
          "model_name": "LayoutModel",
          "model_module_version": "1.2.0",
          "state": {
            "_model_module": "@jupyter-widgets/base",
            "_model_module_version": "1.2.0",
            "_model_name": "LayoutModel",
            "_view_count": null,
            "_view_module": "@jupyter-widgets/base",
            "_view_module_version": "1.2.0",
            "_view_name": "LayoutView",
            "align_content": null,
            "align_items": null,
            "align_self": null,
            "border": null,
            "bottom": null,
            "display": null,
            "flex": null,
            "flex_flow": null,
            "grid_area": null,
            "grid_auto_columns": null,
            "grid_auto_flow": null,
            "grid_auto_rows": null,
            "grid_column": null,
            "grid_gap": null,
            "grid_row": null,
            "grid_template_areas": null,
            "grid_template_columns": null,
            "grid_template_rows": null,
            "height": null,
            "justify_content": null,
            "justify_items": null,
            "left": null,
            "margin": null,
            "max_height": null,
            "max_width": null,
            "min_height": null,
            "min_width": null,
            "object_fit": null,
            "object_position": null,
            "order": null,
            "overflow": null,
            "overflow_x": null,
            "overflow_y": null,
            "padding": null,
            "right": null,
            "top": null,
            "visibility": null,
            "width": null
          }
        },
        "c5c8ccc2a1204cf4880019126064d0ee": {
          "model_module": "@jupyter-widgets/controls",
          "model_name": "DescriptionStyleModel",
          "model_module_version": "1.5.0",
          "state": {
            "_model_module": "@jupyter-widgets/controls",
            "_model_module_version": "1.5.0",
            "_model_name": "DescriptionStyleModel",
            "_view_count": null,
            "_view_module": "@jupyter-widgets/base",
            "_view_module_version": "1.2.0",
            "_view_name": "StyleView",
            "description_width": ""
          }
        }
      }
    }
  },
  "nbformat": 4,
  "nbformat_minor": 0
}